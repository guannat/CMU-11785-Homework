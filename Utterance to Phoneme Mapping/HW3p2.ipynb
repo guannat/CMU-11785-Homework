{
  "nbformat": 4,
  "nbformat_minor": 0,
  "metadata": {
    "accelerator": "GPU",
    "colab": {
      "name": "HW3p2_2.ipynb",
      "provenance": [],
      "collapsed_sections": [],
      "machine_shape": "hm"
    },
    "kernelspec": {
      "display_name": "Python 3",
      "name": "python3"
    }
  },
  "cells": [
    {
      "cell_type": "code",
      "metadata": {
        "colab": {
          "base_uri": "https://localhost:8080/"
        },
        "id": "2sxw2YtB49rT",
        "outputId": "e51fb85c-82a5-4775-d976-d9817bae634f"
      },
      "source": [
        "# Import necessary libraries\n",
        "\n",
        "import os\n",
        "import sys\n",
        "import numpy as np\n",
        "import pandas as pd\n",
        "import torch\n",
        "import torch.nn as nn\n",
        "import torch.nn.functional as F\n",
        "from torch.utils.data import DataLoader, Dataset\n",
        "import torch.optim as optim\n",
        "from sklearn.metrics import accuracy_score\n",
        "import random\n",
        "from torch.nn.utils.rnn import *\n",
        "\n",
        "\n",
        "from torch.utils import data\n",
        "from torchvision import transforms\n",
        "from tqdm import tqdm\n",
        "import matplotlib.pyplot as plt\n",
        "import time\n",
        "\n",
        "np.random.seed(11785)\n",
        "torch.manual_seed(11785)\n",
        "\n",
        "cuda = torch.cuda.is_available()\n",
        "device = torch.device(\"cuda\" if cuda else \"cpu\")\n",
        "sys.version\n",
        "print(cuda, sys.version)\n"
      ],
      "execution_count": null,
      "outputs": [
        {
          "output_type": "stream",
          "text": [
            "True 3.7.10 (default, Feb 20 2021, 21:17:23) \n",
            "[GCC 7.5.0]\n"
          ],
          "name": "stdout"
        }
      ]
    },
    {
      "cell_type": "code",
      "metadata": {
        "colab": {
          "base_uri": "https://localhost:8080/"
        },
        "id": "J31gi6CG-WOW",
        "outputId": "e0566574-d645-467a-c434-1ca352d80ac0"
      },
      "source": [
        "# Check if cuda is available\n",
        "cuda = torch.cuda.is_available()\n",
        "num_workers = 8 if cuda else 0\n",
        "print(\"Cuda = \"+str(cuda)+\" with num_workers = \"+str(num_workers))"
      ],
      "execution_count": null,
      "outputs": [
        {
          "output_type": "stream",
          "text": [
            "Cuda = True with num_workers = 8\n"
          ],
          "name": "stdout"
        }
      ]
    },
    {
      "cell_type": "code",
      "metadata": {
        "colab": {
          "base_uri": "https://localhost:8080/"
        },
        "id": "BcSgPxIl5Dk9",
        "outputId": "f5f3dc49-2593-4e32-95aa-b49251cb0772"
      },
      "source": [
        "from google.colab import drive\n",
        "import json\n",
        "drive.mount(\"/content/gdrive\", force_remount=True)\n",
        "%cd gdrive/MyDrive"
      ],
      "execution_count": null,
      "outputs": [
        {
          "output_type": "stream",
          "text": [
            "Mounted at /content/gdrive\n",
            "/content/gdrive/MyDrive\n"
          ],
          "name": "stdout"
        }
      ]
    },
    {
      "cell_type": "code",
      "metadata": {
        "colab": {
          "base_uri": "https://localhost:8080/"
        },
        "id": "712Z87IedqQc",
        "outputId": "8f69358c-4e6c-40f9-c2a3-5674f72b173e"
      },
      "source": [
        "!git clone --recursive https://github.com/parlance/ctcdecode.git\n",
        "!pip install wget\n",
        "%cd ctcdecode\n",
        "!pip install ."
      ],
      "execution_count": null,
      "outputs": [
        {
          "output_type": "stream",
          "text": [
            "fatal: destination path 'ctcdecode' already exists and is not an empty directory.\n",
            "Collecting wget\n",
            "  Downloading https://files.pythonhosted.org/packages/47/6a/62e288da7bcda82b935ff0c6cfe542970f04e29c756b0e147251b2fb251f/wget-3.2.zip\n",
            "Building wheels for collected packages: wget\n",
            "  Building wheel for wget (setup.py) ... \u001b[?25l\u001b[?25hdone\n",
            "  Created wheel for wget: filename=wget-3.2-cp37-none-any.whl size=9681 sha256=9f9b42249c46ffc0335472c09d095a70f34c3ec6b9ee39481781351065df18b0\n",
            "  Stored in directory: /root/.cache/pip/wheels/40/15/30/7d8f7cea2902b4db79e3fea550d7d7b85ecb27ef992b618f3f\n",
            "Successfully built wget\n",
            "Installing collected packages: wget\n",
            "Successfully installed wget-3.2\n",
            "/content/gdrive/MyDrive/competitions/HW3P2/ctcdecode\n",
            "Processing /content/gdrive/MyDrive/competitions/HW3P2/ctcdecode\n",
            "Building wheels for collected packages: ctcdecode\n",
            "  Building wheel for ctcdecode (setup.py) ... \u001b[?25l\u001b[?25hdone\n",
            "  Created wheel for ctcdecode: filename=ctcdecode-1.0.2-cp37-cp37m-linux_x86_64.whl size=12848062 sha256=df12c2466f3fe46cd481d1b75bc97a05b73468cad711d8b3ee63bb55817b52df\n",
            "  Stored in directory: /tmp/pip-ephem-wheel-cache-yh9xts8h/wheels/c9/45/15/144b3188a14cde7d9c8da247b43e7933387a4f89edbfdccad7\n",
            "Successfully built ctcdecode\n",
            "Installing collected packages: ctcdecode\n",
            "Successfully installed ctcdecode-1.0.2\n"
          ],
          "name": "stdout"
        }
      ]
    },
    {
      "cell_type": "code",
      "metadata": {
        "colab": {
          "base_uri": "https://localhost:8080/"
        },
        "id": "YN0Km4_5QL9h",
        "outputId": "4f3c1206-732b-43d6-ba4e-c9325477a1b1"
      },
      "source": [
        "# load phoneme\n",
        "%cd  /content/gdrive/My Drive/competitions/HW3P2\n",
        "from phoneme_list import PHONEME_MAP as phonemes\n",
        "from phoneme_list import PHONEME_LIST as phonemes_list"
      ],
      "execution_count": null,
      "outputs": [
        {
          "output_type": "stream",
          "text": [
            "/content/gdrive/My Drive/competitions/HW3P2\n"
          ],
          "name": "stdout"
        }
      ]
    },
    {
      "cell_type": "code",
      "metadata": {
        "id": "CPjzBO1ERHMj",
        "colab": {
          "base_uri": "https://localhost:8080/"
        },
        "outputId": "9ab46e04-b48c-4e07-e900-ce38989b9e8a"
      },
      "source": [
        "!pip install python-Levenshtein\n",
        "import Levenshtein"
      ],
      "execution_count": null,
      "outputs": [
        {
          "output_type": "stream",
          "text": [
            "Collecting python-Levenshtein\n",
            "\u001b[?25l  Downloading https://files.pythonhosted.org/packages/2a/dc/97f2b63ef0fa1fd78dcb7195aca577804f6b2b51e712516cc0e902a9a201/python-Levenshtein-0.12.2.tar.gz (50kB)\n",
            "\r\u001b[K     |██████▌                         | 10kB 17.7MB/s eta 0:00:01\r\u001b[K     |█████████████                   | 20kB 24.1MB/s eta 0:00:01\r\u001b[K     |███████████████████▌            | 30kB 28.5MB/s eta 0:00:01\r\u001b[K     |██████████████████████████      | 40kB 19.9MB/s eta 0:00:01\r\u001b[K     |████████████████████████████████| 51kB 4.9MB/s \n",
            "\u001b[?25hRequirement already satisfied: setuptools in /usr/local/lib/python3.7/dist-packages (from python-Levenshtein) (54.2.0)\n",
            "Building wheels for collected packages: python-Levenshtein\n",
            "  Building wheel for python-Levenshtein (setup.py) ... \u001b[?25l\u001b[?25hdone\n",
            "  Created wheel for python-Levenshtein: filename=python_Levenshtein-0.12.2-cp37-cp37m-linux_x86_64.whl size=149804 sha256=5a138a340d49f5f4a7cb5b7827451a6460a5a528ae88729f4227c70b3e838311\n",
            "  Stored in directory: /root/.cache/pip/wheels/b3/26/73/4b48503bac73f01cf18e52cd250947049a7f339e940c5df8fc\n",
            "Successfully built python-Levenshtein\n",
            "Installing collected packages: python-Levenshtein\n",
            "Successfully installed python-Levenshtein-0.12.2\n"
          ],
          "name": "stdout"
        }
      ]
    },
    {
      "cell_type": "markdown",
      "metadata": {
        "id": "mSo-9Wdzwr0t"
      },
      "source": [
        "# define dataset & loader"
      ]
    },
    {
      "cell_type": "code",
      "metadata": {
        "id": "reX8yQOVcdvM"
      },
      "source": [
        "class MyDataset(data.Dataset):\n",
        "  def __init__(self, X, Y):\n",
        "    self.X = [torch.FloatTensor(x) for x in X]\n",
        "    self.Y = [torch.LongTensor(y) for y in Y] \n",
        "    self.length = len(self.X)\n",
        "\n",
        "  def __len__(self):\n",
        "    return self.length\n",
        "\n",
        "  def __getitem__(self, index):\n",
        "    x = self.X[index]\n",
        "    y = self.Y[index]\n",
        "    \n",
        "    return x,y\n",
        "\n",
        "def collate(seq_list):\n",
        "    X = [i[0] for i in seq_list]\n",
        "    Y = [i[1] for i in seq_list]\n",
        "\n",
        "\n",
        "    X_lens = torch.LongTensor([len(seq[0]) for seq in seq_list])\n",
        "    Y_lens = torch.LongTensor([len(seq[1]) for seq in seq_list])\n",
        "\n",
        "    X = pad_sequence(X)\n",
        "    # `batch_first=True` is required for use in `nn.CTCLoss`.\n",
        "\n",
        "    Y = pad_sequence(Y,batch_first=True) \n",
        "\n",
        "    return X,Y,X_lens,Y_lens"
      ],
      "execution_count": null,
      "outputs": []
    },
    {
      "cell_type": "code",
      "metadata": {
        "id": "BBdL5VhtpY6U"
      },
      "source": [
        "class MyDataset_test(data.Dataset):\n",
        "  def __init__(self, X):\n",
        "    self.X = [torch.FloatTensor(x) for x in X]\n",
        "    self.length = len(self.X)\n",
        "\n",
        "  def __len__(self):\n",
        "    return self.length\n",
        "\n",
        "  def __getitem__(self, index):\n",
        "    x = self.X[index]\n",
        "    \n",
        "    return x\n",
        "\n",
        "def collate_test(seq_list):\n",
        "    X = [i for i in seq_list]\n",
        "\n",
        "    X_lens = torch.LongTensor([len(seq) for seq in seq_list])\n",
        "\n",
        "    X = pad_sequence(X)\n",
        "\n",
        "    return X,X_lens"
      ],
      "execution_count": null,
      "outputs": []
    },
    {
      "cell_type": "code",
      "metadata": {
        "colab": {
          "base_uri": "https://localhost:8080/"
        },
        "id": "tkurpKEZTouj",
        "outputId": "b79d866a-f524-491d-bc9e-cfe18ff1743e"
      },
      "source": [
        "raw_train = np.load('./train.npy', allow_pickle=True)\n",
        "raw_train_labels = np.load('./train_labels.npy', allow_pickle=True)\n",
        "print(\"Raw training data shape:\", raw_train.shape)\n",
        "print(\"Raw training data label shape:\", raw_train_labels.shape)\n",
        "\n",
        "raw_dev = np.load('./dev.npy', allow_pickle=True)\n",
        "raw_dev_labels = np.load('./dev_labels.npy', allow_pickle=True)\n",
        "print(\"Raw dev data shape\", raw_dev.shape)\n",
        "print(\"Raw dev data label shape\", raw_dev_labels.shape)"
      ],
      "execution_count": null,
      "outputs": [
        {
          "output_type": "stream",
          "text": [
            "Raw training data shape: (14542,)\n",
            "Raw training data label shape: (14542,)\n",
            "Raw dev data shape (2200,)\n",
            "Raw dev data label shape (2200,)\n"
          ],
          "name": "stdout"
        }
      ]
    },
    {
      "cell_type": "code",
      "metadata": {
        "id": "N8xFqWWe6cqN"
      },
      "source": [
        "train_dataset = MyDataset(raw_train, raw_train_labels)\n",
        "del raw_train, raw_train_labels\n",
        "\n",
        "dev_dataset = MyDataset(raw_dev, raw_dev_labels)\n",
        "del raw_dev, raw_dev_labels\n",
        "\n",
        "train_loader = DataLoader(train_dataset, shuffle=True, batch_size=64, collate_fn = collate,num_workers=0, pin_memory=True)\n",
        "dev_loader = DataLoader(dev_dataset, shuffle=False, batch_size=64, collate_fn = collate,num_workers=0, pin_memory=True)"
      ],
      "execution_count": null,
      "outputs": []
    },
    {
      "cell_type": "code",
      "metadata": {
        "colab": {
          "base_uri": "https://localhost:8080/"
        },
        "id": "mLOimJ44ppgu",
        "outputId": "c6edb7b6-2b3d-403f-b4dd-df7109fa2ed4"
      },
      "source": [
        "raw_test = np.load('./test.npy', allow_pickle=True)\n",
        "print(\"Raw test data shape:\", raw_test.shape)\n",
        "\n",
        "test_dataset = MyDataset_test(raw_test)\n",
        "test_loader = DataLoader(test_dataset, shuffle=False, batch_size=64, collate_fn = collate_test,num_workers=0, pin_memory=True)"
      ],
      "execution_count": null,
      "outputs": [
        {
          "output_type": "stream",
          "text": [
            "Raw test data shape: (2561,)\n"
          ],
          "name": "stdout"
        }
      ]
    },
    {
      "cell_type": "markdown",
      "metadata": {
        "id": "S6-KVjI6KM7m"
      },
      "source": [
        "# model setting"
      ]
    },
    {
      "cell_type": "code",
      "metadata": {
        "id": "YK8Ae3smM64J"
      },
      "source": [
        "\n",
        "class Model(nn.Module):\n",
        "    def __init__(self):\n",
        "      super(Model, self).__init__()\n",
        "      self.cnn1 = torch.nn.Conv1d(40, 128, kernel_size=3, stride=1, padding=1,bias=False)\n",
        "      self.bn1 = torch.nn.BatchNorm1d(128)\n",
        "      self.cnn2 = torch.nn.Conv1d(128, 128, kernel_size=3, stride=1, padding=1,bias=False)\n",
        "      self.bn2 = torch.nn.BatchNorm1d(128)\n",
        "\n",
        "      self.cnn3 = torch.nn.Conv1d(128, 256, kernel_size=3, stride=1, padding=1,bias=False)\n",
        "      self.bn3 = torch.nn.BatchNorm1d(256)\n",
        "\n",
        "\n",
        "      self.relu = nn.ReLU(inplace=True)\n",
        "\n",
        "      self.lstm1 = nn.LSTM(256, 256, bidirectional=True,num_layers=4,dropout=0.3)\n",
        "      self.lr = nn.Linear(256*2, 1024)\n",
        "      self.output = nn.Linear(1024, 42)\n",
        "\n",
        "\n",
        "\n",
        "    def forward(self, X, lengths):\n",
        "\n",
        "      X = self.cnn1(X.transpose(1,2))\n",
        "      X = self.bn1(X)\n",
        "\n",
        "      X = self.relu(X)\n",
        "\n",
        "      X = self.cnn2(X)\n",
        "      X = self.bn2(X)\n",
        "\n",
        "      X = self.relu(X)\n",
        "      \n",
        "      X = self.cnn3(X)\n",
        "      X = self.bn3(X)\n",
        "\n",
        "\n",
        "      X = X.transpose(1,2)\n",
        "      packed_X = pack_padded_sequence(input=X, lengths=lengths.cpu(), enforce_sorted=False)\n",
        "      packed_out = self.lstm1(packed_X)[0]\n",
        "      out, out_lens = pad_packed_sequence(packed_out)\n",
        "      # Log softmax after output layer is required since`nn.CTCLoss` expects log probabilities.\n",
        "\n",
        "      out = self.relu(self.lr(out))\n",
        "      out = self.output(out).log_softmax(2)\n",
        "      return out, out_lens"
      ],
      "execution_count": null,
      "outputs": []
    },
    {
      "cell_type": "code",
      "metadata": {
        "id": "pBXufkkCpIMI",
        "colab": {
          "base_uri": "https://localhost:8080/"
        },
        "outputId": "08674fed-c492-4bc3-f7be-d3607a7d6d56"
      },
      "source": [
        "def reset_params(self):\n",
        "        for m in self.modules():\n",
        "            if isinstance(m, nn.Conv1d):\n",
        "                torch.nn.init.xavier_uniform_(m.weight.data)\n",
        "            elif isinstance(m, nn.Linear):\n",
        "                torch.nn.init.xavier_uniform_(m.weight.data)\n",
        "\n",
        "network = Model()\n",
        "network.apply(reset_params)\n",
        "network = network.to(device)\n",
        "print(network)"
      ],
      "execution_count": null,
      "outputs": [
        {
          "output_type": "stream",
          "text": [
            "Model(\n",
            "  (cnn1): Conv1d(40, 128, kernel_size=(3,), stride=(1,), padding=(1,), bias=False)\n",
            "  (bn1): BatchNorm1d(128, eps=1e-05, momentum=0.1, affine=True, track_running_stats=True)\n",
            "  (cnn2): Conv1d(128, 128, kernel_size=(3,), stride=(1,), padding=(1,), bias=False)\n",
            "  (bn2): BatchNorm1d(128, eps=1e-05, momentum=0.1, affine=True, track_running_stats=True)\n",
            "  (cnn3): Conv1d(128, 256, kernel_size=(3,), stride=(1,), padding=(1,), bias=False)\n",
            "  (bn3): BatchNorm1d(256, eps=1e-05, momentum=0.1, affine=True, track_running_stats=True)\n",
            "  (relu): ReLU(inplace=True)\n",
            "  (lstm1): LSTM(256, 256, num_layers=4, dropout=0.3, bidirectional=True)\n",
            "  (lr): Linear(in_features=512, out_features=1024, bias=True)\n",
            "  (output): Linear(in_features=1024, out_features=42, bias=True)\n",
            ")\n"
          ],
          "name": "stdout"
        }
      ]
    },
    {
      "cell_type": "markdown",
      "metadata": {
        "id": "XBRfFWvnq_Fg"
      },
      "source": [
        "# Training"
      ]
    },
    {
      "cell_type": "code",
      "metadata": {
        "id": "OB_Trn4XveR4"
      },
      "source": [
        "criterion = nn.CTCLoss() \n",
        "optimizer = torch.optim.Adam(network.parameters(), lr=2e-3,weight_decay=5e-6)\n",
        "scheduler = torch.optim.lr_scheduler.ReduceLROnPlateau(optimizer, mode='min', factor=0.5, patience=2)\n",
        "numEpochs = 100\n",
        "\n",
        "from ctcdecode import CTCBeamDecoder\n",
        "decoder = CTCBeamDecoder(['$'] * 42, beam_width=21, log_probs_input=True)\n"
      ],
      "execution_count": null,
      "outputs": []
    },
    {
      "cell_type": "code",
      "metadata": {
        "colab": {
          "base_uri": "https://localhost:8080/"
        },
        "id": "mt_WikWwp8OY",
        "outputId": "fbdb987d-9f86-413f-802e-298a0553fb96"
      },
      "source": [
        "best_Dis =100000000\n",
        "\n",
        "# network = torch.load('./model_6.pt')\n",
        "\n",
        "# Validate\n",
        "network.eval()\n",
        "distance = 0\n",
        "tot_sec = 0\n",
        "avg_loss_val = 0\n",
        "with torch.no_grad():\n",
        "    for batch_idx, (X,Y,X_lens,Y_lens) in tqdm(enumerate(dev_loader),position=0, leave=True):\n",
        "        X,Y,X_lens,Y_lens = X.to(device),Y.to(device),X_lens.to(device),Y_lens.to(device)\n",
        "        out, out_lens = network(X, X_lens)\n",
        "\n",
        "        loss = criterion(out, Y, out_lens, Y_lens)\n",
        "        avg_loss_val += loss.item()\n",
        "        out = out.cpu()\n",
        "        out_lens = out_lens.cpu()\n",
        "        test_Y, _, _, test_Y_lens = decoder.decode(out.transpose(0, 1), out_lens)\n",
        "        for i in range(out.size()[1]):\n",
        "            best_seq = test_Y[i, 0, :test_Y_lens[i, 0]]\n",
        "            best_pron = ''.join(phonemes[i] for i in best_seq)\n",
        "            best_tar = ''.join(phonemes[j] for j in Y[i] if j!=0)\n",
        "            distance += Levenshtein.distance(best_pron, best_tar)\n",
        "            tot_sec += 1\n",
        "    avg_loss_validation = avg_loss_val / len(dev_loader)\n",
        "    best_Dis = distance/tot_sec\n",
        "    print('best_Dis',best_Dis,'avg_loss_validation',avg_loss_validation)\n",
        "    del X,Y,X_lens,Y_lens,out, out_lens,loss\n",
        "\n",
        "\n",
        "\n",
        "\n",
        "for epoch in range(numEpochs):\n",
        "    # train\n",
        "    network.train()\n",
        "    avg_loss = 0.0 \n",
        "    for batch_num, (X,Y,X_lens,Y_lens) in tqdm(enumerate(train_loader),position=0, leave=True):\n",
        "      optimizer.zero_grad()\n",
        "      X,Y,X_lens,Y_lens = X.to(device),Y.to(device),X_lens.to(device),Y_lens.to(device)\n",
        "\n",
        "      out, out_lens = network(X, X_lens)\n",
        "      loss = criterion(out, Y, out_lens, Y_lens)\n",
        "      avg_loss += loss.item()\n",
        "      loss.backward()\n",
        "      optimizer.step()\n",
        "      if batch_num % 50 == 49:\n",
        "          print('Epoch: {}\\tAvg-Loss: {:.4f}'.format(epoch+1, avg_loss/50))\n",
        "          avg_loss = 0.0\n",
        "      del X,Y,X_lens,Y_lens,out, out_lens,loss\n",
        "\n",
        "\n",
        "    # Validate\n",
        "    network.eval()\n",
        "    distance = 0\n",
        "    tot_sec = 0\n",
        "    avg_loss_val = 0\n",
        "    with torch.no_grad():\n",
        "        for batch_idx, (X,Y,X_lens,Y_lens) in tqdm(enumerate(dev_loader),position=0, leave=True):\n",
        "            X,Y,X_lens,Y_lens = X.to(device),Y.to(device),X_lens.to(device),Y_lens.to(device)\n",
        "            out, out_lens = network(X, X_lens)\n",
        "\n",
        "            loss = criterion(out, Y, out_lens, Y_lens)\n",
        "            avg_loss_val += loss.item()\n",
        "            out = out.cpu()\n",
        "            out_lens = out_lens.cpu()\n",
        "            test_Y, _, _, test_Y_lens = decoder.decode(out.transpose(0, 1), out_lens)\n",
        "            for i in range(out.size()[1]):\n",
        "                best_seq = test_Y[i, 0, :test_Y_lens[i, 0]]\n",
        "                best_pron = ''.join(phonemes[i] for i in best_seq)\n",
        "                best_tar = ''.join(phonemes[j] for j in Y[i] if j!=0)\n",
        "                distance += Levenshtein.distance(best_pron, best_tar)\n",
        "                tot_sec += 1\n",
        "        avg_loss_validation = avg_loss_val / len(dev_loader)\n",
        "        avg_dist = distance/tot_sec\n",
        "        print('Epoch: {}, Validation loss: {:.2f}'.format(epoch, avg_loss_validation))\n",
        "        print('Epoch: {}, Validation Distance: {:.2f}'.format(epoch, avg_dist))\n",
        "\n",
        "        scheduler.step(avg_loss_validation)\n",
        "        print('Epoch {}, lr {}'.format(epoch, optimizer.param_groups[0]['lr']))\n",
        "        del X,Y,X_lens,Y_lens,out, out_lens,loss\n",
        "\n",
        "    if avg_dist < best_Dis:\n",
        "      best_Dis = avg_dist\n",
        "      print('val Dist',avg_dist)\n",
        "      torch.save(network, 'model_6.pt')\n",
        "\n",
        "\n"
      ],
      "execution_count": null,
      "outputs": [
        {
          "output_type": "stream",
          "text": [
            "35it [01:30,  2.58s/it]\n",
            "0it [00:00, ?it/s]"
          ],
          "name": "stderr"
        },
        {
          "output_type": "stream",
          "text": [
            "best_Dis 263.56363636363636 avg_loss_validation 32.07630375453404\n"
          ],
          "name": "stdout"
        },
        {
          "output_type": "stream",
          "text": [
            "50it [01:07,  1.35s/it]"
          ],
          "name": "stderr"
        },
        {
          "output_type": "stream",
          "text": [
            "Epoch: 1\tAvg-Loss: 4.8584\n"
          ],
          "name": "stdout"
        },
        {
          "output_type": "stream",
          "text": [
            "100it [02:13,  1.33s/it]"
          ],
          "name": "stderr"
        },
        {
          "output_type": "stream",
          "text": [
            "Epoch: 1\tAvg-Loss: 3.3916\n"
          ],
          "name": "stdout"
        },
        {
          "output_type": "stream",
          "text": [
            "150it [03:20,  1.36s/it]"
          ],
          "name": "stderr"
        },
        {
          "output_type": "stream",
          "text": [
            "Epoch: 1\tAvg-Loss: 3.3121\n"
          ],
          "name": "stdout"
        },
        {
          "output_type": "stream",
          "text": [
            "200it [04:27,  1.34s/it]"
          ],
          "name": "stderr"
        },
        {
          "output_type": "stream",
          "text": [
            "Epoch: 1\tAvg-Loss: 3.1961\n"
          ],
          "name": "stdout"
        },
        {
          "output_type": "stream",
          "text": [
            "228it [05:03,  1.33s/it]\n",
            "35it [01:26,  2.46s/it]\n",
            "0it [00:00, ?it/s]"
          ],
          "name": "stderr"
        },
        {
          "output_type": "stream",
          "text": [
            "Epoch: 0, Validation loss: 2.68\n",
            "Epoch: 0, Validation Distance: 53.93\n",
            "Epoch 0, lr 0.002\n",
            "val Dist 53.93363636363637\n"
          ],
          "name": "stdout"
        },
        {
          "output_type": "stream",
          "text": [
            "50it [01:06,  1.33s/it]"
          ],
          "name": "stderr"
        },
        {
          "output_type": "stream",
          "text": [
            "Epoch: 2\tAvg-Loss: 2.2605\n"
          ],
          "name": "stdout"
        },
        {
          "output_type": "stream",
          "text": [
            "100it [02:13,  1.33s/it]"
          ],
          "name": "stderr"
        },
        {
          "output_type": "stream",
          "text": [
            "Epoch: 2\tAvg-Loss: 1.6578\n"
          ],
          "name": "stdout"
        },
        {
          "output_type": "stream",
          "text": [
            "150it [03:20,  1.33s/it]"
          ],
          "name": "stderr"
        },
        {
          "output_type": "stream",
          "text": [
            "Epoch: 2\tAvg-Loss: 1.3399\n"
          ],
          "name": "stdout"
        },
        {
          "output_type": "stream",
          "text": [
            "200it [04:27,  1.33s/it]"
          ],
          "name": "stderr"
        },
        {
          "output_type": "stream",
          "text": [
            "Epoch: 2\tAvg-Loss: 1.1555\n"
          ],
          "name": "stdout"
        },
        {
          "output_type": "stream",
          "text": [
            "228it [05:04,  1.33s/it]\n",
            "35it [01:27,  2.49s/it]\n",
            "0it [00:00, ?it/s]"
          ],
          "name": "stderr"
        },
        {
          "output_type": "stream",
          "text": [
            "Epoch: 1, Validation loss: 1.09\n",
            "Epoch: 1, Validation Distance: 24.35\n",
            "Epoch 1, lr 0.002\n",
            "val Dist 24.348181818181818\n"
          ],
          "name": "stdout"
        },
        {
          "output_type": "stream",
          "text": [
            "50it [01:06,  1.35s/it]"
          ],
          "name": "stderr"
        },
        {
          "output_type": "stream",
          "text": [
            "Epoch: 3\tAvg-Loss: 0.9749\n"
          ],
          "name": "stdout"
        },
        {
          "output_type": "stream",
          "text": [
            "100it [02:13,  1.36s/it]"
          ],
          "name": "stderr"
        },
        {
          "output_type": "stream",
          "text": [
            "Epoch: 3\tAvg-Loss: 0.8805\n"
          ],
          "name": "stdout"
        },
        {
          "output_type": "stream",
          "text": [
            "150it [03:20,  1.34s/it]"
          ],
          "name": "stderr"
        },
        {
          "output_type": "stream",
          "text": [
            "Epoch: 3\tAvg-Loss: 0.8264\n"
          ],
          "name": "stdout"
        },
        {
          "output_type": "stream",
          "text": [
            "200it [04:27,  1.33s/it]"
          ],
          "name": "stderr"
        },
        {
          "output_type": "stream",
          "text": [
            "Epoch: 3\tAvg-Loss: 0.7834\n"
          ],
          "name": "stdout"
        },
        {
          "output_type": "stream",
          "text": [
            "228it [05:03,  1.33s/it]\n",
            "35it [01:27,  2.50s/it]\n",
            "0it [00:00, ?it/s]"
          ],
          "name": "stderr"
        },
        {
          "output_type": "stream",
          "text": [
            "Epoch: 2, Validation loss: 0.80\n",
            "Epoch: 2, Validation Distance: 17.89\n",
            "Epoch 2, lr 0.002\n",
            "val Dist 17.89318181818182\n"
          ],
          "name": "stdout"
        },
        {
          "output_type": "stream",
          "text": [
            "50it [01:07,  1.32s/it]"
          ],
          "name": "stderr"
        },
        {
          "output_type": "stream",
          "text": [
            "Epoch: 4\tAvg-Loss: 0.7017\n"
          ],
          "name": "stdout"
        },
        {
          "output_type": "stream",
          "text": [
            "100it [02:13,  1.33s/it]"
          ],
          "name": "stderr"
        },
        {
          "output_type": "stream",
          "text": [
            "Epoch: 4\tAvg-Loss: 0.6795\n"
          ],
          "name": "stdout"
        },
        {
          "output_type": "stream",
          "text": [
            "150it [03:20,  1.34s/it]"
          ],
          "name": "stderr"
        },
        {
          "output_type": "stream",
          "text": [
            "Epoch: 4\tAvg-Loss: 0.6550\n"
          ],
          "name": "stdout"
        },
        {
          "output_type": "stream",
          "text": [
            "200it [04:27,  1.32s/it]"
          ],
          "name": "stderr"
        },
        {
          "output_type": "stream",
          "text": [
            "Epoch: 4\tAvg-Loss: 0.6337\n"
          ],
          "name": "stdout"
        },
        {
          "output_type": "stream",
          "text": [
            "228it [05:03,  1.33s/it]\n",
            "35it [01:27,  2.51s/it]\n",
            "0it [00:00, ?it/s]"
          ],
          "name": "stderr"
        },
        {
          "output_type": "stream",
          "text": [
            "Epoch: 3, Validation loss: 0.72\n",
            "Epoch: 3, Validation Distance: 16.03\n",
            "Epoch 3, lr 0.002\n",
            "val Dist 16.028181818181817\n"
          ],
          "name": "stdout"
        },
        {
          "output_type": "stream",
          "text": [
            "50it [01:07,  1.34s/it]"
          ],
          "name": "stderr"
        },
        {
          "output_type": "stream",
          "text": [
            "Epoch: 5\tAvg-Loss: 0.5965\n"
          ],
          "name": "stdout"
        },
        {
          "output_type": "stream",
          "text": [
            "100it [02:13,  1.34s/it]"
          ],
          "name": "stderr"
        },
        {
          "output_type": "stream",
          "text": [
            "Epoch: 5\tAvg-Loss: 0.5852\n"
          ],
          "name": "stdout"
        },
        {
          "output_type": "stream",
          "text": [
            "150it [03:20,  1.34s/it]"
          ],
          "name": "stderr"
        },
        {
          "output_type": "stream",
          "text": [
            "Epoch: 5\tAvg-Loss: 0.5729\n"
          ],
          "name": "stdout"
        },
        {
          "output_type": "stream",
          "text": [
            "200it [04:27,  1.33s/it]"
          ],
          "name": "stderr"
        },
        {
          "output_type": "stream",
          "text": [
            "Epoch: 5\tAvg-Loss: 0.5515\n"
          ],
          "name": "stdout"
        },
        {
          "output_type": "stream",
          "text": [
            "228it [05:03,  1.33s/it]\n",
            "35it [01:28,  2.54s/it]\n",
            "0it [00:00, ?it/s]"
          ],
          "name": "stderr"
        },
        {
          "output_type": "stream",
          "text": [
            "Epoch: 4, Validation loss: 0.64\n",
            "Epoch: 4, Validation Distance: 14.02\n",
            "Epoch 4, lr 0.002\n",
            "val Dist 14.020454545454545\n"
          ],
          "name": "stdout"
        },
        {
          "output_type": "stream",
          "text": [
            "50it [01:06,  1.35s/it]"
          ],
          "name": "stderr"
        },
        {
          "output_type": "stream",
          "text": [
            "Epoch: 6\tAvg-Loss: 0.5226\n"
          ],
          "name": "stdout"
        },
        {
          "output_type": "stream",
          "text": [
            "100it [02:14,  1.36s/it]"
          ],
          "name": "stderr"
        },
        {
          "output_type": "stream",
          "text": [
            "Epoch: 6\tAvg-Loss: 0.5103\n"
          ],
          "name": "stdout"
        },
        {
          "output_type": "stream",
          "text": [
            "150it [03:20,  1.33s/it]"
          ],
          "name": "stderr"
        },
        {
          "output_type": "stream",
          "text": [
            "Epoch: 6\tAvg-Loss: 0.5110\n"
          ],
          "name": "stdout"
        },
        {
          "output_type": "stream",
          "text": [
            "200it [04:27,  1.32s/it]"
          ],
          "name": "stderr"
        },
        {
          "output_type": "stream",
          "text": [
            "Epoch: 6\tAvg-Loss: 0.4965\n"
          ],
          "name": "stdout"
        },
        {
          "output_type": "stream",
          "text": [
            "228it [05:04,  1.34s/it]\n",
            "35it [01:28,  2.53s/it]\n",
            "0it [00:00, ?it/s]"
          ],
          "name": "stderr"
        },
        {
          "output_type": "stream",
          "text": [
            "Epoch: 5, Validation loss: 0.62\n",
            "Epoch: 5, Validation Distance: 13.35\n",
            "Epoch 5, lr 0.002\n",
            "val Dist 13.346818181818183\n"
          ],
          "name": "stdout"
        },
        {
          "output_type": "stream",
          "text": [
            "50it [01:06,  1.34s/it]"
          ],
          "name": "stderr"
        },
        {
          "output_type": "stream",
          "text": [
            "Epoch: 7\tAvg-Loss: 0.4623\n"
          ],
          "name": "stdout"
        },
        {
          "output_type": "stream",
          "text": [
            "100it [02:13,  1.32s/it]"
          ],
          "name": "stderr"
        },
        {
          "output_type": "stream",
          "text": [
            "Epoch: 7\tAvg-Loss: 0.4557\n"
          ],
          "name": "stdout"
        },
        {
          "output_type": "stream",
          "text": [
            "150it [03:20,  1.35s/it]"
          ],
          "name": "stderr"
        },
        {
          "output_type": "stream",
          "text": [
            "Epoch: 7\tAvg-Loss: 0.4535\n"
          ],
          "name": "stdout"
        },
        {
          "output_type": "stream",
          "text": [
            "200it [04:27,  1.33s/it]"
          ],
          "name": "stderr"
        },
        {
          "output_type": "stream",
          "text": [
            "Epoch: 7\tAvg-Loss: 0.4555\n"
          ],
          "name": "stdout"
        },
        {
          "output_type": "stream",
          "text": [
            "228it [05:04,  1.33s/it]\n",
            "35it [01:28,  2.53s/it]\n",
            "0it [00:00, ?it/s]"
          ],
          "name": "stderr"
        },
        {
          "output_type": "stream",
          "text": [
            "Epoch: 6, Validation loss: 0.57\n",
            "Epoch: 6, Validation Distance: 12.21\n",
            "Epoch 6, lr 0.002\n",
            "val Dist 12.206363636363637\n"
          ],
          "name": "stdout"
        },
        {
          "output_type": "stream",
          "text": [
            "50it [01:07,  1.34s/it]"
          ],
          "name": "stderr"
        },
        {
          "output_type": "stream",
          "text": [
            "Epoch: 8\tAvg-Loss: 0.4177\n"
          ],
          "name": "stdout"
        },
        {
          "output_type": "stream",
          "text": [
            "100it [02:13,  1.32s/it]"
          ],
          "name": "stderr"
        },
        {
          "output_type": "stream",
          "text": [
            "Epoch: 8\tAvg-Loss: 0.4049\n"
          ],
          "name": "stdout"
        },
        {
          "output_type": "stream",
          "text": [
            "150it [03:20,  1.33s/it]"
          ],
          "name": "stderr"
        },
        {
          "output_type": "stream",
          "text": [
            "Epoch: 8\tAvg-Loss: 0.4080\n"
          ],
          "name": "stdout"
        },
        {
          "output_type": "stream",
          "text": [
            "200it [04:27,  1.33s/it]"
          ],
          "name": "stderr"
        },
        {
          "output_type": "stream",
          "text": [
            "Epoch: 8\tAvg-Loss: 0.4146\n"
          ],
          "name": "stdout"
        },
        {
          "output_type": "stream",
          "text": [
            "228it [05:03,  1.33s/it]\n",
            "35it [01:28,  2.52s/it]\n",
            "0it [00:00, ?it/s]"
          ],
          "name": "stderr"
        },
        {
          "output_type": "stream",
          "text": [
            "Epoch: 7, Validation loss: 0.54\n",
            "Epoch: 7, Validation Distance: 11.45\n",
            "Epoch 7, lr 0.002\n",
            "val Dist 11.447272727272727\n"
          ],
          "name": "stdout"
        },
        {
          "output_type": "stream",
          "text": [
            "50it [01:06,  1.33s/it]"
          ],
          "name": "stderr"
        },
        {
          "output_type": "stream",
          "text": [
            "Epoch: 9\tAvg-Loss: 0.3827\n"
          ],
          "name": "stdout"
        },
        {
          "output_type": "stream",
          "text": [
            "100it [02:13,  1.35s/it]"
          ],
          "name": "stderr"
        },
        {
          "output_type": "stream",
          "text": [
            "Epoch: 9\tAvg-Loss: 0.3816\n"
          ],
          "name": "stdout"
        },
        {
          "output_type": "stream",
          "text": [
            "150it [03:20,  1.33s/it]"
          ],
          "name": "stderr"
        },
        {
          "output_type": "stream",
          "text": [
            "Epoch: 9\tAvg-Loss: 0.3805\n"
          ],
          "name": "stdout"
        },
        {
          "output_type": "stream",
          "text": [
            "200it [04:27,  1.31s/it]"
          ],
          "name": "stderr"
        },
        {
          "output_type": "stream",
          "text": [
            "Epoch: 9\tAvg-Loss: 0.3837\n"
          ],
          "name": "stdout"
        },
        {
          "output_type": "stream",
          "text": [
            "228it [05:03,  1.33s/it]\n",
            "35it [01:28,  2.54s/it]\n",
            "0it [00:00, ?it/s]"
          ],
          "name": "stderr"
        },
        {
          "output_type": "stream",
          "text": [
            "Epoch: 8, Validation loss: 0.53\n",
            "Epoch: 8, Validation Distance: 11.22\n",
            "Epoch 8, lr 0.002\n",
            "val Dist 11.22\n"
          ],
          "name": "stdout"
        },
        {
          "output_type": "stream",
          "text": [
            "50it [01:06,  1.33s/it]"
          ],
          "name": "stderr"
        },
        {
          "output_type": "stream",
          "text": [
            "Epoch: 10\tAvg-Loss: 0.3665\n"
          ],
          "name": "stdout"
        },
        {
          "output_type": "stream",
          "text": [
            "100it [02:13,  1.33s/it]"
          ],
          "name": "stderr"
        },
        {
          "output_type": "stream",
          "text": [
            "Epoch: 10\tAvg-Loss: 0.3660\n"
          ],
          "name": "stdout"
        },
        {
          "output_type": "stream",
          "text": [
            "150it [03:20,  1.34s/it]"
          ],
          "name": "stderr"
        },
        {
          "output_type": "stream",
          "text": [
            "Epoch: 10\tAvg-Loss: 0.3537\n"
          ],
          "name": "stdout"
        },
        {
          "output_type": "stream",
          "text": [
            "200it [04:26,  1.34s/it]"
          ],
          "name": "stderr"
        },
        {
          "output_type": "stream",
          "text": [
            "Epoch: 10\tAvg-Loss: 0.3629\n"
          ],
          "name": "stdout"
        },
        {
          "output_type": "stream",
          "text": [
            "228it [05:03,  1.33s/it]\n",
            "35it [01:28,  2.53s/it]\n",
            "0it [00:00, ?it/s]"
          ],
          "name": "stderr"
        },
        {
          "output_type": "stream",
          "text": [
            "Epoch: 9, Validation loss: 0.52\n",
            "Epoch: 9, Validation Distance: 10.75\n",
            "Epoch 9, lr 0.002\n",
            "val Dist 10.747727272727273\n"
          ],
          "name": "stdout"
        },
        {
          "output_type": "stream",
          "text": [
            "50it [01:06,  1.33s/it]"
          ],
          "name": "stderr"
        },
        {
          "output_type": "stream",
          "text": [
            "Epoch: 11\tAvg-Loss: 0.3379\n"
          ],
          "name": "stdout"
        },
        {
          "output_type": "stream",
          "text": [
            "100it [02:13,  1.34s/it]"
          ],
          "name": "stderr"
        },
        {
          "output_type": "stream",
          "text": [
            "Epoch: 11\tAvg-Loss: 0.3369\n"
          ],
          "name": "stdout"
        },
        {
          "output_type": "stream",
          "text": [
            "150it [03:20,  1.35s/it]"
          ],
          "name": "stderr"
        },
        {
          "output_type": "stream",
          "text": [
            "Epoch: 11\tAvg-Loss: 0.3378\n"
          ],
          "name": "stdout"
        },
        {
          "output_type": "stream",
          "text": [
            "200it [04:27,  1.34s/it]"
          ],
          "name": "stderr"
        },
        {
          "output_type": "stream",
          "text": [
            "Epoch: 11\tAvg-Loss: 0.3408\n"
          ],
          "name": "stdout"
        },
        {
          "output_type": "stream",
          "text": [
            "228it [05:03,  1.33s/it]\n",
            "35it [01:29,  2.54s/it]\n",
            "0it [00:00, ?it/s]"
          ],
          "name": "stderr"
        },
        {
          "output_type": "stream",
          "text": [
            "Epoch: 10, Validation loss: 0.51\n",
            "Epoch: 10, Validation Distance: 10.64\n",
            "Epoch 10, lr 0.002\n",
            "val Dist 10.645\n"
          ],
          "name": "stdout"
        },
        {
          "output_type": "stream",
          "text": [
            "50it [01:06,  1.33s/it]"
          ],
          "name": "stderr"
        },
        {
          "output_type": "stream",
          "text": [
            "Epoch: 12\tAvg-Loss: 0.3126\n"
          ],
          "name": "stdout"
        },
        {
          "output_type": "stream",
          "text": [
            "100it [02:13,  1.33s/it]"
          ],
          "name": "stderr"
        },
        {
          "output_type": "stream",
          "text": [
            "Epoch: 12\tAvg-Loss: 0.3111\n"
          ],
          "name": "stdout"
        },
        {
          "output_type": "stream",
          "text": [
            "150it [03:20,  1.32s/it]"
          ],
          "name": "stderr"
        },
        {
          "output_type": "stream",
          "text": [
            "Epoch: 12\tAvg-Loss: 0.3178\n"
          ],
          "name": "stdout"
        },
        {
          "output_type": "stream",
          "text": [
            "200it [04:27,  1.33s/it]"
          ],
          "name": "stderr"
        },
        {
          "output_type": "stream",
          "text": [
            "Epoch: 12\tAvg-Loss: 0.3194\n"
          ],
          "name": "stdout"
        },
        {
          "output_type": "stream",
          "text": [
            "228it [05:04,  1.33s/it]\n",
            "35it [01:28,  2.54s/it]\n",
            "0it [00:00, ?it/s]"
          ],
          "name": "stderr"
        },
        {
          "output_type": "stream",
          "text": [
            "Epoch: 11, Validation loss: 0.50\n",
            "Epoch: 11, Validation Distance: 10.35\n",
            "Epoch 11, lr 0.002\n",
            "val Dist 10.346818181818183\n"
          ],
          "name": "stdout"
        },
        {
          "output_type": "stream",
          "text": [
            "50it [01:06,  1.35s/it]"
          ],
          "name": "stderr"
        },
        {
          "output_type": "stream",
          "text": [
            "Epoch: 13\tAvg-Loss: 0.2968\n"
          ],
          "name": "stdout"
        },
        {
          "output_type": "stream",
          "text": [
            "100it [02:13,  1.34s/it]"
          ],
          "name": "stderr"
        },
        {
          "output_type": "stream",
          "text": [
            "Epoch: 13\tAvg-Loss: 0.3005\n"
          ],
          "name": "stdout"
        },
        {
          "output_type": "stream",
          "text": [
            "150it [03:19,  1.34s/it]"
          ],
          "name": "stderr"
        },
        {
          "output_type": "stream",
          "text": [
            "Epoch: 13\tAvg-Loss: 0.3000\n"
          ],
          "name": "stdout"
        },
        {
          "output_type": "stream",
          "text": [
            "200it [04:25,  1.32s/it]"
          ],
          "name": "stderr"
        },
        {
          "output_type": "stream",
          "text": [
            "Epoch: 13\tAvg-Loss: 0.3080\n"
          ],
          "name": "stdout"
        },
        {
          "output_type": "stream",
          "text": [
            "228it [05:02,  1.33s/it]\n",
            "35it [01:28,  2.54s/it]\n",
            "0it [00:00, ?it/s]"
          ],
          "name": "stderr"
        },
        {
          "output_type": "stream",
          "text": [
            "Epoch: 12, Validation loss: 0.51\n",
            "Epoch: 12, Validation Distance: 10.34\n",
            "Epoch 12, lr 0.002\n",
            "val Dist 10.335\n"
          ],
          "name": "stdout"
        },
        {
          "output_type": "stream",
          "text": [
            "50it [01:07,  1.35s/it]"
          ],
          "name": "stderr"
        },
        {
          "output_type": "stream",
          "text": [
            "Epoch: 14\tAvg-Loss: 0.2785\n"
          ],
          "name": "stdout"
        },
        {
          "output_type": "stream",
          "text": [
            "100it [02:13,  1.33s/it]"
          ],
          "name": "stderr"
        },
        {
          "output_type": "stream",
          "text": [
            "Epoch: 14\tAvg-Loss: 0.2764\n"
          ],
          "name": "stdout"
        },
        {
          "output_type": "stream",
          "text": [
            "150it [03:20,  1.36s/it]"
          ],
          "name": "stderr"
        },
        {
          "output_type": "stream",
          "text": [
            "Epoch: 14\tAvg-Loss: 0.2816\n"
          ],
          "name": "stdout"
        },
        {
          "output_type": "stream",
          "text": [
            "200it [04:26,  1.33s/it]"
          ],
          "name": "stderr"
        },
        {
          "output_type": "stream",
          "text": [
            "Epoch: 14\tAvg-Loss: 0.2865\n"
          ],
          "name": "stdout"
        },
        {
          "output_type": "stream",
          "text": [
            "228it [05:03,  1.33s/it]\n",
            "35it [01:28,  2.54s/it]\n",
            "0it [00:00, ?it/s]"
          ],
          "name": "stderr"
        },
        {
          "output_type": "stream",
          "text": [
            "Epoch: 13, Validation loss: 0.48\n",
            "Epoch: 13, Validation Distance: 9.87\n",
            "Epoch 13, lr 0.002\n",
            "val Dist 9.87\n"
          ],
          "name": "stdout"
        },
        {
          "output_type": "stream",
          "text": [
            "50it [01:06,  1.34s/it]"
          ],
          "name": "stderr"
        },
        {
          "output_type": "stream",
          "text": [
            "Epoch: 15\tAvg-Loss: 0.2675\n"
          ],
          "name": "stdout"
        },
        {
          "output_type": "stream",
          "text": [
            "100it [02:13,  1.33s/it]"
          ],
          "name": "stderr"
        },
        {
          "output_type": "stream",
          "text": [
            "Epoch: 15\tAvg-Loss: 0.2791\n"
          ],
          "name": "stdout"
        },
        {
          "output_type": "stream",
          "text": [
            "150it [03:20,  1.34s/it]"
          ],
          "name": "stderr"
        },
        {
          "output_type": "stream",
          "text": [
            "Epoch: 15\tAvg-Loss: 0.2810\n"
          ],
          "name": "stdout"
        },
        {
          "output_type": "stream",
          "text": [
            "200it [04:27,  1.34s/it]"
          ],
          "name": "stderr"
        },
        {
          "output_type": "stream",
          "text": [
            "Epoch: 15\tAvg-Loss: 0.2712\n"
          ],
          "name": "stdout"
        },
        {
          "output_type": "stream",
          "text": [
            "228it [05:04,  1.33s/it]\n",
            "35it [01:29,  2.55s/it]\n",
            "0it [00:00, ?it/s]"
          ],
          "name": "stderr"
        },
        {
          "output_type": "stream",
          "text": [
            "Epoch: 14, Validation loss: 0.49\n",
            "Epoch: 14, Validation Distance: 10.05\n",
            "Epoch 14, lr 0.002\n"
          ],
          "name": "stdout"
        },
        {
          "output_type": "stream",
          "text": [
            "50it [01:06,  1.34s/it]"
          ],
          "name": "stderr"
        },
        {
          "output_type": "stream",
          "text": [
            "Epoch: 16\tAvg-Loss: 0.2614\n"
          ],
          "name": "stdout"
        },
        {
          "output_type": "stream",
          "text": [
            "100it [02:13,  1.34s/it]"
          ],
          "name": "stderr"
        },
        {
          "output_type": "stream",
          "text": [
            "Epoch: 16\tAvg-Loss: 0.2598\n"
          ],
          "name": "stdout"
        },
        {
          "output_type": "stream",
          "text": [
            "150it [03:20,  1.32s/it]"
          ],
          "name": "stderr"
        },
        {
          "output_type": "stream",
          "text": [
            "Epoch: 16\tAvg-Loss: 0.2593\n"
          ],
          "name": "stdout"
        },
        {
          "output_type": "stream",
          "text": [
            "200it [04:26,  1.33s/it]"
          ],
          "name": "stderr"
        },
        {
          "output_type": "stream",
          "text": [
            "Epoch: 16\tAvg-Loss: 0.2666\n"
          ],
          "name": "stdout"
        },
        {
          "output_type": "stream",
          "text": [
            "228it [05:03,  1.33s/it]\n",
            "35it [01:28,  2.54s/it]\n",
            "0it [00:00, ?it/s]"
          ],
          "name": "stderr"
        },
        {
          "output_type": "stream",
          "text": [
            "Epoch: 15, Validation loss: 0.48\n",
            "Epoch: 15, Validation Distance: 9.62\n",
            "Epoch 15, lr 0.002\n",
            "val Dist 9.618181818181819\n"
          ],
          "name": "stdout"
        },
        {
          "output_type": "stream",
          "text": [
            "50it [01:06,  1.33s/it]"
          ],
          "name": "stderr"
        },
        {
          "output_type": "stream",
          "text": [
            "Epoch: 17\tAvg-Loss: 0.2409\n"
          ],
          "name": "stdout"
        },
        {
          "output_type": "stream",
          "text": [
            "100it [02:13,  1.35s/it]"
          ],
          "name": "stderr"
        },
        {
          "output_type": "stream",
          "text": [
            "Epoch: 17\tAvg-Loss: 0.2437\n"
          ],
          "name": "stdout"
        },
        {
          "output_type": "stream",
          "text": [
            "150it [03:20,  1.33s/it]"
          ],
          "name": "stderr"
        },
        {
          "output_type": "stream",
          "text": [
            "Epoch: 17\tAvg-Loss: 0.2489\n"
          ],
          "name": "stdout"
        },
        {
          "output_type": "stream",
          "text": [
            "200it [04:26,  1.34s/it]"
          ],
          "name": "stderr"
        },
        {
          "output_type": "stream",
          "text": [
            "Epoch: 17\tAvg-Loss: 0.2598\n"
          ],
          "name": "stdout"
        },
        {
          "output_type": "stream",
          "text": [
            "228it [05:04,  1.33s/it]\n",
            "35it [01:28,  2.54s/it]\n",
            "0it [00:00, ?it/s]"
          ],
          "name": "stderr"
        },
        {
          "output_type": "stream",
          "text": [
            "Epoch: 16, Validation loss: 0.51\n",
            "Epoch: 16, Validation Distance: 9.99\n",
            "Epoch 16, lr 0.002\n"
          ],
          "name": "stdout"
        },
        {
          "output_type": "stream",
          "text": [
            "50it [01:06,  1.33s/it]"
          ],
          "name": "stderr"
        },
        {
          "output_type": "stream",
          "text": [
            "Epoch: 18\tAvg-Loss: 0.2353\n"
          ],
          "name": "stdout"
        },
        {
          "output_type": "stream",
          "text": [
            "100it [02:13,  1.32s/it]"
          ],
          "name": "stderr"
        },
        {
          "output_type": "stream",
          "text": [
            "Epoch: 18\tAvg-Loss: 0.2395\n"
          ],
          "name": "stdout"
        },
        {
          "output_type": "stream",
          "text": [
            "150it [03:20,  1.34s/it]"
          ],
          "name": "stderr"
        },
        {
          "output_type": "stream",
          "text": [
            "Epoch: 18\tAvg-Loss: 0.2435\n"
          ],
          "name": "stdout"
        },
        {
          "output_type": "stream",
          "text": [
            "200it [04:27,  1.32s/it]"
          ],
          "name": "stderr"
        },
        {
          "output_type": "stream",
          "text": [
            "Epoch: 18\tAvg-Loss: 0.2400\n"
          ],
          "name": "stdout"
        },
        {
          "output_type": "stream",
          "text": [
            "228it [05:04,  1.33s/it]\n",
            "35it [01:28,  2.53s/it]\n",
            "0it [00:00, ?it/s]"
          ],
          "name": "stderr"
        },
        {
          "output_type": "stream",
          "text": [
            "Epoch: 17, Validation loss: 0.48\n",
            "Epoch: 17, Validation Distance: 9.32\n",
            "Epoch 17, lr 0.002\n",
            "val Dist 9.317727272727273\n"
          ],
          "name": "stdout"
        },
        {
          "output_type": "stream",
          "text": [
            "50it [01:06,  1.35s/it]"
          ],
          "name": "stderr"
        },
        {
          "output_type": "stream",
          "text": [
            "Epoch: 19\tAvg-Loss: 0.2161\n"
          ],
          "name": "stdout"
        },
        {
          "output_type": "stream",
          "text": [
            "100it [02:12,  1.33s/it]"
          ],
          "name": "stderr"
        },
        {
          "output_type": "stream",
          "text": [
            "Epoch: 19\tAvg-Loss: 0.2224\n"
          ],
          "name": "stdout"
        },
        {
          "output_type": "stream",
          "text": [
            "150it [03:19,  1.33s/it]"
          ],
          "name": "stderr"
        },
        {
          "output_type": "stream",
          "text": [
            "Epoch: 19\tAvg-Loss: 0.2315\n"
          ],
          "name": "stdout"
        },
        {
          "output_type": "stream",
          "text": [
            "200it [04:27,  1.34s/it]"
          ],
          "name": "stderr"
        },
        {
          "output_type": "stream",
          "text": [
            "Epoch: 19\tAvg-Loss: 0.2400\n"
          ],
          "name": "stdout"
        },
        {
          "output_type": "stream",
          "text": [
            "228it [05:03,  1.33s/it]\n",
            "35it [01:28,  2.53s/it]\n",
            "0it [00:00, ?it/s]"
          ],
          "name": "stderr"
        },
        {
          "output_type": "stream",
          "text": [
            "Epoch: 18, Validation loss: 0.48\n",
            "Epoch: 18, Validation Distance: 9.43\n",
            "Epoch 18, lr 0.002\n"
          ],
          "name": "stdout"
        },
        {
          "output_type": "stream",
          "text": [
            "50it [01:06,  1.34s/it]"
          ],
          "name": "stderr"
        },
        {
          "output_type": "stream",
          "text": [
            "Epoch: 20\tAvg-Loss: 0.2265\n"
          ],
          "name": "stdout"
        },
        {
          "output_type": "stream",
          "text": [
            "100it [02:13,  1.33s/it]"
          ],
          "name": "stderr"
        },
        {
          "output_type": "stream",
          "text": [
            "Epoch: 20\tAvg-Loss: 0.2198\n"
          ],
          "name": "stdout"
        },
        {
          "output_type": "stream",
          "text": [
            "150it [03:20,  1.34s/it]"
          ],
          "name": "stderr"
        },
        {
          "output_type": "stream",
          "text": [
            "Epoch: 20\tAvg-Loss: 0.2242\n"
          ],
          "name": "stdout"
        },
        {
          "output_type": "stream",
          "text": [
            "200it [04:27,  1.34s/it]"
          ],
          "name": "stderr"
        },
        {
          "output_type": "stream",
          "text": [
            "Epoch: 20\tAvg-Loss: 0.2264\n"
          ],
          "name": "stdout"
        },
        {
          "output_type": "stream",
          "text": [
            "228it [05:04,  1.33s/it]\n",
            "35it [01:29,  2.54s/it]\n",
            "0it [00:00, ?it/s]"
          ],
          "name": "stderr"
        },
        {
          "output_type": "stream",
          "text": [
            "Epoch: 19, Validation loss: 0.48\n",
            "Epoch: 19, Validation Distance: 9.36\n",
            "Epoch 19, lr 0.002\n"
          ],
          "name": "stdout"
        },
        {
          "output_type": "stream",
          "text": [
            "50it [01:06,  1.34s/it]"
          ],
          "name": "stderr"
        },
        {
          "output_type": "stream",
          "text": [
            "Epoch: 21\tAvg-Loss: 0.2123\n"
          ],
          "name": "stdout"
        },
        {
          "output_type": "stream",
          "text": [
            "100it [02:14,  1.43s/it]"
          ],
          "name": "stderr"
        },
        {
          "output_type": "stream",
          "text": [
            "Epoch: 21\tAvg-Loss: 0.2099\n"
          ],
          "name": "stdout"
        },
        {
          "output_type": "stream",
          "text": [
            "150it [03:21,  1.35s/it]"
          ],
          "name": "stderr"
        },
        {
          "output_type": "stream",
          "text": [
            "Epoch: 21\tAvg-Loss: 0.2205\n"
          ],
          "name": "stdout"
        },
        {
          "output_type": "stream",
          "text": [
            "200it [04:27,  1.35s/it]"
          ],
          "name": "stderr"
        },
        {
          "output_type": "stream",
          "text": [
            "Epoch: 21\tAvg-Loss: 0.2192\n"
          ],
          "name": "stdout"
        },
        {
          "output_type": "stream",
          "text": [
            "228it [05:04,  1.34s/it]\n",
            "35it [01:28,  2.54s/it]\n",
            "0it [00:00, ?it/s]"
          ],
          "name": "stderr"
        },
        {
          "output_type": "stream",
          "text": [
            "Epoch: 20, Validation loss: 0.47\n",
            "Epoch: 20, Validation Distance: 9.03\n",
            "Epoch 20, lr 0.002\n",
            "val Dist 9.02590909090909\n"
          ],
          "name": "stdout"
        },
        {
          "output_type": "stream",
          "text": [
            "50it [01:06,  1.33s/it]"
          ],
          "name": "stderr"
        },
        {
          "output_type": "stream",
          "text": [
            "Epoch: 22\tAvg-Loss: 0.2031\n"
          ],
          "name": "stdout"
        },
        {
          "output_type": "stream",
          "text": [
            "100it [02:12,  1.33s/it]"
          ],
          "name": "stderr"
        },
        {
          "output_type": "stream",
          "text": [
            "Epoch: 22\tAvg-Loss: 0.2087\n"
          ],
          "name": "stdout"
        },
        {
          "output_type": "stream",
          "text": [
            "150it [03:19,  1.33s/it]"
          ],
          "name": "stderr"
        },
        {
          "output_type": "stream",
          "text": [
            "Epoch: 22\tAvg-Loss: 0.2142\n"
          ],
          "name": "stdout"
        },
        {
          "output_type": "stream",
          "text": [
            "200it [04:25,  1.33s/it]"
          ],
          "name": "stderr"
        },
        {
          "output_type": "stream",
          "text": [
            "Epoch: 22\tAvg-Loss: 0.2161\n"
          ],
          "name": "stdout"
        },
        {
          "output_type": "stream",
          "text": [
            "228it [05:02,  1.33s/it]\n",
            "35it [01:28,  2.53s/it]\n",
            "0it [00:00, ?it/s]"
          ],
          "name": "stderr"
        },
        {
          "output_type": "stream",
          "text": [
            "Epoch: 21, Validation loss: 0.50\n",
            "Epoch: 21, Validation Distance: 9.38\n",
            "Epoch 21, lr 0.002\n"
          ],
          "name": "stdout"
        },
        {
          "output_type": "stream",
          "text": [
            "50it [01:06,  1.32s/it]"
          ],
          "name": "stderr"
        },
        {
          "output_type": "stream",
          "text": [
            "Epoch: 23\tAvg-Loss: 0.2151\n"
          ],
          "name": "stdout"
        },
        {
          "output_type": "stream",
          "text": [
            "100it [02:13,  1.32s/it]"
          ],
          "name": "stderr"
        },
        {
          "output_type": "stream",
          "text": [
            "Epoch: 23\tAvg-Loss: 0.2063\n"
          ],
          "name": "stdout"
        },
        {
          "output_type": "stream",
          "text": [
            "150it [03:20,  1.34s/it]"
          ],
          "name": "stderr"
        },
        {
          "output_type": "stream",
          "text": [
            "Epoch: 23\tAvg-Loss: 0.2120\n"
          ],
          "name": "stdout"
        },
        {
          "output_type": "stream",
          "text": [
            "200it [04:26,  1.34s/it]"
          ],
          "name": "stderr"
        },
        {
          "output_type": "stream",
          "text": [
            "Epoch: 23\tAvg-Loss: 0.2100\n"
          ],
          "name": "stdout"
        },
        {
          "output_type": "stream",
          "text": [
            "228it [05:03,  1.33s/it]\n",
            "35it [01:29,  2.57s/it]\n",
            "0it [00:00, ?it/s]"
          ],
          "name": "stderr"
        },
        {
          "output_type": "stream",
          "text": [
            "Epoch: 22, Validation loss: 0.48\n",
            "Epoch: 22, Validation Distance: 9.08\n",
            "Epoch 22, lr 0.002\n"
          ],
          "name": "stdout"
        },
        {
          "output_type": "stream",
          "text": [
            "50it [01:07,  1.34s/it]"
          ],
          "name": "stderr"
        },
        {
          "output_type": "stream",
          "text": [
            "Epoch: 24\tAvg-Loss: 0.1949\n"
          ],
          "name": "stdout"
        },
        {
          "output_type": "stream",
          "text": [
            "100it [02:13,  1.35s/it]"
          ],
          "name": "stderr"
        },
        {
          "output_type": "stream",
          "text": [
            "Epoch: 24\tAvg-Loss: 0.1930\n"
          ],
          "name": "stdout"
        },
        {
          "output_type": "stream",
          "text": [
            "150it [03:20,  1.33s/it]"
          ],
          "name": "stderr"
        },
        {
          "output_type": "stream",
          "text": [
            "Epoch: 24\tAvg-Loss: 0.1948\n"
          ],
          "name": "stdout"
        },
        {
          "output_type": "stream",
          "text": [
            "200it [04:27,  1.33s/it]"
          ],
          "name": "stderr"
        },
        {
          "output_type": "stream",
          "text": [
            "Epoch: 24\tAvg-Loss: 0.2088\n"
          ],
          "name": "stdout"
        },
        {
          "output_type": "stream",
          "text": [
            "228it [05:03,  1.33s/it]\n",
            "35it [01:29,  2.55s/it]\n",
            "0it [00:00, ?it/s]"
          ],
          "name": "stderr"
        },
        {
          "output_type": "stream",
          "text": [
            "Epoch: 23, Validation loss: 0.48\n",
            "Epoch: 23, Validation Distance: 9.13\n",
            "Epoch 23, lr 0.001\n"
          ],
          "name": "stdout"
        },
        {
          "output_type": "stream",
          "text": [
            "50it [01:06,  1.33s/it]"
          ],
          "name": "stderr"
        },
        {
          "output_type": "stream",
          "text": [
            "Epoch: 25\tAvg-Loss: 0.1636\n"
          ],
          "name": "stdout"
        },
        {
          "output_type": "stream",
          "text": [
            "100it [02:13,  1.34s/it]"
          ],
          "name": "stderr"
        },
        {
          "output_type": "stream",
          "text": [
            "Epoch: 25\tAvg-Loss: 0.1449\n"
          ],
          "name": "stdout"
        },
        {
          "output_type": "stream",
          "text": [
            "150it [03:21,  1.35s/it]"
          ],
          "name": "stderr"
        },
        {
          "output_type": "stream",
          "text": [
            "Epoch: 25\tAvg-Loss: 0.1424\n"
          ],
          "name": "stdout"
        },
        {
          "output_type": "stream",
          "text": [
            "200it [04:28,  1.32s/it]"
          ],
          "name": "stderr"
        },
        {
          "output_type": "stream",
          "text": [
            "Epoch: 25\tAvg-Loss: 0.1409\n"
          ],
          "name": "stdout"
        },
        {
          "output_type": "stream",
          "text": [
            "228it [05:05,  1.34s/it]\n",
            "35it [01:29,  2.54s/it]\n",
            "0it [00:00, ?it/s]"
          ],
          "name": "stderr"
        },
        {
          "output_type": "stream",
          "text": [
            "Epoch: 24, Validation loss: 0.45\n",
            "Epoch: 24, Validation Distance: 8.10\n",
            "Epoch 24, lr 0.001\n",
            "val Dist 8.102272727272727\n"
          ],
          "name": "stdout"
        },
        {
          "output_type": "stream",
          "text": [
            "50it [01:06,  1.35s/it]"
          ],
          "name": "stderr"
        },
        {
          "output_type": "stream",
          "text": [
            "Epoch: 26\tAvg-Loss: 0.1205\n"
          ],
          "name": "stdout"
        },
        {
          "output_type": "stream",
          "text": [
            "100it [02:13,  1.31s/it]"
          ],
          "name": "stderr"
        },
        {
          "output_type": "stream",
          "text": [
            "Epoch: 26\tAvg-Loss: 0.1247\n"
          ],
          "name": "stdout"
        },
        {
          "output_type": "stream",
          "text": [
            "150it [03:20,  1.34s/it]"
          ],
          "name": "stderr"
        },
        {
          "output_type": "stream",
          "text": [
            "Epoch: 26\tAvg-Loss: 0.1257\n"
          ],
          "name": "stdout"
        },
        {
          "output_type": "stream",
          "text": [
            "200it [04:27,  1.38s/it]"
          ],
          "name": "stderr"
        },
        {
          "output_type": "stream",
          "text": [
            "Epoch: 26\tAvg-Loss: 0.1294\n"
          ],
          "name": "stdout"
        },
        {
          "output_type": "stream",
          "text": [
            "228it [05:03,  1.33s/it]\n",
            "35it [01:30,  2.58s/it]\n",
            "0it [00:00, ?it/s]"
          ],
          "name": "stderr"
        },
        {
          "output_type": "stream",
          "text": [
            "Epoch: 25, Validation loss: 0.45\n",
            "Epoch: 25, Validation Distance: 8.06\n",
            "Epoch 25, lr 0.001\n",
            "val Dist 8.062727272727273\n"
          ],
          "name": "stdout"
        },
        {
          "output_type": "stream",
          "text": [
            "50it [01:07,  1.34s/it]"
          ],
          "name": "stderr"
        },
        {
          "output_type": "stream",
          "text": [
            "Epoch: 27\tAvg-Loss: 0.1079\n"
          ],
          "name": "stdout"
        },
        {
          "output_type": "stream",
          "text": [
            "100it [02:13,  1.34s/it]"
          ],
          "name": "stderr"
        },
        {
          "output_type": "stream",
          "text": [
            "Epoch: 27\tAvg-Loss: 0.1142\n"
          ],
          "name": "stdout"
        },
        {
          "output_type": "stream",
          "text": [
            "150it [03:21,  1.34s/it]"
          ],
          "name": "stderr"
        },
        {
          "output_type": "stream",
          "text": [
            "Epoch: 27\tAvg-Loss: 0.1232\n"
          ],
          "name": "stdout"
        },
        {
          "output_type": "stream",
          "text": [
            "200it [04:28,  1.33s/it]"
          ],
          "name": "stderr"
        },
        {
          "output_type": "stream",
          "text": [
            "Epoch: 27\tAvg-Loss: 0.1231\n"
          ],
          "name": "stdout"
        },
        {
          "output_type": "stream",
          "text": [
            "228it [05:04,  1.34s/it]\n",
            "35it [01:29,  2.56s/it]\n",
            "0it [00:00, ?it/s]"
          ],
          "name": "stderr"
        },
        {
          "output_type": "stream",
          "text": [
            "Epoch: 26, Validation loss: 0.47\n",
            "Epoch: 26, Validation Distance: 8.08\n",
            "Epoch 26, lr 0.001\n"
          ],
          "name": "stdout"
        },
        {
          "output_type": "stream",
          "text": [
            "50it [01:06,  1.33s/it]"
          ],
          "name": "stderr"
        },
        {
          "output_type": "stream",
          "text": [
            "Epoch: 28\tAvg-Loss: 0.1083\n"
          ],
          "name": "stdout"
        },
        {
          "output_type": "stream",
          "text": [
            "100it [02:13,  1.34s/it]"
          ],
          "name": "stderr"
        },
        {
          "output_type": "stream",
          "text": [
            "Epoch: 28\tAvg-Loss: 0.1102\n"
          ],
          "name": "stdout"
        },
        {
          "output_type": "stream",
          "text": [
            "150it [03:20,  1.32s/it]"
          ],
          "name": "stderr"
        },
        {
          "output_type": "stream",
          "text": [
            "Epoch: 28\tAvg-Loss: 0.1121\n"
          ],
          "name": "stdout"
        },
        {
          "output_type": "stream",
          "text": [
            "200it [04:26,  1.34s/it]"
          ],
          "name": "stderr"
        },
        {
          "output_type": "stream",
          "text": [
            "Epoch: 28\tAvg-Loss: 0.1126\n"
          ],
          "name": "stdout"
        },
        {
          "output_type": "stream",
          "text": [
            "228it [05:03,  1.33s/it]\n",
            "35it [01:29,  2.56s/it]\n",
            "0it [00:00, ?it/s]"
          ],
          "name": "stderr"
        },
        {
          "output_type": "stream",
          "text": [
            "Epoch: 27, Validation loss: 0.47\n",
            "Epoch: 27, Validation Distance: 8.19\n",
            "Epoch 27, lr 0.0005\n"
          ],
          "name": "stdout"
        },
        {
          "output_type": "stream",
          "text": [
            "50it [01:06,  1.34s/it]"
          ],
          "name": "stderr"
        },
        {
          "output_type": "stream",
          "text": [
            "Epoch: 29\tAvg-Loss: 0.0934\n"
          ],
          "name": "stdout"
        },
        {
          "output_type": "stream",
          "text": [
            "100it [02:13,  1.32s/it]"
          ],
          "name": "stderr"
        },
        {
          "output_type": "stream",
          "text": [
            "Epoch: 29\tAvg-Loss: 0.0857\n"
          ],
          "name": "stdout"
        },
        {
          "output_type": "stream",
          "text": [
            "150it [03:20,  1.34s/it]"
          ],
          "name": "stderr"
        },
        {
          "output_type": "stream",
          "text": [
            "Epoch: 29\tAvg-Loss: 0.0883\n"
          ],
          "name": "stdout"
        },
        {
          "output_type": "stream",
          "text": [
            "200it [04:27,  1.31s/it]"
          ],
          "name": "stderr"
        },
        {
          "output_type": "stream",
          "text": [
            "Epoch: 29\tAvg-Loss: 0.0872\n"
          ],
          "name": "stdout"
        },
        {
          "output_type": "stream",
          "text": [
            "228it [05:03,  1.33s/it]\n",
            "35it [01:29,  2.56s/it]\n",
            "0it [00:00, ?it/s]"
          ],
          "name": "stderr"
        },
        {
          "output_type": "stream",
          "text": [
            "Epoch: 28, Validation loss: 0.48\n",
            "Epoch: 28, Validation Distance: 7.86\n",
            "Epoch 28, lr 0.0005\n",
            "val Dist 7.863181818181818\n"
          ],
          "name": "stdout"
        },
        {
          "output_type": "stream",
          "text": [
            "50it [01:07,  1.35s/it]"
          ],
          "name": "stderr"
        },
        {
          "output_type": "stream",
          "text": [
            "Epoch: 30\tAvg-Loss: 0.0774\n"
          ],
          "name": "stdout"
        },
        {
          "output_type": "stream",
          "text": [
            "\r51it [01:08,  1.34s/it]"
          ],
          "name": "stderr"
        }
      ]
    },
    {
      "cell_type": "markdown",
      "metadata": {
        "id": "buFA8l5BvAMw"
      },
      "source": [
        "# Test output"
      ]
    },
    {
      "cell_type": "code",
      "metadata": {
        "id": "KId79h7fKEjM",
        "colab": {
          "base_uri": "https://localhost:8080/"
        },
        "outputId": "a687e1f0-afda-471d-f9d4-40ae39958111"
      },
      "source": [
        "network = torch.load('./model_6.pt')\n",
        "\n",
        "decoder = CTCBeamDecoder(['$'] * 42, beam_width=100, log_probs_input=True)\n",
        "\n",
        "\n",
        "output = []\n",
        "network.eval()\n",
        "with torch.no_grad():\n",
        "    for batch_idx, (X,X_lens) in tqdm(enumerate(test_loader),position=0, leave=True):\n",
        "        X,X_lens = X.to(device),X_lens.to(device)\n",
        "        out, out_lens = network(X, X_lens)\n",
        "        out = out.cpu()\n",
        "        out_lens = out_lens.cpu()\n",
        "        test_Y, _, _, test_Y_lens = decoder.decode(out.transpose(0, 1), out_lens)\n",
        "        for i in range(out.size()[1]):\n",
        "            best_seq = test_Y[i, 0, :test_Y_lens[i, 0]]\n",
        "            best_pron = ''.join(phonemes[i] for i in best_seq)\n",
        "            output.append(best_pron)\n",
        "    del X,X_lens,out,out_lens\n",
        "\n",
        "print(output[0:5])"
      ],
      "execution_count": null,
      "outputs": [
        {
          "output_type": "stream",
          "text": [
            "41it [08:19, 12.18s/it]"
          ],
          "name": "stderr"
        },
        {
          "output_type": "stream",
          "text": [
            "['.prelhkoRdiNlIRAnthDhbOindOAtDhfrDrendhvDhHol.AndlukthloNDhvisthvhgaRdhnWok.kaRphtid.WiTklOslISEvhngRAs.hndboRdrdWiTshmRUdAndinmrtoR.htempt.htRhbeRI.', '.DhpwldhpvEprzkhntenstinhWotr.AndDIeR.putinhvylhntAkShntUshplyDhvAkim.leftbyDhkandhnsEShn.hvDhmist.RwzizitselfintUhWrldWen.', '.AndfiRsDwbikhzyvAniS.AndAmsInOmoR.', '.fAdhm.siksfIt.', '.DhveRIbilhtIhvmhlthfhlpaRts.']\n"
          ],
          "name": "stdout"
        },
        {
          "output_type": "stream",
          "text": [
            "\n"
          ],
          "name": "stderr"
        }
      ]
    },
    {
      "cell_type": "code",
      "metadata": {
        "id": "Alvkwvx8uAAY"
      },
      "source": [
        "with open(\"trial.csv\", 'w') as fh:\n",
        "  fh.write('id,label\\n') \n",
        "  for i in range(len(output)):\n",
        "    fh.write(str(i)+ ',' + output[i] + \"\\n\")"
      ],
      "execution_count": null,
      "outputs": []
    },
    {
      "cell_type": "code",
      "metadata": {
        "colab": {
          "base_uri": "https://localhost:8080/"
        },
        "id": "03jLyDHAuxbF",
        "outputId": "c8402fb8-e352-499d-9946-6d475662d306"
      },
      "source": [
        "import json\n",
        "token = {\"username\":\"minxuej\",\"key\":\"fd1bdd010edd811c494aa3c4d32b2bd7\"}\n",
        "with open('/content/gdrive/MyDrive/.kaggle/kaggle.json', 'w') as file:\n",
        "    json.dump(token, file)\n",
        "\n",
        "!cp /content/gdrive/MyDrive/.kaggle/kaggle.json ~/.kaggle/kaggle.json\n",
        "!kaggle config set -n path -v{/content/gdrive/MyDrive}\n",
        "!chmod 600 /root/.kaggle/kaggle.json"
      ],
      "execution_count": null,
      "outputs": [
        {
          "output_type": "stream",
          "text": [
            "- path is now set to: {/content/gdrive/MyDrive}\n"
          ],
          "name": "stdout"
        }
      ]
    },
    {
      "cell_type": "code",
      "metadata": {
        "colab": {
          "base_uri": "https://localhost:8080/"
        },
        "id": "IGgzBNf1uktC",
        "outputId": "6de09b7d-f336-4f7e-bbcd-9da0b8feafa6"
      },
      "source": [
        "# Use Kaggle API to submit your result\n",
        "!kaggle competitions submit -c 11785-spring2021-hw3p2 -f trial.csv -m \"earl\""
      ],
      "execution_count": null,
      "outputs": [
        {
          "output_type": "stream",
          "text": [
            "Warning: Looks like you're using an outdated API Version, please consider updating (server 1.5.12 / client 1.5.4)\n",
            "100% 204k/204k [00:05<00:00, 37.7kB/s]\n",
            "Successfully submitted to 11785 Homework 3 Part 2: Seq to Seq"
          ],
          "name": "stdout"
        }
      ]
    },
    {
      "cell_type": "code",
      "metadata": {
        "id": "DgezPKH_v8cZ"
      },
      "source": [
        ""
      ],
      "execution_count": null,
      "outputs": []
    }
  ]
}