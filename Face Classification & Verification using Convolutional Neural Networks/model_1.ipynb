{
  "nbformat": 4,
  "nbformat_minor": 0,
  "metadata": {
    "accelerator": "GPU",
    "colab": {
      "name": "model_1.ipynb",
      "provenance": [],
      "collapsed_sections": [],
      "machine_shape": "hm"
    },
    "kernelspec": {
      "display_name": "Python 3",
      "name": "python3"
    }
  },
  "cells": [
    {
      "cell_type": "markdown",
      "metadata": {
        "id": "zhSJ85bcBQaJ"
      },
      "source": [
        "# Important *Package*"
      ]
    },
    {
      "cell_type": "markdown",
      "metadata": {
        "id": "G2jO8mY4b1xV"
      },
      "source": [
        ""
      ]
    },
    {
      "cell_type": "code",
      "metadata": {
        "colab": {
          "base_uri": "https://localhost:8080/"
        },
        "id": "2sxw2YtB49rT",
        "outputId": "52da8ea9-221b-42fc-8403-62ad6679da4c"
      },
      "source": [
        "# Import necessary libraries\n",
        "import os\n",
        "import sys\n",
        "import numpy as np\n",
        "import pandas as pd\n",
        "from PIL import Image\n",
        "\n",
        "import torch\n",
        "import torchvision   \n",
        "import torch.nn as nn\n",
        "import torch.nn.functional as F\n",
        "from torch.utils.data import DataLoader, Dataset\n",
        "import torch.optim as optim\n",
        "from sklearn.metrics import accuracy_score\n",
        "import random\n",
        "from torch.utils import data\n",
        "from tqdm import tqdm\n",
        "\n",
        "import matplotlib.pyplot as plt\n",
        "import time\n",
        "\n",
        "# random seed\n",
        "np.random.seed(11785)\n",
        "torch.manual_seed(11785)\n",
        "\n",
        "cuda = torch.cuda.is_available()\n",
        "device = torch.device(\"cuda\" if cuda else \"cpu\")\n",
        "sys.version\n",
        "print(cuda, sys.version)\n"
      ],
      "execution_count": null,
      "outputs": [
        {
          "output_type": "stream",
          "text": [
            "True 3.7.10 (default, Feb 20 2021, 21:17:23) \n",
            "[GCC 7.5.0]\n"
          ],
          "name": "stdout"
        }
      ]
    },
    {
      "cell_type": "code",
      "metadata": {
        "colab": {
          "base_uri": "https://localhost:8080/"
        },
        "id": "J31gi6CG-WOW",
        "outputId": "e8e47678-ad84-4c54-f6d3-07319fe78cdb"
      },
      "source": [
        "# Check if cuda is available\n",
        "cuda = torch.cuda.is_available()\n",
        "num_workers = 8 if cuda else 0\n",
        "print(\"Cuda = \"+str(cuda)+\" with num_workers = \"+str(num_workers))"
      ],
      "execution_count": null,
      "outputs": [
        {
          "output_type": "stream",
          "text": [
            "Cuda = True with num_workers = 8\n"
          ],
          "name": "stdout"
        }
      ]
    },
    {
      "cell_type": "code",
      "metadata": {
        "colab": {
          "base_uri": "https://localhost:8080/"
        },
        "id": "BcSgPxIl5Dk9",
        "outputId": "158f95f9-548a-49e5-b0f5-f2e88c5cb10b"
      },
      "source": [
        "from google.colab import drive\n",
        "import json\n",
        "drive.mount(\"/content/gdrive\", force_remount=True)"
      ],
      "execution_count": null,
      "outputs": [
        {
          "output_type": "stream",
          "text": [
            "Mounted at /content/gdrive\n"
          ],
          "name": "stdout"
        }
      ]
    },
    {
      "cell_type": "code",
      "metadata": {
        "colab": {
          "base_uri": "https://localhost:8080/"
        },
        "id": "M-lAz2l4wVcr",
        "outputId": "55b94b4e-a795-45b0-ff8e-8252a1860872"
      },
      "source": [
        "%cd /content/gdrive/MyDrive\n",
        "%ls"
      ],
      "execution_count": null,
      "outputs": [
        {
          "output_type": "stream",
          "text": [
            "/content/gdrive/MyDrive\n",
            "\u001b[0m\u001b[01;34m'Colab Notebooks'\u001b[0m/          \u001b[01;34mIPF\u001b[0m/\n",
            " \u001b[01;34mcompetitions\u001b[0m/              \u001b[01;34mkaggle\u001b[0m/\n",
            "\u001b[01;34m'Computational Genomics'\u001b[0m/   Recitation0D-Google_Colab_101_S21.gdoc\n",
            "'Getting started.pdf'       Untitled.R\n",
            "'HCS Assignment.gdoc'      'Untitled spreadsheet.gsheet'\n",
            " \u001b[01;34mIDL\u001b[0m/\n"
          ],
          "name": "stdout"
        }
      ]
    },
    {
      "cell_type": "markdown",
      "metadata": {
        "id": "h-OHcZntx-MW"
      },
      "source": [
        "# Torchvision"
      ]
    },
    {
      "cell_type": "code",
      "metadata": {
        "colab": {
          "base_uri": "https://localhost:8080/"
        },
        "id": "zWwRls2aLYGu",
        "outputId": "03590be6-c886-4938-ac94-00a82ba78d2d"
      },
      "source": [
        "# unzip\n",
        "%cd /content/gdrive/My Drive/competitions/HW2P2-classification\n",
        "%cp /content/gdrive/My\\ Drive/competitions/HW2P2-classification/11785-spring2021-hw2p2s1-face-classification.zip  /content\n",
        "%cd  /content\n",
        "%ls\n",
        "!unzip \\*.zip"
      ],
      "execution_count": null,
      "outputs": [
        {
          "output_type": "stream",
          "text": [
            "\u001b[1;30;43mStreaming output truncated to the last 5000 lines.\u001b[0m\n",
            "  inflating: val_data/2348/0001_01.jpg  \n",
            "  inflating: val_data/2348/0046_01.jpg  \n",
            "  inflating: val_data/2349/0082_01.jpg  \n",
            "  inflating: val_data/2349/0312_02.jpg  \n",
            "  inflating: val_data/235/0008_02.jpg  \n",
            "  inflating: val_data/235/0140_03.jpg  \n",
            "  inflating: val_data/2350/0106_01.jpg  \n",
            "  inflating: val_data/2350/0339_01.jpg  \n",
            "  inflating: val_data/2351/0006_01.jpg  \n",
            "  inflating: val_data/2351/0150_01.jpg  \n",
            "  inflating: val_data/2352/0193_01.jpg  \n",
            "  inflating: val_data/2352/0311_01.jpg  \n",
            "  inflating: val_data/2353/0229_01.jpg  \n",
            "  inflating: val_data/2353/0297_02.jpg  \n",
            "  inflating: val_data/2354/0140_01.jpg  \n",
            "  inflating: val_data/2354/0444_01.jpg  \n",
            "  inflating: val_data/2355/0112_02.jpg  \n",
            "  inflating: val_data/2355/0385_01.jpg  \n",
            "  inflating: val_data/2356/0097_01.jpg  \n",
            "  inflating: val_data/2356/0263_01.jpg  \n",
            "  inflating: val_data/2357/0040_01.jpg  \n",
            "  inflating: val_data/2357/0158_03.jpg  \n",
            "  inflating: val_data/2358/0184_01.jpg  \n",
            "  inflating: val_data/2358/0190_01.jpg  \n",
            "  inflating: val_data/2359/0193_01.jpg  \n",
            "  inflating: val_data/2359/0333_03.jpg  \n",
            "  inflating: val_data/236/0239_01.jpg  \n",
            "  inflating: val_data/236/0360_01.jpg  \n",
            "  inflating: val_data/2360/0270_01.jpg  \n",
            "  inflating: val_data/2360/0326_01.jpg  \n",
            "  inflating: val_data/2361/0229_01.jpg  \n",
            "  inflating: val_data/2361/0561_01.jpg  \n",
            "  inflating: val_data/2362/0087_03.jpg  \n",
            "  inflating: val_data/2362/0250_11.jpg  \n",
            "  inflating: val_data/2363/0101_01.jpg  \n",
            "  inflating: val_data/2363/0641_01.jpg  \n",
            "  inflating: val_data/2364/0168_01.jpg  \n",
            "  inflating: val_data/2364/0271_02.jpg  \n",
            "  inflating: val_data/2365/0136_01.jpg  \n",
            "  inflating: val_data/2365/0281_01.jpg  \n",
            "  inflating: val_data/2366/0040_01.jpg  \n",
            "  inflating: val_data/2366/0177_02.jpg  \n",
            "  inflating: val_data/2367/0018_01.jpg  \n",
            "  inflating: val_data/2367/0221_01.jpg  \n",
            "  inflating: val_data/2368/0042_01.jpg  \n",
            "  inflating: val_data/2368/0261_01.jpg  \n",
            "  inflating: val_data/2369/0166_01.jpg  \n",
            "  inflating: val_data/2369/0309_01.jpg  \n",
            "  inflating: val_data/237/0352_01.jpg  \n",
            "  inflating: val_data/237/0415_01.jpg  \n",
            "  inflating: val_data/2370/0015_01.jpg  \n",
            "  inflating: val_data/2370/0102_01.jpg  \n",
            "  inflating: val_data/2371/0150_01.jpg  \n",
            "  inflating: val_data/2371/0288_01.jpg  \n",
            "  inflating: val_data/2372/0027_01.jpg  \n",
            "  inflating: val_data/2372/0085_01.jpg  \n",
            "  inflating: val_data/2373/0089_01.jpg  \n",
            "  inflating: val_data/2373/0171_06.jpg  \n",
            "  inflating: val_data/2374/0161_03.jpg  \n",
            "  inflating: val_data/2374/0166_02.jpg  \n",
            "  inflating: val_data/2375/0185_01.jpg  \n",
            "  inflating: val_data/2375/0288_01.jpg  \n",
            "  inflating: val_data/2376/0118_01.jpg  \n",
            "  inflating: val_data/2376/0186_01.jpg  \n",
            "  inflating: val_data/2377/0073_01.jpg  \n",
            "  inflating: val_data/2377/0208_01.jpg  \n",
            "  inflating: val_data/2378/0050_01.jpg  \n",
            "  inflating: val_data/2378/0350_01.jpg  \n",
            "  inflating: val_data/2379/0122_01.jpg  \n",
            "  inflating: val_data/2379/0496_01.jpg  \n",
            "  inflating: val_data/238/0008_01.jpg  \n",
            "  inflating: val_data/238/0392_01.jpg  \n",
            "  inflating: val_data/2380/0173_01.jpg  \n",
            "  inflating: val_data/2380/0239_02.jpg  \n",
            "  inflating: val_data/2381/0003_02.jpg  \n",
            "  inflating: val_data/2381/0086_01.jpg  \n",
            "  inflating: val_data/2382/0353_02.jpg  \n",
            "  inflating: val_data/2382/0373_01.jpg  \n",
            "  inflating: val_data/2383/0154_01.jpg  \n",
            "  inflating: val_data/2383/0231_04.jpg  \n",
            "  inflating: val_data/2384/0124_01.jpg  \n",
            "  inflating: val_data/2384/0331_01.jpg  \n",
            "  inflating: val_data/2385/0257_01.jpg  \n",
            "  inflating: val_data/2385/0265_01.jpg  \n",
            "  inflating: val_data/2386/0025_01.jpg  \n",
            "  inflating: val_data/2386/0142_01.jpg  \n",
            "  inflating: val_data/2387/0120_02.jpg  \n",
            "  inflating: val_data/2387/0510_01.jpg  \n",
            "  inflating: val_data/2388/0049_01.jpg  \n",
            "  inflating: val_data/2388/0142_01.jpg  \n",
            "  inflating: val_data/2389/0141_01.jpg  \n",
            "  inflating: val_data/2389/0284_02.jpg  \n",
            "  inflating: val_data/239/0182_02.jpg  \n",
            "  inflating: val_data/239/0483_01.jpg  \n",
            "  inflating: val_data/2390/0294_02.jpg  \n",
            "  inflating: val_data/2390/0400_02.jpg  \n",
            "  inflating: val_data/2391/0219_01.jpg  \n",
            "  inflating: val_data/2391/0374_01.jpg  \n",
            "  inflating: val_data/2392/0185_02.jpg  \n",
            "  inflating: val_data/2392/0353_01.jpg  \n",
            "  inflating: val_data/2393/0074_01.jpg  \n",
            "  inflating: val_data/2393/0233_02.jpg  \n",
            "  inflating: val_data/2394/0053_01.jpg  \n",
            "  inflating: val_data/2394/0056_01.jpg  \n",
            "  inflating: val_data/2395/0016_01.jpg  \n",
            "  inflating: val_data/2395/0127_01.jpg  \n",
            "  inflating: val_data/2396/0158_01.jpg  \n",
            "  inflating: val_data/2396/0377_01.jpg  \n",
            "  inflating: val_data/2397/0016_01.jpg  \n",
            "  inflating: val_data/2397/0252_03.jpg  \n",
            "  inflating: val_data/2398/0281_01.jpg  \n",
            "  inflating: val_data/2398/0372_01.jpg  \n",
            "  inflating: val_data/2399/0023_02.jpg  \n",
            "  inflating: val_data/2399/0082_01.jpg  \n",
            "  inflating: val_data/24/0164_01.jpg  \n",
            "  inflating: val_data/24/0394_01.jpg  \n",
            "  inflating: val_data/240/0097_01.jpg  \n",
            "  inflating: val_data/240/0103_01.jpg  \n",
            "  inflating: val_data/2400/0135_01.jpg  \n",
            "  inflating: val_data/2400/0145_02.jpg  \n",
            "  inflating: val_data/2401/0326_01.jpg  \n",
            "  inflating: val_data/2401/0361_01.jpg  \n",
            "  inflating: val_data/2402/0053_01.jpg  \n",
            "  inflating: val_data/2402/0185_01.jpg  \n",
            "  inflating: val_data/2403/0046_01.jpg  \n",
            "  inflating: val_data/2403/0372_01.jpg  \n",
            "  inflating: val_data/2404/0046_01.jpg  \n",
            "  inflating: val_data/2404/0189_02.jpg  \n",
            "  inflating: val_data/2405/0303_01.jpg  \n",
            "  inflating: val_data/2405/0421_01.jpg  \n",
            "  inflating: val_data/2406/0118_01.jpg  \n",
            "  inflating: val_data/2406/0128_01.jpg  \n",
            "  inflating: val_data/2407/0079_01.jpg  \n",
            "  inflating: val_data/2407/0261_03.jpg  \n",
            "  inflating: val_data/2408/0138_02.jpg  \n",
            "  inflating: val_data/2408/0542_01.jpg  \n",
            "  inflating: val_data/2409/0210_01.jpg  \n",
            "  inflating: val_data/2409/0325_01.jpg  \n",
            "  inflating: val_data/241/0119_01.jpg  \n",
            "  inflating: val_data/241/0155_01.jpg  \n",
            "  inflating: val_data/2410/0118_01.jpg  \n",
            "  inflating: val_data/2410/0136_01.jpg  \n",
            "  inflating: val_data/2411/0156_01.jpg  \n",
            "  inflating: val_data/2411/0512_01.jpg  \n",
            "  inflating: val_data/2412/0085_02.jpg  \n",
            "  inflating: val_data/2412/0097_01.jpg  \n",
            "  inflating: val_data/2413/0089_03.jpg  \n",
            "  inflating: val_data/2413/0142_01.jpg  \n",
            "  inflating: val_data/2414/0306_01.jpg  \n",
            "  inflating: val_data/2414/0470_01.jpg  \n",
            "  inflating: val_data/2415/0046_01.jpg  \n",
            "  inflating: val_data/2415/0682_03.jpg  \n",
            "  inflating: val_data/2416/0048_01.jpg  \n",
            "  inflating: val_data/2416/0152_01.jpg  \n",
            "  inflating: val_data/2417/0317_01.jpg  \n",
            "  inflating: val_data/2417/0396_01.jpg  \n",
            "  inflating: val_data/2418/0032_01.jpg  \n",
            "  inflating: val_data/2418/0335_02.jpg  \n",
            "  inflating: val_data/2419/0006_01.jpg  \n",
            "  inflating: val_data/2419/0203_01.jpg  \n",
            "  inflating: val_data/242/0014_01.jpg  \n",
            "  inflating: val_data/242/0223_04.jpg  \n",
            "  inflating: val_data/2420/0045_03.jpg  \n",
            "  inflating: val_data/2420/0140_01.jpg  \n",
            "  inflating: val_data/2421/0011_01.jpg  \n",
            "  inflating: val_data/2421/0042_01.jpg  \n",
            "  inflating: val_data/2422/0036_01.jpg  \n",
            "  inflating: val_data/2422/0067_01.jpg  \n",
            "  inflating: val_data/2423/0026_01.jpg  \n",
            "  inflating: val_data/2423/0315_02.jpg  \n",
            "  inflating: val_data/2424/0052_01.jpg  \n",
            "  inflating: val_data/2424/0215_01.jpg  \n",
            "  inflating: val_data/2425/0122_01.jpg  \n",
            "  inflating: val_data/2425/0170_01.jpg  \n",
            "  inflating: val_data/2426/0194_01.jpg  \n",
            "  inflating: val_data/2426/0280_01.jpg  \n",
            "  inflating: val_data/2427/0081_05.jpg  \n",
            "  inflating: val_data/2427/0238_01.jpg  \n",
            "  inflating: val_data/2428/0195_01.jpg  \n",
            "  inflating: val_data/2428/0253_01.jpg  \n",
            "  inflating: val_data/2429/0094_01.jpg  \n",
            "  inflating: val_data/2429/0280_01.jpg  \n",
            "  inflating: val_data/243/0323_01.jpg  \n",
            "  inflating: val_data/243/0388_01.jpg  \n",
            "  inflating: val_data/2430/0152_01.jpg  \n",
            "  inflating: val_data/2430/0270_01.jpg  \n",
            "  inflating: val_data/2431/0108_01.jpg  \n",
            "  inflating: val_data/2431/0231_01.jpg  \n",
            "  inflating: val_data/2432/0007_01.jpg  \n",
            "  inflating: val_data/2432/0153_01.jpg  \n",
            "  inflating: val_data/2433/0027_01.jpg  \n",
            "  inflating: val_data/2433/0187_01.jpg  \n",
            "  inflating: val_data/2434/0251_01.jpg  \n",
            "  inflating: val_data/2434/0273_02.jpg  \n",
            "  inflating: val_data/2435/0197_01.jpg  \n",
            "  inflating: val_data/2435/0243_01.jpg  \n",
            "  inflating: val_data/2436/0095_01.jpg  \n",
            "  inflating: val_data/2436/0150_02.jpg  \n",
            "  inflating: val_data/2437/0012_02.jpg  \n",
            "  inflating: val_data/2437/0179_01.jpg  \n",
            "  inflating: val_data/2438/0174_01.jpg  \n",
            "  inflating: val_data/2438/0215_01.jpg  \n",
            "  inflating: val_data/2439/0207_07.jpg  \n",
            "  inflating: val_data/2439/0278_01.jpg  \n",
            "  inflating: val_data/244/0110_01.jpg  \n",
            "  inflating: val_data/244/0133_02.jpg  \n",
            "  inflating: val_data/2440/0007_02.jpg  \n",
            "  inflating: val_data/2440/0048_01.jpg  \n",
            "  inflating: val_data/2441/0180_01.jpg  \n",
            "  inflating: val_data/2441/0187_01.jpg  \n",
            "  inflating: val_data/2442/0123_01.jpg  \n",
            "  inflating: val_data/2442/0354_01.jpg  \n",
            "  inflating: val_data/2443/0446_01.jpg  \n",
            "  inflating: val_data/2443/0544_01.jpg  \n",
            "  inflating: val_data/2444/0067_01.jpg  \n",
            "  inflating: val_data/2444/0100_01.jpg  \n",
            "  inflating: val_data/2445/0078_02.jpg  \n",
            "  inflating: val_data/2445/0245_01.jpg  \n",
            "  inflating: val_data/2446/0031_01.jpg  \n",
            "  inflating: val_data/2446/0173_01.jpg  \n",
            "  inflating: val_data/2447/0074_04.jpg  \n",
            "  inflating: val_data/2447/0551_01.jpg  \n",
            "  inflating: val_data/2448/0122_01.jpg  \n",
            "  inflating: val_data/2448/0420_01.jpg  \n",
            "  inflating: val_data/2449/0088_02.jpg  \n",
            "  inflating: val_data/2449/0275_04.jpg  \n",
            "  inflating: val_data/245/0100_02.jpg  \n",
            "  inflating: val_data/245/0214_01.jpg  \n",
            "  inflating: val_data/2450/0017_01.jpg  \n",
            "  inflating: val_data/2450/0086_01.jpg  \n",
            "  inflating: val_data/2451/0053_02.jpg  \n",
            "  inflating: val_data/2451/0300_02.jpg  \n",
            "  inflating: val_data/2452/0156_02.jpg  \n",
            "  inflating: val_data/2452/0238_03.jpg  \n",
            "  inflating: val_data/2453/0144_01.jpg  \n",
            "  inflating: val_data/2453/0271_02.jpg  \n",
            "  inflating: val_data/2454/0044_01.jpg  \n",
            "  inflating: val_data/2454/0121_01.jpg  \n",
            "  inflating: val_data/2455/0110_02.jpg  \n",
            "  inflating: val_data/2455/0217_01.jpg  \n",
            "  inflating: val_data/2456/0258_02.jpg  \n",
            "  inflating: val_data/2456/0437_01.jpg  \n",
            "  inflating: val_data/2457/0348_01.jpg  \n",
            "  inflating: val_data/2457/0542_05.jpg  \n",
            "  inflating: val_data/2458/0143_01.jpg  \n",
            "  inflating: val_data/2458/0467_01.jpg  \n",
            "  inflating: val_data/2459/0080_01.jpg  \n",
            "  inflating: val_data/2459/0243_01.jpg  \n",
            "  inflating: val_data/246/0081_01.jpg  \n",
            "  inflating: val_data/246/0416_01.jpg  \n",
            "  inflating: val_data/2460/0194_01.jpg  \n",
            "  inflating: val_data/2460/0375_01.jpg  \n",
            "  inflating: val_data/2461/0146_01.jpg  \n",
            "  inflating: val_data/2461/0299_01.jpg  \n",
            "  inflating: val_data/2462/0046_01.jpg  \n",
            "  inflating: val_data/2462/0048_01.jpg  \n",
            "  inflating: val_data/2463/0090_01.jpg  \n",
            "  inflating: val_data/2463/0097_01.jpg  \n",
            "  inflating: val_data/2464/0001_01.jpg  \n",
            "  inflating: val_data/2464/0301_01.jpg  \n",
            "  inflating: val_data/2465/0025_01.jpg  \n",
            "  inflating: val_data/2465/0100_01.jpg  \n",
            "  inflating: val_data/2466/0071_01.jpg  \n",
            "  inflating: val_data/2466/0263_01.jpg  \n",
            "  inflating: val_data/2467/0085_01.jpg  \n",
            "  inflating: val_data/2467/0145_01.jpg  \n",
            "  inflating: val_data/2468/0025_01.jpg  \n",
            "  inflating: val_data/2468/0235_01.jpg  \n",
            "  inflating: val_data/2469/0040_01.jpg  \n",
            "  inflating: val_data/2469/0561_01.jpg  \n",
            "  inflating: val_data/247/0353_01.jpg  \n",
            "  inflating: val_data/247/0369_02.jpg  \n",
            "  inflating: val_data/2470/0012_01.jpg  \n",
            "  inflating: val_data/2470/0018_03.jpg  \n",
            "  inflating: val_data/2471/0093_01.jpg  \n",
            "  inflating: val_data/2471/0241_03.jpg  \n",
            "  inflating: val_data/2472/0044_02.jpg  \n",
            "  inflating: val_data/2472/0265_01.jpg  \n",
            "  inflating: val_data/2473/0137_01.jpg  \n",
            "  inflating: val_data/2473/0466_01.jpg  \n",
            "  inflating: val_data/2474/0110_02.jpg  \n",
            "  inflating: val_data/2474/0621_01.jpg  \n",
            "  inflating: val_data/2475/0116_01.jpg  \n",
            "  inflating: val_data/2475/0234_01.jpg  \n",
            "  inflating: val_data/2476/0077_01.jpg  \n",
            "  inflating: val_data/2476/0160_01.jpg  \n",
            "  inflating: val_data/2477/0178_01.jpg  \n",
            "  inflating: val_data/2477/0251_02.jpg  \n",
            "  inflating: val_data/2478/0208_02.jpg  \n",
            "  inflating: val_data/2478/0252_01.jpg  \n",
            "  inflating: val_data/2479/0254_02.jpg  \n",
            "  inflating: val_data/2479/0371_01.jpg  \n",
            "  inflating: val_data/248/0081_01.jpg  \n",
            "  inflating: val_data/248/0248_03.jpg  \n",
            "  inflating: val_data/2480/0068_02.jpg  \n",
            "  inflating: val_data/2480/0089_02.jpg  \n",
            "  inflating: val_data/2481/0046_01.jpg  \n",
            "  inflating: val_data/2481/0367_02.jpg  \n",
            "  inflating: val_data/2482/0147_02.jpg  \n",
            "  inflating: val_data/2482/0247_01.jpg  \n",
            "  inflating: val_data/2483/0177_01.jpg  \n",
            "  inflating: val_data/2483/0178_01.jpg  \n",
            "  inflating: val_data/2484/0090_01.jpg  \n",
            "  inflating: val_data/2484/0149_01.jpg  \n",
            "  inflating: val_data/2485/0009_01.jpg  \n",
            "  inflating: val_data/2485/0197_01.jpg  \n",
            "  inflating: val_data/2486/0002_02.jpg  \n",
            "  inflating: val_data/2486/0097_01.jpg  \n",
            "  inflating: val_data/2487/0285_01.jpg  \n",
            "  inflating: val_data/2487/0304_01.jpg  \n",
            "  inflating: val_data/2488/0032_02.jpg  \n",
            "  inflating: val_data/2488/0204_01.jpg  \n",
            "  inflating: val_data/2489/0092_01.jpg  \n",
            "  inflating: val_data/2489/0141_01.jpg  \n",
            "  inflating: val_data/249/0135_01.jpg  \n",
            "  inflating: val_data/249/0320_01.jpg  \n",
            "  inflating: val_data/2490/0028_01.jpg  \n",
            "  inflating: val_data/2490/0048_01.jpg  \n",
            "  inflating: val_data/2491/0104_01.jpg  \n",
            "  inflating: val_data/2491/0167_02.jpg  \n",
            "  inflating: val_data/2492/0046_01.jpg  \n",
            "  inflating: val_data/2492/0174_01.jpg  \n",
            "  inflating: val_data/2493/0044_01.jpg  \n",
            "  inflating: val_data/2493/0100_04.jpg  \n",
            "  inflating: val_data/2494/0016_01.jpg  \n",
            "  inflating: val_data/2494/0338_01.jpg  \n",
            "  inflating: val_data/2495/0005_01.jpg  \n",
            "  inflating: val_data/2495/0102_01.jpg  \n",
            "  inflating: val_data/2496/0164_01.jpg  \n",
            "  inflating: val_data/2496/0281_01.jpg  \n",
            "  inflating: val_data/2497/0023_02.jpg  \n",
            "  inflating: val_data/2497/0324_01.jpg  \n",
            "  inflating: val_data/2498/0069_01.jpg  \n",
            "  inflating: val_data/2498/0524_01.jpg  \n",
            "  inflating: val_data/2499/0052_02.jpg  \n",
            "  inflating: val_data/2499/0213_04.jpg  \n",
            "  inflating: val_data/25/0139_01.jpg  \n",
            "  inflating: val_data/25/0319_03.jpg  \n",
            "  inflating: val_data/250/0011_01.jpg  \n",
            "  inflating: val_data/250/0014_01.jpg  \n",
            "  inflating: val_data/2500/0296_02.jpg  \n",
            "  inflating: val_data/2500/0383_01.jpg  \n",
            "  inflating: val_data/2501/0049_02.jpg  \n",
            "  inflating: val_data/2501/0182_02.jpg  \n",
            "  inflating: val_data/2502/0009_03.jpg  \n",
            "  inflating: val_data/2502/0326_01.jpg  \n",
            "  inflating: val_data/2503/0011_01.jpg  \n",
            "  inflating: val_data/2503/0351_03.jpg  \n",
            "  inflating: val_data/2504/0033_02.jpg  \n",
            "  inflating: val_data/2504/0077_01.jpg  \n",
            "  inflating: val_data/2505/0150_01.jpg  \n",
            "  inflating: val_data/2505/0191_01.jpg  \n",
            "  inflating: val_data/2506/0211_01.jpg  \n",
            "  inflating: val_data/2506/0371_02.jpg  \n",
            "  inflating: val_data/2507/0382_01.jpg  \n",
            "  inflating: val_data/2507/0431_01.jpg  \n",
            "  inflating: val_data/2508/0066_01.jpg  \n",
            "  inflating: val_data/2508/0130_01.jpg  \n",
            "  inflating: val_data/2509/0120_02.jpg  \n",
            "  inflating: val_data/2509/0341_01.jpg  \n",
            "  inflating: val_data/251/0050_01.jpg  \n",
            "  inflating: val_data/251/0162_01.jpg  \n",
            "  inflating: val_data/2510/0156_03.jpg  \n",
            "  inflating: val_data/2510/0380_01.jpg  \n",
            "  inflating: val_data/2511/0371_02.jpg  \n",
            "  inflating: val_data/2511/0482_01.jpg  \n",
            "  inflating: val_data/2512/0139_01.jpg  \n",
            "  inflating: val_data/2512/0460_01.jpg  \n",
            "  inflating: val_data/2513/0101_01.jpg  \n",
            "  inflating: val_data/2513/0392_03.jpg  \n",
            "  inflating: val_data/2514/0179_01.jpg  \n",
            "  inflating: val_data/2514/0297_01.jpg  \n",
            "  inflating: val_data/2515/0070_01.jpg  \n",
            "  inflating: val_data/2515/0088_01.jpg  \n",
            "  inflating: val_data/2516/0100_01.jpg  \n",
            "  inflating: val_data/2516/0154_01.jpg  \n",
            "  inflating: val_data/2517/0178_01.jpg  \n",
            "  inflating: val_data/2517/0441_01.jpg  \n",
            "  inflating: val_data/2518/0022_01.jpg  \n",
            "  inflating: val_data/2518/0271_01.jpg  \n",
            "  inflating: val_data/2519/0172_01.jpg  \n",
            "  inflating: val_data/2519/0304_02.jpg  \n",
            "  inflating: val_data/252/0048_01.jpg  \n",
            "  inflating: val_data/252/0133_01.jpg  \n",
            "  inflating: val_data/2520/0033_01.jpg  \n",
            "  inflating: val_data/2520/0216_02.jpg  \n",
            "  inflating: val_data/2521/0194_01.jpg  \n",
            "  inflating: val_data/2521/0653_01.jpg  \n",
            "  inflating: val_data/2522/0085_01.jpg  \n",
            "  inflating: val_data/2522/0296_01.jpg  \n",
            "  inflating: val_data/2523/0114_09.jpg  \n",
            "  inflating: val_data/2523/0218_01.jpg  \n",
            "  inflating: val_data/2524/0088_01.jpg  \n",
            "  inflating: val_data/2524/0155_01.jpg  \n",
            "  inflating: val_data/2525/0139_01.jpg  \n",
            "  inflating: val_data/2525/0204_01.jpg  \n",
            "  inflating: val_data/2526/0157_01.jpg  \n",
            "  inflating: val_data/2526/0322_01.jpg  \n",
            "  inflating: val_data/2527/0097_01.jpg  \n",
            "  inflating: val_data/2527/0169_02.jpg  \n",
            "  inflating: val_data/2528/0002_01.jpg  \n",
            "  inflating: val_data/2528/0217_01.jpg  \n",
            "  inflating: val_data/2529/0082_01.jpg  \n",
            "  inflating: val_data/2529/0085_01.jpg  \n",
            "  inflating: val_data/253/0035_01.jpg  \n",
            "  inflating: val_data/253/0290_02.jpg  \n",
            "  inflating: val_data/2530/0209_01.jpg  \n",
            "  inflating: val_data/2530/0284_17.jpg  \n",
            "  inflating: val_data/2531/0178_01.jpg  \n",
            "  inflating: val_data/2531/0333_01.jpg  \n",
            "  inflating: val_data/2532/0097_01.jpg  \n",
            "  inflating: val_data/2532/0458_01.jpg  \n",
            "  inflating: val_data/2533/0005_01.jpg  \n",
            "  inflating: val_data/2533/0071_01.jpg  \n",
            "  inflating: val_data/2534/0132_01.jpg  \n",
            "  inflating: val_data/2534/0334_01.jpg  \n",
            "  inflating: val_data/2535/0206_01.jpg  \n",
            "  inflating: val_data/2535/0279_02.jpg  \n",
            "  inflating: val_data/2536/0053_01.jpg  \n",
            "  inflating: val_data/2536/0403_01.jpg  \n",
            "  inflating: val_data/2537/0090_01.jpg  \n",
            "  inflating: val_data/2537/0262_01.jpg  \n",
            "  inflating: val_data/2538/0006_01.jpg  \n",
            "  inflating: val_data/2538/0010_01.jpg  \n",
            "  inflating: val_data/2539/0010_01.jpg  \n",
            "  inflating: val_data/2539/0171_01.jpg  \n",
            "  inflating: val_data/254/0043_01.jpg  \n",
            "  inflating: val_data/254/0295_01.jpg  \n",
            "  inflating: val_data/2540/0129_02.jpg  \n",
            "  inflating: val_data/2540/0130_01.jpg  \n",
            "  inflating: val_data/2541/0044_01.jpg  \n",
            "  inflating: val_data/2541/0194_01.jpg  \n",
            "  inflating: val_data/2542/0025_02.jpg  \n",
            "  inflating: val_data/2542/0145_01.jpg  \n",
            "  inflating: val_data/2543/0030_01.jpg  \n",
            "  inflating: val_data/2543/0357_01.jpg  \n",
            "  inflating: val_data/2544/0553_04.jpg  \n",
            "  inflating: val_data/2544/0554_01.jpg  \n",
            "  inflating: val_data/2545/0154_04.jpg  \n",
            "  inflating: val_data/2545/0204_01.jpg  \n",
            "  inflating: val_data/2546/0148_01.jpg  \n",
            "  inflating: val_data/2546/0169_01.jpg  \n",
            "  inflating: val_data/2547/0170_01.jpg  \n",
            "  inflating: val_data/2547/0344_01.jpg  \n",
            "  inflating: val_data/2548/0136_02.jpg  \n",
            "  inflating: val_data/2548/0215_03.jpg  \n",
            "  inflating: val_data/2549/0321_01.jpg  \n",
            "  inflating: val_data/2549/0465_01.jpg  \n",
            "  inflating: val_data/255/0229_03.jpg  \n",
            "  inflating: val_data/255/0247_01.jpg  \n",
            "  inflating: val_data/2550/0196_01.jpg  \n",
            "  inflating: val_data/2550/0290_02.jpg  \n",
            "  inflating: val_data/2551/0095_02.jpg  \n",
            "  inflating: val_data/2551/0383_01.jpg  \n",
            "  inflating: val_data/2552/0021_01.jpg  \n",
            "  inflating: val_data/2552/0038_01.jpg  \n",
            "  inflating: val_data/2553/0249_01.jpg  \n",
            "  inflating: val_data/2553/0423_01.jpg  \n",
            "  inflating: val_data/2554/0024_01.jpg  \n",
            "  inflating: val_data/2554/0215_01.jpg  \n",
            "  inflating: val_data/2555/0112_01.jpg  \n",
            "  inflating: val_data/2555/0412_01.jpg  \n",
            "  inflating: val_data/2556/0099_01.jpg  \n",
            "  inflating: val_data/2556/0239_03.jpg  \n",
            "  inflating: val_data/2557/0121_01.jpg  \n",
            "  inflating: val_data/2557/0448_01.jpg  \n",
            "  inflating: val_data/2558/0283_01.jpg  \n",
            "  inflating: val_data/2558/0298_01.jpg  \n",
            "  inflating: val_data/2559/0049_02.jpg  \n",
            "  inflating: val_data/2559/0087_01.jpg  \n",
            "  inflating: val_data/256/0002_01.jpg  \n",
            "  inflating: val_data/256/0351_01.jpg  \n",
            "  inflating: val_data/2560/0016_01.jpg  \n",
            "  inflating: val_data/2560/0185_01.jpg  \n",
            "  inflating: val_data/2561/0282_01.jpg  \n",
            "  inflating: val_data/2561/0289_01.jpg  \n",
            "  inflating: val_data/2562/0358_01.jpg  \n",
            "  inflating: val_data/2562/0440_01.jpg  \n",
            "  inflating: val_data/2563/0042_01.jpg  \n",
            "  inflating: val_data/2563/0286_01.jpg  \n",
            "  inflating: val_data/2564/0150_02.jpg  \n",
            "  inflating: val_data/2564/0217_01.jpg  \n",
            "  inflating: val_data/2565/0307_01.jpg  \n",
            "  inflating: val_data/2565/0458_01.jpg  \n",
            "  inflating: val_data/2566/0077_01.jpg  \n",
            "  inflating: val_data/2566/0086_02.jpg  \n",
            "  inflating: val_data/2567/0236_02.jpg  \n",
            "  inflating: val_data/2567/0495_01.jpg  \n",
            "  inflating: val_data/2568/0029_01.jpg  \n",
            "  inflating: val_data/2568/0128_01.jpg  \n",
            "  inflating: val_data/2569/0189_01.jpg  \n",
            "  inflating: val_data/2569/0246_01.jpg  \n",
            "  inflating: val_data/257/0147_01.jpg  \n",
            "  inflating: val_data/257/0349_01.jpg  \n",
            "  inflating: val_data/2570/0208_01.jpg  \n",
            "  inflating: val_data/2570/0273_01.jpg  \n",
            "  inflating: val_data/2571/0136_01.jpg  \n",
            "  inflating: val_data/2571/0438_01.jpg  \n",
            "  inflating: val_data/2572/0260_02.jpg  \n",
            "  inflating: val_data/2572/0350_01.jpg  \n",
            "  inflating: val_data/2573/0109_01.jpg  \n",
            "  inflating: val_data/2573/0229_01.jpg  \n",
            "  inflating: val_data/2574/0102_01.jpg  \n",
            "  inflating: val_data/2574/0265_01.jpg  \n",
            "  inflating: val_data/2575/0156_03.jpg  \n",
            "  inflating: val_data/2575/0215_01.jpg  \n",
            "  inflating: val_data/2576/0125_01.jpg  \n",
            "  inflating: val_data/2576/0212_01.jpg  \n",
            "  inflating: val_data/2577/0063_02.jpg  \n",
            "  inflating: val_data/2577/0992_04.jpg  \n",
            "  inflating: val_data/2578/0049_01.jpg  \n",
            "  inflating: val_data/2578/0377_01.jpg  \n",
            "  inflating: val_data/2579/0254_03.jpg  \n",
            "  inflating: val_data/2579/0424_01.jpg  \n",
            "  inflating: val_data/258/0022_02.jpg  \n",
            "  inflating: val_data/258/0201_01.jpg  \n",
            "  inflating: val_data/2580/0031_01.jpg  \n",
            "  inflating: val_data/2580/0237_02.jpg  \n",
            "  inflating: val_data/2581/0042_01.jpg  \n",
            "  inflating: val_data/2581/0050_01.jpg  \n",
            "  inflating: val_data/2582/0268_01.jpg  \n",
            "  inflating: val_data/2582/0378_01.jpg  \n",
            "  inflating: val_data/2583/0094_01.jpg  \n",
            "  inflating: val_data/2583/0145_01.jpg  \n",
            "  inflating: val_data/2584/0092_01.jpg  \n",
            "  inflating: val_data/2584/0538_01.jpg  \n",
            "  inflating: val_data/2585/0133_01.jpg  \n",
            "  inflating: val_data/2585/0325_01.jpg  \n",
            "  inflating: val_data/2586/0222_01.jpg  \n",
            "  inflating: val_data/2586/0358_02.jpg  \n",
            "  inflating: val_data/2587/0223_01.jpg  \n",
            "  inflating: val_data/2587/0225_01.jpg  \n",
            "  inflating: val_data/2588/0070_02.jpg  \n",
            "  inflating: val_data/2588/0179_02.jpg  \n",
            "  inflating: val_data/2589/0043_01.jpg  \n",
            "  inflating: val_data/2589/0098_01.jpg  \n",
            "  inflating: val_data/259/0017_02.jpg  \n",
            "  inflating: val_data/259/0491_02.jpg  \n",
            "  inflating: val_data/2590/0036_02.jpg  \n",
            "  inflating: val_data/2590/0206_01.jpg  \n",
            "  inflating: val_data/2591/0113_01.jpg  \n",
            "  inflating: val_data/2591/0210_01.jpg  \n",
            "  inflating: val_data/2592/0168_01.jpg  \n",
            "  inflating: val_data/2592/0241_02.jpg  \n",
            "  inflating: val_data/2593/0224_01.jpg  \n",
            "  inflating: val_data/2593/0465_01.jpg  \n",
            "  inflating: val_data/2594/0049_01.jpg  \n",
            "  inflating: val_data/2594/0331_01.jpg  \n",
            "  inflating: val_data/2595/0031_02.jpg  \n",
            "  inflating: val_data/2595/0110_01.jpg  \n",
            "  inflating: val_data/2596/0223_02.jpg  \n",
            "  inflating: val_data/2596/0301_01.jpg  \n",
            "  inflating: val_data/2597/0212_01.jpg  \n",
            "  inflating: val_data/2597/0386_02.jpg  \n",
            "  inflating: val_data/2598/0007_01.jpg  \n",
            "  inflating: val_data/2598/0150_01.jpg  \n",
            "  inflating: val_data/2599/0194_01.jpg  \n",
            "  inflating: val_data/2599/0356_01.jpg  \n",
            "  inflating: val_data/26/0069_01.jpg  \n",
            "  inflating: val_data/26/0248_01.jpg  \n",
            "  inflating: val_data/260/0152_01.jpg  \n",
            "  inflating: val_data/260/0291_03.jpg  \n",
            "  inflating: val_data/2600/0093_01.jpg  \n",
            "  inflating: val_data/2600/0206_01.jpg  \n",
            "  inflating: val_data/2601/0099_01.jpg  \n",
            "  inflating: val_data/2601/0349_01.jpg  \n",
            "  inflating: val_data/2602/0087_01.jpg  \n",
            "  inflating: val_data/2602/0169_01.jpg  \n",
            "  inflating: val_data/2603/0039_01.jpg  \n",
            "  inflating: val_data/2603/0439_01.jpg  \n",
            "  inflating: val_data/2604/0012_01.jpg  \n",
            "  inflating: val_data/2604/0682_02.jpg  \n",
            "  inflating: val_data/2605/0255_03.jpg  \n",
            "  inflating: val_data/2605/0259_02.jpg  \n",
            "  inflating: val_data/2606/0038_01.jpg  \n",
            "  inflating: val_data/2606/0240_01.jpg  \n",
            "  inflating: val_data/2607/0039_01.jpg  \n",
            "  inflating: val_data/2607/0385_01.jpg  \n",
            "  inflating: val_data/2608/0285_05.jpg  \n",
            "  inflating: val_data/2608/0342_01.jpg  \n",
            "  inflating: val_data/2609/0005_01.jpg  \n",
            "  inflating: val_data/2609/0048_02.jpg  \n",
            "  inflating: val_data/261/0088_02.jpg  \n",
            "  inflating: val_data/261/0098_01.jpg  \n",
            "  inflating: val_data/2610/0283_01.jpg  \n",
            "  inflating: val_data/2610/0332_01.jpg  \n",
            "  inflating: val_data/2611/0117_02.jpg  \n",
            "  inflating: val_data/2611/0345_01.jpg  \n",
            "  inflating: val_data/2612/0052_02.jpg  \n",
            "  inflating: val_data/2612/0094_01.jpg  \n",
            "  inflating: val_data/2613/0108_01.jpg  \n",
            "  inflating: val_data/2613/0310_01.jpg  \n",
            "  inflating: val_data/2614/0204_08.jpg  \n",
            "  inflating: val_data/2614/0352_01.jpg  \n",
            "  inflating: val_data/2615/0026_02.jpg  \n",
            "  inflating: val_data/2615/0728_01.jpg  \n",
            "  inflating: val_data/2616/0023_01.jpg  \n",
            "  inflating: val_data/2616/0089_01.jpg  \n",
            "  inflating: val_data/2617/0050_01.jpg  \n",
            "  inflating: val_data/2617/0065_01.jpg  \n",
            "  inflating: val_data/2618/0067_01.jpg  \n",
            "  inflating: val_data/2618/0141_01.jpg  \n",
            "  inflating: val_data/2619/0221_01.jpg  \n",
            "  inflating: val_data/2619/0397_01.jpg  \n",
            "  inflating: val_data/262/0194_01.jpg  \n",
            "  inflating: val_data/262/0246_01.jpg  \n",
            "  inflating: val_data/2620/0015_01.jpg  \n",
            "  inflating: val_data/2620/0094_01.jpg  \n",
            "  inflating: val_data/2621/0127_01.jpg  \n",
            "  inflating: val_data/2621/0304_01.jpg  \n",
            "  inflating: val_data/2622/0120_01.jpg  \n",
            "  inflating: val_data/2622/0273_02.jpg  \n",
            "  inflating: val_data/2623/0102_01.jpg  \n",
            "  inflating: val_data/2623/0242_01.jpg  \n",
            "  inflating: val_data/2624/0293_05.jpg  \n",
            "  inflating: val_data/2624/0320_01.jpg  \n",
            "  inflating: val_data/2625/0082_02.jpg  \n",
            "  inflating: val_data/2625/0230_02.jpg  \n",
            "  inflating: val_data/2626/0007_01.jpg  \n",
            "  inflating: val_data/2626/0228_01.jpg  \n",
            "  inflating: val_data/2627/0102_01.jpg  \n",
            "  inflating: val_data/2627/0188_01.jpg  \n",
            "  inflating: val_data/2628/0217_02.jpg  \n",
            "  inflating: val_data/2628/0224_01.jpg  \n",
            "  inflating: val_data/2629/0084_01.jpg  \n",
            "  inflating: val_data/2629/0163_01.jpg  \n",
            "  inflating: val_data/263/0146_01.jpg  \n",
            "  inflating: val_data/263/0155_01.jpg  \n",
            "  inflating: val_data/2630/0002_01.jpg  \n",
            "  inflating: val_data/2630/0377_01.jpg  \n",
            "  inflating: val_data/2631/0263_01.jpg  \n",
            "  inflating: val_data/2631/0349_01.jpg  \n",
            "  inflating: val_data/2632/0002_01.jpg  \n",
            "  inflating: val_data/2632/0438_01.jpg  \n",
            "  inflating: val_data/2633/0108_01.jpg  \n",
            "  inflating: val_data/2633/0376_01.jpg  \n",
            "  inflating: val_data/2634/0113_01.jpg  \n",
            "  inflating: val_data/2634/0224_01.jpg  \n",
            "  inflating: val_data/2635/0099_02.jpg  \n",
            "  inflating: val_data/2635/0194_01.jpg  \n",
            "  inflating: val_data/2636/0050_01.jpg  \n",
            "  inflating: val_data/2636/0115_01.jpg  \n",
            "  inflating: val_data/2637/0153_01.jpg  \n",
            "  inflating: val_data/2637/0188_01.jpg  \n",
            "  inflating: val_data/2638/0054_01.jpg  \n",
            "  inflating: val_data/2638/0119_01.jpg  \n",
            "  inflating: val_data/2639/0045_01.jpg  \n",
            "  inflating: val_data/2639/0299_01.jpg  \n",
            "  inflating: val_data/264/0076_01.jpg  \n",
            "  inflating: val_data/264/0366_01.jpg  \n",
            "  inflating: val_data/2640/0080_01.jpg  \n",
            "  inflating: val_data/2640/0245_01.jpg  \n",
            "  inflating: val_data/2641/0109_03.jpg  \n",
            "  inflating: val_data/2641/0164_01.jpg  \n",
            "  inflating: val_data/2642/0279_01.jpg  \n",
            "  inflating: val_data/2642/0474_02.jpg  \n",
            "  inflating: val_data/2643/0326_01.jpg  \n",
            "  inflating: val_data/2643/0401_01.jpg  \n",
            "  inflating: val_data/2644/0275_02.jpg  \n",
            "  inflating: val_data/2644/0404_02.jpg  \n",
            "  inflating: val_data/2645/0003_01.jpg  \n",
            "  inflating: val_data/2645/0200_01.jpg  \n",
            "  inflating: val_data/2646/0354_01.jpg  \n",
            "  inflating: val_data/2646/0380_01.jpg  \n",
            "  inflating: val_data/2647/0017_01.jpg  \n",
            "  inflating: val_data/2647/0089_01.jpg  \n",
            "  inflating: val_data/2648/0127_01.jpg  \n",
            "  inflating: val_data/2648/0264_02.jpg  \n",
            "  inflating: val_data/2649/0042_01.jpg  \n",
            "  inflating: val_data/2649/0099_01.jpg  \n",
            "  inflating: val_data/265/0008_01.jpg  \n",
            "  inflating: val_data/265/0026_01.jpg  \n",
            "  inflating: val_data/2650/0131_02.jpg  \n",
            "  inflating: val_data/2650/0246_02.jpg  \n",
            "  inflating: val_data/2651/0358_01.jpg  \n",
            "  inflating: val_data/2651/0364_02.jpg  \n",
            "  inflating: val_data/2652/0208_01.jpg  \n",
            "  inflating: val_data/2652/0290_01.jpg  \n",
            "  inflating: val_data/2653/0021_02.jpg  \n",
            "  inflating: val_data/2653/0114_01.jpg  \n",
            "  inflating: val_data/2654/0111_01.jpg  \n",
            "  inflating: val_data/2654/0182_01.jpg  \n",
            "  inflating: val_data/2655/0172_01.jpg  \n",
            "  inflating: val_data/2655/0213_01.jpg  \n",
            "  inflating: val_data/2656/0070_01.jpg  \n",
            "  inflating: val_data/2656/0139_01.jpg  \n",
            "  inflating: val_data/2657/0155_01.jpg  \n",
            "  inflating: val_data/2657/0239_01.jpg  \n",
            "  inflating: val_data/2658/0032_01.jpg  \n",
            "  inflating: val_data/2658/0120_01.jpg  \n",
            "  inflating: val_data/2659/0224_01.jpg  \n",
            "  inflating: val_data/2659/0273_01.jpg  \n",
            "  inflating: val_data/266/0238_01.jpg  \n",
            "  inflating: val_data/266/0252_01.jpg  \n",
            "  inflating: val_data/2660/0092_02.jpg  \n",
            "  inflating: val_data/2660/0269_01.jpg  \n",
            "  inflating: val_data/2661/0065_01.jpg  \n",
            "  inflating: val_data/2661/0417_01.jpg  \n",
            "  inflating: val_data/2662/0062_01.jpg  \n",
            "  inflating: val_data/2662/0218_01.jpg  \n",
            "  inflating: val_data/2663/0123_01.jpg  \n",
            "  inflating: val_data/2663/0379_01.jpg  \n",
            "  inflating: val_data/2664/0075_01.jpg  \n",
            "  inflating: val_data/2664/0455_01.jpg  \n",
            "  inflating: val_data/2665/0114_01.jpg  \n",
            "  inflating: val_data/2665/0149_01.jpg  \n",
            "  inflating: val_data/2666/0118_02.jpg  \n",
            "  inflating: val_data/2666/0354_01.jpg  \n",
            "  inflating: val_data/2667/0100_01.jpg  \n",
            "  inflating: val_data/2667/0108_01.jpg  \n",
            "  inflating: val_data/2668/0160_01.jpg  \n",
            "  inflating: val_data/2668/0200_01.jpg  \n",
            "  inflating: val_data/2669/0193_01.jpg  \n",
            "  inflating: val_data/2669/0300_01.jpg  \n",
            "  inflating: val_data/267/0004_03.jpg  \n",
            "  inflating: val_data/267/0019_01.jpg  \n",
            "  inflating: val_data/2670/0073_01.jpg  \n",
            "  inflating: val_data/2670/0111_01.jpg  \n",
            "  inflating: val_data/2671/0280_01.jpg  \n",
            "  inflating: val_data/2671/0328_01.jpg  \n",
            "  inflating: val_data/2672/0025_01.jpg  \n",
            "  inflating: val_data/2672/0239_01.jpg  \n",
            "  inflating: val_data/2673/0073_01.jpg  \n",
            "  inflating: val_data/2673/0394_01.jpg  \n",
            "  inflating: val_data/2674/0113_01.jpg  \n",
            "  inflating: val_data/2674/0454_01.jpg  \n",
            "  inflating: val_data/2675/0118_01.jpg  \n",
            "  inflating: val_data/2675/0261_01.jpg  \n",
            "  inflating: val_data/2676/0126_01.jpg  \n",
            "  inflating: val_data/2676/0209_02.jpg  \n",
            "  inflating: val_data/2677/0146_01.jpg  \n",
            "  inflating: val_data/2677/0173_01.jpg  \n",
            "  inflating: val_data/2678/0142_01.jpg  \n",
            "  inflating: val_data/2678/0413_03.jpg  \n",
            "  inflating: val_data/2679/0186_01.jpg  \n",
            "  inflating: val_data/2679/0220_02.jpg  \n",
            "  inflating: val_data/268/0052_01.jpg  \n",
            "  inflating: val_data/268/0110_01.jpg  \n",
            "  inflating: val_data/2680/0107_01.jpg  \n",
            "  inflating: val_data/2680/0122_01.jpg  \n",
            "  inflating: val_data/2681/0055_02.jpg  \n",
            "  inflating: val_data/2681/0129_01.jpg  \n",
            "  inflating: val_data/2682/0075_01.jpg  \n",
            "  inflating: val_data/2682/0290_01.jpg  \n",
            "  inflating: val_data/2683/0008_02.jpg  \n",
            "  inflating: val_data/2683/0366_01.jpg  \n",
            "  inflating: val_data/2684/0054_01.jpg  \n",
            "  inflating: val_data/2684/0171_01.jpg  \n",
            "  inflating: val_data/2685/0003_01.jpg  \n",
            "  inflating: val_data/2685/0437_02.jpg  \n",
            "  inflating: val_data/2686/0046_01.jpg  \n",
            "  inflating: val_data/2686/0236_06.jpg  \n",
            "  inflating: val_data/2687/0102_01.jpg  \n",
            "  inflating: val_data/2687/0220_01.jpg  \n",
            "  inflating: val_data/2688/0188_01.jpg  \n",
            "  inflating: val_data/2688/0399_01.jpg  \n",
            "  inflating: val_data/2689/0430_01.jpg  \n",
            "  inflating: val_data/2689/0452_01.jpg  \n",
            "  inflating: val_data/269/0057_01.jpg  \n",
            "  inflating: val_data/269/0148_03.jpg  \n",
            "  inflating: val_data/2690/0170_01.jpg  \n",
            "  inflating: val_data/2690/0410_01.jpg  \n",
            "  inflating: val_data/2691/0158_02.jpg  \n",
            "  inflating: val_data/2691/0333_06.jpg  \n",
            "  inflating: val_data/2692/0076_02.jpg  \n",
            "  inflating: val_data/2692/0342_01.jpg  \n",
            "  inflating: val_data/2693/0055_01.jpg  \n",
            "  inflating: val_data/2693/0093_01.jpg  \n",
            "  inflating: val_data/2694/0054_01.jpg  \n",
            "  inflating: val_data/2694/0340_02.jpg  \n",
            "  inflating: val_data/2695/0019_01.jpg  \n",
            "  inflating: val_data/2695/0310_01.jpg  \n",
            "  inflating: val_data/2696/0091_01.jpg  \n",
            "  inflating: val_data/2696/0098_01.jpg  \n",
            "  inflating: val_data/2697/0155_01.jpg  \n",
            "  inflating: val_data/2697/0164_02.jpg  \n",
            "  inflating: val_data/2698/0071_01.jpg  \n",
            "  inflating: val_data/2698/0295_01.jpg  \n",
            "  inflating: val_data/2699/0074_01.jpg  \n",
            "  inflating: val_data/2699/0143_02.jpg  \n",
            "  inflating: val_data/27/0048_03.jpg  \n",
            "  inflating: val_data/27/0208_01.jpg  \n",
            "  inflating: val_data/270/0033_01.jpg  \n",
            "  inflating: val_data/270/0086_02.jpg  \n",
            "  inflating: val_data/2700/0122_05.jpg  \n",
            "  inflating: val_data/2700/0267_01.jpg  \n",
            "  inflating: val_data/2701/0198_01.jpg  \n",
            "  inflating: val_data/2701/0214_02.jpg  \n",
            "  inflating: val_data/2702/0058_02.jpg  \n",
            "  inflating: val_data/2702/0192_01.jpg  \n",
            "  inflating: val_data/2703/0362_01.jpg  \n",
            "  inflating: val_data/2703/0409_01.jpg  \n",
            "  inflating: val_data/2704/0280_01.jpg  \n",
            "  inflating: val_data/2704/0331_01.jpg  \n",
            "  inflating: val_data/2705/0140_01.jpg  \n",
            "  inflating: val_data/2705/0302_01.jpg  \n",
            "  inflating: val_data/2706/0345_01.jpg  \n",
            "  inflating: val_data/2706/0441_01.jpg  \n",
            "  inflating: val_data/2707/0014_01.jpg  \n",
            "  inflating: val_data/2707/0312_01.jpg  \n",
            "  inflating: val_data/2708/0069_01.jpg  \n",
            "  inflating: val_data/2708/0204_01.jpg  \n",
            "  inflating: val_data/2709/0031_01.jpg  \n",
            "  inflating: val_data/2709/0511_01.jpg  \n",
            "  inflating: val_data/271/0079_01.jpg  \n",
            "  inflating: val_data/271/0288_02.jpg  \n",
            "  inflating: val_data/2710/0053_01.jpg  \n",
            "  inflating: val_data/2710/0145_01.jpg  \n",
            "  inflating: val_data/2711/0101_01.jpg  \n",
            "  inflating: val_data/2711/0263_01.jpg  \n",
            "  inflating: val_data/2712/0044_01.jpg  \n",
            "  inflating: val_data/2712/0315_02.jpg  \n",
            "  inflating: val_data/2713/0271_01.jpg  \n",
            "  inflating: val_data/2713/0320_03.jpg  \n",
            "  inflating: val_data/2714/0120_01.jpg  \n",
            "  inflating: val_data/2714/0130_01.jpg  \n",
            "  inflating: val_data/2715/0242_01.jpg  \n",
            "  inflating: val_data/2715/0357_01.jpg  \n",
            "  inflating: val_data/2716/0140_01.jpg  \n",
            "  inflating: val_data/2716/0324_01.jpg  \n",
            "  inflating: val_data/2717/0017_01.jpg  \n",
            "  inflating: val_data/2717/0031_01.jpg  \n",
            "  inflating: val_data/2718/0007_01.jpg  \n",
            "  inflating: val_data/2718/0012_01.jpg  \n",
            "  inflating: val_data/2719/0191_01.jpg  \n",
            "  inflating: val_data/2719/0291_01.jpg  \n",
            "  inflating: val_data/272/0265_01.jpg  \n",
            "  inflating: val_data/272/0387_01.jpg  \n",
            "  inflating: val_data/2720/0054_03.jpg  \n",
            "  inflating: val_data/2720/0268_01.jpg  \n",
            "  inflating: val_data/2721/0132_04.jpg  \n",
            "  inflating: val_data/2721/0357_02.jpg  \n",
            "  inflating: val_data/2722/0014_01.jpg  \n",
            "  inflating: val_data/2722/0035_01.jpg  \n",
            "  inflating: val_data/2723/0104_01.jpg  \n",
            "  inflating: val_data/2723/0237_02.jpg  \n",
            "  inflating: val_data/2724/0578_01.jpg  \n",
            "  inflating: val_data/2724/0593_01.jpg  \n",
            "  inflating: val_data/2725/0160_01.jpg  \n",
            "  inflating: val_data/2725/0207_01.jpg  \n",
            "  inflating: val_data/2726/0192_01.jpg  \n",
            "  inflating: val_data/2726/0413_01.jpg  \n",
            "  inflating: val_data/2727/0148_02.jpg  \n",
            "  inflating: val_data/2727/0426_01.jpg  \n",
            "  inflating: val_data/2728/0181_05.jpg  \n",
            "  inflating: val_data/2728/0231_01.jpg  \n",
            "  inflating: val_data/2729/0072_01.jpg  \n",
            "  inflating: val_data/2729/0397_01.jpg  \n",
            "  inflating: val_data/273/0036_01.jpg  \n",
            "  inflating: val_data/273/0124_03.jpg  \n",
            "  inflating: val_data/2730/0031_02.jpg  \n",
            "  inflating: val_data/2730/0135_02.jpg  \n",
            "  inflating: val_data/2731/0049_01.jpg  \n",
            "  inflating: val_data/2731/0155_05.jpg  \n",
            "  inflating: val_data/2732/0217_01.jpg  \n",
            "  inflating: val_data/2732/0337_01.jpg  \n",
            "  inflating: val_data/2733/0013_01.jpg  \n",
            "  inflating: val_data/2733/0182_01.jpg  \n",
            "  inflating: val_data/2734/0218_01.jpg  \n",
            "  inflating: val_data/2734/0285_02.jpg  \n",
            "  inflating: val_data/2735/0004_01.jpg  \n",
            "  inflating: val_data/2735/0044_01.jpg  \n",
            "  inflating: val_data/2736/0144_01.jpg  \n",
            "  inflating: val_data/2736/0452_02.jpg  \n",
            "  inflating: val_data/2737/0287_02.jpg  \n",
            "  inflating: val_data/2737/0325_01.jpg  \n",
            "  inflating: val_data/2738/0059_01.jpg  \n",
            "  inflating: val_data/2738/0117_01.jpg  \n",
            "  inflating: val_data/2739/0219_01.jpg  \n",
            "  inflating: val_data/2739/0556_02.jpg  \n",
            "  inflating: val_data/274/0071_01.jpg  \n",
            "  inflating: val_data/274/0493_01.jpg  \n",
            "  inflating: val_data/2740/0038_01.jpg  \n",
            "  inflating: val_data/2740/0192_01.jpg  \n",
            "  inflating: val_data/2741/0139_01.jpg  \n",
            "  inflating: val_data/2741/0290_01.jpg  \n",
            "  inflating: val_data/2742/0062_02.jpg  \n",
            "  inflating: val_data/2742/0309_02.jpg  \n",
            "  inflating: val_data/2743/0164_01.jpg  \n",
            "  inflating: val_data/2743/0202_02.jpg  \n",
            "  inflating: val_data/2744/0031_01.jpg  \n",
            "  inflating: val_data/2744/0065_01.jpg  \n",
            "  inflating: val_data/2745/0117_03.jpg  \n",
            "  inflating: val_data/2745/0337_01.jpg  \n",
            "  inflating: val_data/2746/0119_01.jpg  \n",
            "  inflating: val_data/2746/0227_01.jpg  \n",
            "  inflating: val_data/2747/0080_01.jpg  \n",
            "  inflating: val_data/2747/0198_02.jpg  \n",
            "  inflating: val_data/2748/0031_01.jpg  \n",
            "  inflating: val_data/2748/0255_02.jpg  \n",
            "  inflating: val_data/2749/0026_01.jpg  \n",
            "  inflating: val_data/2749/0066_02.jpg  \n",
            "  inflating: val_data/275/0031_01.jpg  \n",
            "  inflating: val_data/275/0397_01.jpg  \n",
            "  inflating: val_data/2750/0514_01.jpg  \n",
            "  inflating: val_data/2750/0617_03.jpg  \n",
            "  inflating: val_data/2751/0016_01.jpg  \n",
            "  inflating: val_data/2751/0256_01.jpg  \n",
            "  inflating: val_data/2752/0137_02.jpg  \n",
            "  inflating: val_data/2752/0314_01.jpg  \n",
            "  inflating: val_data/2753/0051_01.jpg  \n",
            "  inflating: val_data/2753/0263_01.jpg  \n",
            "  inflating: val_data/2754/0091_03.jpg  \n",
            "  inflating: val_data/2754/0212_01.jpg  \n",
            "  inflating: val_data/2755/0044_01.jpg  \n",
            "  inflating: val_data/2755/0225_02.jpg  \n",
            "  inflating: val_data/2756/0090_05.jpg  \n",
            "  inflating: val_data/2756/0090_10.jpg  \n",
            "  inflating: val_data/2757/0086_01.jpg  \n",
            "  inflating: val_data/2757/0412_01.jpg  \n",
            "  inflating: val_data/2758/0027_02.jpg  \n",
            "  inflating: val_data/2758/0082_01.jpg  \n",
            "  inflating: val_data/2759/0196_02.jpg  \n",
            "  inflating: val_data/2759/0232_01.jpg  \n",
            "  inflating: val_data/276/0036_01.jpg  \n",
            "  inflating: val_data/276/0277_01.jpg  \n",
            "  inflating: val_data/2760/0161_01.jpg  \n",
            "  inflating: val_data/2760/0411_02.jpg  \n",
            "  inflating: val_data/2761/0082_02.jpg  \n",
            "  inflating: val_data/2761/0171_01.jpg  \n",
            "  inflating: val_data/2762/0157_01.jpg  \n",
            "  inflating: val_data/2762/0376_02.jpg  \n",
            "  inflating: val_data/2763/0044_01.jpg  \n",
            "  inflating: val_data/2763/0175_01.jpg  \n",
            "  inflating: val_data/2764/0147_02.jpg  \n",
            "  inflating: val_data/2764/0196_01.jpg  \n",
            "  inflating: val_data/2765/0066_01.jpg  \n",
            "  inflating: val_data/2765/0454_01.jpg  \n",
            "  inflating: val_data/2766/0047_01.jpg  \n",
            "  inflating: val_data/2766/0377_01.jpg  \n",
            "  inflating: val_data/2767/0047_01.jpg  \n",
            "  inflating: val_data/2767/0168_01.jpg  \n",
            "  inflating: val_data/2768/0003_01.jpg  \n",
            "  inflating: val_data/2768/0272_01.jpg  \n",
            "  inflating: val_data/2769/0056_01.jpg  \n",
            "  inflating: val_data/2769/0142_01.jpg  \n",
            "  inflating: val_data/277/0033_01.jpg  \n",
            "  inflating: val_data/277/0231_02.jpg  \n",
            "  inflating: val_data/2770/0034_01.jpg  \n",
            "  inflating: val_data/2770/0199_11.jpg  \n",
            "  inflating: val_data/2771/0112_01.jpg  \n",
            "  inflating: val_data/2771/0231_01.jpg  \n",
            "  inflating: val_data/2772/0049_01.jpg  \n",
            "  inflating: val_data/2772/0187_01.jpg  \n",
            "  inflating: val_data/2773/0087_01.jpg  \n",
            "  inflating: val_data/2773/0315_02.jpg  \n",
            "  inflating: val_data/2774/0080_01.jpg  \n",
            "  inflating: val_data/2774/0125_02.jpg  \n",
            "  inflating: val_data/2775/0149_01.jpg  \n",
            "  inflating: val_data/2775/0210_01.jpg  \n",
            "  inflating: val_data/2776/0149_01.jpg  \n",
            "  inflating: val_data/2776/0263_01.jpg  \n",
            "  inflating: val_data/2777/0058_01.jpg  \n",
            "  inflating: val_data/2777/0316_01.jpg  \n",
            "  inflating: val_data/2778/0005_04.jpg  \n",
            "  inflating: val_data/2778/0236_01.jpg  \n",
            "  inflating: val_data/2779/0129_04.jpg  \n",
            "  inflating: val_data/2779/0307_01.jpg  \n",
            "  inflating: val_data/278/0321_01.jpg  \n",
            "  inflating: val_data/278/0466_01.jpg  \n",
            "  inflating: val_data/2780/0007_04.jpg  \n",
            "  inflating: val_data/2780/0312_01.jpg  \n",
            "  inflating: val_data/2781/0052_01.jpg  \n",
            "  inflating: val_data/2781/0234_01.jpg  \n",
            "  inflating: val_data/2782/0015_01.jpg  \n",
            "  inflating: val_data/2782/0509_01.jpg  \n",
            "  inflating: val_data/2783/0072_03.jpg  \n",
            "  inflating: val_data/2783/0088_01.jpg  \n",
            "  inflating: val_data/2784/0050_04.jpg  \n",
            "  inflating: val_data/2784/0423_01.jpg  \n",
            "  inflating: val_data/2785/0026_01.jpg  \n",
            "  inflating: val_data/2785/0044_01.jpg  \n",
            "  inflating: val_data/2786/0053_01.jpg  \n",
            "  inflating: val_data/2786/0314_01.jpg  \n",
            "  inflating: val_data/2787/0058_04.jpg  \n",
            "  inflating: val_data/2787/0500_01.jpg  \n",
            "  inflating: val_data/2788/0265_01.jpg  \n",
            "  inflating: val_data/2788/0285_01.jpg  \n",
            "  inflating: val_data/2789/0006_01.jpg  \n",
            "  inflating: val_data/2789/0506_01.jpg  \n",
            "  inflating: val_data/279/0075_05.jpg  \n",
            "  inflating: val_data/279/0098_01.jpg  \n",
            "  inflating: val_data/2790/0019_01.jpg  \n",
            "  inflating: val_data/2790/0369_02.jpg  \n",
            "  inflating: val_data/2791/0083_01.jpg  \n",
            "  inflating: val_data/2791/0110_01.jpg  \n",
            "  inflating: val_data/2792/0233_01.jpg  \n",
            "  inflating: val_data/2792/0251_01.jpg  \n",
            "  inflating: val_data/2793/0116_01.jpg  \n",
            "  inflating: val_data/2793/0337_02.jpg  \n",
            "  inflating: val_data/2794/0097_02.jpg  \n",
            "  inflating: val_data/2794/0238_02.jpg  \n",
            "  inflating: val_data/2795/0193_02.jpg  \n",
            "  inflating: val_data/2795/0223_01.jpg  \n",
            "  inflating: val_data/2796/0016_02.jpg  \n",
            "  inflating: val_data/2796/0369_02.jpg  \n",
            "  inflating: val_data/2797/0246_01.jpg  \n",
            "  inflating: val_data/2797/0250_01.jpg  \n",
            "  inflating: val_data/2798/0172_01.jpg  \n",
            "  inflating: val_data/2798/0370_01.jpg  \n",
            "  inflating: val_data/2799/0187_01.jpg  \n",
            "  inflating: val_data/2799/0946_01.jpg  \n",
            "  inflating: val_data/28/0202_01.jpg  \n",
            "  inflating: val_data/28/0408_02.jpg  \n",
            "  inflating: val_data/280/0228_01.jpg  \n",
            "  inflating: val_data/280/0582_01.jpg  \n",
            "  inflating: val_data/2800/0056_01.jpg  \n",
            "  inflating: val_data/2800/0400_01.jpg  \n",
            "  inflating: val_data/2801/0024_01.jpg  \n",
            "  inflating: val_data/2801/0226_01.jpg  \n",
            "  inflating: val_data/2802/0071_01.jpg  \n",
            "  inflating: val_data/2802/0252_01.jpg  \n",
            "  inflating: val_data/2803/0216_02.jpg  \n",
            "  inflating: val_data/2803/0263_01.jpg  \n",
            "  inflating: val_data/2804/0081_01.jpg  \n",
            "  inflating: val_data/2804/0380_01.jpg  \n",
            "  inflating: val_data/2805/0061_01.jpg  \n",
            "  inflating: val_data/2805/0448_01.jpg  \n",
            "  inflating: val_data/2806/0168_01.jpg  \n",
            "  inflating: val_data/2806/0297_01.jpg  \n",
            "  inflating: val_data/2807/0077_01.jpg  \n",
            "  inflating: val_data/2807/0099_01.jpg  \n",
            "  inflating: val_data/2808/0124_01.jpg  \n",
            "  inflating: val_data/2808/0389_01.jpg  \n",
            "  inflating: val_data/2809/0275_01.jpg  \n",
            "  inflating: val_data/2809/0301_01.jpg  \n",
            "  inflating: val_data/281/0130_01.jpg  \n",
            "  inflating: val_data/281/0185_01.jpg  \n",
            "  inflating: val_data/2810/0101_01.jpg  \n",
            "  inflating: val_data/2810/0236_01.jpg  \n",
            "  inflating: val_data/2811/0076_01.jpg  \n",
            "  inflating: val_data/2811/0286_01.jpg  \n",
            "  inflating: val_data/2812/0164_01.jpg  \n",
            "  inflating: val_data/2812/0323_01.jpg  \n",
            "  inflating: val_data/2813/0014_01.jpg  \n",
            "  inflating: val_data/2813/0805_04.jpg  \n",
            "  inflating: val_data/2814/0306_02.jpg  \n",
            "  inflating: val_data/2814/0328_01.jpg  \n",
            "  inflating: val_data/2815/0006_01.jpg  \n",
            "  inflating: val_data/2815/0049_01.jpg  \n",
            "  inflating: val_data/2816/0143_02.jpg  \n",
            "  inflating: val_data/2816/0154_02.jpg  \n",
            "  inflating: val_data/2817/0075_01.jpg  \n",
            "  inflating: val_data/2817/0222_01.jpg  \n",
            "  inflating: val_data/2818/0045_01.jpg  \n",
            "  inflating: val_data/2818/0111_01.jpg  \n",
            "  inflating: val_data/2819/0163_01.jpg  \n",
            "  inflating: val_data/2819/0299_02.jpg  \n",
            "  inflating: val_data/282/0317_03.jpg  \n",
            "  inflating: val_data/282/0408_01.jpg  \n",
            "  inflating: val_data/2820/0041_01.jpg  \n",
            "  inflating: val_data/2820/0279_01.jpg  \n",
            "  inflating: val_data/2821/0094_01.jpg  \n",
            "  inflating: val_data/2821/0289_01.jpg  \n",
            "  inflating: val_data/2822/0068_01.jpg  \n",
            "  inflating: val_data/2822/0118_01.jpg  \n",
            "  inflating: val_data/2823/0124_01.jpg  \n",
            "  inflating: val_data/2823/0142_01.jpg  \n",
            "  inflating: val_data/2824/0045_02.jpg  \n",
            "  inflating: val_data/2824/0204_01.jpg  \n",
            "  inflating: val_data/2825/0039_05.jpg  \n",
            "  inflating: val_data/2825/0159_01.jpg  \n",
            "  inflating: val_data/2826/0122_05.jpg  \n",
            "  inflating: val_data/2826/0283_01.jpg  \n",
            "  inflating: val_data/2827/0147_01.jpg  \n",
            "  inflating: val_data/2827/0274_01.jpg  \n",
            "  inflating: val_data/2828/0198_01.jpg  \n",
            "  inflating: val_data/2828/0214_01.jpg  \n",
            "  inflating: val_data/2829/0003_01.jpg  \n",
            "  inflating: val_data/2829/0022_01.jpg  \n",
            "  inflating: val_data/283/0249_01.jpg  \n",
            "  inflating: val_data/283/0396_01.jpg  \n",
            "  inflating: val_data/2830/0199_01.jpg  \n",
            "  inflating: val_data/2830/0218_01.jpg  \n",
            "  inflating: val_data/2831/0303_01.jpg  \n",
            "  inflating: val_data/2831/0474_01.jpg  \n",
            "  inflating: val_data/2832/0225_01.jpg  \n",
            "  inflating: val_data/2832/0244_04.jpg  \n",
            "  inflating: val_data/2833/0015_01.jpg  \n",
            "  inflating: val_data/2833/0166_01.jpg  \n",
            "  inflating: val_data/2834/0053_06.jpg  \n",
            "  inflating: val_data/2834/0251_02.jpg  \n",
            "  inflating: val_data/2835/0061_01.jpg  \n",
            "  inflating: val_data/2835/0408_01.jpg  \n",
            "  inflating: val_data/2836/0120_02.jpg  \n",
            "  inflating: val_data/2836/0159_01.jpg  \n",
            "  inflating: val_data/2837/0213_02.jpg  \n",
            "  inflating: val_data/2837/0327_01.jpg  \n",
            "  inflating: val_data/2838/0077_01.jpg  \n",
            "  inflating: val_data/2838/0172_01.jpg  \n",
            "  inflating: val_data/2839/0130_01.jpg  \n",
            "  inflating: val_data/2839/0215_02.jpg  \n",
            "  inflating: val_data/284/0010_01.jpg  \n",
            "  inflating: val_data/284/0400_01.jpg  \n",
            "  inflating: val_data/2840/0041_01.jpg  \n",
            "  inflating: val_data/2840/0132_03.jpg  \n",
            "  inflating: val_data/2841/0130_01.jpg  \n",
            "  inflating: val_data/2841/0266_01.jpg  \n",
            "  inflating: val_data/2842/0103_01.jpg  \n",
            "  inflating: val_data/2842/0264_01.jpg  \n",
            "  inflating: val_data/2843/0153_01.jpg  \n",
            "  inflating: val_data/2843/0341_01.jpg  \n",
            "  inflating: val_data/2844/0067_02.jpg  \n",
            "  inflating: val_data/2844/0067_04.jpg  \n",
            "  inflating: val_data/2845/0148_02.jpg  \n",
            "  inflating: val_data/2845/0334_01.jpg  \n",
            "  inflating: val_data/2846/0072_02.jpg  \n",
            "  inflating: val_data/2846/0160_01.jpg  \n",
            "  inflating: val_data/2847/0172_01.jpg  \n",
            "  inflating: val_data/2847/0438_02.jpg  \n",
            "  inflating: val_data/2848/0200_01.jpg  \n",
            "  inflating: val_data/2848/1140_01.jpg  \n",
            "  inflating: val_data/2849/0035_01.jpg  \n",
            "  inflating: val_data/2849/0326_01.jpg  \n",
            "  inflating: val_data/285/0008_02.jpg  \n",
            "  inflating: val_data/285/0039_01.jpg  \n",
            "  inflating: val_data/2850/0083_01.jpg  \n",
            "  inflating: val_data/2850/0173_01.jpg  \n",
            "  inflating: val_data/2851/0050_01.jpg  \n",
            "  inflating: val_data/2851/0172_01.jpg  \n",
            "  inflating: val_data/2852/0063_01.jpg  \n",
            "  inflating: val_data/2852/0355_02.jpg  \n",
            "  inflating: val_data/2853/0003_01.jpg  \n",
            "  inflating: val_data/2853/0049_02.jpg  \n",
            "  inflating: val_data/2854/0199_01.jpg  \n",
            "  inflating: val_data/2854/0235_02.jpg  \n",
            "  inflating: val_data/2855/0287_01.jpg  \n",
            "  inflating: val_data/2855/0356_01.jpg  \n",
            "  inflating: val_data/2856/0014_01.jpg  \n",
            "  inflating: val_data/2856/0081_01.jpg  \n",
            "  inflating: val_data/2857/0440_01.jpg  \n",
            "  inflating: val_data/2857/0649_01.jpg  \n",
            "  inflating: val_data/2858/0245_01.jpg  \n",
            "  inflating: val_data/2858/0266_01.jpg  \n",
            "  inflating: val_data/2859/0038_01.jpg  \n",
            "  inflating: val_data/2859/0154_05.jpg  \n",
            "  inflating: val_data/286/0049_01.jpg  \n",
            "  inflating: val_data/286/0156_04.jpg  \n",
            "  inflating: val_data/2860/0156_01.jpg  \n",
            "  inflating: val_data/2860/0183_01.jpg  \n",
            "  inflating: val_data/2861/0041_02.jpg  \n",
            "  inflating: val_data/2861/0217_04.jpg  \n",
            "  inflating: val_data/2862/0221_01.jpg  \n",
            "  inflating: val_data/2862/0390_01.jpg  \n",
            "  inflating: val_data/2863/0184_01.jpg  \n",
            "  inflating: val_data/2863/0344_01.jpg  \n",
            "  inflating: val_data/2864/0140_01.jpg  \n",
            "  inflating: val_data/2864/0207_01.jpg  \n",
            "  inflating: val_data/2865/0125_02.jpg  \n",
            "  inflating: val_data/2865/0250_01.jpg  \n",
            "  inflating: val_data/2866/0120_01.jpg  \n",
            "  inflating: val_data/2866/0765_01.jpg  \n",
            "  inflating: val_data/2867/0038_01.jpg  \n",
            "  inflating: val_data/2867/0206_01.jpg  \n",
            "  inflating: val_data/2868/0016_01.jpg  \n",
            "  inflating: val_data/2868/0319_02.jpg  \n",
            "  inflating: val_data/2869/0105_01.jpg  \n",
            "  inflating: val_data/2869/0203_01.jpg  \n",
            "  inflating: val_data/287/0226_01.jpg  \n",
            "  inflating: val_data/287/0391_03.jpg  \n",
            "  inflating: val_data/2870/0073_02.jpg  \n",
            "  inflating: val_data/2870/0136_01.jpg  \n",
            "  inflating: val_data/2871/0149_01.jpg  \n",
            "  inflating: val_data/2871/0269_01.jpg  \n",
            "  inflating: val_data/2872/0301_01.jpg  \n",
            "  inflating: val_data/2872/0440_01.jpg  \n",
            "  inflating: val_data/2873/0007_01.jpg  \n",
            "  inflating: val_data/2873/0340_01.jpg  \n",
            "  inflating: val_data/2874/0378_01.jpg  \n",
            "  inflating: val_data/2874/0391_02.jpg  \n",
            "  inflating: val_data/2875/0018_01.jpg  \n",
            "  inflating: val_data/2875/0051_01.jpg  \n",
            "  inflating: val_data/2876/0187_01.jpg  \n",
            "  inflating: val_data/2876/0321_01.jpg  \n",
            "  inflating: val_data/2877/0031_01.jpg  \n",
            "  inflating: val_data/2877/0794_01.jpg  \n",
            "  inflating: val_data/2878/0223_01.jpg  \n",
            "  inflating: val_data/2878/0247_01.jpg  \n",
            "  inflating: val_data/2879/0113_02.jpg  \n",
            "  inflating: val_data/2879/0444_01.jpg  \n",
            "  inflating: val_data/288/0258_01.jpg  \n",
            "  inflating: val_data/288/0345_01.jpg  \n",
            "  inflating: val_data/2880/0041_01.jpg  \n",
            "  inflating: val_data/2880/0096_03.jpg  \n",
            "  inflating: val_data/2881/0055_01.jpg  \n",
            "  inflating: val_data/2881/0226_01.jpg  \n",
            "  inflating: val_data/2882/0161_01.jpg  \n",
            "  inflating: val_data/2882/0162_01.jpg  \n",
            "  inflating: val_data/2883/0009_01.jpg  \n",
            "  inflating: val_data/2883/0205_01.jpg  \n",
            "  inflating: val_data/2884/0157_01.jpg  \n",
            "  inflating: val_data/2884/0254_01.jpg  \n",
            "  inflating: val_data/2885/0073_02.jpg  \n",
            "  inflating: val_data/2885/0265_02.jpg  \n",
            "  inflating: val_data/2886/0078_01.jpg  \n",
            "  inflating: val_data/2886/0298_01.jpg  \n",
            "  inflating: val_data/2887/0121_01.jpg  \n",
            "  inflating: val_data/2887/0414_01.jpg  \n",
            "  inflating: val_data/2888/0037_01.jpg  \n",
            "  inflating: val_data/2888/0212_01.jpg  \n",
            "  inflating: val_data/2889/0051_01.jpg  \n",
            "  inflating: val_data/2889/0070_01.jpg  \n",
            "  inflating: val_data/289/0048_01.jpg  \n",
            "  inflating: val_data/289/0247_02.jpg  \n",
            "  inflating: val_data/2890/0290_01.jpg  \n",
            "  inflating: val_data/2890/0391_01.jpg  \n",
            "  inflating: val_data/2891/0078_01.jpg  \n",
            "  inflating: val_data/2891/0449_01.jpg  \n",
            "  inflating: val_data/2892/0140_01.jpg  \n",
            "  inflating: val_data/2892/0339_01.jpg  \n",
            "  inflating: val_data/2893/0261_01.jpg  \n",
            "  inflating: val_data/2893/0268_01.jpg  \n",
            "  inflating: val_data/2894/0028_02.jpg  \n",
            "  inflating: val_data/2894/0161_01.jpg  \n",
            "  inflating: val_data/2895/0019_01.jpg  \n",
            "  inflating: val_data/2895/0233_01.jpg  \n",
            "  inflating: val_data/2896/0774_02.jpg  \n",
            "  inflating: val_data/2896/0779_01.jpg  \n",
            "  inflating: val_data/2897/0068_01.jpg  \n",
            "  inflating: val_data/2897/0102_01.jpg  \n",
            "  inflating: val_data/2898/0051_01.jpg  \n",
            "  inflating: val_data/2898/0272_01.jpg  \n",
            "  inflating: val_data/2899/0064_01.jpg  \n",
            "  inflating: val_data/2899/0105_03.jpg  \n",
            "  inflating: val_data/29/0217_02.jpg  \n",
            "  inflating: val_data/29/0297_01.jpg  \n",
            "  inflating: val_data/290/0024_01.jpg  \n",
            "  inflating: val_data/290/0410_01.jpg  \n",
            "  inflating: val_data/2900/0209_01.jpg  \n",
            "  inflating: val_data/2900/0373_01.jpg  \n",
            "  inflating: val_data/2901/0031_01.jpg  \n",
            "  inflating: val_data/2901/0070_01.jpg  \n",
            "  inflating: val_data/2902/0201_01.jpg  \n",
            "  inflating: val_data/2902/0414_01.jpg  \n",
            "  inflating: val_data/2903/0040_01.jpg  \n",
            "  inflating: val_data/2903/0157_02.jpg  \n",
            "  inflating: val_data/2904/0304_02.jpg  \n",
            "  inflating: val_data/2904/0403_03.jpg  \n",
            "  inflating: val_data/2905/0024_02.jpg  \n",
            "  inflating: val_data/2905/0219_01.jpg  \n",
            "  inflating: val_data/2906/0234_01.jpg  \n",
            "  inflating: val_data/2906/0349_01.jpg  \n",
            "  inflating: val_data/2907/0304_02.jpg  \n",
            "  inflating: val_data/2907/0309_01.jpg  \n",
            "  inflating: val_data/2908/0167_01.jpg  \n",
            "  inflating: val_data/2908/0254_01.jpg  \n",
            "  inflating: val_data/2909/0012_02.jpg  \n",
            "  inflating: val_data/2909/0081_01.jpg  \n",
            "  inflating: val_data/291/0165_01.jpg  \n",
            "  inflating: val_data/291/0573_02.jpg  \n",
            "  inflating: val_data/2910/0214_01.jpg  \n",
            "  inflating: val_data/2910/0273_01.jpg  \n",
            "  inflating: val_data/2911/0023_01.jpg  \n",
            "  inflating: val_data/2911/0045_01.jpg  \n",
            "  inflating: val_data/2912/0190_01.jpg  \n",
            "  inflating: val_data/2912/0216_05.jpg  \n",
            "  inflating: val_data/2913/0150_01.jpg  \n",
            "  inflating: val_data/2913/0240_01.jpg  \n",
            "  inflating: val_data/2914/0237_01.jpg  \n",
            "  inflating: val_data/2914/0357_02.jpg  \n",
            "  inflating: val_data/2915/0103_01.jpg  \n",
            "  inflating: val_data/2915/0199_01.jpg  \n",
            "  inflating: val_data/2916/0005_01.jpg  \n",
            "  inflating: val_data/2916/0088_01.jpg  \n",
            "  inflating: val_data/2917/0199_01.jpg  \n",
            "  inflating: val_data/2917/0256_01.jpg  \n",
            "  inflating: val_data/2918/0046_02.jpg  \n",
            "  inflating: val_data/2918/0177_01.jpg  \n",
            "  inflating: val_data/2919/0006_01.jpg  \n",
            "  inflating: val_data/2919/0192_01.jpg  \n",
            "  inflating: val_data/292/0118_06.jpg  \n",
            "  inflating: val_data/292/0144_01.jpg  \n",
            "  inflating: val_data/2920/0321_05.jpg  \n",
            "  inflating: val_data/2920/0587_01.jpg  \n",
            "  inflating: val_data/2921/0315_01.jpg  \n",
            "  inflating: val_data/2921/0394_01.jpg  \n",
            "  inflating: val_data/2922/0335_01.jpg  \n",
            "  inflating: val_data/2922/0424_01.jpg  \n",
            "  inflating: val_data/2923/0142_03.jpg  \n",
            "  inflating: val_data/2923/0278_02.jpg  \n",
            "  inflating: val_data/2924/0020_01.jpg  \n",
            "  inflating: val_data/2924/0283_01.jpg  \n",
            "  inflating: val_data/2925/0134_01.jpg  \n",
            "  inflating: val_data/2925/0148_01.jpg  \n",
            "  inflating: val_data/2926/0081_02.jpg  \n",
            "  inflating: val_data/2926/0117_01.jpg  \n",
            "  inflating: val_data/2927/0175_02.jpg  \n",
            "  inflating: val_data/2927/0179_01.jpg  \n",
            "  inflating: val_data/2928/0146_01.jpg  \n",
            "  inflating: val_data/2928/0419_02.jpg  \n",
            "  inflating: val_data/2929/0019_01.jpg  \n",
            "  inflating: val_data/2929/0114_01.jpg  \n",
            "  inflating: val_data/293/0116_01.jpg  \n",
            "  inflating: val_data/293/0325_01.jpg  \n",
            "  inflating: val_data/2930/0384_01.jpg  \n",
            "  inflating: val_data/2930/0452_01.jpg  \n",
            "  inflating: val_data/2931/0052_02.jpg  \n",
            "  inflating: val_data/2931/0111_01.jpg  \n",
            "  inflating: val_data/2932/0246_01.jpg  \n",
            "  inflating: val_data/2932/0407_03.jpg  \n",
            "  inflating: val_data/2933/0031_01.jpg  \n",
            "  inflating: val_data/2933/0202_01.jpg  \n",
            "  inflating: val_data/2934/0136_04.jpg  \n",
            "  inflating: val_data/2934/0373_02.jpg  \n",
            "  inflating: val_data/2935/0004_01.jpg  \n",
            "  inflating: val_data/2935/0068_01.jpg  \n",
            "  inflating: val_data/2936/0189_01.jpg  \n",
            "  inflating: val_data/2936/0192_02.jpg  \n",
            "  inflating: val_data/2937/0178_01.jpg  \n",
            "  inflating: val_data/2937/0275_01.jpg  \n",
            "  inflating: val_data/2938/0015_01.jpg  \n",
            "  inflating: val_data/2938/0269_01.jpg  \n",
            "  inflating: val_data/2939/0201_02.jpg  \n",
            "  inflating: val_data/2939/0411_01.jpg  \n",
            "  inflating: val_data/294/0035_02.jpg  \n",
            "  inflating: val_data/294/0046_01.jpg  \n",
            "  inflating: val_data/2940/0111_01.jpg  \n",
            "  inflating: val_data/2940/0398_01.jpg  \n",
            "  inflating: val_data/2941/0018_01.jpg  \n",
            "  inflating: val_data/2941/0052_01.jpg  \n",
            "  inflating: val_data/2942/0106_01.jpg  \n",
            "  inflating: val_data/2942/0229_01.jpg  \n",
            "  inflating: val_data/2943/0266_01.jpg  \n",
            "  inflating: val_data/2943/0413_01.jpg  \n",
            "  inflating: val_data/2944/0038_02.jpg  \n",
            "  inflating: val_data/2944/0110_01.jpg  \n",
            "  inflating: val_data/2945/0099_01.jpg  \n",
            "  inflating: val_data/2945/0134_01.jpg  \n",
            "  inflating: val_data/2946/0074_01.jpg  \n",
            "  inflating: val_data/2946/0175_01.jpg  \n",
            "  inflating: val_data/2947/0077_01.jpg  \n",
            "  inflating: val_data/2947/0377_01.jpg  \n",
            "  inflating: val_data/2948/0073_01.jpg  \n",
            "  inflating: val_data/2948/0119_01.jpg  \n",
            "  inflating: val_data/2949/0049_01.jpg  \n",
            "  inflating: val_data/2949/0110_02.jpg  \n",
            "  inflating: val_data/295/0066_02.jpg  \n",
            "  inflating: val_data/295/0092_01.jpg  \n",
            "  inflating: val_data/2950/0058_02.jpg  \n",
            "  inflating: val_data/2950/0068_02.jpg  \n",
            "  inflating: val_data/2951/0093_05.jpg  \n",
            "  inflating: val_data/2951/0103_01.jpg  \n",
            "  inflating: val_data/2952/0029_01.jpg  \n",
            "  inflating: val_data/2952/0445_03.jpg  \n",
            "  inflating: val_data/2953/0109_02.jpg  \n",
            "  inflating: val_data/2953/0109_03.jpg  \n",
            "  inflating: val_data/2954/0089_07.jpg  \n",
            "  inflating: val_data/2954/0435_02.jpg  \n",
            "  inflating: val_data/2955/0014_01.jpg  \n",
            "  inflating: val_data/2955/0080_01.jpg  \n",
            "  inflating: val_data/2956/0127_01.jpg  \n",
            "  inflating: val_data/2956/0153_03.jpg  \n",
            "  inflating: val_data/2957/0033_03.jpg  \n",
            "  inflating: val_data/2957/0060_02.jpg  \n",
            "  inflating: val_data/2958/0007_01.jpg  \n",
            "  inflating: val_data/2958/0104_03.jpg  \n",
            "  inflating: val_data/2959/0013_01.jpg  \n",
            "  inflating: val_data/2959/0566_01.jpg  \n",
            "  inflating: val_data/296/0024_01.jpg  \n",
            "  inflating: val_data/296/0443_01.jpg  \n",
            "  inflating: val_data/2960/0121_01.jpg  \n",
            "  inflating: val_data/2960/0346_01.jpg  \n",
            "  inflating: val_data/2961/0033_01.jpg  \n",
            "  inflating: val_data/2961/0203_03.jpg  \n",
            "  inflating: val_data/2962/0161_01.jpg  \n",
            "  inflating: val_data/2962/0175_01.jpg  \n",
            "  inflating: val_data/2963/0120_01.jpg  \n",
            "  inflating: val_data/2963/0249_04.jpg  \n",
            "  inflating: val_data/2964/0221_01.jpg  \n",
            "  inflating: val_data/2964/0252_01.jpg  \n",
            "  inflating: val_data/2965/0003_01.jpg  \n",
            "  inflating: val_data/2965/0040_01.jpg  \n",
            "  inflating: val_data/2966/0095_01.jpg  \n",
            "  inflating: val_data/2966/0174_01.jpg  \n",
            "  inflating: val_data/2967/0102_01.jpg  \n",
            "  inflating: val_data/2967/0160_01.jpg  \n",
            "  inflating: val_data/2968/0070_01.jpg  \n",
            "  inflating: val_data/2968/0126_01.jpg  \n",
            "  inflating: val_data/2969/0023_01.jpg  \n",
            "  inflating: val_data/2969/0212_01.jpg  \n",
            "  inflating: val_data/297/0031_01.jpg  \n",
            "  inflating: val_data/297/0252_01.jpg  \n",
            "  inflating: val_data/2970/0220_01.jpg  \n",
            "  inflating: val_data/2970/0300_01.jpg  \n",
            "  inflating: val_data/2971/0112_02.jpg  \n",
            "  inflating: val_data/2971/0115_02.jpg  \n",
            "  inflating: val_data/2972/0097_01.jpg  \n",
            "  inflating: val_data/2972/0357_01.jpg  \n",
            "  inflating: val_data/2973/0050_03.jpg  \n",
            "  inflating: val_data/2973/0153_02.jpg  \n",
            "  inflating: val_data/2974/0336_01.jpg  \n",
            "  inflating: val_data/2974/0362_01.jpg  \n",
            "  inflating: val_data/2975/0015_01.jpg  \n",
            "  inflating: val_data/2975/0288_01.jpg  \n",
            "  inflating: val_data/2976/0237_01.jpg  \n",
            "  inflating: val_data/2976/0355_01.jpg  \n",
            "  inflating: val_data/2977/0006_01.jpg  \n",
            "  inflating: val_data/2977/0194_01.jpg  \n",
            "  inflating: val_data/2978/0009_01.jpg  \n",
            "  inflating: val_data/2978/0115_01.jpg  \n",
            "  inflating: val_data/2979/0172_01.jpg  \n",
            "  inflating: val_data/2979/0331_01.jpg  \n",
            "  inflating: val_data/298/0359_01.jpg  \n",
            "  inflating: val_data/298/0424_01.jpg  \n",
            "  inflating: val_data/2980/0060_03.jpg  \n",
            "  inflating: val_data/2980/0075_01.jpg  \n",
            "  inflating: val_data/2981/0050_01.jpg  \n",
            "  inflating: val_data/2981/0067_01.jpg  \n",
            "  inflating: val_data/2982/0038_01.jpg  \n",
            "  inflating: val_data/2982/0094_02.jpg  \n",
            "  inflating: val_data/2983/0182_01.jpg  \n",
            "  inflating: val_data/2983/0547_01.jpg  \n",
            "  inflating: val_data/2984/0059_03.jpg  \n",
            "  inflating: val_data/2984/0106_01.jpg  \n",
            "  inflating: val_data/2985/0231_01.jpg  \n",
            "  inflating: val_data/2985/0280_01.jpg  \n",
            "  inflating: val_data/2986/0364_01.jpg  \n",
            "  inflating: val_data/2986/0397_01.jpg  \n",
            "  inflating: val_data/2987/0037_01.jpg  \n",
            "  inflating: val_data/2987/0108_01.jpg  \n",
            "  inflating: val_data/2988/0008_01.jpg  \n",
            "  inflating: val_data/2988/0050_01.jpg  \n",
            "  inflating: val_data/2989/0064_01.jpg  \n",
            "  inflating: val_data/2989/0068_01.jpg  \n",
            "  inflating: val_data/299/0134_01.jpg  \n",
            "  inflating: val_data/299/0137_02.jpg  \n",
            "  inflating: val_data/2990/0041_01.jpg  \n",
            "  inflating: val_data/2990/0052_01.jpg  \n",
            "  inflating: val_data/2991/0693_02.jpg  \n",
            "  inflating: val_data/2991/0810_03.jpg  \n",
            "  inflating: val_data/2992/0266_01.jpg  \n",
            "  inflating: val_data/2992/0268_01.jpg  \n",
            "  inflating: val_data/2993/0183_02.jpg  \n",
            "  inflating: val_data/2993/0275_03.jpg  \n",
            "  inflating: val_data/2994/0041_01.jpg  \n",
            "  inflating: val_data/2994/0229_01.jpg  \n",
            "  inflating: val_data/2995/0057_01.jpg  \n",
            "  inflating: val_data/2995/0258_01.jpg  \n",
            "  inflating: val_data/2996/0133_01.jpg  \n",
            "  inflating: val_data/2996/0355_03.jpg  \n",
            "  inflating: val_data/2997/0028_01.jpg  \n",
            "  inflating: val_data/2997/0234_01.jpg  \n",
            "  inflating: val_data/2998/0064_02.jpg  \n",
            "  inflating: val_data/2998/0244_01.jpg  \n",
            "  inflating: val_data/2999/0243_01.jpg  \n",
            "  inflating: val_data/2999/0245_01.jpg  \n",
            "  inflating: val_data/3/0192_01.jpg  \n",
            "  inflating: val_data/3/0216_01.jpg  \n",
            "  inflating: val_data/30/0011_01.jpg  \n",
            "  inflating: val_data/30/0116_01.jpg  \n",
            "  inflating: val_data/300/0037_03.jpg  \n",
            "  inflating: val_data/300/0100_01.jpg  \n",
            "  inflating: val_data/3000/0108_01.jpg  \n",
            "  inflating: val_data/3000/0248_01.jpg  \n",
            "  inflating: val_data/3001/0087_02.jpg  \n",
            "  inflating: val_data/3001/0224_02.jpg  \n",
            "  inflating: val_data/3002/0061_01.jpg  \n",
            "  inflating: val_data/3002/0175_01.jpg  \n",
            "  inflating: val_data/3003/0082_01.jpg  \n",
            "  inflating: val_data/3003/0627_01.jpg  \n",
            "  inflating: val_data/3004/0271_03.jpg  \n",
            "  inflating: val_data/3004/0369_05.jpg  \n",
            "  inflating: val_data/3005/0076_01.jpg  \n",
            "  inflating: val_data/3005/0198_01.jpg  \n",
            "  inflating: val_data/3006/0026_01.jpg  \n",
            "  inflating: val_data/3006/0071_01.jpg  \n",
            "  inflating: val_data/3007/0189_01.jpg  \n",
            "  inflating: val_data/3007/0286_01.jpg  \n",
            "  inflating: val_data/3008/0449_02.jpg  \n",
            "  inflating: val_data/3008/0467_01.jpg  \n",
            "  inflating: val_data/3009/0005_01.jpg  \n",
            "  inflating: val_data/3009/0078_04.jpg  \n",
            "  inflating: val_data/301/0023_02.jpg  \n",
            "  inflating: val_data/301/0036_01.jpg  \n",
            "  inflating: val_data/3010/0066_01.jpg  \n",
            "  inflating: val_data/3010/0117_01.jpg  \n",
            "  inflating: val_data/3011/0016_01.jpg  \n",
            "  inflating: val_data/3011/0071_02.jpg  \n",
            "  inflating: val_data/3012/0263_01.jpg  \n",
            "  inflating: val_data/3012/0299_02.jpg  \n",
            "  inflating: val_data/3013/0251_01.jpg  \n",
            "  inflating: val_data/3013/0319_01.jpg  \n",
            "  inflating: val_data/3014/0197_01.jpg  \n",
            "  inflating: val_data/3014/0302_01.jpg  \n",
            "  inflating: val_data/3015/0069_02.jpg  \n",
            "  inflating: val_data/3015/0146_01.jpg  \n",
            "  inflating: val_data/3016/0037_01.jpg  \n",
            "  inflating: val_data/3016/0148_01.jpg  \n",
            "  inflating: val_data/3017/0264_02.jpg  \n",
            "  inflating: val_data/3017/0362_01.jpg  \n",
            "  inflating: val_data/3018/0125_01.jpg  \n",
            "  inflating: val_data/3018/0492_01.jpg  \n",
            "  inflating: val_data/3019/0030_01.jpg  \n",
            "  inflating: val_data/3019/0111_01.jpg  \n",
            "  inflating: val_data/302/0068_01.jpg  \n",
            "  inflating: val_data/302/0260_02.jpg  \n",
            "  inflating: val_data/3020/0346_03.jpg  \n",
            "  inflating: val_data/3020/0595_01.jpg  \n",
            "  inflating: val_data/3021/0122_01.jpg  \n",
            "  inflating: val_data/3021/0378_03.jpg  \n",
            "  inflating: val_data/3022/0024_01.jpg  \n",
            "  inflating: val_data/3022/0384_02.jpg  \n",
            "  inflating: val_data/3023/0017_01.jpg  \n",
            "  inflating: val_data/3023/0276_02.jpg  \n",
            "  inflating: val_data/3024/0068_01.jpg  \n",
            "  inflating: val_data/3024/0189_01.jpg  \n",
            "  inflating: val_data/3025/0072_01.jpg  \n",
            "  inflating: val_data/3025/0259_02.jpg  \n",
            "  inflating: val_data/3026/0224_01.jpg  \n",
            "  inflating: val_data/3026/0491_01.jpg  \n",
            "  inflating: val_data/3027/0253_02.jpg  \n",
            "  inflating: val_data/3027/0297_01.jpg  \n",
            "  inflating: val_data/3028/0189_01.jpg  \n",
            "  inflating: val_data/3028/0233_02.jpg  \n",
            "  inflating: val_data/3029/0209_01.jpg  \n",
            "  inflating: val_data/3029/0320_01.jpg  \n",
            "  inflating: val_data/303/0243_01.jpg  \n",
            "  inflating: val_data/303/0328_01.jpg  \n",
            "  inflating: val_data/3030/0037_01.jpg  \n",
            "  inflating: val_data/3030/0287_01.jpg  \n",
            "  inflating: val_data/3031/0225_01.jpg  \n",
            "  inflating: val_data/3031/0618_01.jpg  \n",
            "  inflating: val_data/3032/0054_01.jpg  \n",
            "  inflating: val_data/3032/0258_01.jpg  \n",
            "  inflating: val_data/3033/0207_01.jpg  \n",
            "  inflating: val_data/3033/0248_02.jpg  \n",
            "  inflating: val_data/3034/0014_01.jpg  \n",
            "  inflating: val_data/3034/0029_01.jpg  \n",
            "  inflating: val_data/3035/0036_01.jpg  \n",
            "  inflating: val_data/3035/0064_01.jpg  \n",
            "  inflating: val_data/3036/0042_01.jpg  \n",
            "  inflating: val_data/3036/0223_01.jpg  \n",
            "  inflating: val_data/3037/0077_01.jpg  \n",
            "  inflating: val_data/3037/0387_01.jpg  \n",
            "  inflating: val_data/3038/0043_01.jpg  \n",
            "  inflating: val_data/3038/0200_01.jpg  \n",
            "  inflating: val_data/3039/0021_01.jpg  \n",
            "  inflating: val_data/3039/0035_01.jpg  \n",
            "  inflating: val_data/304/0037_01.jpg  \n",
            "  inflating: val_data/304/0051_01.jpg  \n",
            "  inflating: val_data/3040/0137_01.jpg  \n",
            "  inflating: val_data/3040/0283_01.jpg  \n",
            "  inflating: val_data/3041/0060_01.jpg  \n",
            "  inflating: val_data/3041/0196_01.jpg  \n",
            "  inflating: val_data/3042/0046_01.jpg  \n",
            "  inflating: val_data/3042/0101_01.jpg  \n",
            "  inflating: val_data/3043/0193_01.jpg  \n",
            "  inflating: val_data/3043/0316_01.jpg  \n",
            "  inflating: val_data/3044/0153_02.jpg  \n",
            "  inflating: val_data/3044/0217_01.jpg  \n",
            "  inflating: val_data/3045/0198_03.jpg  \n",
            "  inflating: val_data/3045/0287_01.jpg  \n",
            "  inflating: val_data/3046/0123_01.jpg  \n",
            "  inflating: val_data/3046/0278_01.jpg  \n",
            "  inflating: val_data/3047/0114_01.jpg  \n",
            "  inflating: val_data/3047/0273_01.jpg  \n",
            "  inflating: val_data/3048/0054_01.jpg  \n",
            "  inflating: val_data/3048/0072_02.jpg  \n",
            "  inflating: val_data/3049/0211_03.jpg  \n",
            "  inflating: val_data/3049/0294_01.jpg  \n",
            "  inflating: val_data/305/0192_02.jpg  \n",
            "  inflating: val_data/305/0263_01.jpg  \n",
            "  inflating: val_data/3050/0133_02.jpg  \n",
            "  inflating: val_data/3050/0252_01.jpg  \n",
            "  inflating: val_data/3051/0184_03.jpg  \n",
            "  inflating: val_data/3051/0711_03.jpg  \n",
            "  inflating: val_data/3052/0060_10.jpg  \n",
            "  inflating: val_data/3052/0536_07.jpg  \n",
            "  inflating: val_data/3053/0116_01.jpg  \n",
            "  inflating: val_data/3053/0288_01.jpg  \n",
            "  inflating: val_data/3054/0231_01.jpg  \n",
            "  inflating: val_data/3054/0232_01.jpg  \n",
            "  inflating: val_data/3055/0167_01.jpg  \n",
            "  inflating: val_data/3055/0339_01.jpg  \n",
            "  inflating: val_data/3056/0078_01.jpg  \n",
            "  inflating: val_data/3056/0188_01.jpg  \n",
            "  inflating: val_data/3057/0036_01.jpg  \n",
            "  inflating: val_data/3057/0192_01.jpg  \n",
            "  inflating: val_data/3058/0120_01.jpg  \n",
            "  inflating: val_data/3058/0257_01.jpg  \n",
            "  inflating: val_data/3059/0191_05.jpg  \n",
            "  inflating: val_data/3059/0333_01.jpg  \n",
            "  inflating: val_data/306/0296_01.jpg  \n",
            "  inflating: val_data/306/0325_01.jpg  \n",
            "  inflating: val_data/3060/0174_02.jpg  \n",
            "  inflating: val_data/3060/0258_01.jpg  \n",
            "  inflating: val_data/3061/0041_01.jpg  \n",
            "  inflating: val_data/3061/0252_01.jpg  \n",
            "  inflating: val_data/3062/0012_01.jpg  \n",
            "  inflating: val_data/3062/0097_01.jpg  \n",
            "  inflating: val_data/3063/0082_04.jpg  \n",
            "  inflating: val_data/3063/0247_03.jpg  \n",
            "  inflating: val_data/3064/0299_07.jpg  \n",
            "  inflating: val_data/3064/0306_01.jpg  \n",
            "  inflating: val_data/3065/0038_04.jpg  \n",
            "  inflating: val_data/3065/0566_01.jpg  \n",
            "  inflating: val_data/3066/0239_01.jpg  \n",
            "  inflating: val_data/3066/0259_01.jpg  \n",
            "  inflating: val_data/3067/0149_01.jpg  \n",
            "  inflating: val_data/3067/0305_01.jpg  \n",
            "  inflating: val_data/3068/0210_01.jpg  \n",
            "  inflating: val_data/3068/0341_02.jpg  \n",
            "  inflating: val_data/3069/0051_01.jpg  \n",
            "  inflating: val_data/3069/0301_01.jpg  \n",
            "  inflating: val_data/307/0144_01.jpg  \n",
            "  inflating: val_data/307/0189_01.jpg  \n",
            "  inflating: val_data/3070/0063_01.jpg  \n",
            "  inflating: val_data/3070/0158_01.jpg  \n",
            "  inflating: val_data/3071/0225_02.jpg  \n",
            "  inflating: val_data/3071/0346_01.jpg  \n",
            "  inflating: val_data/3072/0340_01.jpg  \n",
            "  inflating: val_data/3072/0380_01.jpg  \n",
            "  inflating: val_data/3073/0053_01.jpg  \n",
            "  inflating: val_data/3073/0180_01.jpg  \n",
            "  inflating: val_data/3074/0083_02.jpg  \n",
            "  inflating: val_data/3074/0296_01.jpg  \n",
            "  inflating: val_data/3075/0362_01.jpg  \n",
            "  inflating: val_data/3075/0483_01.jpg  \n",
            "  inflating: val_data/3076/0192_04.jpg  \n",
            "  inflating: val_data/3076/0273_01.jpg  \n",
            "  inflating: val_data/3077/0041_01.jpg  \n",
            "  inflating: val_data/3077/0203_01.jpg  \n",
            "  inflating: val_data/3078/0168_01.jpg  \n",
            "  inflating: val_data/3078/0572_01.jpg  \n",
            "  inflating: val_data/3079/0064_01.jpg  \n",
            "  inflating: val_data/3079/0218_01.jpg  \n",
            "  inflating: val_data/308/0038_02.jpg  \n",
            "  inflating: val_data/308/0043_01.jpg  \n",
            "  inflating: val_data/3080/0279_01.jpg  \n",
            "  inflating: val_data/3080/0329_01.jpg  \n",
            "  inflating: val_data/3081/0108_02.jpg  \n",
            "  inflating: val_data/3081/0298_01.jpg  \n",
            "  inflating: val_data/3082/0111_02.jpg  \n",
            "  inflating: val_data/3082/0388_02.jpg  \n",
            "  inflating: val_data/3083/0075_01.jpg  \n",
            "  inflating: val_data/3083/0326_01.jpg  \n",
            "  inflating: val_data/3084/0181_01.jpg  \n",
            "  inflating: val_data/3084/0329_01.jpg  \n",
            "  inflating: val_data/3085/0100_01.jpg  \n",
            "  inflating: val_data/3085/0261_02.jpg  \n",
            "  inflating: val_data/3086/0022_01.jpg  \n",
            "  inflating: val_data/3086/0121_01.jpg  \n",
            "  inflating: val_data/3087/0020_01.jpg  \n",
            "  inflating: val_data/3087/0315_01.jpg  \n",
            "  inflating: val_data/3088/0227_01.jpg  \n",
            "  inflating: val_data/3088/0415_01.jpg  \n",
            "  inflating: val_data/3089/0073_01.jpg  \n",
            "  inflating: val_data/3089/0153_02.jpg  \n",
            "  inflating: val_data/309/0003_01.jpg  \n",
            "  inflating: val_data/309/0078_01.jpg  \n",
            "  inflating: val_data/3090/0173_01.jpg  \n",
            "  inflating: val_data/3090/0262_01.jpg  \n",
            "  inflating: val_data/3091/0038_01.jpg  \n",
            "  inflating: val_data/3091/0230_02.jpg  \n",
            "  inflating: val_data/3092/0062_01.jpg  \n",
            "  inflating: val_data/3092/0179_01.jpg  \n",
            "  inflating: val_data/3093/0377_01.jpg  \n",
            "  inflating: val_data/3093/0387_03.jpg  \n",
            "  inflating: val_data/3094/0089_01.jpg  \n",
            "  inflating: val_data/3094/0171_01.jpg  \n",
            "  inflating: val_data/3095/0006_01.jpg  \n",
            "  inflating: val_data/3095/0105_01.jpg  \n",
            "  inflating: val_data/3096/0092_01.jpg  \n",
            "  inflating: val_data/3096/0185_01.jpg  \n",
            "  inflating: val_data/3097/0054_01.jpg  \n",
            "  inflating: val_data/3097/0481_01.jpg  \n",
            "  inflating: val_data/3098/0016_01.jpg  \n",
            "  inflating: val_data/3098/0887_01.jpg  \n",
            "  inflating: val_data/3099/0061_01.jpg  \n",
            "  inflating: val_data/3099/1021_01.jpg  \n",
            "  inflating: val_data/31/0008_01.jpg  \n",
            "  inflating: val_data/31/0098_01.jpg  \n",
            "  inflating: val_data/310/0268_01.jpg  \n",
            "  inflating: val_data/310/0381_01.jpg  \n",
            "  inflating: val_data/3100/0068_01.jpg  \n",
            "  inflating: val_data/3100/0498_06.jpg  \n",
            "  inflating: val_data/3101/0169_01.jpg  \n",
            "  inflating: val_data/3101/0292_01.jpg  \n",
            "  inflating: val_data/3102/0152_02.jpg  \n",
            "  inflating: val_data/3102/0307_01.jpg  \n",
            "  inflating: val_data/3103/0203_01.jpg  \n",
            "  inflating: val_data/3103/0462_02.jpg  \n",
            "  inflating: val_data/3104/0073_01.jpg  \n",
            "  inflating: val_data/3104/0200_01.jpg  \n",
            "  inflating: val_data/3105/0054_01.jpg  \n",
            "  inflating: val_data/3105/0104_01.jpg  \n",
            "  inflating: val_data/3106/0021_02.jpg  \n",
            "  inflating: val_data/3106/0069_03.jpg  \n",
            "  inflating: val_data/3107/0039_01.jpg  \n",
            "  inflating: val_data/3107/0095_01.jpg  \n",
            "  inflating: val_data/3108/0147_02.jpg  \n",
            "  inflating: val_data/3108/0219_01.jpg  \n",
            "  inflating: val_data/3109/0056_01.jpg  \n",
            "  inflating: val_data/3109/0094_01.jpg  \n",
            "  inflating: val_data/311/0323_01.jpg  \n",
            "  inflating: val_data/311/0391_01.jpg  \n",
            "  inflating: val_data/3110/0109_01.jpg  \n",
            "  inflating: val_data/3110/0163_01.jpg  \n",
            "  inflating: val_data/3111/0009_01.jpg  \n",
            "  inflating: val_data/3111/0173_01.jpg  \n",
            "  inflating: val_data/3112/0175_03.jpg  \n",
            "  inflating: val_data/3112/0217_01.jpg  \n",
            "  inflating: val_data/3113/0281_02.jpg  \n",
            "  inflating: val_data/3113/0399_01.jpg  \n",
            "  inflating: val_data/3114/0030_01.jpg  \n",
            "  inflating: val_data/3114/0125_01.jpg  \n",
            "  inflating: val_data/3115/0112_03.jpg  \n",
            "  inflating: val_data/3115/0278_01.jpg  \n",
            "  inflating: val_data/3116/0071_01.jpg  \n",
            "  inflating: val_data/3116/0116_03.jpg  \n",
            "  inflating: val_data/3117/0067_01.jpg  \n",
            "  inflating: val_data/3117/0115_02.jpg  \n",
            "  inflating: val_data/3118/0112_01.jpg  \n",
            "  inflating: val_data/3118/0139_01.jpg  \n",
            "  inflating: val_data/3119/0014_01.jpg  \n",
            "  inflating: val_data/3119/0081_04.jpg  \n",
            "  inflating: val_data/312/0005_01.jpg  \n",
            "  inflating: val_data/312/0100_01.jpg  \n",
            "  inflating: val_data/3120/0001_01.jpg  \n",
            "  inflating: val_data/3120/0068_01.jpg  \n",
            "  inflating: val_data/3121/0120_01.jpg  \n",
            "  inflating: val_data/3121/0250_03.jpg  \n",
            "  inflating: val_data/3122/0235_01.jpg  \n",
            "  inflating: val_data/3122/0416_01.jpg  \n",
            "  inflating: val_data/3123/0140_02.jpg  \n",
            "  inflating: val_data/3123/0497_01.jpg  \n",
            "  inflating: val_data/3124/0291_01.jpg  \n",
            "  inflating: val_data/3124/0499_01.jpg  \n",
            "  inflating: val_data/3125/0072_01.jpg  \n",
            "  inflating: val_data/3125/0354_01.jpg  \n",
            "  inflating: val_data/3126/0199_01.jpg  \n",
            "  inflating: val_data/3126/0383_01.jpg  \n",
            "  inflating: val_data/3127/0095_01.jpg  \n",
            "  inflating: val_data/3127/0626_01.jpg  \n",
            "  inflating: val_data/3128/0248_06.jpg  \n",
            "  inflating: val_data/3128/0323_01.jpg  \n",
            "  inflating: val_data/3129/0077_04.jpg  \n",
            "  inflating: val_data/3129/0175_02.jpg  \n",
            "  inflating: val_data/313/0046_01.jpg  \n",
            "  inflating: val_data/313/0171_03.jpg  \n",
            "  inflating: val_data/3130/0199_01.jpg  \n",
            "  inflating: val_data/3130/0436_01.jpg  \n",
            "  inflating: val_data/3131/0089_03.jpg  \n",
            "  inflating: val_data/3131/0240_01.jpg  \n",
            "  inflating: val_data/3132/0086_01.jpg  \n",
            "  inflating: val_data/3132/0445_01.jpg  \n",
            "  inflating: val_data/3133/0192_01.jpg  \n",
            "  inflating: val_data/3133/0541_01.jpg  \n",
            "  inflating: val_data/3134/0087_01.jpg  \n",
            "  inflating: val_data/3134/0154_01.jpg  \n",
            "  inflating: val_data/3135/0017_01.jpg  \n",
            "  inflating: val_data/3135/0041_01.jpg  \n",
            "  inflating: val_data/3136/0056_02.jpg  \n",
            "  inflating: val_data/3136/0409_01.jpg  \n",
            "  inflating: val_data/3137/0047_01.jpg  \n",
            "  inflating: val_data/3137/0254_03.jpg  \n",
            "  inflating: val_data/3138/0096_03.jpg  \n",
            "  inflating: val_data/3138/0309_03.jpg  \n",
            "  inflating: val_data/3139/0076_01.jpg  \n",
            "  inflating: val_data/3139/0191_02.jpg  \n",
            "  inflating: val_data/314/0103_05.jpg  \n",
            "  inflating: val_data/314/0437_98.jpg  \n",
            "  inflating: val_data/3140/0180_01.jpg  \n",
            "  inflating: val_data/3140/0375_02.jpg  \n",
            "  inflating: val_data/3141/0067_01.jpg  \n",
            "  inflating: val_data/3141/0147_01.jpg  \n",
            "  inflating: val_data/3142/0046_01.jpg  \n",
            "  inflating: val_data/3142/0344_01.jpg  \n",
            "  inflating: val_data/3143/0039_01.jpg  \n",
            "  inflating: val_data/3143/0083_01.jpg  \n",
            "  inflating: val_data/3144/0406_01.jpg  \n",
            "  inflating: val_data/3144/0423_02.jpg  \n",
            "  inflating: val_data/3145/0030_02.jpg  \n",
            "  inflating: val_data/3145/0184_01.jpg  \n",
            "  inflating: val_data/3146/0246_01.jpg  \n",
            "  inflating: val_data/3146/0255_01.jpg  \n",
            "  inflating: val_data/3147/0018_01.jpg  \n",
            "  inflating: val_data/3147/0056_01.jpg  \n",
            "  inflating: val_data/3148/0180_01.jpg  \n",
            "  inflating: val_data/3148/0353_01.jpg  \n",
            "  inflating: val_data/3149/0022_01.jpg  \n",
            "  inflating: val_data/3149/0037_01.jpg  \n",
            "  inflating: val_data/315/0201_01.jpg  \n",
            "  inflating: val_data/315/0372_01.jpg  \n",
            "  inflating: val_data/3150/0211_03.jpg  \n",
            "  inflating: val_data/3150/0224_01.jpg  \n",
            "  inflating: val_data/3151/0357_01.jpg  \n",
            "  inflating: val_data/3151/0370_01.jpg  \n",
            "  inflating: val_data/3152/0046_01.jpg  \n",
            "  inflating: val_data/3152/0265_01.jpg  \n",
            "  inflating: val_data/3153/0199_01.jpg  \n",
            "  inflating: val_data/3153/0481_01.jpg  \n",
            "  inflating: val_data/3154/0055_01.jpg  \n",
            "  inflating: val_data/3154/0205_01.jpg  \n",
            "  inflating: val_data/3155/0006_01.jpg  \n",
            "  inflating: val_data/3155/0202_02.jpg  \n",
            "  inflating: val_data/3156/0118_01.jpg  \n",
            "  inflating: val_data/3156/0419_01.jpg  \n",
            "  inflating: val_data/3157/0003_01.jpg  \n",
            "  inflating: val_data/3157/0271_01.jpg  \n",
            "  inflating: val_data/3158/0071_02.jpg  \n",
            "  inflating: val_data/3158/0206_01.jpg  \n",
            "  inflating: val_data/3159/0099_01.jpg  \n",
            "  inflating: val_data/3159/0216_06.jpg  \n",
            "  inflating: val_data/316/0060_02.jpg  \n",
            "  inflating: val_data/316/0549_01.jpg  \n",
            "  inflating: val_data/3160/0179_01.jpg  \n",
            "  inflating: val_data/3160/0259_02.jpg  \n",
            "  inflating: val_data/3161/0196_01.jpg  \n",
            "  inflating: val_data/3161/0532_02.jpg  \n",
            "  inflating: val_data/3162/0087_01.jpg  \n",
            "  inflating: val_data/3162/0138_01.jpg  \n",
            "  inflating: val_data/3163/0062_02.jpg  \n",
            "  inflating: val_data/3163/0452_01.jpg  \n",
            "  inflating: val_data/3164/0071_01.jpg  \n",
            "  inflating: val_data/3164/0113_02.jpg  \n",
            "  inflating: val_data/3165/0019_01.jpg  \n",
            "  inflating: val_data/3165/0265_01.jpg  \n",
            "  inflating: val_data/3166/0069_01.jpg  \n",
            "  inflating: val_data/3166/0207_01.jpg  \n",
            "  inflating: val_data/3167/0138_01.jpg  \n",
            "  inflating: val_data/3167/0355_01.jpg  \n",
            "  inflating: val_data/3168/0014_01.jpg  \n",
            "  inflating: val_data/3168/0307_01.jpg  \n",
            "  inflating: val_data/3169/0012_01.jpg  \n",
            "  inflating: val_data/3169/0133_01.jpg  \n",
            "  inflating: val_data/317/0136_01.jpg  \n",
            "  inflating: val_data/317/0244_01.jpg  \n",
            "  inflating: val_data/3170/0304_01.jpg  \n",
            "  inflating: val_data/3170/0306_01.jpg  \n",
            "  inflating: val_data/3171/0072_01.jpg  \n",
            "  inflating: val_data/3171/0146_01.jpg  \n",
            "  inflating: val_data/3172/0025_01.jpg  \n",
            "  inflating: val_data/3172/0175_01.jpg  \n",
            "  inflating: val_data/3173/0051_01.jpg  \n",
            "  inflating: val_data/3173/0088_01.jpg  \n",
            "  inflating: val_data/3174/0049_01.jpg  \n",
            "  inflating: val_data/3174/0125_01.jpg  \n",
            "  inflating: val_data/3175/0018_01.jpg  \n",
            "  inflating: val_data/3175/0136_01.jpg  \n",
            "  inflating: val_data/3176/0043_01.jpg  \n",
            "  inflating: val_data/3176/0272_01.jpg  \n",
            "  inflating: val_data/3177/0003_01.jpg  \n",
            "  inflating: val_data/3177/0296_01.jpg  \n",
            "  inflating: val_data/3178/0269_01.jpg  \n",
            "  inflating: val_data/3178/0391_01.jpg  \n",
            "  inflating: val_data/3179/0295_01.jpg  \n",
            "  inflating: val_data/3179/0464_01.jpg  \n",
            "  inflating: val_data/318/0004_01.jpg  \n",
            "  inflating: val_data/318/0415_01.jpg  \n",
            "  inflating: val_data/3180/0005_01.jpg  \n",
            "  inflating: val_data/3180/0061_01.jpg  \n",
            "  inflating: val_data/3181/0199_01.jpg  \n",
            "  inflating: val_data/3181/0570_01.jpg  \n",
            "  inflating: val_data/3182/0242_01.jpg  \n",
            "  inflating: val_data/3182/0261_01.jpg  \n",
            "  inflating: val_data/3183/0252_01.jpg  \n",
            "  inflating: val_data/3183/0375_01.jpg  \n",
            "  inflating: val_data/3184/0084_01.jpg  \n",
            "  inflating: val_data/3184/0359_01.jpg  \n",
            "  inflating: val_data/3185/0048_01.jpg  \n",
            "  inflating: val_data/3185/0111_01.jpg  \n",
            "  inflating: val_data/3186/0020_02.jpg  \n",
            "  inflating: val_data/3186/0278_01.jpg  \n",
            "  inflating: val_data/3187/0326_02.jpg  \n",
            "  inflating: val_data/3187/0510_02.jpg  \n",
            "  inflating: val_data/3188/0058_01.jpg  \n",
            "  inflating: val_data/3188/0285_01.jpg  \n",
            "  inflating: val_data/3189/0111_01.jpg  \n",
            "  inflating: val_data/3189/0281_01.jpg  \n",
            "  inflating: val_data/319/0073_01.jpg  \n",
            "  inflating: val_data/319/0585_01.jpg  \n",
            "  inflating: val_data/3190/0123_05.jpg  \n",
            "  inflating: val_data/3190/0165_01.jpg  \n",
            "  inflating: val_data/3191/0019_01.jpg  \n",
            "  inflating: val_data/3191/0148_02.jpg  \n",
            "  inflating: val_data/3192/0091_01.jpg  \n",
            "  inflating: val_data/3192/0222_01.jpg  \n",
            "  inflating: val_data/3193/0240_01.jpg  \n",
            "  inflating: val_data/3193/0351_02.jpg  \n",
            "  inflating: val_data/3194/0149_01.jpg  \n",
            "  inflating: val_data/3194/0294_01.jpg  \n",
            "  inflating: val_data/3195/0053_01.jpg  \n",
            "  inflating: val_data/3195/0423_03.jpg  \n",
            "  inflating: val_data/3196/0214_01.jpg  \n",
            "  inflating: val_data/3196/0306_01.jpg  \n",
            "  inflating: val_data/3197/0022_01.jpg  \n",
            "  inflating: val_data/3197/0026_01.jpg  \n",
            "  inflating: val_data/3198/0022_01.jpg  \n",
            "  inflating: val_data/3198/0469_01.jpg  \n",
            "  inflating: val_data/3199/0054_01.jpg  \n",
            "  inflating: val_data/3199/0070_01.jpg  \n",
            "  inflating: val_data/32/0143_01.jpg  \n",
            "  inflating: val_data/32/0148_01.jpg  \n",
            "  inflating: val_data/320/0134_03.jpg  \n",
            "  inflating: val_data/320/0404_01.jpg  \n",
            "  inflating: val_data/3200/0045_01.jpg  \n",
            "  inflating: val_data/3200/0350_02.jpg  \n",
            "  inflating: val_data/3201/0021_01.jpg  \n",
            "  inflating: val_data/3201/0050_01.jpg  \n",
            "  inflating: val_data/3202/0042_01.jpg  \n",
            "  inflating: val_data/3202/0235_01.jpg  \n",
            "  inflating: val_data/3203/0067_01.jpg  \n",
            "  inflating: val_data/3203/0443_01.jpg  \n",
            "  inflating: val_data/3204/0297_03.jpg  \n",
            "  inflating: val_data/3204/0383_01.jpg  \n",
            "  inflating: val_data/3205/0044_01.jpg  \n",
            "  inflating: val_data/3205/0263_02.jpg  \n",
            "  inflating: val_data/3206/0180_01.jpg  \n",
            "  inflating: val_data/3206/0217_02.jpg  \n",
            "  inflating: val_data/3207/0249_02.jpg  \n",
            "  inflating: val_data/3207/0343_02.jpg  \n",
            "  inflating: val_data/3208/0183_01.jpg  \n",
            "  inflating: val_data/3208/0386_01.jpg  \n",
            "  inflating: val_data/3209/0168_01.jpg  \n",
            "  inflating: val_data/3209/0236_01.jpg  \n",
            "  inflating: val_data/321/0065_01.jpg  \n",
            "  inflating: val_data/321/0118_02.jpg  \n",
            "  inflating: val_data/3210/0160_03.jpg  \n",
            "  inflating: val_data/3210/0325_01.jpg  \n",
            "  inflating: val_data/3211/0055_01.jpg  \n",
            "  inflating: val_data/3211/0189_01.jpg  \n",
            "  inflating: val_data/3212/0419_01.jpg  \n",
            "  inflating: val_data/3212/0435_01.jpg  \n",
            "  inflating: val_data/3213/0239_01.jpg  \n",
            "  inflating: val_data/3213/0373_01.jpg  \n",
            "  inflating: val_data/3214/0099_01.jpg  \n",
            "  inflating: val_data/3214/0179_01.jpg  \n",
            "  inflating: val_data/3215/0260_01.jpg  \n",
            "  inflating: val_data/3215/0298_01.jpg  \n",
            "  inflating: val_data/3216/0125_01.jpg  \n",
            "  inflating: val_data/3216/0213_01.jpg  \n",
            "  inflating: val_data/3217/0059_05.jpg  \n",
            "  inflating: val_data/3217/0354_02.jpg  \n",
            "  inflating: val_data/3218/0311_01.jpg  \n",
            "  inflating: val_data/3218/0379_01.jpg  \n",
            "  inflating: val_data/3219/0127_01.jpg  \n",
            "  inflating: val_data/3219/0191_03.jpg  \n",
            "  inflating: val_data/322/0181_01.jpg  \n",
            "  inflating: val_data/322/0299_01.jpg  \n",
            "  inflating: val_data/3220/0029_01.jpg  \n",
            "  inflating: val_data/3220/0121_01.jpg  \n",
            "  inflating: val_data/3221/0062_01.jpg  \n",
            "  inflating: val_data/3221/0337_01.jpg  \n",
            "  inflating: val_data/3222/0150_01.jpg  \n",
            "  inflating: val_data/3222/0207_02.jpg  \n",
            "  inflating: val_data/3223/0097_02.jpg  \n",
            "  inflating: val_data/3223/0480_01.jpg  \n",
            "  inflating: val_data/3224/0051_01.jpg  \n",
            "  inflating: val_data/3224/0068_01.jpg  \n",
            "  inflating: val_data/3225/0082_01.jpg  \n",
            "  inflating: val_data/3225/0149_01.jpg  \n",
            "  inflating: val_data/3226/0101_01.jpg  \n",
            "  inflating: val_data/3226/0454_01.jpg  \n",
            "  inflating: val_data/3227/0001_01.jpg  \n",
            "  inflating: val_data/3227/0003_01.jpg  \n",
            "  inflating: val_data/3228/0045_01.jpg  \n",
            "  inflating: val_data/3228/0170_01.jpg  \n",
            "  inflating: val_data/3229/0008_01.jpg  \n",
            "  inflating: val_data/3229/0031_01.jpg  \n",
            "  inflating: val_data/323/0230_02.jpg  \n",
            "  inflating: val_data/323/0270_01.jpg  \n",
            "  inflating: val_data/3230/0003_01.jpg  \n",
            "  inflating: val_data/3230/0336_03.jpg  \n",
            "  inflating: val_data/3231/0134_02.jpg  \n",
            "  inflating: val_data/3231/0142_02.jpg  \n",
            "  inflating: val_data/3232/0121_01.jpg  \n",
            "  inflating: val_data/3232/0170_01.jpg  \n",
            "  inflating: val_data/3233/0021_01.jpg  \n",
            "  inflating: val_data/3233/0225_01.jpg  \n",
            "  inflating: val_data/3234/0028_01.jpg  \n",
            "  inflating: val_data/3234/0089_01.jpg  \n",
            "  inflating: val_data/3235/0177_01.jpg  \n",
            "  inflating: val_data/3235/0277_01.jpg  \n",
            "  inflating: val_data/3236/0386_01.jpg  \n",
            "  inflating: val_data/3236/0513_01.jpg  \n",
            "  inflating: val_data/3237/0232_01.jpg  \n",
            "  inflating: val_data/3237/0263_01.jpg  \n",
            "  inflating: val_data/3238/0013_01.jpg  \n",
            "  inflating: val_data/3238/0093_01.jpg  \n",
            "  inflating: val_data/3239/0116_01.jpg  \n",
            "  inflating: val_data/3239/0207_01.jpg  \n",
            "  inflating: val_data/324/0176_01.jpg  \n",
            "  inflating: val_data/324/0343_01.jpg  \n",
            "  inflating: val_data/3240/0104_02.jpg  \n",
            "  inflating: val_data/3240/0241_01.jpg  \n",
            "  inflating: val_data/3241/0002_01.jpg  \n",
            "  inflating: val_data/3241/0395_02.jpg  \n",
            "  inflating: val_data/3242/0095_01.jpg  \n",
            "  inflating: val_data/3242/0402_01.jpg  \n",
            "  inflating: val_data/3243/0030_01.jpg  \n",
            "  inflating: val_data/3243/0044_01.jpg  \n",
            "  inflating: val_data/3244/0157_05.jpg  \n",
            "  inflating: val_data/3244/0580_01.jpg  \n",
            "  inflating: val_data/3245/0016_01.jpg  \n",
            "  inflating: val_data/3245/0209_01.jpg  \n",
            "  inflating: val_data/3246/0161_02.jpg  \n",
            "  inflating: val_data/3246/0278_01.jpg  \n",
            "  inflating: val_data/3247/0025_02.jpg  \n",
            "  inflating: val_data/3247/0538_01.jpg  \n",
            "  inflating: val_data/3248/0245_01.jpg  \n",
            "  inflating: val_data/3248/0273_01.jpg  \n",
            "  inflating: val_data/3249/0021_01.jpg  \n",
            "  inflating: val_data/3249/0116_03.jpg  \n",
            "  inflating: val_data/325/0045_01.jpg  \n",
            "  inflating: val_data/325/0164_01.jpg  \n",
            "  inflating: val_data/3250/0317_01.jpg  \n",
            "  inflating: val_data/3250/0334_01.jpg  \n",
            "  inflating: val_data/3251/0218_01.jpg  \n",
            "  inflating: val_data/3251/0401_01.jpg  \n",
            "  inflating: val_data/3252/0287_01.jpg  \n",
            "  inflating: val_data/3252/0311_01.jpg  \n",
            "  inflating: val_data/3253/0205_04.jpg  \n",
            "  inflating: val_data/3253/0499_01.jpg  \n",
            "  inflating: val_data/3254/0236_01.jpg  \n",
            "  inflating: val_data/3254/0384_01.jpg  \n",
            "  inflating: val_data/3255/0020_01.jpg  \n",
            "  inflating: val_data/3255/0179_01.jpg  \n",
            "  inflating: val_data/3256/0111_01.jpg  \n",
            "  inflating: val_data/3256/0358_01.jpg  \n",
            "  inflating: val_data/3257/0386_02.jpg  \n",
            "  inflating: val_data/3257/0810_01.jpg  \n",
            "  inflating: val_data/3258/0148_02.jpg  \n",
            "  inflating: val_data/3258/0236_02.jpg  \n",
            "  inflating: val_data/3259/0053_01.jpg  \n",
            "  inflating: val_data/3259/0255_01.jpg  \n",
            "  inflating: val_data/326/0189_02.jpg  \n",
            "  inflating: val_data/326/0262_01.jpg  \n",
            "  inflating: val_data/3260/0168_01.jpg  \n",
            "  inflating: val_data/3260/0370_02.jpg  \n",
            "  inflating: val_data/3261/0134_02.jpg  \n",
            "  inflating: val_data/3261/0376_02.jpg  \n",
            "  inflating: val_data/3262/0140_01.jpg  \n",
            "  inflating: val_data/3262/0273_01.jpg  \n",
            "  inflating: val_data/3263/0176_01.jpg  \n",
            "  inflating: val_data/3263/0206_01.jpg  \n",
            "  inflating: val_data/3264/0067_01.jpg  \n",
            "  inflating: val_data/3264/0210_01.jpg  \n",
            "  inflating: val_data/3265/0018_01.jpg  \n",
            "  inflating: val_data/3265/0094_01.jpg  \n",
            "  inflating: val_data/3266/0194_01.jpg  \n",
            "  inflating: val_data/3266/0313_01.jpg  \n",
            "  inflating: val_data/3267/0057_02.jpg  \n",
            "  inflating: val_data/3267/0178_01.jpg  \n",
            "  inflating: val_data/3268/0237_01.jpg  \n",
            "  inflating: val_data/3268/0273_01.jpg  \n",
            "  inflating: val_data/3269/0041_01.jpg  \n",
            "  inflating: val_data/3269/0302_01.jpg  \n",
            "  inflating: val_data/327/0272_01.jpg  \n",
            "  inflating: val_data/327/0273_01.jpg  \n",
            "  inflating: val_data/3270/0201_03.jpg  \n",
            "  inflating: val_data/3270/0280_01.jpg  \n",
            "  inflating: val_data/3271/0300_02.jpg  \n",
            "  inflating: val_data/3271/0449_04.jpg  \n",
            "  inflating: val_data/3272/0365_01.jpg  \n",
            "  inflating: val_data/3272/0433_03.jpg  \n",
            "  inflating: val_data/3273/0344_01.jpg  \n",
            "  inflating: val_data/3273/0416_01.jpg  \n",
            "  inflating: val_data/3274/0298_01.jpg  \n",
            "  inflating: val_data/3274/0376_02.jpg  \n",
            "  inflating: val_data/3275/0304_04.jpg  \n",
            "  inflating: val_data/3275/0457_01.jpg  \n",
            "  inflating: val_data/3276/0237_01.jpg  \n",
            "  inflating: val_data/3276/0272_02.jpg  \n",
            "  inflating: val_data/3277/0400_01.jpg  \n",
            "  inflating: val_data/3277/0404_03.jpg  \n",
            "  inflating: val_data/3278/0051_01.jpg  \n",
            "  inflating: val_data/3278/0400_02.jpg  \n",
            "  inflating: val_data/3279/0220_01.jpg  \n",
            "  inflating: val_data/3279/0240_02.jpg  \n",
            "  inflating: val_data/328/0031_01.jpg  \n",
            "  inflating: val_data/328/0049_01.jpg  \n",
            "  inflating: val_data/3280/0369_01.jpg  \n",
            "  inflating: val_data/3280/0485_01.jpg  \n",
            "  inflating: val_data/3281/0038_02.jpg  \n",
            "  inflating: val_data/3281/0091_01.jpg  \n",
            "  inflating: val_data/3282/0022_01.jpg  \n",
            "  inflating: val_data/3282/0279_01.jpg  \n",
            "  inflating: val_data/3283/0087_04.jpg  \n",
            "  inflating: val_data/3283/0152_01.jpg  \n",
            "  inflating: val_data/3284/0082_01.jpg  \n",
            "  inflating: val_data/3284/0310_01.jpg  \n",
            "  inflating: val_data/3285/0510_01.jpg  \n",
            "  inflating: val_data/3285/0632_01.jpg  \n",
            "  inflating: val_data/3286/0071_01.jpg  \n",
            "  inflating: val_data/3286/0555_01.jpg  \n",
            "  inflating: val_data/3287/0026_02.jpg  \n",
            "  inflating: val_data/3287/0181_01.jpg  \n",
            "  inflating: val_data/3288/0055_01.jpg  \n",
            "  inflating: val_data/3288/0455_01.jpg  \n",
            "  inflating: val_data/3289/0093_01.jpg  \n",
            "  inflating: val_data/3289/0426_01.jpg  \n",
            "  inflating: val_data/329/0112_01.jpg  \n",
            "  inflating: val_data/329/0244_01.jpg  \n",
            "  inflating: val_data/3290/0080_01.jpg  \n",
            "  inflating: val_data/3290/0553_01.jpg  \n",
            "  inflating: val_data/3291/0129_01.jpg  \n",
            "  inflating: val_data/3291/0210_01.jpg  \n",
            "  inflating: val_data/3292/0317_01.jpg  \n",
            "  inflating: val_data/3292/0415_01.jpg  \n",
            "  inflating: val_data/3293/0074_01.jpg  \n",
            "  inflating: val_data/3293/0342_01.jpg  \n",
            "  inflating: val_data/3294/0053_01.jpg  \n",
            "  inflating: val_data/3294/0249_01.jpg  \n",
            "  inflating: val_data/3295/0129_01.jpg  \n",
            "  inflating: val_data/3295/0246_02.jpg  \n",
            "  inflating: val_data/3296/0123_01.jpg  \n",
            "  inflating: val_data/3296/0135_01.jpg  \n",
            "  inflating: val_data/3297/0087_01.jpg  \n",
            "  inflating: val_data/3297/0320_01.jpg  \n",
            "  inflating: val_data/3298/0075_02.jpg  \n",
            "  inflating: val_data/3298/0090_01.jpg  \n",
            "  inflating: val_data/3299/0052_01.jpg  \n",
            "  inflating: val_data/3299/0098_01.jpg  \n",
            "  inflating: val_data/33/0077_01.jpg  \n",
            "  inflating: val_data/33/0125_02.jpg  \n",
            "  inflating: val_data/330/0016_01.jpg  \n",
            "  inflating: val_data/330/0131_01.jpg  \n",
            "  inflating: val_data/3300/0062_01.jpg  \n",
            "  inflating: val_data/3300/0230_01.jpg  \n",
            "  inflating: val_data/3301/0064_01.jpg  \n",
            "  inflating: val_data/3301/0463_01.jpg  \n",
            "  inflating: val_data/3302/0020_01.jpg  \n",
            "  inflating: val_data/3302/0361_02.jpg  \n",
            "  inflating: val_data/3303/0219_01.jpg  \n",
            "  inflating: val_data/3303/0270_01.jpg  \n",
            "  inflating: val_data/3304/0190_01.jpg  \n",
            "  inflating: val_data/3304/0345_01.jpg  \n",
            "  inflating: val_data/3305/0241_01.jpg  \n",
            "  inflating: val_data/3305/0450_07.jpg  \n",
            "  inflating: val_data/3306/0030_01.jpg  \n",
            "  inflating: val_data/3306/0286_01.jpg  \n",
            "  inflating: val_data/3307/0225_01.jpg  \n",
            "  inflating: val_data/3307/0345_01.jpg  \n",
            "  inflating: val_data/3308/0080_01.jpg  \n",
            "  inflating: val_data/3308/0774_01.jpg  \n",
            "  inflating: val_data/3309/0039_01.jpg  \n",
            "  inflating: val_data/3309/0211_01.jpg  \n",
            "  inflating: val_data/331/0183_01.jpg  \n",
            "  inflating: val_data/331/0188_01.jpg  \n",
            "  inflating: val_data/3310/0238_01.jpg  \n",
            "  inflating: val_data/3310/0345_01.jpg  \n",
            "  inflating: val_data/3311/0196_01.jpg  \n",
            "  inflating: val_data/3311/0348_01.jpg  \n",
            "  inflating: val_data/3312/0111_01.jpg  \n",
            "  inflating: val_data/3312/0353_01.jpg  \n",
            "  inflating: val_data/3313/0018_01.jpg  \n",
            "  inflating: val_data/3313/0140_01.jpg  \n",
            "  inflating: val_data/3314/0033_01.jpg  \n",
            "  inflating: val_data/3314/0035_01.jpg  \n",
            "  inflating: val_data/3315/0168_01.jpg  \n",
            "  inflating: val_data/3315/0207_02.jpg  \n",
            "  inflating: val_data/3316/0187_01.jpg  \n",
            "  inflating: val_data/3316/0365_02.jpg  \n",
            "  inflating: val_data/3317/0040_01.jpg  \n",
            "  inflating: val_data/3317/0055_02.jpg  \n",
            "  inflating: val_data/3318/0124_02.jpg  \n",
            "  inflating: val_data/3318/0278_02.jpg  \n",
            "  inflating: val_data/3319/0019_01.jpg  \n",
            "  inflating: val_data/3319/0257_02.jpg  \n",
            "  inflating: val_data/332/0129_02.jpg  \n",
            "  inflating: val_data/332/0277_01.jpg  \n",
            "  inflating: val_data/3320/0415_01.jpg  \n",
            "  inflating: val_data/3320/0436_01.jpg  \n",
            "  inflating: val_data/3321/0088_01.jpg  \n",
            "  inflating: val_data/3321/0357_01.jpg  \n",
            "  inflating: val_data/3322/0053_01.jpg  \n",
            "  inflating: val_data/3322/0136_01.jpg  \n",
            "  inflating: val_data/3323/0086_01.jpg  \n",
            "  inflating: val_data/3323/0375_02.jpg  \n",
            "  inflating: val_data/3324/0032_02.jpg  \n",
            "  inflating: val_data/3324/0641_01.jpg  \n",
            "  inflating: val_data/3325/0007_01.jpg  \n",
            "  inflating: val_data/3325/0207_01.jpg  \n",
            "  inflating: val_data/3326/0198_01.jpg  \n",
            "  inflating: val_data/3326/0269_01.jpg  \n",
            "  inflating: val_data/3327/0258_01.jpg  \n",
            "  inflating: val_data/3327/0415_01.jpg  \n",
            "  inflating: val_data/3328/0193_03.jpg  \n",
            "  inflating: val_data/3328/0257_01.jpg  \n",
            "  inflating: val_data/3329/0093_02.jpg  \n",
            "  inflating: val_data/3329/0290_01.jpg  \n",
            "  inflating: val_data/333/0018_01.jpg  \n",
            "  inflating: val_data/333/0155_01.jpg  \n",
            "  inflating: val_data/3330/0190_02.jpg  \n",
            "  inflating: val_data/3330/0317_02.jpg  \n",
            "  inflating: val_data/3331/0153_02.jpg  \n",
            "  inflating: val_data/3331/0181_02.jpg  \n",
            "  inflating: val_data/3332/0022_01.jpg  \n",
            "  inflating: val_data/3332/0496_01.jpg  \n",
            "  inflating: val_data/3333/0037_01.jpg  \n",
            "  inflating: val_data/3333/0047_01.jpg  \n",
            "  inflating: val_data/3334/0356_01.jpg  \n",
            "  inflating: val_data/3334/0415_01.jpg  \n",
            "  inflating: val_data/3335/0174_01.jpg  \n",
            "  inflating: val_data/3335/0207_01.jpg  \n",
            "  inflating: val_data/3336/0217_01.jpg  \n",
            "  inflating: val_data/3336/0897_01.jpg  \n",
            "  inflating: val_data/3337/0222_01.jpg  \n",
            "  inflating: val_data/3337/0409_01.jpg  \n",
            "  inflating: val_data/3338/0046_02.jpg  \n",
            "  inflating: val_data/3338/0392_01.jpg  \n",
            "  inflating: val_data/3339/0044_02.jpg  \n",
            "  inflating: val_data/3339/0066_01.jpg  \n",
            "  inflating: val_data/334/0116_01.jpg  \n",
            "  inflating: val_data/334/0509_03.jpg  \n",
            "  inflating: val_data/3340/0083_01.jpg  \n",
            "  inflating: val_data/3340/0181_02.jpg  \n",
            "  inflating: val_data/3341/0163_01.jpg  \n",
            "  inflating: val_data/3341/0381_01.jpg  \n",
            "  inflating: val_data/3342/0289_01.jpg  \n",
            "  inflating: val_data/3342/0470_01.jpg  \n",
            "  inflating: val_data/3343/0072_01.jpg  \n",
            "  inflating: val_data/3343/0098_01.jpg  \n",
            "  inflating: val_data/3344/0072_02.jpg  \n",
            "  inflating: val_data/3344/0151_03.jpg  \n",
            "  inflating: val_data/3345/0058_02.jpg  \n",
            "  inflating: val_data/3345/0338_02.jpg  \n",
            "  inflating: val_data/3346/0073_01.jpg  \n",
            "  inflating: val_data/3346/0292_01.jpg  \n",
            "  inflating: val_data/3347/0234_01.jpg  \n",
            "  inflating: val_data/3347/0381_01.jpg  \n",
            "  inflating: val_data/3348/0053_01.jpg  \n",
            "  inflating: val_data/3348/0335_01.jpg  \n",
            "  inflating: val_data/3349/0182_01.jpg  \n",
            "  inflating: val_data/3349/0213_01.jpg  \n",
            "  inflating: val_data/335/0105_02.jpg  \n",
            "  inflating: val_data/335/0312_01.jpg  \n",
            "  inflating: val_data/3350/0009_02.jpg  \n",
            "  inflating: val_data/3350/0053_01.jpg  \n",
            "  inflating: val_data/3351/0056_01.jpg  \n",
            "  inflating: val_data/3351/0099_01.jpg  \n",
            "  inflating: val_data/3352/0030_01.jpg  \n",
            "  inflating: val_data/3352/0533_01.jpg  \n",
            "  inflating: val_data/3353/0199_01.jpg  \n",
            "  inflating: val_data/3353/0247_01.jpg  \n",
            "  inflating: val_data/3354/0218_01.jpg  \n",
            "  inflating: val_data/3354/0518_01.jpg  \n",
            "  inflating: val_data/3355/0088_03.jpg  \n",
            "  inflating: val_data/3355/0288_01.jpg  \n",
            "  inflating: val_data/3356/0336_01.jpg  \n",
            "  inflating: val_data/3356/0425_02.jpg  \n",
            "  inflating: val_data/3357/0071_01.jpg  \n",
            "  inflating: val_data/3357/0109_01.jpg  \n",
            "  inflating: val_data/3358/0159_02.jpg  \n",
            "  inflating: val_data/3358/0220_01.jpg  \n",
            "  inflating: val_data/3359/0056_01.jpg  \n",
            "  inflating: val_data/3359/0399_01.jpg  \n",
            "  inflating: val_data/336/0071_02.jpg  \n",
            "  inflating: val_data/336/0326_01.jpg  \n",
            "  inflating: val_data/3360/0356_01.jpg  \n",
            "  inflating: val_data/3360/0517_01.jpg  \n",
            "  inflating: val_data/3361/0023_01.jpg  \n",
            "  inflating: val_data/3361/0265_01.jpg  \n",
            "  inflating: val_data/3362/0071_01.jpg  \n",
            "  inflating: val_data/3362/0232_01.jpg  \n",
            "  inflating: val_data/3363/0074_01.jpg  \n",
            "  inflating: val_data/3363/0440_01.jpg  \n",
            "  inflating: val_data/3364/0097_01.jpg  \n",
            "  inflating: val_data/3364/0132_01.jpg  \n",
            "  inflating: val_data/3365/0096_01.jpg  \n",
            "  inflating: val_data/3365/0152_01.jpg  \n",
            "  inflating: val_data/3366/0071_01.jpg  \n",
            "  inflating: val_data/3366/0127_01.jpg  \n",
            "  inflating: val_data/3367/0371_02.jpg  \n",
            "  inflating: val_data/3367/0426_01.jpg  \n",
            "  inflating: val_data/3368/0040_01.jpg  \n",
            "  inflating: val_data/3368/0195_01.jpg  \n",
            "  inflating: val_data/3369/0057_01.jpg  \n",
            "  inflating: val_data/3369/0465_01.jpg  \n",
            "  inflating: val_data/337/0254_01.jpg  \n",
            "  inflating: val_data/337/0270_01.jpg  \n",
            "  inflating: val_data/3370/0090_02.jpg  \n",
            "  inflating: val_data/3370/0520_01.jpg  \n",
            "  inflating: val_data/3371/0021_01.jpg  \n",
            "  inflating: val_data/3371/0169_01.jpg  \n",
            "  inflating: val_data/3372/0099_01.jpg  \n",
            "  inflating: val_data/3372/0148_02.jpg  \n",
            "  inflating: val_data/3373/0009_01.jpg  \n",
            "  inflating: val_data/3373/0065_01.jpg  \n",
            "  inflating: val_data/3374/0258_01.jpg  \n",
            "  inflating: val_data/3374/0444_02.jpg  \n",
            "  inflating: val_data/3375/0227_01.jpg  \n",
            "  inflating: val_data/3375/0642_01.jpg  \n",
            "  inflating: val_data/3376/0156_01.jpg  \n",
            "  inflating: val_data/3376/0254_01.jpg  \n",
            "  inflating: val_data/3377/0018_01.jpg  \n",
            "  inflating: val_data/3377/0391_01.jpg  \n",
            "  inflating: val_data/3378/0121_01.jpg  \n",
            "  inflating: val_data/3378/0178_01.jpg  \n",
            "  inflating: val_data/3379/0042_01.jpg  \n",
            "  inflating: val_data/3379/0211_02.jpg  \n",
            "  inflating: val_data/338/0198_01.jpg  \n",
            "  inflating: val_data/338/0500_01.jpg  \n",
            "  inflating: val_data/3380/0030_01.jpg  \n",
            "  inflating: val_data/3380/0053_01.jpg  \n",
            "  inflating: val_data/3381/0005_01.jpg  \n",
            "  inflating: val_data/3381/0067_01.jpg  \n",
            "  inflating: val_data/3382/0106_01.jpg  \n",
            "  inflating: val_data/3382/0290_01.jpg  \n",
            "  inflating: val_data/3383/0336_01.jpg  \n",
            "  inflating: val_data/3383/0555_01.jpg  \n",
            "  inflating: val_data/3384/0061_01.jpg  \n",
            "  inflating: val_data/3384/0403_02.jpg  \n",
            "  inflating: val_data/3385/0337_01.jpg  \n",
            "  inflating: val_data/3385/0345_01.jpg  \n",
            "  inflating: val_data/3386/0109_01.jpg  \n",
            "  inflating: val_data/3386/0232_01.jpg  \n",
            "  inflating: val_data/3387/0064_02.jpg  \n",
            "  inflating: val_data/3387/0184_01.jpg  \n",
            "  inflating: val_data/3388/0005_01.jpg  \n",
            "  inflating: val_data/3388/0071_02.jpg  \n",
            "  inflating: val_data/3389/0026_01.jpg  \n",
            "  inflating: val_data/3389/0189_01.jpg  \n",
            "  inflating: val_data/339/0097_02.jpg  \n",
            "  inflating: val_data/339/0432_03.jpg  \n",
            "  inflating: val_data/3390/0324_01.jpg  \n",
            "  inflating: val_data/3390/0387_01.jpg  \n",
            "  inflating: val_data/3391/0012_01.jpg  \n",
            "  inflating: val_data/3391/0256_02.jpg  \n",
            "  inflating: val_data/3392/0065_02.jpg  \n",
            "  inflating: val_data/3392/0144_01.jpg  \n",
            "  inflating: val_data/3393/0217_01.jpg  \n",
            "  inflating: val_data/3393/0332_08.jpg  \n",
            "  inflating: val_data/3394/0268_01.jpg  \n",
            "  inflating: val_data/3394/0317_01.jpg  \n",
            "  inflating: val_data/3395/0175_02.jpg  \n",
            "  inflating: val_data/3395/0418_14.jpg  \n",
            "  inflating: val_data/3396/0018_01.jpg  \n",
            "  inflating: val_data/3396/0092_01.jpg  \n",
            "  inflating: val_data/3397/0012_01.jpg  \n",
            "  inflating: val_data/3397/0485_01.jpg  \n",
            "  inflating: val_data/3398/0068_01.jpg  \n",
            "  inflating: val_data/3398/0230_01.jpg  \n",
            "  inflating: val_data/3399/0008_01.jpg  \n",
            "  inflating: val_data/3399/0054_01.jpg  \n",
            "  inflating: val_data/34/0320_02.jpg  \n",
            "  inflating: val_data/34/0414_01.jpg  \n",
            "  inflating: val_data/340/0399_01.jpg  \n",
            "  inflating: val_data/340/0408_01.jpg  \n",
            "  inflating: val_data/3400/0353_01.jpg  \n",
            "  inflating: val_data/3400/0364_01.jpg  \n",
            "  inflating: val_data/3401/0045_01.jpg  \n",
            "  inflating: val_data/3401/0048_04.jpg  \n",
            "  inflating: val_data/3402/0150_02.jpg  \n",
            "  inflating: val_data/3402/0375_01.jpg  \n",
            "  inflating: val_data/3403/0173_01.jpg  \n",
            "  inflating: val_data/3403/0260_02.jpg  \n",
            "  inflating: val_data/3404/0028_01.jpg  \n",
            "  inflating: val_data/3404/0143_01.jpg  \n",
            "  inflating: val_data/3405/0005_01.jpg  \n",
            "  inflating: val_data/3405/0099_01.jpg  \n",
            "  inflating: val_data/3406/0052_01.jpg  \n",
            "  inflating: val_data/3406/0056_01.jpg  \n",
            "  inflating: val_data/3407/0370_01.jpg  \n",
            "  inflating: val_data/3407/0400_01.jpg  \n",
            "  inflating: val_data/3408/0036_01.jpg  \n",
            "  inflating: val_data/3408/0069_01.jpg  \n",
            "  inflating: val_data/3409/0046_02.jpg  \n",
            "  inflating: val_data/3409/0211_01.jpg  \n",
            "  inflating: val_data/341/0066_01.jpg  \n",
            "  inflating: val_data/341/0292_01.jpg  \n",
            "  inflating: val_data/3410/0047_01.jpg  \n",
            "  inflating: val_data/3410/0276_01.jpg  \n",
            "  inflating: val_data/3411/0155_03.jpg  \n",
            "  inflating: val_data/3411/0300_02.jpg  \n",
            "  inflating: val_data/3412/0340_01.jpg  \n",
            "  inflating: val_data/3412/0369_02.jpg  \n",
            "  inflating: val_data/3413/0139_01.jpg  \n",
            "  inflating: val_data/3413/0241_01.jpg  \n",
            "  inflating: val_data/3414/0030_01.jpg  \n",
            "  inflating: val_data/3414/0103_02.jpg  \n",
            "  inflating: val_data/3415/0227_01.jpg  \n",
            "  inflating: val_data/3415/0262_01.jpg  \n",
            "  inflating: val_data/3416/0319_01.jpg  \n",
            "  inflating: val_data/3416/0341_01.jpg  \n",
            "  inflating: val_data/3417/0177_01.jpg  \n",
            "  inflating: val_data/3417/0182_01.jpg  \n",
            "  inflating: val_data/3418/0002_01.jpg  \n",
            "  inflating: val_data/3418/0033_01.jpg  \n",
            "  inflating: val_data/3419/0023_01.jpg  \n",
            "  inflating: val_data/3419/0148_02.jpg  \n",
            "  inflating: val_data/342/0005_01.jpg  \n",
            "  inflating: val_data/342/0180_01.jpg  \n",
            "  inflating: val_data/3420/0027_01.jpg  \n",
            "  inflating: val_data/3420/0280_01.jpg  \n",
            "  inflating: val_data/3421/0232_01.jpg  \n",
            "  inflating: val_data/3421/0323_01.jpg  \n",
            "  inflating: val_data/3422/0051_01.jpg  \n",
            "  inflating: val_data/3422/0340_02.jpg  \n",
            "  inflating: val_data/3423/0159_02.jpg  \n",
            "  inflating: val_data/3423/0235_01.jpg  \n",
            "  inflating: val_data/3424/0090_01.jpg  \n",
            "  inflating: val_data/3424/0211_01.jpg  \n",
            "  inflating: val_data/3425/0100_01.jpg  \n",
            "  inflating: val_data/3425/0209_01.jpg  \n",
            "  inflating: val_data/3426/0144_01.jpg  \n",
            "  inflating: val_data/3426/0316_01.jpg  \n",
            "  inflating: val_data/3427/0049_01.jpg  \n",
            "  inflating: val_data/3427/0399_01.jpg  \n",
            "  inflating: val_data/3428/0233_01.jpg  \n",
            "  inflating: val_data/3428/0253_01.jpg  \n",
            "  inflating: val_data/3429/0144_01.jpg  \n",
            "  inflating: val_data/3429/0338_01.jpg  \n",
            "  inflating: val_data/343/0245_01.jpg  \n",
            "  inflating: val_data/343/0767_01.jpg  \n",
            "  inflating: val_data/3430/0167_01.jpg  \n",
            "  inflating: val_data/3430/0344_01.jpg  \n",
            "  inflating: val_data/3431/0100_01.jpg  \n",
            "  inflating: val_data/3431/0127_01.jpg  \n",
            "  inflating: val_data/3432/0037_01.jpg  \n",
            "  inflating: val_data/3432/0063_02.jpg  \n",
            "  inflating: val_data/3433/0065_01.jpg  \n",
            "  inflating: val_data/3433/0511_01.jpg  \n",
            "  inflating: val_data/3434/0061_01.jpg  \n",
            "  inflating: val_data/3434/0082_01.jpg  \n",
            "  inflating: val_data/3435/0182_01.jpg  \n",
            "  inflating: val_data/3435/0409_01.jpg  \n",
            "  inflating: val_data/3436/0068_05.jpg  \n",
            "  inflating: val_data/3436/0229_01.jpg  \n",
            "  inflating: val_data/3437/0334_02.jpg  \n",
            "  inflating: val_data/3437/0432_01.jpg  \n",
            "  inflating: val_data/3438/0134_01.jpg  \n",
            "  inflating: val_data/3438/0161_01.jpg  \n",
            "  inflating: val_data/3439/0013_01.jpg  \n",
            "  inflating: val_data/3439/0017_01.jpg  \n",
            "  inflating: val_data/344/0109_02.jpg  \n",
            "  inflating: val_data/344/0188_01.jpg  \n",
            "  inflating: val_data/3440/0032_01.jpg  \n",
            "  inflating: val_data/3440/0187_01.jpg  \n",
            "  inflating: val_data/3441/0100_01.jpg  \n",
            "  inflating: val_data/3441/0643_04.jpg  \n",
            "  inflating: val_data/3442/0044_01.jpg  \n",
            "  inflating: val_data/3442/0215_01.jpg  \n",
            "  inflating: val_data/3443/0092_02.jpg  \n",
            "  inflating: val_data/3443/0109_07.jpg  \n",
            "  inflating: val_data/3444/0155_04.jpg  \n",
            "  inflating: val_data/3444/0326_04.jpg  \n",
            "  inflating: val_data/3445/0275_01.jpg  \n",
            "  inflating: val_data/3445/0445_01.jpg  \n",
            "  inflating: val_data/3446/0144_01.jpg  \n",
            "  inflating: val_data/3446/0319_01.jpg  \n",
            "  inflating: val_data/3447/0024_03.jpg  \n",
            "  inflating: val_data/3447/0374_01.jpg  \n",
            "  inflating: val_data/3448/0260_01.jpg  \n",
            "  inflating: val_data/3448/0262_02.jpg  \n",
            "  inflating: val_data/3449/0159_01.jpg  \n",
            "  inflating: val_data/3449/0279_01.jpg  \n",
            "  inflating: val_data/345/0031_01.jpg  \n",
            "  inflating: val_data/345/0056_01.jpg  \n",
            "  inflating: val_data/3450/0298_01.jpg  \n",
            "  inflating: val_data/3450/0310_02.jpg  \n",
            "  inflating: val_data/3451/0178_03.jpg  \n",
            "  inflating: val_data/3451/0202_01.jpg  \n",
            "  inflating: val_data/3452/0011_01.jpg  \n",
            "  inflating: val_data/3452/0353_01.jpg  \n",
            "  inflating: val_data/3453/0057_01.jpg  \n",
            "  inflating: val_data/3453/0424_01.jpg  \n",
            "  inflating: val_data/3454/0204_01.jpg  \n",
            "  inflating: val_data/3454/0234_01.jpg  \n",
            "  inflating: val_data/3455/0083_01.jpg  \n",
            "  inflating: val_data/3455/0171_01.jpg  \n",
            "  inflating: val_data/3456/0253_01.jpg  \n",
            "  inflating: val_data/3456/0277_01.jpg  \n",
            "  inflating: val_data/3457/0027_01.jpg  \n",
            "  inflating: val_data/3457/0198_01.jpg  \n",
            "  inflating: val_data/3458/0083_01.jpg  \n",
            "  inflating: val_data/3458/0344_01.jpg  \n",
            "  inflating: val_data/3459/0061_01.jpg  \n",
            "  inflating: val_data/3459/0196_01.jpg  \n",
            "  inflating: val_data/346/0023_01.jpg  \n",
            "  inflating: val_data/346/0201_01.jpg  \n",
            "  inflating: val_data/3460/0105_01.jpg  \n",
            "  inflating: val_data/3460/0194_02.jpg  \n",
            "  inflating: val_data/3461/0038_01.jpg  \n",
            "  inflating: val_data/3461/0223_01.jpg  \n",
            "  inflating: val_data/3462/0266_01.jpg  \n",
            "  inflating: val_data/3462/0273_02.jpg  \n",
            "  inflating: val_data/3463/0023_01.jpg  \n",
            "  inflating: val_data/3463/0178_01.jpg  \n",
            "  inflating: val_data/3464/0378_02.jpg  \n",
            "  inflating: val_data/3464/0420_01.jpg  \n",
            "  inflating: val_data/3465/0144_01.jpg  \n",
            "  inflating: val_data/3465/0237_01.jpg  \n",
            "  inflating: val_data/3466/0013_01.jpg  \n",
            "  inflating: val_data/3466/0382_01.jpg  \n",
            "  inflating: val_data/3467/0051_01.jpg  \n",
            "  inflating: val_data/3467/0316_01.jpg  \n",
            "  inflating: val_data/3468/0044_01.jpg  \n",
            "  inflating: val_data/3468/0145_01.jpg  \n",
            "  inflating: val_data/3469/0129_01.jpg  \n",
            "  inflating: val_data/3469/0266_01.jpg  \n",
            "  inflating: val_data/347/0277_01.jpg  \n",
            "  inflating: val_data/347/0361_01.jpg  \n",
            "  inflating: val_data/3470/0255_03.jpg  \n",
            "  inflating: val_data/3470/0308_02.jpg  \n",
            "  inflating: val_data/3471/0323_01.jpg  \n",
            "  inflating: val_data/3471/0349_01.jpg  \n",
            "  inflating: val_data/3472/0208_01.jpg  \n",
            "  inflating: val_data/3472/0262_01.jpg  \n",
            "  inflating: val_data/3473/0247_01.jpg  \n",
            "  inflating: val_data/3473/0550_01.jpg  \n",
            "  inflating: val_data/3474/0089_01.jpg  \n",
            "  inflating: val_data/3474/0117_03.jpg  \n",
            "  inflating: val_data/3475/0015_02.jpg  \n",
            "  inflating: val_data/3475/0208_01.jpg  \n",
            "  inflating: val_data/3476/0846_01.jpg  \n",
            "  inflating: val_data/3476/0879_01.jpg  \n",
            "  inflating: val_data/3477/0098_01.jpg  \n",
            "  inflating: val_data/3477/0436_01.jpg  \n",
            "  inflating: val_data/3478/0036_05.jpg  \n",
            "  inflating: val_data/3478/0085_08.jpg  \n",
            "  inflating: val_data/3479/0132_01.jpg  \n",
            "  inflating: val_data/3479/0360_02.jpg  \n",
            "  inflating: val_data/348/0089_01.jpg  \n",
            "  inflating: val_data/348/0145_01.jpg  \n",
            "  inflating: val_data/3480/0124_01.jpg  \n",
            "  inflating: val_data/3480/0363_01.jpg  \n",
            "  inflating: val_data/3481/0060_01.jpg  \n",
            "  inflating: val_data/3481/0369_01.jpg  \n",
            "  inflating: val_data/3482/0456_01.jpg  \n",
            "  inflating: val_data/3482/0535_01.jpg  \n",
            "  inflating: val_data/3483/0049_01.jpg  \n",
            "  inflating: val_data/3483/0221_01.jpg  \n",
            "  inflating: val_data/3484/0007_01.jpg  \n",
            "  inflating: val_data/3484/0793_01.jpg  \n",
            "  inflating: val_data/3485/0144_01.jpg  \n",
            "  inflating: val_data/3485/0317_01.jpg  \n",
            "  inflating: val_data/3486/0172_01.jpg  \n",
            "  inflating: val_data/3486/0224_01.jpg  \n",
            "  inflating: val_data/3487/0036_01.jpg  \n",
            "  inflating: val_data/3487/0242_01.jpg  \n",
            "  inflating: val_data/3488/0160_04.jpg  \n",
            "  inflating: val_data/3488/0273_01.jpg  \n",
            "  inflating: val_data/3489/0067_01.jpg  \n",
            "  inflating: val_data/3489/0170_01.jpg  \n",
            "  inflating: val_data/349/0080_01.jpg  \n",
            "  inflating: val_data/349/0347_01.jpg  \n",
            "  inflating: val_data/3490/0344_01.jpg  \n",
            "  inflating: val_data/3490/0419_01.jpg  \n",
            "  inflating: val_data/3491/0087_01.jpg  \n",
            "  inflating: val_data/3491/0105_01.jpg  \n",
            "  inflating: val_data/3492/0059_01.jpg  \n",
            "  inflating: val_data/3492/0089_01.jpg  \n",
            "  inflating: val_data/3493/0190_01.jpg  \n",
            "  inflating: val_data/3493/0367_02.jpg  \n",
            "  inflating: val_data/3494/0070_01.jpg  \n",
            "  inflating: val_data/3494/0343_01.jpg  \n",
            "  inflating: val_data/3495/0043_01.jpg  \n",
            "  inflating: val_data/3495/0103_01.jpg  \n",
            "  inflating: val_data/3496/0006_01.jpg  \n",
            "  inflating: val_data/3496/0283_01.jpg  \n",
            "  inflating: val_data/3497/0068_01.jpg  \n",
            "  inflating: val_data/3497/0130_01.jpg  \n",
            "  inflating: val_data/3498/0022_01.jpg  \n",
            "  inflating: val_data/3498/0323_01.jpg  \n",
            "  inflating: val_data/3499/0030_01.jpg  \n",
            "  inflating: val_data/3499/0233_01.jpg  \n",
            "  inflating: val_data/35/0117_01.jpg  \n",
            "  inflating: val_data/35/0230_01.jpg  \n",
            "  inflating: val_data/350/0219_01.jpg  \n",
            "  inflating: val_data/350/0281_01.jpg  \n",
            "  inflating: val_data/3500/0170_01.jpg  \n",
            "  inflating: val_data/3500/0188_01.jpg  \n",
            "  inflating: val_data/3501/0179_02.jpg  \n",
            "  inflating: val_data/3501/0250_01.jpg  \n",
            "  inflating: val_data/3502/0014_01.jpg  \n",
            "  inflating: val_data/3502/0104_07.jpg  \n",
            "  inflating: val_data/3503/0079_01.jpg  \n",
            "  inflating: val_data/3503/0120_01.jpg  \n",
            "  inflating: val_data/3504/0309_01.jpg  \n",
            "  inflating: val_data/3504/0413_01.jpg  \n",
            "  inflating: val_data/3505/0123_01.jpg  \n",
            "  inflating: val_data/3505/0211_01.jpg  \n",
            "  inflating: val_data/3506/0097_01.jpg  \n",
            "  inflating: val_data/3506/0220_02.jpg  \n",
            "  inflating: val_data/3507/0136_01.jpg  \n",
            "  inflating: val_data/3507/0193_02.jpg  \n",
            "  inflating: val_data/3508/0002_01.jpg  \n",
            "  inflating: val_data/3508/0237_01.jpg  \n",
            "  inflating: val_data/3509/0166_01.jpg  \n",
            "  inflating: val_data/3509/0176_01.jpg  \n",
            "  inflating: val_data/351/0033_01.jpg  \n",
            "  inflating: val_data/351/0242_01.jpg  \n",
            "  inflating: val_data/3510/0035_01.jpg  \n",
            "  inflating: val_data/3510/0266_01.jpg  \n",
            "  inflating: val_data/3511/0084_02.jpg  \n",
            "  inflating: val_data/3511/0157_01.jpg  \n",
            "  inflating: val_data/3512/0046_01.jpg  \n",
            "  inflating: val_data/3512/0423_02.jpg  \n",
            "  inflating: val_data/3513/0072_05.jpg  \n",
            "  inflating: val_data/3513/0215_01.jpg  \n",
            "  inflating: val_data/3514/0019_01.jpg  \n",
            "  inflating: val_data/3514/0392_01.jpg  \n",
            "  inflating: val_data/3515/0046_02.jpg  \n",
            "  inflating: val_data/3515/0295_03.jpg  \n",
            "  inflating: val_data/3516/0009_01.jpg  \n",
            "  inflating: val_data/3516/0040_01.jpg  \n",
            "  inflating: val_data/3517/0233_01.jpg  \n",
            "  inflating: val_data/3517/0272_01.jpg  \n",
            "  inflating: val_data/3518/0061_02.jpg  \n",
            "  inflating: val_data/3518/0103_03.jpg  \n",
            "  inflating: val_data/3519/0001_01.jpg  \n",
            "  inflating: val_data/3519/0079_01.jpg  \n",
            "  inflating: val_data/352/0280_01.jpg  \n",
            "  inflating: val_data/352/0357_01.jpg  \n",
            "  inflating: val_data/3520/0202_02.jpg  \n",
            "  inflating: val_data/3520/0301_03.jpg  \n",
            "  inflating: val_data/3521/0086_01.jpg  \n",
            "  inflating: val_data/3521/0254_02.jpg  \n",
            "  inflating: val_data/3522/0132_01.jpg  \n",
            "  inflating: val_data/3522/0213_01.jpg  \n",
            "  inflating: val_data/3523/0077_01.jpg  \n",
            "  inflating: val_data/3523/0091_02.jpg  \n",
            "  inflating: val_data/3524/0134_01.jpg  \n",
            "  inflating: val_data/3524/0234_01.jpg  \n",
            "  inflating: val_data/3525/0193_01.jpg  \n",
            "  inflating: val_data/3525/0276_02.jpg  \n",
            "  inflating: val_data/3526/0226_01.jpg  \n",
            "  inflating: val_data/3526/0264_01.jpg  \n",
            "  inflating: val_data/3527/0009_01.jpg  \n",
            "  inflating: val_data/3527/0109_01.jpg  \n",
            "  inflating: val_data/3528/0111_01.jpg  \n",
            "  inflating: val_data/3528/0133_02.jpg  \n",
            "  inflating: val_data/3529/0180_02.jpg  \n",
            "  inflating: val_data/3529/0301_01.jpg  \n",
            "  inflating: val_data/353/0059_01.jpg  \n",
            "  inflating: val_data/353/0236_02.jpg  \n",
            "  inflating: val_data/3530/0553_01.jpg  \n",
            "  inflating: val_data/3530/0565_01.jpg  \n",
            "  inflating: val_data/3531/0069_01.jpg  \n",
            "  inflating: val_data/3531/0071_01.jpg  \n",
            "  inflating: val_data/3532/0060_01.jpg  \n",
            "  inflating: val_data/3532/0184_02.jpg  \n",
            "  inflating: val_data/3533/0029_07.jpg  \n",
            "  inflating: val_data/3533/0099_01.jpg  \n",
            "  inflating: val_data/3534/0108_05.jpg  \n",
            "  inflating: val_data/3534/0245_01.jpg  \n",
            "  inflating: val_data/3535/0308_05.jpg  \n",
            "  inflating: val_data/3535/0392_01.jpg  \n",
            "  inflating: val_data/3536/0016_01.jpg  \n",
            "  inflating: val_data/3536/0363_01.jpg  \n",
            "  inflating: val_data/3537/0090_01.jpg  \n",
            "  inflating: val_data/3537/0092_01.jpg  \n",
            "  inflating: val_data/3538/0158_01.jpg  \n",
            "  inflating: val_data/3538/0295_01.jpg  \n",
            "  inflating: val_data/3539/0221_01.jpg  \n",
            "  inflating: val_data/3539/0480_01.jpg  \n",
            "  inflating: val_data/354/0033_01.jpg  \n",
            "  inflating: val_data/354/0141_01.jpg  \n",
            "  inflating: val_data/3540/0292_01.jpg  \n",
            "  inflating: val_data/3540/0343_01.jpg  \n",
            "  inflating: val_data/3541/0206_01.jpg  \n",
            "  inflating: val_data/3541/0246_03.jpg  \n",
            "  inflating: val_data/3542/0057_01.jpg  \n",
            "  inflating: val_data/3542/0356_01.jpg  \n",
            "  inflating: val_data/3543/0023_01.jpg  \n",
            "  inflating: val_data/3543/0119_01.jpg  \n",
            "  inflating: val_data/3544/0093_01.jpg  \n",
            "  inflating: val_data/3544/0159_01.jpg  \n",
            "  inflating: val_data/3545/0135_01.jpg  \n",
            "  inflating: val_data/3545/0248_01.jpg  \n",
            "  inflating: val_data/3546/0131_01.jpg  \n",
            "  inflating: val_data/3546/0398_01.jpg  \n",
            "  inflating: val_data/3547/0205_03.jpg  \n",
            "  inflating: val_data/3547/0264_01.jpg  \n",
            "  inflating: val_data/3548/0023_01.jpg  \n",
            "  inflating: val_data/3548/0129_01.jpg  \n",
            "  inflating: val_data/3549/0009_01.jpg  \n",
            "  inflating: val_data/3549/0209_01.jpg  \n",
            "  inflating: val_data/355/0107_01.jpg  \n",
            "  inflating: val_data/355/0166_02.jpg  \n",
            "  inflating: val_data/3550/0010_01.jpg  \n",
            "  inflating: val_data/3550/0318_01.jpg  \n",
            "  inflating: val_data/3551/0238_02.jpg  \n",
            "  inflating: val_data/3551/0275_01.jpg  \n",
            "  inflating: val_data/3552/0023_01.jpg  \n",
            "  inflating: val_data/3552/0210_01.jpg  \n",
            "  inflating: val_data/3553/0009_01.jpg  \n",
            "  inflating: val_data/3553/0111_01.jpg  \n",
            "  inflating: val_data/3554/0102_01.jpg  \n",
            "  inflating: val_data/3554/0452_01.jpg  \n",
            "  inflating: val_data/3555/0223_01.jpg  \n",
            "  inflating: val_data/3555/0297_01.jpg  \n",
            "  inflating: val_data/3556/0099_01.jpg  \n",
            "  inflating: val_data/3556/0332_01.jpg  \n",
            "  inflating: val_data/3557/0033_01.jpg  \n",
            "  inflating: val_data/3557/0076_01.jpg  \n",
            "  inflating: val_data/3558/0236_01.jpg  \n",
            "  inflating: val_data/3558/0376_01.jpg  \n",
            "  inflating: val_data/3559/0005_01.jpg  \n",
            "  inflating: val_data/3559/0305_01.jpg  \n",
            "  inflating: val_data/356/0391_01.jpg  \n",
            "  inflating: val_data/356/0465_01.jpg  \n",
            "  inflating: val_data/3560/0257_01.jpg  \n",
            "  inflating: val_data/3560/0367_01.jpg  \n",
            "  inflating: val_data/3561/0093_01.jpg  \n",
            "  inflating: val_data/3561/0290_02.jpg  \n",
            "  inflating: val_data/3562/0207_01.jpg  \n",
            "  inflating: val_data/3562/0354_01.jpg  \n",
            "  inflating: val_data/3563/0105_01.jpg  \n",
            "  inflating: val_data/3563/0132_01.jpg  \n",
            "  inflating: val_data/3564/0266_01.jpg  \n",
            "  inflating: val_data/3564/0346_01.jpg  \n",
            "  inflating: val_data/3565/0036_01.jpg  \n",
            "  inflating: val_data/3565/0219_01.jpg  \n",
            "  inflating: val_data/3566/0241_01.jpg  \n",
            "  inflating: val_data/3566/0269_01.jpg  \n",
            "  inflating: val_data/3567/0006_01.jpg  \n",
            "  inflating: val_data/3567/0129_01.jpg  \n",
            "  inflating: val_data/3568/0092_01.jpg  \n",
            "  inflating: val_data/3568/0416_01.jpg  \n",
            "  inflating: val_data/3569/0057_01.jpg  \n",
            "  inflating: val_data/3569/0208_02.jpg  \n",
            "  inflating: val_data/357/0272_02.jpg  \n",
            "  inflating: val_data/357/0459_02.jpg  \n",
            "  inflating: val_data/3570/0199_01.jpg  \n",
            "  inflating: val_data/3570/0239_01.jpg  \n",
            "  inflating: val_data/3571/0112_01.jpg  \n",
            "  inflating: val_data/3571/0394_03.jpg  \n",
            "  inflating: val_data/3572/0012_01.jpg  \n",
            "  inflating: val_data/3572/0119_01.jpg  \n",
            "  inflating: val_data/3573/0134_01.jpg  \n",
            "  inflating: val_data/3573/0148_01.jpg  \n",
            "  inflating: val_data/3574/0014_01.jpg  \n",
            "  inflating: val_data/3574/0123_02.jpg  \n",
            "  inflating: val_data/3575/0129_02.jpg  \n",
            "  inflating: val_data/3575/0270_01.jpg  \n",
            "  inflating: val_data/3576/0078_01.jpg  \n",
            "  inflating: val_data/3576/0411_02.jpg  \n",
            "  inflating: val_data/3577/0066_01.jpg  \n",
            "  inflating: val_data/3577/0175_01.jpg  \n",
            "  inflating: val_data/3578/0026_01.jpg  \n",
            "  inflating: val_data/3578/0063_03.jpg  \n",
            "  inflating: val_data/3579/0271_01.jpg  \n",
            "  inflating: val_data/3579/0368_01.jpg  \n",
            "  inflating: val_data/358/0166_01.jpg  \n",
            "  inflating: val_data/358/0277_01.jpg  \n",
            "  inflating: val_data/3580/0120_01.jpg  \n",
            "  inflating: val_data/3580/0338_02.jpg  \n",
            "  inflating: val_data/3581/0073_02.jpg  \n",
            "  inflating: val_data/3581/0724_02.jpg  \n",
            "  inflating: val_data/3582/0012_01.jpg  \n",
            "  inflating: val_data/3582/0267_02.jpg  \n",
            "  inflating: val_data/3583/0338_01.jpg  \n",
            "  inflating: val_data/3583/0464_01.jpg  \n",
            "  inflating: val_data/3584/0152_01.jpg  \n",
            "  inflating: val_data/3584/0237_04.jpg  \n",
            "  inflating: val_data/3585/0072_01.jpg  \n",
            "  inflating: val_data/3585/0238_01.jpg  \n",
            "  inflating: val_data/3586/0224_02.jpg  \n",
            "  inflating: val_data/3586/0236_01.jpg  \n",
            "  inflating: val_data/3587/0241_01.jpg  \n",
            "  inflating: val_data/3587/0254_01.jpg  \n",
            "  inflating: val_data/3588/0194_01.jpg  \n",
            "  inflating: val_data/3588/0395_02.jpg  \n",
            "  inflating: val_data/3589/0149_02.jpg  \n",
            "  inflating: val_data/3589/0314_02.jpg  \n",
            "  inflating: val_data/359/0139_01.jpg  \n",
            "  inflating: val_data/359/0232_01.jpg  \n",
            "  inflating: val_data/3590/0281_05.jpg  \n",
            "  inflating: val_data/3590/0433_01.jpg  \n",
            "  inflating: val_data/3591/0134_01.jpg  \n",
            "  inflating: val_data/3591/0248_01.jpg  \n",
            "  inflating: val_data/3592/0034_01.jpg  \n",
            "  inflating: val_data/3592/0242_01.jpg  \n",
            "  inflating: val_data/3593/0220_02.jpg  \n",
            "  inflating: val_data/3593/0424_01.jpg  \n",
            "  inflating: val_data/3594/0081_01.jpg  \n",
            "  inflating: val_data/3594/0173_01.jpg  \n",
            "  inflating: val_data/3595/0201_04.jpg  \n",
            "  inflating: val_data/3595/0223_03.jpg  \n",
            "  inflating: val_data/3596/0032_01.jpg  \n",
            "  inflating: val_data/3596/0038_02.jpg  \n",
            "  inflating: val_data/3597/0008_01.jpg  \n",
            "  inflating: val_data/3597/0221_01.jpg  \n",
            "  inflating: val_data/3598/0028_01.jpg  \n",
            "  inflating: val_data/3598/0170_01.jpg  \n",
            "  inflating: val_data/3599/0178_01.jpg  \n",
            "  inflating: val_data/3599/0485_02.jpg  \n",
            "  inflating: val_data/36/0178_01.jpg  \n",
            "  inflating: val_data/36/0303_02.jpg  \n",
            "  inflating: val_data/360/0002_01.jpg  \n",
            "  inflating: val_data/360/0029_01.jpg  \n",
            "  inflating: val_data/3600/0050_01.jpg  \n",
            "  inflating: val_data/3600/1042_01.jpg  \n",
            "  inflating: val_data/3601/0049_01.jpg  \n",
            "  inflating: val_data/3601/0809_01.jpg  \n",
            "  inflating: val_data/3602/0176_01.jpg  \n",
            "  inflating: val_data/3602/0268_01.jpg  \n",
            "  inflating: val_data/3603/0033_01.jpg  \n",
            "  inflating: val_data/3603/0279_01.jpg  \n",
            "  inflating: val_data/3604/0007_01.jpg  \n",
            "  inflating: val_data/3604/0129_01.jpg  \n",
            "  inflating: val_data/3605/0380_01.jpg  \n",
            "  inflating: val_data/3605/0429_04.jpg  \n",
            "  inflating: val_data/3606/0150_01.jpg  \n",
            "  inflating: val_data/3606/0168_01.jpg  \n",
            "  inflating: val_data/3607/0252_01.jpg  \n",
            "  inflating: val_data/3607/0264_01.jpg  \n",
            "  inflating: val_data/3608/0029_01.jpg  \n",
            "  inflating: val_data/3608/0159_01.jpg  \n",
            "  inflating: val_data/3609/0118_01.jpg  \n",
            "  inflating: val_data/3609/0212_01.jpg  \n",
            "  inflating: val_data/361/0004_02.jpg  \n",
            "  inflating: val_data/361/0355_01.jpg  \n",
            "  inflating: val_data/3610/0205_01.jpg  \n",
            "  inflating: val_data/3610/0258_02.jpg  \n",
            "  inflating: val_data/3611/0237_01.jpg  \n",
            "  inflating: val_data/3611/0266_01.jpg  \n",
            "  inflating: val_data/3612/0171_01.jpg  \n",
            "  inflating: val_data/3612/0307_01.jpg  \n",
            "  inflating: val_data/3613/0217_01.jpg  \n",
            "  inflating: val_data/3613/0845_01.jpg  \n",
            "  inflating: val_data/3614/0067_02.jpg  \n",
            "  inflating: val_data/3614/0356_01.jpg  \n",
            "  inflating: val_data/3615/0105_01.jpg  \n",
            "  inflating: val_data/3615/0203_01.jpg  \n",
            "  inflating: val_data/3616/0024_01.jpg  \n",
            "  inflating: val_data/3616/0587_01.jpg  \n",
            "  inflating: val_data/3617/0101_01.jpg  \n",
            "  inflating: val_data/3617/0220_01.jpg  \n",
            "  inflating: val_data/3618/0002_01.jpg  \n",
            "  inflating: val_data/3618/0502_01.jpg  \n",
            "  inflating: val_data/3619/0191_01.jpg  \n",
            "  inflating: val_data/3619/0291_01.jpg  \n",
            "  inflating: val_data/362/0213_01.jpg  \n",
            "  inflating: val_data/362/0234_01.jpg  \n",
            "  inflating: val_data/3620/0030_02.jpg  \n",
            "  inflating: val_data/3620/0120_01.jpg  \n",
            "  inflating: val_data/3621/0312_01.jpg  \n",
            "  inflating: val_data/3621/0358_03.jpg  \n",
            "  inflating: val_data/3622/0003_01.jpg  \n",
            "  inflating: val_data/3622/0075_01.jpg  \n",
            "  inflating: val_data/3623/0179_01.jpg  \n",
            "  inflating: val_data/3623/0313_01.jpg  \n",
            "  inflating: val_data/3624/0137_01.jpg  \n",
            "  inflating: val_data/3624/0411_04.jpg  \n",
            "  inflating: val_data/3625/0039_01.jpg  \n",
            "  inflating: val_data/3625/0054_01.jpg  \n",
            "  inflating: val_data/3626/0104_01.jpg  \n",
            "  inflating: val_data/3626/0139_01.jpg  \n",
            "  inflating: val_data/3627/0013_02.jpg  \n",
            "  inflating: val_data/3627/0171_02.jpg  \n",
            "  inflating: val_data/3628/0085_01.jpg  \n",
            "  inflating: val_data/3628/0288_01.jpg  \n",
            "  inflating: val_data/3629/0037_02.jpg  \n",
            "  inflating: val_data/3629/0401_02.jpg  \n",
            "  inflating: val_data/363/0005_01.jpg  \n",
            "  inflating: val_data/363/0110_03.jpg  \n",
            "  inflating: val_data/3630/0339_01.jpg  \n",
            "  inflating: val_data/3630/0357_02.jpg  \n",
            "  inflating: val_data/3631/0098_01.jpg  \n",
            "  inflating: val_data/3631/0152_01.jpg  \n",
            "  inflating: val_data/3632/0043_01.jpg  \n",
            "  inflating: val_data/3632/0063_02.jpg  \n",
            "  inflating: val_data/3633/0209_01.jpg  \n",
            "  inflating: val_data/3633/0212_01.jpg  \n",
            "  inflating: val_data/3634/0010_01.jpg  \n",
            "  inflating: val_data/3634/0317_02.jpg  \n",
            "  inflating: val_data/3635/0206_01.jpg  \n",
            "  inflating: val_data/3635/0296_01.jpg  \n",
            "  inflating: val_data/3636/0059_01.jpg  \n",
            "  inflating: val_data/3636/0130_01.jpg  \n",
            "  inflating: val_data/3637/0166_01.jpg  \n",
            "  inflating: val_data/3637/0283_01.jpg  \n",
            "  inflating: val_data/3638/0008_02.jpg  \n",
            "  inflating: val_data/3638/0241_01.jpg  \n",
            "  inflating: val_data/3639/0124_01.jpg  \n",
            "  inflating: val_data/3639/0402_01.jpg  \n",
            "  inflating: val_data/364/0010_01.jpg  \n",
            "  inflating: val_data/364/0125_01.jpg  \n",
            "  inflating: val_data/3640/0015_01.jpg  \n",
            "  inflating: val_data/3640/0220_01.jpg  \n",
            "  inflating: val_data/3641/0052_01.jpg  \n",
            "  inflating: val_data/3641/0234_05.jpg  \n",
            "  inflating: val_data/3642/0194_01.jpg  \n",
            "  inflating: val_data/3642/0446_01.jpg  \n",
            "  inflating: val_data/3643/0031_04.jpg  \n",
            "  inflating: val_data/3643/0072_01.jpg  \n",
            "  inflating: val_data/3644/0038_02.jpg  \n",
            "  inflating: val_data/3644/0082_01.jpg  \n",
            "  inflating: val_data/3645/0023_01.jpg  \n",
            "  inflating: val_data/3645/0204_01.jpg  \n",
            "  inflating: val_data/3646/0024_03.jpg  \n",
            "  inflating: val_data/3646/0204_01.jpg  \n",
            "  inflating: val_data/3647/0055_01.jpg  \n",
            "  inflating: val_data/3647/0278_01.jpg  \n",
            "  inflating: val_data/3648/0007_02.jpg  \n",
            "  inflating: val_data/3648/0139_01.jpg  \n",
            "  inflating: val_data/3649/0122_01.jpg  \n",
            "  inflating: val_data/3649/0329_01.jpg  \n",
            "  inflating: val_data/365/0081_01.jpg  \n",
            "  inflating: val_data/365/0178_01.jpg  \n",
            "  inflating: val_data/3650/0181_01.jpg  \n",
            "  inflating: val_data/3650/0383_01.jpg  \n",
            "  inflating: val_data/3651/0218_01.jpg  \n",
            "  inflating: val_data/3651/0271_01.jpg  \n",
            "  inflating: val_data/3652/0067_01.jpg  \n",
            "  inflating: val_data/3652/0103_01.jpg  \n",
            "  inflating: val_data/3653/0117_05.jpg  \n",
            "  inflating: val_data/3653/0515_01.jpg  \n",
            "  inflating: val_data/3654/0050_01.jpg  \n",
            "  inflating: val_data/3654/0063_02.jpg  \n",
            "  inflating: val_data/3655/0106_01.jpg  \n",
            "  inflating: val_data/3655/0285_02.jpg  \n",
            "  inflating: val_data/3656/0141_02.jpg  \n",
            "  inflating: val_data/3656/0161_01.jpg  \n",
            "  inflating: val_data/3657/0156_01.jpg  \n",
            "  inflating: val_data/3657/0158_01.jpg  \n",
            "  inflating: val_data/3658/0065_01.jpg  \n",
            "  inflating: val_data/3658/0280_01.jpg  \n",
            "  inflating: val_data/3659/0347_01.jpg  \n",
            "  inflating: val_data/3659/0404_01.jpg  \n",
            "  inflating: val_data/366/0012_01.jpg  \n",
            "  inflating: val_data/366/0025_01.jpg  \n",
            "  inflating: val_data/3660/0295_01.jpg  \n",
            "  inflating: val_data/3660/0458_01.jpg  \n",
            "  inflating: val_data/3661/0106_02.jpg  \n",
            "  inflating: val_data/3661/0111_01.jpg  \n",
            "  inflating: val_data/3662/0084_01.jpg  \n",
            "  inflating: val_data/3662/0512_01.jpg  \n",
            "  inflating: val_data/3663/0078_01.jpg  \n",
            "  inflating: val_data/3663/0255_01.jpg  \n",
            "  inflating: val_data/3664/0159_01.jpg  \n",
            "  inflating: val_data/3664/0242_01.jpg  \n",
            "  inflating: val_data/3665/0284_01.jpg  \n",
            "  inflating: val_data/3665/0338_01.jpg  \n",
            "  inflating: val_data/3666/0257_01.jpg  \n",
            "  inflating: val_data/3666/0286_01.jpg  \n",
            "  inflating: val_data/3667/0356_02.jpg  \n",
            "  inflating: val_data/3667/0403_01.jpg  \n",
            "  inflating: val_data/3668/0165_01.jpg  \n",
            "  inflating: val_data/3668/0275_01.jpg  \n",
            "  inflating: val_data/3669/0063_01.jpg  \n",
            "  inflating: val_data/3669/0125_01.jpg  \n",
            "  inflating: val_data/367/0112_01.jpg  \n",
            "  inflating: val_data/367/0287_01.jpg  \n",
            "  inflating: val_data/3670/0203_01.jpg  \n",
            "  inflating: val_data/3670/0268_01.jpg  \n",
            "  inflating: val_data/3671/0200_01.jpg  \n",
            "  inflating: val_data/3671/0228_01.jpg  \n",
            "  inflating: val_data/3672/0350_01.jpg  \n",
            "  inflating: val_data/3672/0669_01.jpg  \n",
            "  inflating: val_data/3673/0075_01.jpg  \n",
            "  inflating: val_data/3673/0345_01.jpg  \n",
            "  inflating: val_data/3674/0302_01.jpg  \n",
            "  inflating: val_data/3674/0386_01.jpg  \n",
            "  inflating: val_data/3675/0028_01.jpg  \n",
            "  inflating: val_data/3675/0289_01.jpg  \n",
            "  inflating: val_data/3676/0036_01.jpg  \n",
            "  inflating: val_data/3676/0145_01.jpg  \n",
            "  inflating: val_data/3677/0002_01.jpg  \n",
            "  inflating: val_data/3677/0253_01.jpg  \n",
            "  inflating: val_data/3678/0128_03.jpg  \n",
            "  inflating: val_data/3678/0133_04.jpg  \n",
            "  inflating: val_data/3679/0021_01.jpg  \n",
            "  inflating: val_data/3679/0114_01.jpg  \n",
            "  inflating: val_data/368/0018_01.jpg  \n",
            "  inflating: val_data/368/0156_01.jpg  \n",
            "  inflating: val_data/3680/0023_01.jpg  \n",
            "  inflating: val_data/3680/0246_01.jpg  \n",
            "  inflating: val_data/3681/0234_01.jpg  \n",
            "  inflating: val_data/3681/0548_01.jpg  \n",
            "  inflating: val_data/3682/0033_01.jpg  \n",
            "  inflating: val_data/3682/0053_01.jpg  \n",
            "  inflating: val_data/3683/0077_02.jpg  \n",
            "  inflating: val_data/3683/0115_01.jpg  \n",
            "  inflating: val_data/3684/0020_01.jpg  \n",
            "  inflating: val_data/3684/0062_01.jpg  \n",
            "  inflating: val_data/3685/0154_01.jpg  \n",
            "  inflating: val_data/3685/0169_01.jpg  \n",
            "  inflating: val_data/3686/0001_03.jpg  \n",
            "  inflating: val_data/3686/0246_01.jpg  \n",
            "  inflating: val_data/3687/0116_01.jpg  \n",
            "  inflating: val_data/3687/0218_01.jpg  \n",
            "  inflating: val_data/3688/0086_01.jpg  \n",
            "  inflating: val_data/3688/0198_01.jpg  \n",
            "  inflating: val_data/3689/0140_02.jpg  \n",
            "  inflating: val_data/3689/0274_07.jpg  \n",
            "  inflating: val_data/369/0135_02.jpg  \n",
            "  inflating: val_data/369/0224_03.jpg  \n",
            "  inflating: val_data/3690/0067_02.jpg  \n",
            "  inflating: val_data/3690/0259_01.jpg  \n",
            "  inflating: val_data/3691/0010_02.jpg  \n",
            "  inflating: val_data/3691/0152_01.jpg  \n",
            "  inflating: val_data/3692/0121_01.jpg  \n",
            "  inflating: val_data/3692/0205_02.jpg  \n",
            "  inflating: val_data/3693/0052_01.jpg  \n",
            "  inflating: val_data/3693/1139_01.jpg  \n",
            "  inflating: val_data/3694/0054_01.jpg  \n",
            "  inflating: val_data/3694/0127_02.jpg  \n",
            "  inflating: val_data/3695/0034_01.jpg  \n",
            "  inflating: val_data/3695/0307_01.jpg  \n",
            "  inflating: val_data/3696/0285_04.jpg  \n",
            "  inflating: val_data/3696/0398_04.jpg  \n",
            "  inflating: val_data/3697/0300_01.jpg  \n",
            "  inflating: val_data/3697/0368_01.jpg  \n",
            "  inflating: val_data/3698/0254_01.jpg  \n",
            "  inflating: val_data/3698/0297_01.jpg  \n",
            "  inflating: val_data/3699/0021_01.jpg  \n",
            "  inflating: val_data/3699/0447_01.jpg  \n",
            "  inflating: val_data/37/0018_01.jpg  \n",
            "  inflating: val_data/37/0034_01.jpg  \n",
            "  inflating: val_data/370/0181_01.jpg  \n",
            "  inflating: val_data/370/0349_01.jpg  \n",
            "  inflating: val_data/3700/0111_01.jpg  \n",
            "  inflating: val_data/3700/0183_01.jpg  \n",
            "  inflating: val_data/3701/0379_01.jpg  \n",
            "  inflating: val_data/3701/0417_01.jpg  \n",
            "  inflating: val_data/3702/0277_01.jpg  \n",
            "  inflating: val_data/3702/0335_01.jpg  \n",
            "  inflating: val_data/3703/0119_02.jpg  \n",
            "  inflating: val_data/3703/0310_01.jpg  \n",
            "  inflating: val_data/3704/0145_01.jpg  \n",
            "  inflating: val_data/3704/0204_02.jpg  \n",
            "  inflating: val_data/3705/0075_01.jpg  \n",
            "  inflating: val_data/3705/0105_01.jpg  \n",
            "  inflating: val_data/3706/0290_01.jpg  \n",
            "  inflating: val_data/3706/0451_01.jpg  \n",
            "  inflating: val_data/3707/0043_01.jpg  \n",
            "  inflating: val_data/3707/0206_02.jpg  \n",
            "  inflating: val_data/3708/0020_01.jpg  \n",
            "  inflating: val_data/3708/0230_01.jpg  \n",
            "  inflating: val_data/3709/0094_01.jpg  \n",
            "  inflating: val_data/3709/0296_01.jpg  \n",
            "  inflating: val_data/371/0110_01.jpg  \n",
            "  inflating: val_data/371/0210_01.jpg  \n",
            "  inflating: val_data/3710/0416_01.jpg  \n",
            "  inflating: val_data/3710/0437_02.jpg  \n",
            "  inflating: val_data/3711/0369_02.jpg  \n",
            "  inflating: val_data/3711/0423_01.jpg  \n",
            "  inflating: val_data/3712/0121_01.jpg  \n",
            "  inflating: val_data/3712/0264_01.jpg  \n",
            "  inflating: val_data/3713/0278_02.jpg  \n",
            "  inflating: val_data/3713/0446_01.jpg  \n",
            "  inflating: val_data/3714/0031_02.jpg  \n",
            "  inflating: val_data/3714/0155_01.jpg  \n",
            "  inflating: val_data/3715/0170_03.jpg  \n",
            "  inflating: val_data/3715/0275_01.jpg  \n",
            "  inflating: val_data/3716/0046_01.jpg  \n",
            "  inflating: val_data/3716/0208_02.jpg  \n",
            "  inflating: val_data/3717/0223_01.jpg  \n",
            "  inflating: val_data/3717/0508_01.jpg  \n",
            "  inflating: val_data/3718/0148_01.jpg  \n",
            "  inflating: val_data/3718/0203_01.jpg  \n",
            "  inflating: val_data/3719/0005_01.jpg  \n",
            "  inflating: val_data/3719/0124_01.jpg  \n",
            "  inflating: val_data/372/0014_01.jpg  \n",
            "  inflating: val_data/372/0136_01.jpg  \n",
            "  inflating: val_data/3720/0092_01.jpg  \n",
            "  inflating: val_data/3720/0146_01.jpg  \n",
            "  inflating: val_data/3721/0127_02.jpg  \n",
            "  inflating: val_data/3721/0198_02.jpg  \n",
            "  inflating: val_data/3722/0042_02.jpg  \n",
            "  inflating: val_data/3722/0221_01.jpg  \n",
            "  inflating: val_data/3723/0127_01.jpg  \n",
            "  inflating: val_data/3723/0234_01.jpg  \n",
            "  inflating: val_data/3724/0116_01.jpg  \n",
            "  inflating: val_data/3724/0214_01.jpg  \n",
            "  inflating: val_data/3725/0075_02.jpg  \n",
            "  inflating: val_data/3725/0327_01.jpg  \n",
            "  inflating: val_data/3726/0070_01.jpg  \n",
            "  inflating: val_data/3726/0117_01.jpg  \n",
            "  inflating: val_data/3727/0024_01.jpg  \n",
            "  inflating: val_data/3727/0307_02.jpg  \n",
            "  inflating: val_data/3728/0004_04.jpg  \n",
            "  inflating: val_data/3728/0099_01.jpg  \n",
            "  inflating: val_data/3729/0108_03.jpg  \n",
            "  inflating: val_data/3729/0412_01.jpg  \n",
            "  inflating: val_data/373/0068_01.jpg  \n",
            "  inflating: val_data/373/0237_01.jpg  \n",
            "  inflating: val_data/3730/0041_01.jpg  \n",
            "  inflating: val_data/3730/0198_02.jpg  \n",
            "  inflating: val_data/3731/0272_02.jpg  \n",
            "  inflating: val_data/3731/0383_02.jpg  \n",
            "  inflating: val_data/3732/0293_01.jpg  \n",
            "  inflating: val_data/3732/0297_01.jpg  \n",
            "  inflating: val_data/3733/0045_04.jpg  \n",
            "  inflating: val_data/3733/0081_01.jpg  \n",
            "  inflating: val_data/3734/0151_01.jpg  \n",
            "  inflating: val_data/3734/0215_02.jpg  \n",
            "  inflating: val_data/3735/0008_01.jpg  \n",
            "  inflating: val_data/3735/0146_01.jpg  \n",
            "  inflating: val_data/3736/0120_01.jpg  \n",
            "  inflating: val_data/3736/0213_01.jpg  \n",
            "  inflating: val_data/3737/0108_01.jpg  \n",
            "  inflating: val_data/3737/0266_01.jpg  \n",
            "  inflating: val_data/3738/0232_01.jpg  \n",
            "  inflating: val_data/3738/0309_02.jpg  \n",
            "  inflating: val_data/3739/0011_01.jpg  \n",
            "  inflating: val_data/3739/0091_01.jpg  \n",
            "  inflating: val_data/374/0255_01.jpg  \n",
            "  inflating: val_data/374/0359_01.jpg  \n",
            "  inflating: val_data/3740/0279_01.jpg  \n",
            "  inflating: val_data/3740/0417_01.jpg  \n",
            "  inflating: val_data/3741/0011_01.jpg  \n",
            "  inflating: val_data/3741/0153_01.jpg  \n",
            "  inflating: val_data/3742/0030_03.jpg  \n",
            "  inflating: val_data/3742/0068_04.jpg  \n",
            "  inflating: val_data/3743/0138_01.jpg  \n",
            "  inflating: val_data/3743/0309_02.jpg  \n",
            "  inflating: val_data/3744/0101_01.jpg  \n",
            "  inflating: val_data/3744/0164_01.jpg  \n",
            "  inflating: val_data/3745/0090_01.jpg  \n",
            "  inflating: val_data/3745/0357_02.jpg  \n",
            "  inflating: val_data/3746/0009_01.jpg  \n",
            "  inflating: val_data/3746/0161_01.jpg  \n",
            "  inflating: val_data/3747/0189_01.jpg  \n",
            "  inflating: val_data/3747/0193_02.jpg  \n",
            "  inflating: val_data/3748/0118_05.jpg  \n",
            "  inflating: val_data/3748/0149_01.jpg  \n",
            "  inflating: val_data/3749/0615_01.jpg  \n",
            "  inflating: val_data/3749/0632_01.jpg  \n",
            "  inflating: val_data/375/0092_02.jpg  \n",
            "  inflating: val_data/375/0167_01.jpg  \n",
            "  inflating: val_data/3750/0053_01.jpg  \n",
            "  inflating: val_data/3750/0388_03.jpg  \n",
            "  inflating: val_data/3751/0235_02.jpg  \n",
            "  inflating: val_data/3751/0431_01.jpg  \n",
            "  inflating: val_data/3752/0144_07.jpg  \n",
            "  inflating: val_data/3752/0177_04.jpg  \n",
            "  inflating: val_data/3753/0221_02.jpg  \n",
            "  inflating: val_data/3753/0350_01.jpg  \n",
            "  inflating: val_data/3754/0019_01.jpg  \n",
            "  inflating: val_data/3754/0356_01.jpg  \n",
            "  inflating: val_data/3755/0233_01.jpg  \n",
            "  inflating: val_data/3755/0336_01.jpg  \n",
            "  inflating: val_data/3756/0099_06.jpg  \n",
            "  inflating: val_data/3756/0109_01.jpg  \n",
            "  inflating: val_data/3757/0080_01.jpg  \n",
            "  inflating: val_data/3757/0208_05.jpg  \n",
            "  inflating: val_data/3758/0193_01.jpg  \n",
            "  inflating: val_data/3758/0225_01.jpg  \n",
            "  inflating: val_data/3759/0269_01.jpg  \n",
            "  inflating: val_data/3759/0367_01.jpg  \n",
            "  inflating: val_data/376/0058_01.jpg  \n",
            "  inflating: val_data/376/0218_07.jpg  \n",
            "  inflating: val_data/3760/0052_01.jpg  \n",
            "  inflating: val_data/3760/0057_02.jpg  \n",
            "  inflating: val_data/3761/0135_01.jpg  \n",
            "  inflating: val_data/3761/0383_01.jpg  \n",
            "  inflating: val_data/3762/0055_01.jpg  \n",
            "  inflating: val_data/3762/0208_01.jpg  \n",
            "  inflating: val_data/3763/0064_02.jpg  \n",
            "  inflating: val_data/3763/0071_02.jpg  \n",
            "  inflating: val_data/3764/0056_01.jpg  \n",
            "  inflating: val_data/3764/0098_02.jpg  \n",
            "  inflating: val_data/3765/0135_02.jpg  \n",
            "  inflating: val_data/3765/0241_01.jpg  \n",
            "  inflating: val_data/3766/0149_01.jpg  \n",
            "  inflating: val_data/3766/0157_01.jpg  \n",
            "  inflating: val_data/3767/0132_01.jpg  \n",
            "  inflating: val_data/3767/0156_01.jpg  \n",
            "  inflating: val_data/3768/0116_01.jpg  \n",
            "  inflating: val_data/3768/0144_01.jpg  \n",
            "  inflating: val_data/3769/0033_01.jpg  \n",
            "  inflating: val_data/3769/0219_01.jpg  \n",
            "  inflating: val_data/377/0089_01.jpg  \n",
            "  inflating: val_data/377/0090_01.jpg  \n",
            "  inflating: val_data/3770/0114_03.jpg  \n",
            "  inflating: val_data/3770/0223_01.jpg  \n",
            "  inflating: val_data/3771/0226_03.jpg  \n",
            "  inflating: val_data/3771/0268_01.jpg  \n",
            "  inflating: val_data/3772/0079_02.jpg  \n",
            "  inflating: val_data/3772/0091_01.jpg  \n",
            "  inflating: val_data/3773/0265_01.jpg  \n",
            "  inflating: val_data/3773/0303_01.jpg  \n",
            "  inflating: val_data/3774/0015_04.jpg  \n",
            "  inflating: val_data/3774/0095_01.jpg  \n",
            "  inflating: val_data/3775/0041_01.jpg  \n",
            "  inflating: val_data/3775/0455_01.jpg  \n",
            "  inflating: val_data/3776/0248_02.jpg  \n",
            "  inflating: val_data/3776/0377_01.jpg  \n",
            "  inflating: val_data/3777/0110_01.jpg  \n",
            "  inflating: val_data/3777/0152_01.jpg  \n",
            "  inflating: val_data/3778/0184_01.jpg  \n",
            "  inflating: val_data/3778/0332_01.jpg  \n",
            "  inflating: val_data/3779/0058_01.jpg  \n",
            "  inflating: val_data/3779/0204_01.jpg  \n",
            "  inflating: val_data/378/0155_01.jpg  \n",
            "  inflating: val_data/378/0159_02.jpg  \n",
            "  inflating: val_data/3780/0004_01.jpg  \n",
            "  inflating: val_data/3780/0193_01.jpg  \n",
            "  inflating: val_data/3781/0094_02.jpg  \n",
            "  inflating: val_data/3781/0126_01.jpg  \n",
            "  inflating: val_data/3782/0028_01.jpg  \n",
            "  inflating: val_data/3782/0262_01.jpg  \n",
            "  inflating: val_data/3783/0085_02.jpg  \n",
            "  inflating: val_data/3783/0205_01.jpg  \n",
            "  inflating: val_data/3784/0052_01.jpg  \n",
            "  inflating: val_data/3784/0063_01.jpg  \n",
            "  inflating: val_data/3785/0193_02.jpg  \n",
            "  inflating: val_data/3785/0239_02.jpg  \n",
            "  inflating: val_data/3786/0204_01.jpg  \n",
            "  inflating: val_data/3786/0283_01.jpg  \n",
            "  inflating: val_data/3787/0008_01.jpg  \n",
            "  inflating: val_data/3787/0168_01.jpg  \n",
            "  inflating: val_data/3788/0399_01.jpg  \n",
            "  inflating: val_data/3788/0402_01.jpg  \n",
            "  inflating: val_data/3789/0207_01.jpg  \n",
            "  inflating: val_data/3789/0392_01.jpg  \n",
            "  inflating: val_data/379/0037_01.jpg  \n",
            "  inflating: val_data/379/0500_01.jpg  \n",
            "  inflating: val_data/3790/0054_02.jpg  \n",
            "  inflating: val_data/3790/0061_01.jpg  \n",
            "  inflating: val_data/3791/0012_01.jpg  \n",
            "  inflating: val_data/3791/0200_01.jpg  \n",
            "  inflating: val_data/3792/0037_01.jpg  \n",
            "  inflating: val_data/3792/0074_01.jpg  \n",
            "  inflating: val_data/3793/0071_01.jpg  \n",
            "  inflating: val_data/3793/0147_01.jpg  \n",
            "  inflating: val_data/3794/0090_01.jpg  \n",
            "  inflating: val_data/3794/0263_01.jpg  \n",
            "  inflating: val_data/3795/0341_04.jpg  \n",
            "  inflating: val_data/3795/0372_01.jpg  \n",
            "  inflating: val_data/3796/0037_01.jpg  \n",
            "  inflating: val_data/3796/0165_01.jpg  \n",
            "  inflating: val_data/3797/0434_01.jpg  \n",
            "  inflating: val_data/3797/0503_01.jpg  \n",
            "  inflating: val_data/3798/0021_01.jpg  \n",
            "  inflating: val_data/3798/0125_01.jpg  \n",
            "  inflating: val_data/3799/0159_01.jpg  \n",
            "  inflating: val_data/3799/0249_01.jpg  \n",
            "  inflating: val_data/38/0044_01.jpg  \n",
            "  inflating: val_data/38/0187_01.jpg  \n",
            "  inflating: val_data/380/0135_01.jpg  \n",
            "  inflating: val_data/380/0377_01.jpg  \n",
            "  inflating: val_data/3800/0238_01.jpg  \n",
            "  inflating: val_data/3800/0275_01.jpg  \n",
            "  inflating: val_data/3801/0008_04.jpg  \n",
            "  inflating: val_data/3801/0141_01.jpg  \n",
            "  inflating: val_data/3802/0136_02.jpg  \n",
            "  inflating: val_data/3802/0218_01.jpg  \n",
            "  inflating: val_data/3803/0038_01.jpg  \n",
            "  inflating: val_data/3803/0207_04.jpg  \n",
            "  inflating: val_data/3804/0064_01.jpg  \n",
            "  inflating: val_data/3804/0156_02.jpg  \n",
            "  inflating: val_data/3805/0191_01.jpg  \n",
            "  inflating: val_data/3805/0459_02.jpg  \n",
            "  inflating: val_data/3806/0256_01.jpg  \n",
            "  inflating: val_data/3806/0422_08.jpg  \n",
            "  inflating: val_data/3807/0110_01.jpg  \n",
            "  inflating: val_data/3807/0305_02.jpg  \n",
            "  inflating: val_data/3808/0016_01.jpg  \n",
            "  inflating: val_data/3808/0358_01.jpg  \n",
            "  inflating: val_data/3809/0200_01.jpg  \n",
            "  inflating: val_data/3809/0218_01.jpg  \n",
            "  inflating: val_data/381/0086_02.jpg  \n",
            "  inflating: val_data/381/0130_02.jpg  \n",
            "  inflating: val_data/3810/0063_01.jpg  \n",
            "  inflating: val_data/3810/0090_02.jpg  \n",
            "  inflating: val_data/3811/0040_01.jpg  \n",
            "  inflating: val_data/3811/0145_01.jpg  \n",
            "  inflating: val_data/3812/0007_01.jpg  \n",
            "  inflating: val_data/3812/0230_01.jpg  \n",
            "  inflating: val_data/3813/0052_01.jpg  \n",
            "  inflating: val_data/3813/0075_03.jpg  \n",
            "  inflating: val_data/3814/0139_01.jpg  \n",
            "  inflating: val_data/3814/0173_01.jpg  \n",
            "  inflating: val_data/3815/0005_02.jpg  \n",
            "  inflating: val_data/3815/0280_02.jpg  \n",
            "  inflating: val_data/3816/0015_01.jpg  \n",
            "  inflating: val_data/3816/0257_01.jpg  \n",
            "  inflating: val_data/3817/0016_01.jpg  \n",
            "  inflating: val_data/3817/0116_01.jpg  \n",
            "  inflating: val_data/3818/0311_01.jpg  \n",
            "  inflating: val_data/3818/0486_01.jpg  \n",
            "  inflating: val_data/3819/0083_01.jpg  \n",
            "  inflating: val_data/3819/0199_01.jpg  \n",
            "  inflating: val_data/382/0076_01.jpg  \n",
            "  inflating: val_data/382/0342_01.jpg  \n",
            "  inflating: val_data/3820/0096_01.jpg  \n",
            "  inflating: val_data/3820/0351_01.jpg  \n",
            "  inflating: val_data/3821/0068_01.jpg  \n",
            "  inflating: val_data/3821/0197_01.jpg  \n",
            "  inflating: val_data/3822/0122_01.jpg  \n",
            "  inflating: val_data/3822/0220_02.jpg  \n",
            "  inflating: val_data/3823/0149_02.jpg  \n",
            "  inflating: val_data/3823/0395_01.jpg  \n",
            "  inflating: val_data/3824/0087_01.jpg  \n",
            "  inflating: val_data/3824/0392_01.jpg  \n",
            "  inflating: val_data/3825/0009_01.jpg  \n",
            "  inflating: val_data/3825/0117_01.jpg  \n",
            "  inflating: val_data/3826/0127_01.jpg  \n",
            "  inflating: val_data/3826/0209_01.jpg  \n",
            "  inflating: val_data/3827/0101_01.jpg  \n",
            "  inflating: val_data/3827/0299_01.jpg  \n",
            "  inflating: val_data/3828/0071_01.jpg  \n",
            "  inflating: val_data/3828/0131_01.jpg  \n",
            "  inflating: val_data/3829/0025_01.jpg  \n",
            "  inflating: val_data/3829/0205_01.jpg  \n",
            "  inflating: val_data/383/0020_04.jpg  \n",
            "  inflating: val_data/383/0040_01.jpg  \n",
            "  inflating: val_data/3830/0010_01.jpg  \n",
            "  inflating: val_data/3830/0457_01.jpg  \n",
            "  inflating: val_data/3831/0234_01.jpg  \n",
            "  inflating: val_data/3831/0256_01.jpg  \n",
            "  inflating: val_data/3832/0014_01.jpg  \n",
            "  inflating: val_data/3832/0021_02.jpg  \n",
            "  inflating: val_data/3833/0008_01.jpg  \n",
            "  inflating: val_data/3833/0193_02.jpg  \n",
            "  inflating: val_data/3834/0070_01.jpg  \n",
            "  inflating: val_data/3834/0080_01.jpg  \n",
            "  inflating: val_data/3835/0028_01.jpg  \n",
            "  inflating: val_data/3835/0254_02.jpg  \n",
            "  inflating: val_data/3836/0098_01.jpg  \n",
            "  inflating: val_data/3836/0299_01.jpg  \n",
            "  inflating: val_data/3837/0232_01.jpg  \n",
            "  inflating: val_data/3837/0233_01.jpg  \n",
            "  inflating: val_data/3838/0047_02.jpg  \n",
            "  inflating: val_data/3838/0063_01.jpg  \n",
            "  inflating: val_data/3839/0036_01.jpg  \n",
            "  inflating: val_data/3839/0117_05.jpg  \n",
            "  inflating: val_data/384/0119_01.jpg  \n",
            "  inflating: val_data/384/0146_01.jpg  \n",
            "  inflating: val_data/3840/0182_01.jpg  \n",
            "  inflating: val_data/3840/0247_01.jpg  \n",
            "  inflating: val_data/3841/0103_01.jpg  \n",
            "  inflating: val_data/3841/0172_03.jpg  \n",
            "  inflating: val_data/3842/0026_01.jpg  \n",
            "  inflating: val_data/3842/0226_01.jpg  \n",
            "  inflating: val_data/3843/0523_01.jpg  \n",
            "  inflating: val_data/3843/0532_01.jpg  \n",
            "  inflating: val_data/3844/0013_01.jpg  \n",
            "  inflating: val_data/3844/0172_01.jpg  \n",
            "  inflating: val_data/3845/0255_01.jpg  \n",
            "  inflating: val_data/3845/0257_02.jpg  \n",
            "  inflating: val_data/3846/0026_02.jpg  \n",
            "  inflating: val_data/3846/0260_02.jpg  \n",
            "  inflating: val_data/3847/0004_02.jpg  \n",
            "  inflating: val_data/3847/0184_01.jpg  \n",
            "  inflating: val_data/3848/0041_01.jpg  \n",
            "  inflating: val_data/3848/0309_02.jpg  \n",
            "  inflating: val_data/3849/0089_01.jpg  \n",
            "  inflating: val_data/3849/0197_01.jpg  \n",
            "  inflating: val_data/385/0151_01.jpg  \n",
            "  inflating: val_data/385/0290_01.jpg  \n",
            "  inflating: val_data/3850/0109_03.jpg  \n",
            "  inflating: val_data/3850/0408_01.jpg  \n",
            "  inflating: val_data/3851/0247_01.jpg  \n",
            "  inflating: val_data/3851/0300_01.jpg  \n",
            "  inflating: val_data/3852/0078_01.jpg  \n",
            "  inflating: val_data/3852/0197_01.jpg  \n",
            "  inflating: val_data/3853/0007_02.jpg  \n",
            "  inflating: val_data/3853/0069_01.jpg  \n",
            "  inflating: val_data/3854/0050_02.jpg  \n",
            "  inflating: val_data/3854/0166_04.jpg  \n",
            "  inflating: val_data/3855/0100_03.jpg  \n",
            "  inflating: val_data/3855/0176_01.jpg  \n",
            "  inflating: val_data/3856/0067_01.jpg  \n",
            "  inflating: val_data/3856/0266_02.jpg  \n",
            "  inflating: val_data/3857/0015_01.jpg  \n",
            "  inflating: val_data/3857/0155_01.jpg  \n",
            "  inflating: val_data/3858/0158_01.jpg  \n",
            "  inflating: val_data/3858/0386_01.jpg  \n",
            "  inflating: val_data/3859/0014_01.jpg  \n",
            "  inflating: val_data/3859/0203_02.jpg  \n",
            "  inflating: val_data/386/0047_01.jpg  \n",
            "  inflating: val_data/386/0205_02.jpg  \n",
            "  inflating: val_data/3860/0120_01.jpg  \n",
            "  inflating: val_data/3860/0254_02.jpg  \n",
            "  inflating: val_data/3861/0318_01.jpg  \n",
            "  inflating: val_data/3861/0477_01.jpg  \n",
            "  inflating: val_data/3862/0001_01.jpg  \n",
            "  inflating: val_data/3862/0553_01.jpg  \n",
            "  inflating: val_data/3863/0175_01.jpg  \n",
            "  inflating: val_data/3863/0342_01.jpg  \n",
            "  inflating: val_data/3864/0391_01.jpg  \n",
            "  inflating: val_data/3864/0394_01.jpg  \n",
            "  inflating: val_data/3865/0014_01.jpg  \n",
            "  inflating: val_data/3865/0080_01.jpg  \n",
            "  inflating: val_data/3866/0137_01.jpg  \n",
            "  inflating: val_data/3866/0340_01.jpg  \n",
            "  inflating: val_data/3867/0191_01.jpg  \n",
            "  inflating: val_data/3867/0338_01.jpg  \n",
            "  inflating: val_data/3868/0070_02.jpg  \n",
            "  inflating: val_data/3868/0135_01.jpg  \n",
            "  inflating: val_data/3869/0079_01.jpg  \n",
            "  inflating: val_data/3869/0119_01.jpg  \n",
            "  inflating: val_data/387/0132_01.jpg  \n",
            "  inflating: val_data/387/0388_01.jpg  \n",
            "  inflating: val_data/3870/0037_01.jpg  \n",
            "  inflating: val_data/3870/0310_01.jpg  \n",
            "  inflating: val_data/3871/0081_01.jpg  \n",
            "  inflating: val_data/3871/0086_01.jpg  \n",
            "  inflating: val_data/3872/0034_02.jpg  \n",
            "  inflating: val_data/3872/0122_02.jpg  \n",
            "  inflating: val_data/3873/0016_02.jpg  \n",
            "  inflating: val_data/3873/0030_01.jpg  \n",
            "  inflating: val_data/3874/0170_01.jpg  \n",
            "  inflating: val_data/3874/0394_01.jpg  \n",
            "  inflating: val_data/3875/0047_01.jpg  \n",
            "  inflating: val_data/3875/0197_02.jpg  \n",
            "  inflating: val_data/3876/0079_01.jpg  \n",
            "  inflating: val_data/3876/0127_01.jpg  \n",
            "  inflating: val_data/3877/0078_03.jpg  \n",
            "  inflating: val_data/3877/0251_02.jpg  \n",
            "  inflating: val_data/3878/0344_01.jpg  \n",
            "  inflating: val_data/3878/0374_01.jpg  \n",
            "  inflating: val_data/3879/0128_02.jpg  \n",
            "  inflating: val_data/3879/0270_01.jpg  \n",
            "  inflating: val_data/388/0043_01.jpg  \n",
            "  inflating: val_data/388/0222_01.jpg  \n",
            "  inflating: val_data/3880/0166_01.jpg  \n",
            "  inflating: val_data/3880/0185_01.jpg  \n",
            "  inflating: val_data/3881/0075_01.jpg  \n",
            "  inflating: val_data/3881/0277_01.jpg  \n",
            "  inflating: val_data/3882/0291_02.jpg  \n",
            "  inflating: val_data/3882/0371_01.jpg  \n",
            "  inflating: val_data/3883/0271_01.jpg  \n",
            "  inflating: val_data/3883/0504_01.jpg  \n",
            "  inflating: val_data/3884/0288_01.jpg  \n",
            "  inflating: val_data/3884/0294_02.jpg  \n",
            "  inflating: val_data/3885/0160_01.jpg  \n",
            "  inflating: val_data/3885/0298_01.jpg  \n",
            "  inflating: val_data/3886/0260_02.jpg  \n",
            "  inflating: val_data/3886/0433_01.jpg  \n",
            "  inflating: val_data/3887/0017_01.jpg  \n",
            "  inflating: val_data/3887/0257_05.jpg  \n",
            "  inflating: val_data/3888/0203_01.jpg  \n",
            "  inflating: val_data/3888/0351_01.jpg  \n",
            "  inflating: val_data/3889/0085_02.jpg  \n",
            "  inflating: val_data/3889/0127_01.jpg  \n",
            "  inflating: val_data/389/0089_01.jpg  \n",
            "  inflating: val_data/389/0438_01.jpg  \n",
            "  inflating: val_data/3890/0140_01.jpg  \n",
            "  inflating: val_data/3890/0173_01.jpg  \n",
            "  inflating: val_data/3891/0182_01.jpg  \n",
            "  inflating: val_data/3891/0260_01.jpg  \n",
            "  inflating: val_data/3892/0110_02.jpg  \n",
            "  inflating: val_data/3892/0261_02.jpg  \n",
            "  inflating: val_data/3893/0565_01.jpg  \n",
            "  inflating: val_data/3893/0577_02.jpg  \n",
            "  inflating: val_data/3894/0172_02.jpg  \n",
            "  inflating: val_data/3894/0348_01.jpg  \n",
            "  inflating: val_data/3895/0040_01.jpg  \n",
            "  inflating: val_data/3895/0120_01.jpg  \n",
            "  inflating: val_data/3896/0346_01.jpg  \n",
            "  inflating: val_data/3896/0395_01.jpg  \n",
            "  inflating: val_data/3897/0108_01.jpg  \n",
            "  inflating: val_data/3897/0135_01.jpg  \n",
            "  inflating: val_data/3898/0061_01.jpg  \n",
            "  inflating: val_data/3898/0244_01.jpg  \n",
            "  inflating: val_data/3899/0039_01.jpg  \n",
            "  inflating: val_data/3899/0082_01.jpg  \n",
            "  inflating: val_data/39/0072_03.jpg  \n",
            "  inflating: val_data/39/0116_05.jpg  \n",
            "  inflating: val_data/390/0183_01.jpg  \n",
            "  inflating: val_data/390/0185_01.jpg  \n",
            "  inflating: val_data/3900/0110_01.jpg  \n",
            "  inflating: val_data/3900/0207_01.jpg  \n",
            "  inflating: val_data/3901/0037_01.jpg  \n",
            "  inflating: val_data/3901/0226_01.jpg  \n",
            "  inflating: val_data/3902/0481_02.jpg  \n",
            "  inflating: val_data/3902/0488_02.jpg  \n",
            "  inflating: val_data/3903/0116_01.jpg  \n",
            "  inflating: val_data/3903/0278_01.jpg  \n",
            "  inflating: val_data/3904/0262_01.jpg  \n",
            "  inflating: val_data/3904/0270_01.jpg  \n",
            "  inflating: val_data/3905/0136_01.jpg  \n",
            "  inflating: val_data/3905/0192_01.jpg  \n",
            "  inflating: val_data/3906/0089_01.jpg  \n",
            "  inflating: val_data/3906/0368_01.jpg  \n",
            "  inflating: val_data/3907/0007_02.jpg  \n",
            "  inflating: val_data/3907/0360_05.jpg  \n",
            "  inflating: val_data/3908/0087_01.jpg  \n",
            "  inflating: val_data/3908/0116_04.jpg  \n",
            "  inflating: val_data/3909/0108_01.jpg  \n",
            "  inflating: val_data/3909/0473_01.jpg  \n",
            "  inflating: val_data/391/0273_01.jpg  \n",
            "  inflating: val_data/391/0390_01.jpg  \n",
            "  inflating: val_data/3910/0108_02.jpg  \n",
            "  inflating: val_data/3910/0693_01.jpg  \n",
            "  inflating: val_data/3911/0106_01.jpg  \n",
            "  inflating: val_data/3911/0162_01.jpg  \n",
            "  inflating: val_data/3912/0234_01.jpg  \n",
            "  inflating: val_data/3912/0242_03.jpg  \n",
            "  inflating: val_data/3913/0023_01.jpg  \n",
            "  inflating: val_data/3913/0032_01.jpg  \n",
            "  inflating: val_data/3914/0097_01.jpg  \n",
            "  inflating: val_data/3914/0488_01.jpg  \n",
            "  inflating: val_data/3915/0155_04.jpg  \n",
            "  inflating: val_data/3915/0212_01.jpg  \n",
            "  inflating: val_data/3916/0116_05.jpg  \n",
            "  inflating: val_data/3916/0332_01.jpg  \n",
            "  inflating: val_data/3917/0060_01.jpg  \n",
            "  inflating: val_data/3917/0225_01.jpg  \n",
            "  inflating: val_data/3918/0012_01.jpg  \n",
            "  inflating: val_data/3918/0449_01.jpg  \n",
            "  inflating: val_data/3919/0046_01.jpg  \n",
            "  inflating: val_data/3919/0189_01.jpg  \n",
            "  inflating: val_data/392/0142_01.jpg  \n",
            "  inflating: val_data/392/0288_01.jpg  \n",
            "  inflating: val_data/3920/0345_01.jpg  \n",
            "  inflating: val_data/3920/0735_01.jpg  \n",
            "  inflating: val_data/3921/0305_01.jpg  \n",
            "  inflating: val_data/3921/0480_08.jpg  \n",
            "  inflating: val_data/3922/0195_02.jpg  \n",
            "  inflating: val_data/3922/0278_01.jpg  \n",
            "  inflating: val_data/3923/0023_01.jpg  \n",
            "  inflating: val_data/3923/0497_01.jpg  \n",
            "  inflating: val_data/3924/0071_22.jpg  \n",
            "  inflating: val_data/3924/0594_01.jpg  \n",
            "  inflating: val_data/3925/0195_01.jpg  \n",
            "  inflating: val_data/3925/0224_01.jpg  \n",
            "  inflating: val_data/3926/0022_01.jpg  \n",
            "  inflating: val_data/3926/0118_01.jpg  \n",
            "  inflating: val_data/3927/0134_02.jpg  \n",
            "  inflating: val_data/3927/0353_01.jpg  \n",
            "  inflating: val_data/3928/0101_01.jpg  \n",
            "  inflating: val_data/3928/0141_03.jpg  \n",
            "  inflating: val_data/3929/0033_01.jpg  \n",
            "  inflating: val_data/3929/0209_01.jpg  \n",
            "  inflating: val_data/393/0105_01.jpg  \n",
            "  inflating: val_data/393/0221_01.jpg  \n",
            "  inflating: val_data/3930/0039_01.jpg  \n",
            "  inflating: val_data/3930/0074_02.jpg  \n",
            "  inflating: val_data/3931/0058_01.jpg  \n",
            "  inflating: val_data/3931/0407_01.jpg  \n",
            "  inflating: val_data/3932/0125_01.jpg  \n",
            "  inflating: val_data/3932/0169_01.jpg  \n",
            "  inflating: val_data/3933/0064_01.jpg  \n",
            "  inflating: val_data/3933/0151_01.jpg  \n",
            "  inflating: val_data/3934/0072_01.jpg  \n",
            "  inflating: val_data/3934/0190_01.jpg  \n",
            "  inflating: val_data/3935/0116_01.jpg  \n",
            "  inflating: val_data/3935/0292_04.jpg  \n",
            "  inflating: val_data/3936/0003_01.jpg  \n",
            "  inflating: val_data/3936/0226_01.jpg  \n",
            "  inflating: val_data/3937/0179_01.jpg  \n",
            "  inflating: val_data/3937/0293_01.jpg  \n",
            "  inflating: val_data/3938/0175_01.jpg  \n",
            "  inflating: val_data/3938/0272_01.jpg  \n",
            "  inflating: val_data/3939/0237_01.jpg  \n",
            "  inflating: val_data/3939/0271_01.jpg  \n",
            "  inflating: val_data/394/0073_01.jpg  \n",
            "  inflating: val_data/394/0125_01.jpg  \n",
            "  inflating: val_data/3940/0201_01.jpg  \n",
            "  inflating: val_data/3940/0375_01.jpg  \n",
            "  inflating: val_data/3941/0405_01.jpg  \n",
            "  inflating: val_data/3941/0416_02.jpg  \n",
            "  inflating: val_data/3942/0101_01.jpg  \n",
            "  inflating: val_data/3942/0602_01.jpg  \n",
            "  inflating: val_data/3943/0055_01.jpg  \n",
            "  inflating: val_data/3943/0401_01.jpg  \n",
            "  inflating: val_data/3944/0020_01.jpg  \n",
            "  inflating: val_data/3944/0104_02.jpg  \n",
            "  inflating: val_data/3945/0310_01.jpg  \n",
            "  inflating: val_data/3945/0381_01.jpg  \n",
            "  inflating: val_data/3946/0063_01.jpg  \n",
            "  inflating: val_data/3946/0162_02.jpg  \n",
            "  inflating: val_data/3947/0078_02.jpg  \n",
            "  inflating: val_data/3947/0105_02.jpg  \n",
            "  inflating: val_data/3948/0107_01.jpg  \n",
            "  inflating: val_data/3948/0121_01.jpg  \n",
            "  inflating: val_data/3949/0024_01.jpg  \n",
            "  inflating: val_data/3949/0044_01.jpg  \n",
            "  inflating: val_data/395/0175_01.jpg  \n",
            "  inflating: val_data/395/0272_01.jpg  \n",
            "  inflating: val_data/3950/0063_01.jpg  \n",
            "  inflating: val_data/3950/0222_01.jpg  \n",
            "  inflating: val_data/3951/0354_01.jpg  \n",
            "  inflating: val_data/3951/0402_01.jpg  \n",
            "  inflating: val_data/3952/0063_01.jpg  \n",
            "  inflating: val_data/3952/0069_01.jpg  \n",
            "  inflating: val_data/3953/0203_01.jpg  \n",
            "  inflating: val_data/3953/0349_01.jpg  \n",
            "  inflating: val_data/3954/0071_02.jpg  \n",
            "  inflating: val_data/3954/0082_01.jpg  \n",
            "  inflating: val_data/3955/0132_01.jpg  \n",
            "  inflating: val_data/3955/0267_01.jpg  \n",
            "  inflating: val_data/3956/0092_01.jpg  \n",
            "  inflating: val_data/3956/0219_01.jpg  \n",
            "  inflating: val_data/3957/0340_01.jpg  \n",
            "  inflating: val_data/3957/0459_01.jpg  \n",
            "  inflating: val_data/3958/0103_02.jpg  \n",
            "  inflating: val_data/3958/0219_01.jpg  \n",
            "  inflating: val_data/3959/0030_03.jpg  \n",
            "  inflating: val_data/3959/0071_02.jpg  \n",
            "  inflating: val_data/396/0066_01.jpg  \n",
            "  inflating: val_data/396/0294_01.jpg  \n",
            "  inflating: val_data/3960/0139_01.jpg  \n",
            "  inflating: val_data/3960/0243_01.jpg  \n",
            "  inflating: val_data/3961/0376_02.jpg  \n",
            "  inflating: val_data/3961/0386_01.jpg  \n",
            "  inflating: val_data/3962/0143_01.jpg  \n",
            "  inflating: val_data/3962/0345_01.jpg  \n",
            "  inflating: val_data/3963/0094_01.jpg  \n",
            "  inflating: val_data/3963/0186_01.jpg  \n",
            "  inflating: val_data/3964/0102_02.jpg  \n",
            "  inflating: val_data/3964/0294_03.jpg  \n",
            "  inflating: val_data/3965/0292_01.jpg  \n",
            "  inflating: val_data/3965/0327_01.jpg  \n",
            "  inflating: val_data/3966/0239_01.jpg  \n",
            "  inflating: val_data/3966/0247_01.jpg  \n",
            "  inflating: val_data/3967/0055_05.jpg  \n",
            "  inflating: val_data/3967/0281_01.jpg  \n",
            "  inflating: val_data/3968/0179_01.jpg  \n",
            "  inflating: val_data/3968/0259_01.jpg  \n",
            "  inflating: val_data/3969/0266_01.jpg  \n",
            "  inflating: val_data/3969/0422_01.jpg  \n",
            "  inflating: val_data/397/0156_02.jpg  \n",
            "  inflating: val_data/397/0448_01.jpg  \n",
            "  inflating: val_data/3970/0126_01.jpg  \n",
            "  inflating: val_data/3970/0441_01.jpg  \n",
            "  inflating: val_data/3971/0085_01.jpg  \n",
            "  inflating: val_data/3971/0173_01.jpg  \n",
            "  inflating: val_data/3972/0227_01.jpg  \n",
            "  inflating: val_data/3972/0396_01.jpg  \n",
            "  inflating: val_data/3973/0009_01.jpg  \n",
            "  inflating: val_data/3973/0153_01.jpg  \n",
            "  inflating: val_data/3974/0134_01.jpg  \n",
            "  inflating: val_data/3974/0264_01.jpg  \n",
            "  inflating: val_data/3975/0146_01.jpg  \n",
            "  inflating: val_data/3975/0431_04.jpg  \n",
            "  inflating: val_data/3976/0139_01.jpg  \n",
            "  inflating: val_data/3976/0325_03.jpg  \n",
            "  inflating: val_data/3977/0081_03.jpg  \n",
            "  inflating: val_data/3977/0226_02.jpg  \n",
            "  inflating: val_data/3978/0213_02.jpg  \n",
            "  inflating: val_data/3978/0296_01.jpg  \n",
            "  inflating: val_data/3979/0061_01.jpg  \n",
            "  inflating: val_data/3979/0305_01.jpg  \n",
            "  inflating: val_data/398/0300_01.jpg  \n",
            "  inflating: val_data/398/0359_01.jpg  \n",
            "  inflating: val_data/3980/0283_01.jpg  \n",
            "  inflating: val_data/3980/0503_02.jpg  \n",
            "  inflating: val_data/3981/0221_01.jpg  \n",
            "  inflating: val_data/3981/0355_02.jpg  \n",
            "  inflating: val_data/3982/0086_03.jpg  \n",
            "  inflating: val_data/3982/0190_02.jpg  \n",
            "  inflating: val_data/3983/0115_01.jpg  \n",
            "  inflating: val_data/3983/0233_01.jpg  \n",
            "  inflating: val_data/3984/0011_01.jpg  \n",
            "  inflating: val_data/3984/0288_01.jpg  \n",
            "  inflating: val_data/3985/0132_01.jpg  \n",
            "  inflating: val_data/3985/0175_01.jpg  \n",
            "  inflating: val_data/3986/0048_02.jpg  \n",
            "  inflating: val_data/3986/0259_01.jpg  \n",
            "  inflating: val_data/3987/0174_03.jpg  \n",
            "  inflating: val_data/3987/0232_01.jpg  \n",
            "  inflating: val_data/3988/0128_01.jpg  \n",
            "  inflating: val_data/3988/0209_01.jpg  \n",
            "  inflating: val_data/3989/0101_01.jpg  \n",
            "  inflating: val_data/3989/0262_01.jpg  \n",
            "  inflating: val_data/399/0180_04.jpg  \n",
            "  inflating: val_data/399/0330_01.jpg  \n",
            "  inflating: val_data/3990/0057_01.jpg  \n",
            "  inflating: val_data/3990/0282_02.jpg  \n",
            "  inflating: val_data/3991/0096_01.jpg  \n",
            "  inflating: val_data/3991/0268_01.jpg  \n",
            "  inflating: val_data/3992/0061_02.jpg  \n",
            "  inflating: val_data/3992/0093_01.jpg  \n",
            "  inflating: val_data/3993/0486_02.jpg  \n",
            "  inflating: val_data/3993/0512_01.jpg  \n",
            "  inflating: val_data/3994/0096_01.jpg  \n",
            "  inflating: val_data/3994/0494_01.jpg  \n",
            "  inflating: val_data/3995/0171_01.jpg  \n",
            "  inflating: val_data/3995/0270_01.jpg  \n",
            "  inflating: val_data/3996/0275_05.jpg  \n",
            "  inflating: val_data/3996/0411_02.jpg  \n",
            "  inflating: val_data/3997/0226_01.jpg  \n",
            "  inflating: val_data/3997/0355_01.jpg  \n",
            "  inflating: val_data/3998/0089_01.jpg  \n",
            "  inflating: val_data/3998/0182_01.jpg  \n",
            "  inflating: val_data/3999/0046_05.jpg  \n",
            "  inflating: val_data/3999/0046_08.jpg  \n",
            "  inflating: val_data/4/0052_02.jpg  \n",
            "  inflating: val_data/4/0056_01.jpg  \n",
            "  inflating: val_data/40/0083_01.jpg  \n",
            "  inflating: val_data/40/0168_01.jpg  \n",
            "  inflating: val_data/400/0034_01.jpg  \n",
            "  inflating: val_data/400/0208_01.jpg  \n",
            "  inflating: val_data/401/0117_02.jpg  \n",
            "  inflating: val_data/401/0544_01.jpg  \n",
            "  inflating: val_data/402/0062_01.jpg  \n",
            "  inflating: val_data/402/0066_01.jpg  \n",
            "  inflating: val_data/403/0040_01.jpg  \n",
            "  inflating: val_data/403/0067_01.jpg  \n",
            "  inflating: val_data/404/0059_01.jpg  \n",
            "  inflating: val_data/404/0124_01.jpg  \n",
            "  inflating: val_data/405/0056_01.jpg  \n",
            "  inflating: val_data/405/0340_01.jpg  \n",
            "  inflating: val_data/406/0104_01.jpg  \n",
            "  inflating: val_data/406/0271_01.jpg  \n",
            "  inflating: val_data/407/0042_01.jpg  \n",
            "  inflating: val_data/407/0362_01.jpg  \n",
            "  inflating: val_data/408/0250_01.jpg  \n",
            "  inflating: val_data/408/0303_07.jpg  \n",
            "  inflating: val_data/409/0111_01.jpg  \n",
            "  inflating: val_data/409/0264_01.jpg  \n",
            "  inflating: val_data/41/0149_01.jpg  \n",
            "  inflating: val_data/41/0197_01.jpg  \n",
            "  inflating: val_data/410/0136_01.jpg  \n",
            "  inflating: val_data/410/0150_01.jpg  \n",
            "  inflating: val_data/411/0247_03.jpg  \n",
            "  inflating: val_data/411/0311_01.jpg  \n",
            "  inflating: val_data/412/0195_01.jpg  \n",
            "  inflating: val_data/412/0498_01.jpg  \n",
            "  inflating: val_data/413/0069_01.jpg  \n",
            "  inflating: val_data/413/0269_01.jpg  \n",
            "  inflating: val_data/414/0120_01.jpg  \n",
            "  inflating: val_data/414/0214_02.jpg  \n",
            "  inflating: val_data/415/0054_02.jpg  \n",
            "  inflating: val_data/415/0180_01.jpg  \n",
            "  inflating: val_data/416/0143_01.jpg  \n",
            "  inflating: val_data/416/0297_01.jpg  \n",
            "  inflating: val_data/417/0048_01.jpg  \n",
            "  inflating: val_data/417/0353_01.jpg  \n",
            "  inflating: val_data/418/0273_01.jpg  \n",
            "  inflating: val_data/418/0398_01.jpg  \n",
            "  inflating: val_data/419/0162_01.jpg  \n",
            "  inflating: val_data/419/0226_01.jpg  \n",
            "  inflating: val_data/42/0049_01.jpg  \n",
            "  inflating: val_data/42/0331_01.jpg  \n",
            "  inflating: val_data/420/0100_01.jpg  \n",
            "  inflating: val_data/420/0177_03.jpg  \n",
            "  inflating: val_data/421/0119_01.jpg  \n",
            "  inflating: val_data/421/0334_01.jpg  \n",
            "  inflating: val_data/422/0263_01.jpg  \n",
            "  inflating: val_data/422/0268_01.jpg  \n",
            "  inflating: val_data/423/0166_01.jpg  \n",
            "  inflating: val_data/423/0314_01.jpg  \n",
            "  inflating: val_data/424/0082_01.jpg  \n",
            "  inflating: val_data/424/0223_01.jpg  \n",
            "  inflating: val_data/425/0226_04.jpg  \n",
            "  inflating: val_data/425/0283_01.jpg  \n",
            "  inflating: val_data/426/0056_01.jpg  \n",
            "  inflating: val_data/426/0182_01.jpg  \n",
            "  inflating: val_data/427/0324_01.jpg  \n",
            "  inflating: val_data/427/0402_01.jpg  \n",
            "  inflating: val_data/428/0148_01.jpg  \n",
            "  inflating: val_data/428/0192_01.jpg  \n",
            "  inflating: val_data/429/0044_01.jpg  \n",
            "  inflating: val_data/429/0146_02.jpg  \n",
            "  inflating: val_data/43/0125_03.jpg  \n",
            "  inflating: val_data/43/0196_01.jpg  \n",
            "  inflating: val_data/430/0129_03.jpg  \n",
            "  inflating: val_data/430/0137_01.jpg  \n",
            "  inflating: val_data/431/0053_01.jpg  \n",
            "  inflating: val_data/431/0244_01.jpg  \n",
            "  inflating: val_data/432/0267_02.jpg  \n",
            "  inflating: val_data/432/0304_01.jpg  \n",
            "  inflating: val_data/433/0011_01.jpg  \n",
            "  inflating: val_data/433/0061_01.jpg  \n",
            "  inflating: val_data/434/0059_01.jpg  \n",
            "  inflating: val_data/434/0330_01.jpg  \n",
            "  inflating: val_data/435/0096_01.jpg  \n",
            "  inflating: val_data/435/0152_01.jpg  \n",
            "  inflating: val_data/436/0005_02.jpg  \n",
            "  inflating: val_data/436/0273_01.jpg  \n",
            "  inflating: val_data/437/0417_01.jpg  \n",
            "  inflating: val_data/437/0426_01.jpg  \n",
            "  inflating: val_data/438/0004_01.jpg  \n",
            "  inflating: val_data/438/0112_01.jpg  \n",
            "  inflating: val_data/439/0022_01.jpg  \n",
            "  inflating: val_data/439/0026_01.jpg  \n",
            "  inflating: val_data/44/0091_01.jpg  \n",
            "  inflating: val_data/44/0224_09.jpg  \n",
            "  inflating: val_data/440/0020_01.jpg  \n",
            "  inflating: val_data/440/0343_01.jpg  \n",
            "  inflating: val_data/441/0192_01.jpg  \n",
            "  inflating: val_data/441/0416_01.jpg  \n",
            "  inflating: val_data/442/0051_01.jpg  \n",
            "  inflating: val_data/442/0124_01.jpg  \n",
            "  inflating: val_data/443/0179_01.jpg  \n",
            "  inflating: val_data/443/0249_01.jpg  \n",
            "  inflating: val_data/444/0206_01.jpg  \n",
            "  inflating: val_data/444/0405_01.jpg  \n",
            "  inflating: val_data/445/0085_01.jpg  \n",
            "  inflating: val_data/445/0235_01.jpg  \n",
            "  inflating: val_data/446/0058_01.jpg  \n",
            "  inflating: val_data/446/0322_01.jpg  \n",
            "  inflating: val_data/447/0185_01.jpg  \n",
            "  inflating: val_data/447/0340_01.jpg  \n",
            "  inflating: val_data/448/0018_01.jpg  \n",
            "  inflating: val_data/448/0053_01.jpg  \n",
            "  inflating: val_data/449/0118_01.jpg  \n",
            "  inflating: val_data/449/0233_01.jpg  \n",
            "  inflating: val_data/45/0167_01.jpg  \n",
            "  inflating: val_data/45/0329_01.jpg  \n",
            "  inflating: val_data/450/0024_03.jpg  \n",
            "  inflating: val_data/450/0053_01.jpg  \n",
            "  inflating: val_data/451/0077_01.jpg  \n",
            "  inflating: val_data/451/0111_01.jpg  \n",
            "  inflating: val_data/452/0151_01.jpg  \n",
            "  inflating: val_data/452/0171_01.jpg  \n",
            "  inflating: val_data/453/0185_01.jpg  \n",
            "  inflating: val_data/453/0256_01.jpg  \n",
            "  inflating: val_data/454/0151_02.jpg  \n",
            "  inflating: val_data/454/0236_03.jpg  \n",
            "  inflating: val_data/455/0003_01.jpg  \n",
            "  inflating: val_data/455/0233_01.jpg  \n",
            "  inflating: val_data/456/0127_01.jpg  \n",
            "  inflating: val_data/456/0180_06.jpg  \n",
            "  inflating: val_data/457/0116_01.jpg  \n",
            "  inflating: val_data/457/0188_03.jpg  \n",
            "  inflating: val_data/458/0152_01.jpg  \n",
            "  inflating: val_data/458/0204_02.jpg  \n",
            "  inflating: val_data/459/0078_02.jpg  \n",
            "  inflating: val_data/459/0251_01.jpg  \n",
            "  inflating: val_data/46/0141_01.jpg  \n",
            "  inflating: val_data/46/0200_01.jpg  \n",
            "  inflating: val_data/460/0129_01.jpg  \n",
            "  inflating: val_data/460/0136_01.jpg  \n",
            "  inflating: val_data/461/0094_01.jpg  \n",
            "  inflating: val_data/461/0176_01.jpg  \n",
            "  inflating: val_data/462/0046_01.jpg  \n",
            "  inflating: val_data/462/0152_01.jpg  \n",
            "  inflating: val_data/463/0056_01.jpg  \n",
            "  inflating: val_data/463/0188_01.jpg  \n",
            "  inflating: val_data/464/0318_01.jpg  \n",
            "  inflating: val_data/464/0354_01.jpg  \n",
            "  inflating: val_data/465/0018_01.jpg  \n",
            "  inflating: val_data/465/0118_01.jpg  \n",
            "  inflating: val_data/466/0301_03.jpg  \n",
            "  inflating: val_data/466/0445_01.jpg  \n",
            "  inflating: val_data/467/0134_01.jpg  \n",
            "  inflating: val_data/467/0343_01.jpg  \n",
            "  inflating: val_data/468/0096_01.jpg  \n",
            "  inflating: val_data/468/0126_01.jpg  \n",
            "  inflating: val_data/469/0061_01.jpg  \n",
            "  inflating: val_data/469/0384_06.jpg  \n",
            "  inflating: val_data/47/0066_02.jpg  \n",
            "  inflating: val_data/47/0413_01.jpg  \n",
            "  inflating: val_data/470/0030_01.jpg  \n",
            "  inflating: val_data/470/0219_01.jpg  \n",
            "  inflating: val_data/471/0025_01.jpg  \n",
            "  inflating: val_data/471/0092_01.jpg  \n",
            "  inflating: val_data/472/0134_01.jpg  \n",
            "  inflating: val_data/472/0186_01.jpg  \n",
            "  inflating: val_data/473/0068_01.jpg  \n",
            "  inflating: val_data/473/0070_02.jpg  \n",
            "  inflating: val_data/474/0012_01.jpg  \n",
            "  inflating: val_data/474/0041_01.jpg  \n",
            "  inflating: val_data/475/0236_01.jpg  \n",
            "  inflating: val_data/475/0362_01.jpg  \n",
            "  inflating: val_data/476/0059_03.jpg  \n",
            "  inflating: val_data/476/0236_01.jpg  \n",
            "  inflating: val_data/477/0004_01.jpg  \n",
            "  inflating: val_data/477/0034_01.jpg  \n",
            "  inflating: val_data/478/0055_01.jpg  \n",
            "  inflating: val_data/478/0134_01.jpg  \n",
            "  inflating: val_data/479/0046_01.jpg  \n",
            "  inflating: val_data/479/0148_03.jpg  \n",
            "  inflating: val_data/48/0050_02.jpg  \n",
            "  inflating: val_data/48/0130_01.jpg  \n",
            "  inflating: val_data/480/0103_01.jpg  \n",
            "  inflating: val_data/480/0219_01.jpg  \n",
            "  inflating: val_data/481/0216_01.jpg  \n",
            "  inflating: val_data/481/0329_01.jpg  \n",
            "  inflating: val_data/482/0235_01.jpg  \n",
            "  inflating: val_data/482/0236_01.jpg  \n",
            "  inflating: val_data/483/0113_01.jpg  \n",
            "  inflating: val_data/483/0293_01.jpg  \n",
            "  inflating: val_data/484/0009_01.jpg  \n",
            "  inflating: val_data/484/0025_01.jpg  \n",
            "  inflating: val_data/485/0160_01.jpg  \n",
            "  inflating: val_data/485/0485_01.jpg  \n",
            "  inflating: val_data/486/0108_01.jpg  \n",
            "  inflating: val_data/486/0261_01.jpg  \n",
            "  inflating: val_data/487/0078_01.jpg  \n",
            "  inflating: val_data/487/0096_01.jpg  \n",
            "  inflating: val_data/488/0321_01.jpg  \n",
            "  inflating: val_data/488/0433_01.jpg  \n",
            "  inflating: val_data/489/0132_01.jpg  \n",
            "  inflating: val_data/489/0201_01.jpg  \n",
            "  inflating: val_data/49/0046_01.jpg  \n",
            "  inflating: val_data/49/0374_01.jpg  \n",
            "  inflating: val_data/490/0026_01.jpg  \n",
            "  inflating: val_data/490/0045_01.jpg  \n",
            "  inflating: val_data/491/0163_01.jpg  \n",
            "  inflating: val_data/491/0211_01.jpg  \n",
            "  inflating: val_data/492/0055_01.jpg  \n",
            "  inflating: val_data/492/0325_01.jpg  \n",
            "  inflating: val_data/493/0306_02.jpg  \n",
            "  inflating: val_data/493/0406_01.jpg  \n",
            "  inflating: val_data/494/0073_04.jpg  \n",
            "  inflating: val_data/494/0332_01.jpg  \n",
            "  inflating: val_data/495/0085_01.jpg  \n",
            "  inflating: val_data/495/0248_01.jpg  \n",
            "  inflating: val_data/496/0016_01.jpg  \n",
            "  inflating: val_data/496/0142_02.jpg  \n",
            "  inflating: val_data/497/0040_01.jpg  \n",
            "  inflating: val_data/497/0099_03.jpg  \n",
            "  inflating: val_data/498/0130_01.jpg  \n",
            "  inflating: val_data/498/0271_04.jpg  \n",
            "  inflating: val_data/499/0124_01.jpg  \n",
            "  inflating: val_data/499/0256_01.jpg  \n",
            "  inflating: val_data/5/0164_01.jpg  \n",
            "  inflating: val_data/5/0211_01.jpg  \n",
            "  inflating: val_data/50/0217_02.jpg  \n",
            "  inflating: val_data/50/0248_01.jpg  \n",
            "  inflating: val_data/500/0130_01.jpg  \n",
            "  inflating: val_data/500/0333_02.jpg  \n",
            "  inflating: val_data/501/0094_02.jpg  \n",
            "  inflating: val_data/501/0853_01.jpg  \n",
            "  inflating: val_data/502/0058_01.jpg  \n",
            "  inflating: val_data/502/0359_01.jpg  \n",
            "  inflating: val_data/503/0118_01.jpg  \n",
            "  inflating: val_data/503/0455_01.jpg  \n",
            "  inflating: val_data/504/0149_01.jpg  \n",
            "  inflating: val_data/504/0389_01.jpg  \n",
            "  inflating: val_data/505/0050_01.jpg  \n",
            "  inflating: val_data/505/0339_01.jpg  \n",
            "  inflating: val_data/506/0067_01.jpg  \n",
            "  inflating: val_data/506/0187_01.jpg  \n",
            "  inflating: val_data/507/0083_01.jpg  \n",
            "  inflating: val_data/507/0575_01.jpg  \n",
            "  inflating: val_data/508/0164_02.jpg  \n",
            "  inflating: val_data/508/0207_01.jpg  \n",
            "  inflating: val_data/509/0181_01.jpg  \n",
            "  inflating: val_data/509/0322_01.jpg  \n",
            "  inflating: val_data/51/0074_01.jpg  \n",
            "  inflating: val_data/51/0222_04.jpg  \n",
            "  inflating: val_data/510/0057_01.jpg  \n",
            "  inflating: val_data/510/0085_01.jpg  \n",
            "  inflating: val_data/511/0109_02.jpg  \n",
            "  inflating: val_data/511/0122_01.jpg  \n",
            "  inflating: val_data/512/0084_02.jpg  \n",
            "  inflating: val_data/512/0200_01.jpg  \n",
            "  inflating: val_data/513/0184_01.jpg  \n",
            "  inflating: val_data/513/0211_02.jpg  \n",
            "  inflating: val_data/514/0165_06.jpg  \n",
            "  inflating: val_data/514/0429_01.jpg  \n",
            "  inflating: val_data/515/0132_01.jpg  \n",
            "  inflating: val_data/515/0219_03.jpg  \n",
            "  inflating: val_data/516/0083_02.jpg  \n",
            "  inflating: val_data/516/0403_01.jpg  \n",
            "  inflating: val_data/517/0148_01.jpg  \n",
            "  inflating: val_data/517/0264_01.jpg  \n",
            "  inflating: val_data/518/0047_01.jpg  \n",
            "  inflating: val_data/518/0349_01.jpg  \n",
            "  inflating: val_data/519/0291_01.jpg  \n",
            "  inflating: val_data/519/0430_02.jpg  \n",
            "  inflating: val_data/52/0112_02.jpg  \n",
            "  inflating: val_data/52/0292_01.jpg  \n",
            "  inflating: val_data/520/0091_02.jpg  \n",
            "  inflating: val_data/520/0197_01.jpg  \n",
            "  inflating: val_data/521/0182_01.jpg  \n",
            "  inflating: val_data/521/0479_01.jpg  \n",
            "  inflating: val_data/522/0061_02.jpg  \n",
            "  inflating: val_data/522/0347_01.jpg  \n",
            "  inflating: val_data/523/0216_01.jpg  \n",
            "  inflating: val_data/523/0227_04.jpg  \n",
            "  inflating: val_data/524/0016_01.jpg  \n",
            "  inflating: val_data/524/0048_02.jpg  \n",
            "  inflating: val_data/525/0266_01.jpg  \n",
            "  inflating: val_data/525/0275_01.jpg  \n",
            "  inflating: val_data/526/0024_01.jpg  \n",
            "  inflating: val_data/526/0061_01.jpg  \n",
            "  inflating: val_data/527/0162_01.jpg  \n",
            "  inflating: val_data/527/0187_01.jpg  \n",
            "  inflating: val_data/528/0116_02.jpg  \n",
            "  inflating: val_data/528/0263_01.jpg  \n",
            "  inflating: val_data/529/0111_02.jpg  \n",
            "  inflating: val_data/529/0426_01.jpg  \n",
            "  inflating: val_data/53/0160_01.jpg  \n",
            "  inflating: val_data/53/0526_01.jpg  \n",
            "  inflating: val_data/530/0204_02.jpg  \n",
            "  inflating: val_data/530/0321_01.jpg  \n",
            "  inflating: val_data/531/0052_01.jpg  \n",
            "  inflating: val_data/531/0211_01.jpg  \n",
            "  inflating: val_data/532/0028_01.jpg  \n",
            "  inflating: val_data/532/0272_01.jpg  \n",
            "  inflating: val_data/533/0212_01.jpg  \n",
            "  inflating: val_data/533/0351_01.jpg  \n",
            "  inflating: val_data/534/0116_01.jpg  \n",
            "  inflating: val_data/534/0322_01.jpg  \n",
            "  inflating: val_data/535/0047_01.jpg  \n",
            "  inflating: val_data/535/0251_02.jpg  \n",
            "  inflating: val_data/536/0225_01.jpg  \n",
            "  inflating: val_data/536/0419_01.jpg  \n",
            "  inflating: val_data/537/0022_01.jpg  \n",
            "  inflating: val_data/537/0172_01.jpg  \n",
            "  inflating: val_data/538/0050_03.jpg  \n",
            "  inflating: val_data/538/0304_02.jpg  \n",
            "  inflating: val_data/539/0054_03.jpg  \n",
            "  inflating: val_data/539/0170_02.jpg  \n",
            "  inflating: val_data/54/0106_01.jpg  \n",
            "  inflating: val_data/54/0325_02.jpg  \n",
            "  inflating: val_data/540/0041_01.jpg  \n",
            "  inflating: val_data/540/0079_01.jpg  \n",
            "  inflating: val_data/541/0084_01.jpg  \n",
            "  inflating: val_data/541/0097_01.jpg  \n",
            "  inflating: val_data/542/0075_01.jpg  \n",
            "  inflating: val_data/542/0117_01.jpg  \n",
            "  inflating: val_data/543/0054_01.jpg  \n",
            "  inflating: val_data/543/0474_01.jpg  \n",
            "  inflating: val_data/544/0277_01.jpg  \n",
            "  inflating: val_data/544/0286_01.jpg  \n",
            "  inflating: val_data/545/0129_01.jpg  \n",
            "  inflating: val_data/545/0337_01.jpg  \n",
            "  inflating: val_data/546/0256_01.jpg  \n",
            "  inflating: val_data/546/0326_02.jpg  \n",
            "  inflating: val_data/547/0258_01.jpg  \n",
            "  inflating: val_data/547/0338_01.jpg  \n",
            "  inflating: val_data/548/0024_01.jpg  \n",
            "  inflating: val_data/548/0078_01.jpg  \n",
            "  inflating: val_data/549/0051_01.jpg  \n",
            "  inflating: val_data/549/0179_01.jpg  \n",
            "  inflating: val_data/55/0275_01.jpg  \n",
            "  inflating: val_data/55/0311_01.jpg  \n",
            "  inflating: val_data/550/0342_02.jpg  \n",
            "  inflating: val_data/550/0477_01.jpg  \n",
            "  inflating: val_data/551/0024_01.jpg  \n",
            "  inflating: val_data/551/0333_01.jpg  \n",
            "  inflating: val_data/552/0029_01.jpg  \n",
            "  inflating: val_data/552/0257_01.jpg  \n",
            "  inflating: val_data/553/0017_03.jpg  \n",
            "  inflating: val_data/553/0029_01.jpg  \n",
            "  inflating: val_data/554/0287_03.jpg  \n",
            "  inflating: val_data/554/0378_05.jpg  \n",
            "  inflating: val_data/555/0520_01.jpg  \n",
            "  inflating: val_data/555/0662_01.jpg  \n",
            "  inflating: val_data/556/0360_02.jpg  \n",
            "  inflating: val_data/556/0547_03.jpg  \n",
            "  inflating: val_data/557/0038_02.jpg  \n",
            "  inflating: val_data/557/0220_01.jpg  \n",
            "  inflating: val_data/558/0053_01.jpg  \n",
            "  inflating: val_data/558/0318_01.jpg  \n",
            "  inflating: val_data/559/0080_01.jpg  \n",
            "  inflating: val_data/559/0271_02.jpg  \n",
            "  inflating: val_data/56/0162_01.jpg  \n",
            "  inflating: val_data/56/0399_01.jpg  \n",
            "  inflating: val_data/560/0090_01.jpg  \n",
            "  inflating: val_data/560/0233_01.jpg  \n",
            "  inflating: val_data/561/0054_02.jpg  \n",
            "  inflating: val_data/561/0543_01.jpg  \n",
            "  inflating: val_data/562/0105_01.jpg  \n",
            "  inflating: val_data/562/0334_01.jpg  \n",
            "  inflating: val_data/563/0013_01.jpg  \n",
            "  inflating: val_data/563/0340_01.jpg  \n",
            "  inflating: val_data/564/0067_01.jpg  \n",
            "  inflating: val_data/564/0342_01.jpg  \n",
            "  inflating: val_data/565/0136_01.jpg  \n",
            "  inflating: val_data/565/0462_02.jpg  \n",
            "  inflating: val_data/566/0294_01.jpg  \n",
            "  inflating: val_data/566/0315_01.jpg  \n",
            "  inflating: val_data/567/0227_01.jpg  \n",
            "  inflating: val_data/567/0425_01.jpg  \n",
            "  inflating: val_data/568/0027_01.jpg  \n",
            "  inflating: val_data/568/0070_01.jpg  \n",
            "  inflating: val_data/569/0064_02.jpg  \n",
            "  inflating: val_data/569/0200_01.jpg  \n",
            "  inflating: val_data/57/0077_01.jpg  \n",
            "  inflating: val_data/57/0120_02.jpg  \n",
            "  inflating: val_data/570/0026_01.jpg  \n",
            "  inflating: val_data/570/0117_01.jpg  \n",
            "  inflating: val_data/571/0073_01.jpg  \n",
            "  inflating: val_data/571/0177_01.jpg  \n",
            "  inflating: val_data/572/0044_03.jpg  \n",
            "  inflating: val_data/572/0241_01.jpg  \n",
            "  inflating: val_data/573/0198_01.jpg  \n",
            "  inflating: val_data/573/0439_01.jpg  \n",
            "  inflating: val_data/574/0018_01.jpg  \n",
            "  inflating: val_data/574/0052_01.jpg  \n",
            "  inflating: val_data/575/0006_02.jpg  \n",
            "  inflating: val_data/575/0256_01.jpg  \n",
            "  inflating: val_data/576/0060_01.jpg  \n",
            "  inflating: val_data/576/0418_01.jpg  \n",
            "  inflating: val_data/577/0199_03.jpg  \n",
            "  inflating: val_data/577/0346_01.jpg  \n",
            "  inflating: val_data/578/0097_01.jpg  \n",
            "  inflating: val_data/578/0101_01.jpg  \n",
            "  inflating: val_data/579/0103_01.jpg  \n",
            "  inflating: val_data/579/0452_01.jpg  \n",
            "  inflating: val_data/58/0031_03.jpg  \n",
            "  inflating: val_data/58/0111_01.jpg  \n",
            "  inflating: val_data/580/0031_01.jpg  \n",
            "  inflating: val_data/580/0273_02.jpg  \n",
            "  inflating: val_data/581/0189_01.jpg  \n",
            "  inflating: val_data/581/0319_02.jpg  \n",
            "  inflating: val_data/582/0162_01.jpg  \n",
            "  inflating: val_data/582/0287_01.jpg  \n",
            "  inflating: val_data/583/0118_01.jpg  \n",
            "  inflating: val_data/583/0138_01.jpg  \n",
            "  inflating: val_data/584/0157_01.jpg  \n",
            "  inflating: val_data/584/0165_03.jpg  \n",
            "  inflating: val_data/585/0067_01.jpg  \n",
            "  inflating: val_data/585/0100_01.jpg  \n",
            "  inflating: val_data/586/0265_01.jpg  \n",
            "  inflating: val_data/586/0372_02.jpg  \n",
            "  inflating: val_data/587/0002_01.jpg  \n",
            "  inflating: val_data/587/0131_01.jpg  \n",
            "  inflating: val_data/588/0099_01.jpg  \n",
            "  inflating: val_data/588/0604_01.jpg  \n",
            "  inflating: val_data/589/0093_02.jpg  \n",
            "  inflating: val_data/589/0507_02.jpg  \n",
            "  inflating: val_data/59/0032_01.jpg  \n",
            "  inflating: val_data/59/0033_01.jpg  \n",
            "  inflating: val_data/590/0215_01.jpg  \n",
            "  inflating: val_data/590/0509_01.jpg  \n",
            "  inflating: val_data/591/0305_01.jpg  \n",
            "  inflating: val_data/591/0468_01.jpg  \n",
            "  inflating: val_data/592/0016_01.jpg  \n",
            "  inflating: val_data/592/0166_01.jpg  \n",
            "  inflating: val_data/593/0065_05.jpg  \n",
            "  inflating: val_data/593/0309_02.jpg  \n",
            "  inflating: val_data/594/0229_01.jpg  \n",
            "  inflating: val_data/594/0274_04.jpg  \n",
            "  inflating: val_data/595/0096_01.jpg  \n",
            "  inflating: val_data/595/0155_01.jpg  \n",
            "  inflating: val_data/596/0139_02.jpg  \n",
            "  inflating: val_data/596/0365_02.jpg  \n",
            "  inflating: val_data/597/0216_01.jpg  \n",
            "  inflating: val_data/597/0489_01.jpg  \n",
            "  inflating: val_data/598/0037_01.jpg  \n",
            "  inflating: val_data/598/0069_01.jpg  \n",
            "  inflating: val_data/599/0024_01.jpg  \n",
            "  inflating: val_data/599/0344_01.jpg  \n",
            "  inflating: val_data/6/0154_02.jpg  \n",
            "  inflating: val_data/6/0187_02.jpg  \n",
            "  inflating: val_data/60/0035_01.jpg  \n",
            "  inflating: val_data/60/0124_01.jpg  \n",
            "  inflating: val_data/600/0182_02.jpg  \n",
            "  inflating: val_data/600/0443_02.jpg  \n",
            "  inflating: val_data/601/0122_01.jpg  \n",
            "  inflating: val_data/601/0235_02.jpg  \n",
            "  inflating: val_data/602/0119_01.jpg  \n",
            "  inflating: val_data/602/0288_01.jpg  \n",
            "  inflating: val_data/603/0091_01.jpg  \n",
            "  inflating: val_data/603/0325_01.jpg  \n",
            "  inflating: val_data/604/0177_01.jpg  \n",
            "  inflating: val_data/604/0644_01.jpg  \n",
            "  inflating: val_data/605/0070_01.jpg  \n",
            "  inflating: val_data/605/0153_01.jpg  \n",
            "  inflating: val_data/606/0001_01.jpg  \n",
            "  inflating: val_data/606/0298_02.jpg  \n",
            "  inflating: val_data/607/0106_01.jpg  \n",
            "  inflating: val_data/607/0242_02.jpg  \n",
            "  inflating: val_data/608/0067_05.jpg  \n",
            "  inflating: val_data/608/0112_02.jpg  \n",
            "  inflating: val_data/609/0036_01.jpg  \n",
            "  inflating: val_data/609/0058_01.jpg  \n",
            "  inflating: val_data/61/0100_01.jpg  \n",
            "  inflating: val_data/61/0201_01.jpg  \n",
            "  inflating: val_data/610/0116_01.jpg  \n",
            "  inflating: val_data/610/0344_01.jpg  \n",
            "  inflating: val_data/611/0190_01.jpg  \n",
            "  inflating: val_data/611/0330_01.jpg  \n",
            "  inflating: val_data/612/0051_01.jpg  \n",
            "  inflating: val_data/612/0084_03.jpg  \n",
            "  inflating: val_data/613/0328_01.jpg  \n",
            "  inflating: val_data/613/0449_01.jpg  \n",
            "  inflating: val_data/614/0341_01.jpg  \n",
            "  inflating: val_data/614/0382_01.jpg  \n",
            "  inflating: val_data/615/0332_01.jpg  \n",
            "  inflating: val_data/615/0485_01.jpg  \n",
            "  inflating: val_data/616/0084_01.jpg  \n",
            "  inflating: val_data/616/0241_01.jpg  \n",
            "  inflating: val_data/617/0291_01.jpg  \n",
            "  inflating: val_data/617/0337_01.jpg  \n",
            "  inflating: val_data/618/0254_02.jpg  \n",
            "  inflating: val_data/618/0268_01.jpg  \n",
            "  inflating: val_data/619/0100_01.jpg  \n",
            "  inflating: val_data/619/0190_01.jpg  \n",
            "  inflating: val_data/62/0207_01.jpg  \n",
            "  inflating: val_data/62/0326_01.jpg  \n",
            "  inflating: val_data/620/0006_01.jpg  \n",
            "  inflating: val_data/620/0345_01.jpg  \n",
            "  inflating: val_data/621/0311_01.jpg  \n",
            "  inflating: val_data/621/0319_01.jpg  \n",
            "  inflating: val_data/622/0102_01.jpg  \n",
            "  inflating: val_data/622/0450_01.jpg  \n",
            "  inflating: val_data/623/0100_01.jpg  \n",
            "  inflating: val_data/623/0150_01.jpg  \n",
            "  inflating: val_data/624/0141_02.jpg  \n",
            "  inflating: val_data/624/0303_01.jpg  \n",
            "  inflating: val_data/625/0309_01.jpg  \n",
            "  inflating: val_data/625/0327_01.jpg  \n",
            "  inflating: val_data/626/0012_01.jpg  \n",
            "  inflating: val_data/626/0287_01.jpg  \n",
            "  inflating: val_data/627/0288_01.jpg  \n",
            "  inflating: val_data/627/0373_02.jpg  \n",
            "  inflating: val_data/628/0118_01.jpg  \n",
            "  inflating: val_data/628/0357_01.jpg  \n",
            "  inflating: val_data/629/0045_01.jpg  \n",
            "  inflating: val_data/629/0257_01.jpg  \n",
            "  inflating: val_data/63/0258_01.jpg  \n",
            "  inflating: val_data/63/0302_01.jpg  \n",
            "  inflating: val_data/630/0086_01.jpg  \n",
            "  inflating: val_data/630/0093_02.jpg  \n",
            "  inflating: val_data/631/0019_01.jpg  \n",
            "  inflating: val_data/631/0024_01.jpg  \n",
            "  inflating: val_data/632/0026_01.jpg  \n",
            "  inflating: val_data/632/0106_01.jpg  \n",
            "  inflating: val_data/633/0022_01.jpg  \n",
            "  inflating: val_data/633/0053_01.jpg  \n",
            "  inflating: val_data/634/0013_01.jpg  \n",
            "  inflating: val_data/634/0089_01.jpg  \n",
            "  inflating: val_data/635/0037_04.jpg  \n",
            "  inflating: val_data/635/0101_01.jpg  \n",
            "  inflating: val_data/636/0103_01.jpg  \n",
            "  inflating: val_data/636/0256_01.jpg  \n",
            "  inflating: val_data/637/0021_01.jpg  \n",
            "  inflating: val_data/637/0022_01.jpg  \n",
            "  inflating: val_data/638/0214_02.jpg  \n",
            "  inflating: val_data/638/0292_01.jpg  \n",
            "  inflating: val_data/639/0121_01.jpg  \n",
            "  inflating: val_data/639/0335_01.jpg  \n",
            "  inflating: val_data/64/0077_02.jpg  \n",
            "  inflating: val_data/64/0087_01.jpg  \n",
            "  inflating: val_data/640/0069_02.jpg  \n",
            "  inflating: val_data/640/0139_01.jpg  \n",
            "  inflating: val_data/641/0160_01.jpg  \n",
            "  inflating: val_data/641/0343_02.jpg  \n",
            "  inflating: val_data/642/0126_01.jpg  \n",
            "  inflating: val_data/642/0223_01.jpg  \n",
            "  inflating: val_data/643/0272_01.jpg  \n",
            "  inflating: val_data/643/0279_07.jpg  \n",
            "  inflating: val_data/644/0390_01.jpg  \n",
            "  inflating: val_data/644/0436_01.jpg  \n",
            "  inflating: val_data/645/0008_01.jpg  \n",
            "  inflating: val_data/645/0205_02.jpg  \n",
            "  inflating: val_data/646/0002_01.jpg  \n",
            "  inflating: val_data/646/0060_01.jpg  \n",
            "  inflating: val_data/647/0253_01.jpg  \n",
            "  inflating: val_data/647/0289_01.jpg  \n",
            "  inflating: val_data/648/0061_02.jpg  \n",
            "  inflating: val_data/648/0066_02.jpg  \n",
            "  inflating: val_data/649/0087_02.jpg  \n",
            "  inflating: val_data/649/0104_01.jpg  \n",
            "  inflating: val_data/65/0056_01.jpg  \n",
            "  inflating: val_data/65/0125_04.jpg  \n",
            "  inflating: val_data/650/0075_01.jpg  \n",
            "  inflating: val_data/650/0149_01.jpg  \n",
            "  inflating: val_data/651/0187_01.jpg  \n",
            "  inflating: val_data/651/0378_01.jpg  \n",
            "  inflating: val_data/652/0179_01.jpg  \n",
            "  inflating: val_data/652/0268_02.jpg  \n",
            "  inflating: val_data/653/0337_01.jpg  \n",
            "  inflating: val_data/653/0584_01.jpg  \n",
            "  inflating: val_data/654/0373_01.jpg  \n",
            "  inflating: val_data/654/0439_01.jpg  \n",
            "  inflating: val_data/655/0052_01.jpg  \n",
            "  inflating: val_data/655/0399_01.jpg  \n",
            "  inflating: val_data/656/0215_01.jpg  \n",
            "  inflating: val_data/656/0302_02.jpg  \n",
            "  inflating: val_data/657/0044_01.jpg  \n",
            "  inflating: val_data/657/0106_01.jpg  \n",
            "  inflating: val_data/658/0193_01.jpg  \n",
            "  inflating: val_data/658/0304_01.jpg  \n",
            "  inflating: val_data/659/0120_02.jpg  \n",
            "  inflating: val_data/659/0358_02.jpg  \n",
            "  inflating: val_data/66/0077_01.jpg  \n",
            "  inflating: val_data/66/0263_01.jpg  \n",
            "  inflating: val_data/660/0045_03.jpg  \n",
            "  inflating: val_data/660/0488_01.jpg  \n",
            "  inflating: val_data/661/0007_02.jpg  \n",
            "  inflating: val_data/661/0169_02.jpg  \n",
            "  inflating: val_data/662/0126_01.jpg  \n",
            "  inflating: val_data/662/0291_04.jpg  \n",
            "  inflating: val_data/663/0039_01.jpg  \n",
            "  inflating: val_data/663/0194_01.jpg  \n",
            "  inflating: val_data/664/0180_01.jpg  \n",
            "  inflating: val_data/664/0199_01.jpg  \n",
            "  inflating: val_data/665/0268_01.jpg  \n",
            "  inflating: val_data/665/0416_02.jpg  \n",
            "  inflating: val_data/666/0147_02.jpg  \n",
            "  inflating: val_data/666/0183_01.jpg  \n",
            "  inflating: val_data/667/0146_01.jpg  \n",
            "  inflating: val_data/667/0390_01.jpg  \n",
            "  inflating: val_data/668/0322_02.jpg  \n",
            "  inflating: val_data/668/0399_02.jpg  \n",
            "  inflating: val_data/669/0067_02.jpg  \n",
            "  inflating: val_data/669/0309_01.jpg  \n",
            "  inflating: val_data/67/0223_01.jpg  \n",
            "  inflating: val_data/67/0287_01.jpg  \n",
            "  inflating: val_data/670/0214_01.jpg  \n",
            "  inflating: val_data/670/0359_01.jpg  \n",
            "  inflating: val_data/671/0161_01.jpg  \n",
            "  inflating: val_data/671/0398_02.jpg  \n",
            "  inflating: val_data/672/0011_01.jpg  \n",
            "  inflating: val_data/672/0171_01.jpg  \n",
            "  inflating: val_data/673/0425_01.jpg  \n",
            "  inflating: val_data/673/0481_01.jpg  \n",
            "  inflating: val_data/674/0087_02.jpg  \n",
            "  inflating: val_data/674/0656_02.jpg  \n",
            "  inflating: val_data/675/0259_01.jpg  \n",
            "  inflating: val_data/675/0313_01.jpg  \n",
            "  inflating: val_data/676/0001_01.jpg  \n",
            "  inflating: val_data/676/0444_02.jpg  \n",
            "  inflating: val_data/677/0074_03.jpg  \n",
            "  inflating: val_data/677/0343_01.jpg  \n",
            "  inflating: val_data/678/0041_01.jpg  \n",
            "  inflating: val_data/678/0061_02.jpg  \n",
            "  inflating: val_data/679/0096_01.jpg  \n",
            "  inflating: val_data/679/0224_02.jpg  \n",
            "  inflating: val_data/68/0092_01.jpg  \n",
            "  inflating: val_data/68/0221_01.jpg  \n",
            "  inflating: val_data/680/0032_01.jpg  \n",
            "  inflating: val_data/680/0330_01.jpg  \n",
            "  inflating: val_data/681/0146_01.jpg  \n",
            "  inflating: val_data/681/0498_01.jpg  \n",
            "  inflating: val_data/682/0224_01.jpg  \n",
            "  inflating: val_data/682/0295_01.jpg  \n",
            "  inflating: val_data/683/0089_01.jpg  \n",
            "  inflating: val_data/683/0314_03.jpg  \n",
            "  inflating: val_data/684/0095_02.jpg  \n",
            "  inflating: val_data/684/0255_01.jpg  \n",
            "  inflating: val_data/685/0010_01.jpg  \n",
            "  inflating: val_data/685/0070_01.jpg  \n",
            "  inflating: val_data/686/0040_01.jpg  \n",
            "  inflating: val_data/686/0047_02.jpg  \n",
            "  inflating: val_data/687/0106_01.jpg  \n",
            "  inflating: val_data/687/0125_01.jpg  \n",
            "  inflating: val_data/688/0031_01.jpg  \n",
            "  inflating: val_data/688/0150_01.jpg  \n",
            "  inflating: val_data/689/0030_01.jpg  \n",
            "  inflating: val_data/689/0292_01.jpg  \n",
            "  inflating: val_data/69/0184_01.jpg  \n",
            "  inflating: val_data/69/0540_01.jpg  \n",
            "  inflating: val_data/690/0186_01.jpg  \n",
            "  inflating: val_data/690/0231_01.jpg  \n",
            "  inflating: val_data/691/0226_01.jpg  \n",
            "  inflating: val_data/691/0233_01.jpg  \n",
            "  inflating: val_data/692/0040_01.jpg  \n",
            "  inflating: val_data/692/0327_01.jpg  \n",
            "  inflating: val_data/693/0014_01.jpg  \n",
            "  inflating: val_data/693/0267_01.jpg  \n",
            "  inflating: val_data/694/0040_02.jpg  \n",
            "  inflating: val_data/694/0232_02.jpg  \n",
            "  inflating: val_data/695/0012_01.jpg  \n",
            "  inflating: val_data/695/0232_01.jpg  \n",
            "  inflating: val_data/696/0126_01.jpg  \n",
            "  inflating: val_data/696/0249_02.jpg  \n",
            "  inflating: val_data/697/0035_01.jpg  \n",
            "  inflating: val_data/697/0078_01.jpg  \n",
            "  inflating: val_data/698/0350_01.jpg  \n",
            "  inflating: val_data/698/0423_01.jpg  \n",
            "  inflating: val_data/699/0108_01.jpg  \n",
            "  inflating: val_data/699/0343_02.jpg  \n",
            "  inflating: val_data/7/0257_01.jpg  \n",
            "  inflating: val_data/7/0446_03.jpg  \n",
            "  inflating: val_data/70/0034_01.jpg  \n",
            "  inflating: val_data/70/0094_01.jpg  \n",
            "  inflating: val_data/700/0004_01.jpg  \n",
            "  inflating: val_data/700/0073_02.jpg  \n",
            "  inflating: val_data/701/0185_01.jpg  \n",
            "  inflating: val_data/701/0198_01.jpg  \n",
            "  inflating: val_data/702/0072_01.jpg  \n",
            "  inflating: val_data/702/0202_01.jpg  \n",
            "  inflating: val_data/703/0070_01.jpg  \n",
            "  inflating: val_data/703/0102_01.jpg  \n",
            "  inflating: val_data/704/0069_04.jpg  \n",
            "  inflating: val_data/704/0087_01.jpg  \n",
            "  inflating: val_data/705/0149_01.jpg  \n",
            "  inflating: val_data/705/0157_03.jpg  \n",
            "  inflating: val_data/706/0112_01.jpg  \n",
            "  inflating: val_data/706/0278_02.jpg  \n",
            "  inflating: val_data/707/0047_01.jpg  \n",
            "  inflating: val_data/707/0198_01.jpg  \n",
            "  inflating: val_data/708/0230_01.jpg  \n",
            "  inflating: val_data/708/0281_01.jpg  \n",
            "  inflating: val_data/709/0064_01.jpg  \n",
            "  inflating: val_data/709/0343_01.jpg  \n",
            "  inflating: val_data/71/0272_01.jpg  \n",
            "  inflating: val_data/71/0375_01.jpg  \n",
            "  inflating: val_data/710/0116_01.jpg  \n",
            "  inflating: val_data/710/0147_01.jpg  \n",
            "  inflating: val_data/711/0056_01.jpg  \n",
            "  inflating: val_data/711/0269_02.jpg  \n",
            "  inflating: val_data/712/0053_03.jpg  \n",
            "  inflating: val_data/712/0164_02.jpg  \n",
            "  inflating: val_data/713/0118_01.jpg  \n",
            "  inflating: val_data/713/0229_01.jpg  \n",
            "  inflating: val_data/714/0133_02.jpg  \n",
            "  inflating: val_data/714/0274_01.jpg  \n",
            "  inflating: val_data/715/0079_01.jpg  \n",
            "  inflating: val_data/715/0437_01.jpg  \n",
            "  inflating: val_data/716/0041_01.jpg  \n",
            "  inflating: val_data/716/0274_02.jpg  \n",
            "  inflating: val_data/717/0219_01.jpg  \n",
            "  inflating: val_data/717/0289_02.jpg  \n",
            "  inflating: val_data/718/0105_01.jpg  \n",
            "  inflating: val_data/718/0197_01.jpg  \n",
            "  inflating: val_data/719/0031_01.jpg  \n",
            "  inflating: val_data/719/0154_01.jpg  \n",
            "  inflating: val_data/72/0135_01.jpg  \n",
            "  inflating: val_data/72/0191_01.jpg  \n",
            "  inflating: val_data/720/0010_01.jpg  \n",
            "  inflating: val_data/720/0036_01.jpg  \n",
            "  inflating: val_data/721/0129_01.jpg  \n",
            "  inflating: val_data/721/0230_01.jpg  \n",
            "  inflating: val_data/722/0116_01.jpg  \n",
            "  inflating: val_data/722/0238_02.jpg  \n",
            "  inflating: val_data/723/0328_01.jpg  \n",
            "  inflating: val_data/723/0387_02.jpg  \n",
            "  inflating: val_data/724/0112_03.jpg  \n",
            "  inflating: val_data/724/0441_01.jpg  \n",
            "  inflating: val_data/725/0168_01.jpg  \n",
            "  inflating: val_data/725/0225_01.jpg  \n",
            "  inflating: val_data/726/0011_06.jpg  \n",
            "  inflating: val_data/726/0235_02.jpg  \n",
            "  inflating: val_data/727/0233_01.jpg  \n",
            "  inflating: val_data/727/0334_01.jpg  \n",
            "  inflating: val_data/728/0019_01.jpg  \n",
            "  inflating: val_data/728/0899_03.jpg  \n",
            "  inflating: val_data/729/0171_01.jpg  \n",
            "  inflating: val_data/729/0372_01.jpg  \n",
            "  inflating: val_data/73/0012_01.jpg  \n",
            "  inflating: val_data/73/0172_01.jpg  \n",
            "  inflating: val_data/730/0186_01.jpg  \n",
            "  inflating: val_data/730/0379_01.jpg  \n",
            "  inflating: val_data/731/0188_01.jpg  \n",
            "  inflating: val_data/731/0272_01.jpg  \n",
            "  inflating: val_data/732/0004_01.jpg  \n",
            "  inflating: val_data/732/0113_02.jpg  \n",
            "  inflating: val_data/733/0190_01.jpg  \n",
            "  inflating: val_data/733/0432_01.jpg  \n",
            "  inflating: val_data/734/0489_01.jpg  \n",
            "  inflating: val_data/734/0491_01.jpg  \n",
            "  inflating: val_data/735/0098_01.jpg  \n",
            "  inflating: val_data/735/0215_01.jpg  \n",
            "  inflating: val_data/736/0010_01.jpg  \n",
            "  inflating: val_data/736/0026_01.jpg  \n",
            "  inflating: val_data/737/0089_01.jpg  \n",
            "  inflating: val_data/737/0203_01.jpg  \n",
            "  inflating: val_data/738/0180_02.jpg  \n",
            "  inflating: val_data/738/0424_01.jpg  \n",
            "  inflating: val_data/739/0190_02.jpg  \n",
            "  inflating: val_data/739/0191_01.jpg  \n",
            "  inflating: val_data/74/0099_01.jpg  \n",
            "  inflating: val_data/74/0235_01.jpg  \n",
            "  inflating: val_data/740/0041_01.jpg  \n",
            "  inflating: val_data/740/0205_01.jpg  \n",
            "  inflating: val_data/741/0133_01.jpg  \n",
            "  inflating: val_data/741/0172_01.jpg  \n",
            "  inflating: val_data/742/0166_01.jpg  \n",
            "  inflating: val_data/742/0551_02.jpg  \n",
            "  inflating: val_data/743/0095_01.jpg  \n",
            "  inflating: val_data/743/0390_01.jpg  \n",
            "  inflating: val_data/744/0190_01.jpg  \n",
            "  inflating: val_data/744/0404_05.jpg  \n",
            "  inflating: val_data/745/0013_02.jpg  \n",
            "  inflating: val_data/745/0624_01.jpg  \n",
            "  inflating: val_data/746/0079_01.jpg  \n",
            "  inflating: val_data/746/0485_01.jpg  \n",
            "  inflating: val_data/747/0013_02.jpg  \n",
            "  inflating: val_data/747/0106_01.jpg  \n",
            "  inflating: val_data/748/0303_01.jpg  \n",
            "  inflating: val_data/748/0318_01.jpg  \n",
            "  inflating: val_data/749/0211_02.jpg  \n",
            "  inflating: val_data/749/0389_01.jpg  \n",
            "  inflating: val_data/75/0050_01.jpg  \n",
            "  inflating: val_data/75/0153_01.jpg  \n",
            "  inflating: val_data/750/0001_01.jpg  \n",
            "  inflating: val_data/750/0013_01.jpg  \n",
            "  inflating: val_data/751/0051_05.jpg  \n",
            "  inflating: val_data/751/0477_02.jpg  \n",
            "  inflating: val_data/752/0019_01.jpg  \n",
            "  inflating: val_data/752/0324_01.jpg  \n",
            "  inflating: val_data/753/0013_01.jpg  \n",
            "  inflating: val_data/753/0140_01.jpg  \n",
            "  inflating: val_data/754/0252_01.jpg  \n",
            "  inflating: val_data/754/0265_01.jpg  \n",
            "  inflating: val_data/755/0112_01.jpg  \n",
            "  inflating: val_data/755/0268_04.jpg  \n",
            "  inflating: val_data/756/0037_01.jpg  \n",
            "  inflating: val_data/756/0321_01.jpg  \n",
            "  inflating: val_data/757/0144_01.jpg  \n",
            "  inflating: val_data/757/0337_01.jpg  \n",
            "  inflating: val_data/758/0323_01.jpg  \n",
            "  inflating: val_data/758/0330_01.jpg  \n",
            "  inflating: val_data/759/0021_01.jpg  \n",
            "  inflating: val_data/759/0141_01.jpg  \n",
            "  inflating: val_data/76/0131_03.jpg  \n",
            "  inflating: val_data/76/0303_01.jpg  \n",
            "  inflating: val_data/760/0209_01.jpg  \n",
            "  inflating: val_data/760/0264_02.jpg  \n",
            "  inflating: val_data/761/0315_01.jpg  \n",
            "  inflating: val_data/761/0344_01.jpg  \n",
            "  inflating: val_data/762/0061_01.jpg  \n",
            "  inflating: val_data/762/0071_01.jpg  \n",
            "  inflating: val_data/763/0006_01.jpg  \n",
            "  inflating: val_data/763/0043_01.jpg  \n",
            "  inflating: val_data/764/0307_01.jpg  \n",
            "  inflating: val_data/764/0329_01.jpg  \n",
            "  inflating: val_data/765/0180_04.jpg  \n",
            "  inflating: val_data/765/0258_01.jpg  \n",
            "  inflating: val_data/766/0015_01.jpg  \n",
            "  inflating: val_data/766/0150_03.jpg  \n",
            "  inflating: val_data/767/0261_01.jpg  \n",
            "  inflating: val_data/767/0318_01.jpg  \n",
            "  inflating: val_data/768/0006_01.jpg  \n",
            "  inflating: val_data/768/0091_01.jpg  \n",
            "  inflating: val_data/769/0019_01.jpg  \n",
            "  inflating: val_data/769/0034_01.jpg  \n",
            "  inflating: val_data/77/0076_01.jpg  \n",
            "  inflating: val_data/77/0129_01.jpg  \n",
            "  inflating: val_data/770/0002_01.jpg  \n",
            "  inflating: val_data/770/0485_01.jpg  \n",
            "  inflating: val_data/771/0155_01.jpg  \n",
            "  inflating: val_data/771/0302_01.jpg  \n",
            "  inflating: val_data/772/0001_01.jpg  \n",
            "  inflating: val_data/772/0206_02.jpg  \n",
            "  inflating: val_data/773/0081_03.jpg  \n",
            "  inflating: val_data/773/0201_01.jpg  \n",
            "  inflating: val_data/774/0265_01.jpg  \n",
            "  inflating: val_data/774/0303_01.jpg  \n",
            "  inflating: val_data/775/0103_01.jpg  \n",
            "  inflating: val_data/775/0116_01.jpg  \n",
            "  inflating: val_data/776/0201_01.jpg  \n",
            "  inflating: val_data/776/0341_01.jpg  \n",
            "  inflating: val_data/777/0255_01.jpg  \n",
            "  inflating: val_data/777/0419_01.jpg  \n",
            "  inflating: val_data/778/0135_01.jpg  \n",
            "  inflating: val_data/778/0216_03.jpg  \n",
            "  inflating: val_data/779/0110_01.jpg  \n",
            "  inflating: val_data/779/0306_02.jpg  \n",
            "  inflating: val_data/78/0037_01.jpg  \n",
            "  inflating: val_data/78/0276_01.jpg  \n",
            "  inflating: val_data/780/0108_01.jpg  \n",
            "  inflating: val_data/780/0229_01.jpg  \n",
            "  inflating: val_data/781/1054_01.jpg  \n",
            "  inflating: val_data/781/1067_01.jpg  \n",
            "  inflating: val_data/782/0015_01.jpg  \n",
            "  inflating: val_data/782/0508_01.jpg  \n",
            "  inflating: val_data/783/0055_01.jpg  \n",
            "  inflating: val_data/783/0335_01.jpg  \n",
            "  inflating: val_data/784/0142_01.jpg  \n",
            "  inflating: val_data/784/0192_01.jpg  \n",
            "  inflating: val_data/785/0077_01.jpg  \n",
            "  inflating: val_data/785/0211_01.jpg  \n",
            "  inflating: val_data/786/0173_01.jpg  \n",
            "  inflating: val_data/786/0213_01.jpg  \n",
            "  inflating: val_data/787/0043_01.jpg  \n",
            "  inflating: val_data/787/0101_02.jpg  \n",
            "  inflating: val_data/788/0066_01.jpg  \n",
            "  inflating: val_data/788/0444_06.jpg  \n",
            "  inflating: val_data/789/0043_01.jpg  \n",
            "  inflating: val_data/789/0159_01.jpg  \n",
            "  inflating: val_data/79/0105_01.jpg  \n",
            "  inflating: val_data/79/0242_01.jpg  \n",
            "  inflating: val_data/790/0020_01.jpg  \n",
            "  inflating: val_data/790/0165_01.jpg  \n",
            "  inflating: val_data/791/0208_03.jpg  \n",
            "  inflating: val_data/791/0344_03.jpg  \n",
            "  inflating: val_data/792/0104_01.jpg  \n",
            "  inflating: val_data/792/0272_01.jpg  \n",
            "  inflating: val_data/793/0210_01.jpg  \n",
            "  inflating: val_data/793/0250_01.jpg  \n",
            "  inflating: val_data/794/0005_01.jpg  \n",
            "  inflating: val_data/794/0324_01.jpg  \n",
            "  inflating: val_data/795/0220_01.jpg  \n",
            "  inflating: val_data/795/0415_01.jpg  \n",
            "  inflating: val_data/796/0008_02.jpg  \n",
            "  inflating: val_data/796/0036_01.jpg  \n",
            "  inflating: val_data/797/0130_01.jpg  \n",
            "  inflating: val_data/797/0196_01.jpg  \n",
            "  inflating: val_data/798/0018_01.jpg  \n",
            "  inflating: val_data/798/0032_02.jpg  \n",
            "  inflating: val_data/799/0053_01.jpg  \n",
            "  inflating: val_data/799/0143_01.jpg  \n",
            "  inflating: val_data/8/0068_02.jpg  \n",
            "  inflating: val_data/8/0218_01.jpg  \n",
            "  inflating: val_data/80/0047_01.jpg  \n",
            "  inflating: val_data/80/0316_01.jpg  \n",
            "  inflating: val_data/800/0269_01.jpg  \n",
            "  inflating: val_data/800/0297_01.jpg  \n",
            "  inflating: val_data/801/0133_01.jpg  \n",
            "  inflating: val_data/801/0252_01.jpg  \n",
            "  inflating: val_data/802/0166_02.jpg  \n",
            "  inflating: val_data/802/0194_01.jpg  \n",
            "  inflating: val_data/803/0007_01.jpg  \n",
            "  inflating: val_data/803/0361_01.jpg  \n",
            "  inflating: val_data/804/0029_01.jpg  \n",
            "  inflating: val_data/804/0132_01.jpg  \n",
            "  inflating: val_data/805/0048_01.jpg  \n",
            "  inflating: val_data/805/0069_01.jpg  \n",
            "  inflating: val_data/806/0060_01.jpg  \n",
            "  inflating: val_data/806/0235_01.jpg  \n",
            "  inflating: val_data/807/0203_01.jpg  \n",
            "  inflating: val_data/807/0259_01.jpg  \n",
            "  inflating: val_data/808/0070_01.jpg  \n",
            "  inflating: val_data/808/0334_01.jpg  \n",
            "  inflating: val_data/809/0034_01.jpg  \n",
            "  inflating: val_data/809/0063_01.jpg  \n",
            "  inflating: val_data/81/0075_01.jpg  \n",
            "  inflating: val_data/81/0150_02.jpg  \n",
            "  inflating: val_data/810/0021_02.jpg  \n",
            "  inflating: val_data/810/0574_02.jpg  \n",
            "  inflating: val_data/811/0200_01.jpg  \n",
            "  inflating: val_data/811/0464_01.jpg  \n",
            "  inflating: val_data/812/0108_01.jpg  \n",
            "  inflating: val_data/812/0386_01.jpg  \n",
            "  inflating: val_data/813/0068_01.jpg  \n",
            "  inflating: val_data/813/0354_01.jpg  \n",
            "  inflating: val_data/814/0053_01.jpg  \n",
            "  inflating: val_data/814/0203_01.jpg  \n",
            "  inflating: val_data/815/0035_01.jpg  \n",
            "  inflating: val_data/815/0175_02.jpg  \n",
            "  inflating: val_data/816/0293_01.jpg  \n",
            "  inflating: val_data/816/0359_02.jpg  \n",
            "  inflating: val_data/817/0199_01.jpg  \n",
            "  inflating: val_data/817/0229_01.jpg  \n",
            "  inflating: val_data/818/0005_01.jpg  \n",
            "  inflating: val_data/818/0401_01.jpg  \n",
            "  inflating: val_data/819/0049_01.jpg  \n",
            "  inflating: val_data/819/0196_01.jpg  \n",
            "  inflating: val_data/82/0234_01.jpg  \n",
            "  inflating: val_data/82/0257_01.jpg  \n",
            "  inflating: val_data/820/0061_01.jpg  \n",
            "  inflating: val_data/820/0076_01.jpg  \n",
            "  inflating: val_data/821/0011_01.jpg  \n",
            "  inflating: val_data/821/0191_01.jpg  \n",
            "  inflating: val_data/822/0257_02.jpg  \n",
            "  inflating: val_data/822/0504_02.jpg  \n",
            "  inflating: val_data/823/0003_01.jpg  \n",
            "  inflating: val_data/823/0061_01.jpg  \n",
            "  inflating: val_data/824/0084_01.jpg  \n",
            "  inflating: val_data/824/0307_01.jpg  \n",
            "  inflating: val_data/825/0329_01.jpg  \n",
            "  inflating: val_data/825/0379_01.jpg  \n",
            "  inflating: val_data/826/0119_01.jpg  \n",
            "  inflating: val_data/826/0142_01.jpg  \n",
            "  inflating: val_data/827/0106_02.jpg  \n",
            "  inflating: val_data/827/0245_01.jpg  \n",
            "  inflating: val_data/828/0032_01.jpg  \n",
            "  inflating: val_data/828/0074_01.jpg  \n",
            "  inflating: val_data/829/0256_01.jpg  \n",
            "  inflating: val_data/829/0304_01.jpg  \n",
            "  inflating: val_data/83/0023_01.jpg  \n",
            "  inflating: val_data/83/0192_01.jpg  \n",
            "  inflating: val_data/830/0013_01.jpg  \n",
            "  inflating: val_data/830/0124_01.jpg  \n",
            "  inflating: val_data/831/0277_01.jpg  \n",
            "  inflating: val_data/831/0374_02.jpg  \n",
            "  inflating: val_data/832/0073_01.jpg  \n",
            "  inflating: val_data/832/0587_01.jpg  \n",
            "  inflating: val_data/833/0088_01.jpg  \n",
            "  inflating: val_data/833/0278_01.jpg  \n",
            "  inflating: val_data/834/0070_01.jpg  \n",
            "  inflating: val_data/834/0076_01.jpg  \n",
            "  inflating: val_data/835/0043_01.jpg  \n",
            "  inflating: val_data/835/0257_01.jpg  \n",
            "  inflating: val_data/836/0037_01.jpg  \n",
            "  inflating: val_data/836/0320_01.jpg  \n",
            "  inflating: val_data/837/0096_01.jpg  \n",
            "  inflating: val_data/837/0220_02.jpg  \n",
            "  inflating: val_data/838/0081_01.jpg  \n",
            "  inflating: val_data/838/0205_02.jpg  \n",
            "  inflating: val_data/839/0024_01.jpg  \n",
            "  inflating: val_data/839/0537_01.jpg  \n",
            "  inflating: val_data/84/0259_01.jpg  \n",
            "  inflating: val_data/84/0322_01.jpg  \n",
            "  inflating: val_data/840/0018_01.jpg  \n",
            "  inflating: val_data/840/0253_02.jpg  \n",
            "  inflating: val_data/841/0002_02.jpg  \n",
            "  inflating: val_data/841/0238_01.jpg  \n",
            "  inflating: val_data/842/0217_01.jpg  \n",
            "  inflating: val_data/842/0305_01.jpg  \n",
            "  inflating: val_data/843/0016_01.jpg  \n",
            "  inflating: val_data/843/0280_01.jpg  \n",
            "  inflating: val_data/844/0012_01.jpg  \n",
            "  inflating: val_data/844/0328_01.jpg  \n",
            "  inflating: val_data/845/0052_01.jpg  \n",
            "  inflating: val_data/845/0151_01.jpg  \n",
            "  inflating: val_data/846/0192_01.jpg  \n",
            "  inflating: val_data/846/0257_01.jpg  \n",
            "  inflating: val_data/847/0113_01.jpg  \n",
            "  inflating: val_data/847/0320_01.jpg  \n",
            "  inflating: val_data/848/0309_01.jpg  \n",
            "  inflating: val_data/848/0504_01.jpg  \n",
            "  inflating: val_data/849/0031_01.jpg  \n",
            "  inflating: val_data/849/0405_01.jpg  \n",
            "  inflating: val_data/85/0178_01.jpg  \n",
            "  inflating: val_data/85/0287_01.jpg  \n",
            "  inflating: val_data/850/0324_01.jpg  \n",
            "  inflating: val_data/850/0376_01.jpg  \n",
            "  inflating: val_data/851/0034_02.jpg  \n",
            "  inflating: val_data/851/0112_01.jpg  \n",
            "  inflating: val_data/852/0003_01.jpg  \n",
            "  inflating: val_data/852/0381_01.jpg  \n",
            "  inflating: val_data/853/0085_01.jpg  \n",
            "  inflating: val_data/853/0309_01.jpg  \n",
            "  inflating: val_data/854/0064_03.jpg  \n",
            "  inflating: val_data/854/0225_01.jpg  \n",
            "  inflating: val_data/855/0038_01.jpg  \n",
            "  inflating: val_data/855/0203_03.jpg  \n",
            "  inflating: val_data/856/0020_02.jpg  \n",
            "  inflating: val_data/856/0109_01.jpg  \n",
            "  inflating: val_data/857/0161_02.jpg  \n",
            "  inflating: val_data/857/0192_01.jpg  \n",
            "  inflating: val_data/858/0025_01.jpg  \n",
            "  inflating: val_data/858/0036_01.jpg  \n",
            "  inflating: val_data/859/0064_01.jpg  \n",
            "  inflating: val_data/859/0300_01.jpg  \n",
            "  inflating: val_data/86/0074_01.jpg  \n",
            "  inflating: val_data/86/0291_01.jpg  \n",
            "  inflating: val_data/860/0028_03.jpg  \n",
            "  inflating: val_data/860/0374_02.jpg  \n",
            "  inflating: val_data/861/0080_01.jpg  \n",
            "  inflating: val_data/861/0480_01.jpg  \n",
            "  inflating: val_data/862/0010_02.jpg  \n",
            "  inflating: val_data/862/0272_01.jpg  \n",
            "  inflating: val_data/863/0067_01.jpg  \n",
            "  inflating: val_data/863/0312_01.jpg  \n",
            "  inflating: val_data/864/0180_01.jpg  \n",
            "  inflating: val_data/864/0362_01.jpg  \n",
            "  inflating: val_data/865/0045_02.jpg  \n",
            "  inflating: val_data/865/0420_02.jpg  \n",
            "  inflating: val_data/866/0073_01.jpg  \n",
            "  inflating: val_data/866/0137_01.jpg  \n",
            "  inflating: val_data/867/0221_01.jpg  \n",
            "  inflating: val_data/867/0451_01.jpg  \n",
            "  inflating: val_data/868/0152_01.jpg  \n",
            "  inflating: val_data/868/0282_01.jpg  \n",
            "  inflating: val_data/869/0159_01.jpg  \n",
            "  inflating: val_data/869/0199_01.jpg  \n",
            "  inflating: val_data/87/0163_01.jpg  \n",
            "  inflating: val_data/87/0239_03.jpg  \n",
            "  inflating: val_data/870/0146_01.jpg  \n",
            "  inflating: val_data/870/0349_01.jpg  \n",
            "  inflating: val_data/871/0062_03.jpg  \n",
            "  inflating: val_data/871/0180_01.jpg  \n",
            "  inflating: val_data/872/0073_01.jpg  \n",
            "  inflating: val_data/872/0209_01.jpg  \n",
            "  inflating: val_data/873/0126_01.jpg  \n",
            "  inflating: val_data/873/0361_01.jpg  \n",
            "  inflating: val_data/874/0068_01.jpg  \n",
            "  inflating: val_data/874/0162_01.jpg  \n",
            "  inflating: val_data/875/0015_01.jpg  \n",
            "  inflating: val_data/875/0039_02.jpg  \n",
            "  inflating: val_data/876/0126_02.jpg  \n",
            "  inflating: val_data/876/0176_02.jpg  \n",
            "  inflating: val_data/877/0097_04.jpg  \n",
            "  inflating: val_data/877/0097_05.jpg  \n",
            "  inflating: val_data/878/0123_09.jpg  \n",
            "  inflating: val_data/878/0305_01.jpg  \n",
            "  inflating: val_data/879/0155_01.jpg  \n",
            "  inflating: val_data/879/0237_01.jpg  \n",
            "  inflating: val_data/88/0106_01.jpg  \n",
            "  inflating: val_data/88/0119_01.jpg  \n",
            "  inflating: val_data/880/0170_02.jpg  \n",
            "  inflating: val_data/880/0299_01.jpg  \n",
            "  inflating: val_data/881/0299_01.jpg  \n",
            "  inflating: val_data/881/0314_01.jpg  \n",
            "  inflating: val_data/882/0169_02.jpg  \n",
            "  inflating: val_data/882/0240_01.jpg  \n",
            "  inflating: val_data/883/0108_02.jpg  \n",
            "  inflating: val_data/883/0194_02.jpg  \n",
            "  inflating: val_data/884/0122_01.jpg  \n",
            "  inflating: val_data/884/0226_01.jpg  \n",
            "  inflating: val_data/885/0424_02.jpg  \n",
            "  inflating: val_data/885/0429_01.jpg  \n",
            "  inflating: val_data/886/0017_01.jpg  \n",
            "  inflating: val_data/886/0056_01.jpg  \n",
            "  inflating: val_data/887/0053_01.jpg  \n",
            "  inflating: val_data/887/0069_01.jpg  \n",
            "  inflating: val_data/888/0021_01.jpg  \n",
            "  inflating: val_data/888/0345_01.jpg  \n",
            "  inflating: val_data/889/0116_01.jpg  \n",
            "  inflating: val_data/889/0206_01.jpg  \n",
            "  inflating: val_data/89/0058_02.jpg  \n",
            "  inflating: val_data/89/0330_01.jpg  \n",
            "  inflating: val_data/890/0025_02.jpg  \n",
            "  inflating: val_data/890/0109_01.jpg  \n",
            "  inflating: val_data/891/0006_01.jpg  \n",
            "  inflating: val_data/891/0066_01.jpg  \n",
            "  inflating: val_data/892/0120_01.jpg  \n",
            "  inflating: val_data/892/0141_01.jpg  \n",
            "  inflating: val_data/893/0018_01.jpg  \n",
            "  inflating: val_data/893/0048_01.jpg  \n",
            "  inflating: val_data/894/0065_02.jpg  \n",
            "  inflating: val_data/894/0178_01.jpg  \n",
            "  inflating: val_data/895/0201_01.jpg  \n",
            "  inflating: val_data/895/0507_01.jpg  \n",
            "  inflating: val_data/896/0283_01.jpg  \n",
            "  inflating: val_data/896/0395_01.jpg  \n",
            "  inflating: val_data/897/0129_01.jpg  \n",
            "  inflating: val_data/897/0159_01.jpg  \n",
            "  inflating: val_data/898/0010_01.jpg  \n",
            "  inflating: val_data/898/0822_01.jpg  \n",
            "  inflating: val_data/899/0212_01.jpg  \n",
            "  inflating: val_data/899/0242_02.jpg  \n",
            "  inflating: val_data/9/0244_01.jpg  \n",
            "  inflating: val_data/9/0274_01.jpg  \n",
            "  inflating: val_data/90/0197_01.jpg  \n",
            "  inflating: val_data/90/0346_01.jpg  \n",
            "  inflating: val_data/900/0433_01.jpg  \n",
            "  inflating: val_data/900/0550_01.jpg  \n",
            "  inflating: val_data/901/0103_01.jpg  \n",
            "  inflating: val_data/901/0520_05.jpg  \n",
            "  inflating: val_data/902/0156_01.jpg  \n",
            "  inflating: val_data/902/0162_01.jpg  \n",
            "  inflating: val_data/903/0231_01.jpg  \n",
            "  inflating: val_data/903/0243_01.jpg  \n",
            "  inflating: val_data/904/0181_02.jpg  \n",
            "  inflating: val_data/904/0468_01.jpg  \n",
            "  inflating: val_data/905/0170_01.jpg  \n",
            "  inflating: val_data/905/0523_01.jpg  \n",
            "  inflating: val_data/906/0017_01.jpg  \n",
            "  inflating: val_data/906/0025_01.jpg  \n",
            "  inflating: val_data/907/0010_01.jpg  \n",
            "  inflating: val_data/907/0232_01.jpg  \n",
            "  inflating: val_data/908/0107_01.jpg  \n",
            "  inflating: val_data/908/0108_01.jpg  \n",
            "  inflating: val_data/909/0141_01.jpg  \n",
            "  inflating: val_data/909/0147_04.jpg  \n",
            "  inflating: val_data/91/0225_01.jpg  \n",
            "  inflating: val_data/91/0251_01.jpg  \n",
            "  inflating: val_data/910/0054_01.jpg  \n",
            "  inflating: val_data/910/0218_01.jpg  \n",
            "  inflating: val_data/911/0080_02.jpg  \n",
            "  inflating: val_data/911/0304_01.jpg  \n",
            "  inflating: val_data/912/0041_01.jpg  \n",
            "  inflating: val_data/912/0295_01.jpg  \n",
            "  inflating: val_data/913/0221_01.jpg  \n",
            "  inflating: val_data/913/0278_01.jpg  \n",
            "  inflating: val_data/914/0035_01.jpg  \n",
            "  inflating: val_data/914/0128_01.jpg  \n",
            "  inflating: val_data/915/0063_03.jpg  \n",
            "  inflating: val_data/915/0174_04.jpg  \n",
            "  inflating: val_data/916/0087_01.jpg  \n",
            "  inflating: val_data/916/0251_01.jpg  \n",
            "  inflating: val_data/917/0162_01.jpg  \n",
            "  inflating: val_data/917/0196_01.jpg  \n",
            "  inflating: val_data/918/0068_04.jpg  \n",
            "  inflating: val_data/918/0076_02.jpg  \n",
            "  inflating: val_data/919/0124_01.jpg  \n",
            "  inflating: val_data/919/0163_01.jpg  \n",
            "  inflating: val_data/92/0002_01.jpg  \n",
            "  inflating: val_data/92/0064_01.jpg  \n",
            "  inflating: val_data/920/0079_01.jpg  \n",
            "  inflating: val_data/920/0674_01.jpg  \n",
            "  inflating: val_data/921/0203_01.jpg  \n",
            "  inflating: val_data/921/0341_01.jpg  \n",
            "  inflating: val_data/922/0056_02.jpg  \n",
            "  inflating: val_data/922/0207_02.jpg  \n",
            "  inflating: val_data/923/0239_01.jpg  \n",
            "  inflating: val_data/923/0460_01.jpg  \n",
            "  inflating: val_data/924/0341_02.jpg  \n",
            "  inflating: val_data/924/0347_01.jpg  \n",
            "  inflating: val_data/925/0055_01.jpg  \n",
            "  inflating: val_data/925/0223_01.jpg  \n",
            "  inflating: val_data/926/0040_01.jpg  \n",
            "  inflating: val_data/926/0415_01.jpg  \n",
            "  inflating: val_data/927/0265_01.jpg  \n",
            "  inflating: val_data/927/0314_01.jpg  \n",
            "  inflating: val_data/928/0005_01.jpg  \n",
            "  inflating: val_data/928/0111_01.jpg  \n",
            "  inflating: val_data/929/0003_01.jpg  \n",
            "  inflating: val_data/929/0164_01.jpg  \n",
            "  inflating: val_data/93/0115_01.jpg  \n",
            "  inflating: val_data/93/0183_01.jpg  \n",
            "  inflating: val_data/930/0085_01.jpg  \n",
            "  inflating: val_data/930/0346_01.jpg  \n",
            "  inflating: val_data/931/0131_02.jpg  \n",
            "  inflating: val_data/931/0162_02.jpg  \n",
            "  inflating: val_data/932/0048_03.jpg  \n",
            "  inflating: val_data/932/0049_01.jpg  \n",
            "  inflating: val_data/933/0169_02.jpg  \n",
            "  inflating: val_data/933/0243_01.jpg  \n",
            "  inflating: val_data/934/0075_01.jpg  \n",
            "  inflating: val_data/934/0139_01.jpg  \n",
            "  inflating: val_data/935/0187_01.jpg  \n",
            "  inflating: val_data/935/0555_03.jpg  \n",
            "  inflating: val_data/936/0045_01.jpg  \n",
            "  inflating: val_data/936/0055_03.jpg  \n",
            "  inflating: val_data/937/0119_01.jpg  \n",
            "  inflating: val_data/937/0176_01.jpg  \n",
            "  inflating: val_data/938/0101_01.jpg  \n",
            "  inflating: val_data/938/0257_01.jpg  \n",
            "  inflating: val_data/939/0045_01.jpg  \n",
            "  inflating: val_data/939/0369_04.jpg  \n",
            "  inflating: val_data/94/0042_01.jpg  \n",
            "  inflating: val_data/94/0283_02.jpg  \n",
            "  inflating: val_data/940/0202_01.jpg  \n",
            "  inflating: val_data/940/0292_01.jpg  \n",
            "  inflating: val_data/941/0029_01.jpg  \n",
            "  inflating: val_data/941/0257_01.jpg  \n",
            "  inflating: val_data/942/0026_06.jpg  \n",
            "  inflating: val_data/942/0086_01.jpg  \n",
            "  inflating: val_data/943/0128_05.jpg  \n",
            "  inflating: val_data/943/0769_01.jpg  \n",
            "  inflating: val_data/944/0032_01.jpg  \n",
            "  inflating: val_data/944/0084_01.jpg  \n",
            "  inflating: val_data/945/0047_01.jpg  \n",
            "  inflating: val_data/945/0216_01.jpg  \n",
            "  inflating: val_data/946/0124_01.jpg  \n",
            "  inflating: val_data/946/0147_01.jpg  \n",
            "  inflating: val_data/947/0206_01.jpg  \n",
            "  inflating: val_data/947/0490_01.jpg  \n",
            "  inflating: val_data/948/0085_01.jpg  \n",
            "  inflating: val_data/948/0193_01.jpg  \n",
            "  inflating: val_data/949/0178_01.jpg  \n",
            "  inflating: val_data/949/0256_01.jpg  \n",
            "  inflating: val_data/95/0299_01.jpg  \n",
            "  inflating: val_data/95/0364_01.jpg  \n",
            "  inflating: val_data/950/0363_04.jpg  \n",
            "  inflating: val_data/950/0375_05.jpg  \n",
            "  inflating: val_data/951/0017_01.jpg  \n",
            "  inflating: val_data/951/0297_03.jpg  \n",
            "  inflating: val_data/952/0155_01.jpg  \n",
            "  inflating: val_data/952/0464_02.jpg  \n",
            "  inflating: val_data/953/0246_01.jpg  \n",
            "  inflating: val_data/953/0339_01.jpg  \n",
            "  inflating: val_data/954/0014_02.jpg  \n",
            "  inflating: val_data/954/0427_01.jpg  \n",
            "  inflating: val_data/955/0230_04.jpg  \n",
            "  inflating: val_data/955/0386_01.jpg  \n",
            "  inflating: val_data/956/0369_01.jpg  \n",
            "  inflating: val_data/956/0426_01.jpg  \n",
            "  inflating: val_data/957/0038_01.jpg  \n",
            "  inflating: val_data/957/0140_02.jpg  \n",
            "  inflating: val_data/958/0196_05.jpg  \n",
            "  inflating: val_data/958/0343_02.jpg  \n",
            "  inflating: val_data/959/0211_01.jpg  \n",
            "  inflating: val_data/959/0282_01.jpg  \n",
            "  inflating: val_data/96/0035_01.jpg  \n",
            "  inflating: val_data/96/0046_05.jpg  \n",
            "  inflating: val_data/960/0158_01.jpg  \n",
            "  inflating: val_data/960/0177_01.jpg  \n",
            "  inflating: val_data/961/0014_01.jpg  \n",
            "  inflating: val_data/961/0081_02.jpg  \n",
            "  inflating: val_data/962/0219_02.jpg  \n",
            "  inflating: val_data/962/0222_02.jpg  \n",
            "  inflating: val_data/963/0036_01.jpg  \n",
            "  inflating: val_data/963/0454_01.jpg  \n",
            "  inflating: val_data/964/0028_02.jpg  \n",
            "  inflating: val_data/964/0564_04.jpg  \n",
            "  inflating: val_data/965/0283_01.jpg  \n",
            "  inflating: val_data/965/0417_01.jpg  \n",
            "  inflating: val_data/966/0138_04.jpg  \n",
            "  inflating: val_data/966/0455_04.jpg  \n",
            "  inflating: val_data/967/0082_01.jpg  \n",
            "  inflating: val_data/967/0167_01.jpg  \n",
            "  inflating: val_data/968/0152_03.jpg  \n",
            "  inflating: val_data/968/0198_01.jpg  \n",
            "  inflating: val_data/969/0210_01.jpg  \n",
            "  inflating: val_data/969/0216_01.jpg  \n",
            "  inflating: val_data/97/0032_01.jpg  \n",
            "  inflating: val_data/97/0377_01.jpg  \n",
            "  inflating: val_data/970/0009_01.jpg  \n",
            "  inflating: val_data/970/0417_02.jpg  \n",
            "  inflating: val_data/971/0039_02.jpg  \n",
            "  inflating: val_data/971/0067_01.jpg  \n",
            "  inflating: val_data/972/0065_01.jpg  \n",
            "  inflating: val_data/972/0154_01.jpg  \n",
            "  inflating: val_data/973/0036_03.jpg  \n",
            "  inflating: val_data/973/0314_01.jpg  \n",
            "  inflating: val_data/974/0112_05.jpg  \n",
            "  inflating: val_data/974/0266_01.jpg  \n",
            "  inflating: val_data/975/0001_01.jpg  \n",
            "  inflating: val_data/975/0154_01.jpg  \n",
            "  inflating: val_data/976/0170_01.jpg  \n",
            "  inflating: val_data/976/0271_01.jpg  \n",
            "  inflating: val_data/977/0292_01.jpg  \n",
            "  inflating: val_data/977/0342_01.jpg  \n",
            "  inflating: val_data/978/0033_01.jpg  \n",
            "  inflating: val_data/978/0074_01.jpg  \n",
            "  inflating: val_data/979/0080_01.jpg  \n",
            "  inflating: val_data/979/0284_01.jpg  \n",
            "  inflating: val_data/98/0174_01.jpg  \n",
            "  inflating: val_data/98/0300_01.jpg  \n",
            "  inflating: val_data/980/0079_01.jpg  \n",
            "  inflating: val_data/980/0121_02.jpg  \n",
            "  inflating: val_data/981/0099_01.jpg  \n",
            "  inflating: val_data/981/0220_01.jpg  \n",
            "  inflating: val_data/982/0199_01.jpg  \n",
            "  inflating: val_data/982/0292_02.jpg  \n",
            "  inflating: val_data/983/0011_01.jpg  \n",
            "  inflating: val_data/983/0263_01.jpg  \n",
            "  inflating: val_data/984/0117_01.jpg  \n",
            "  inflating: val_data/984/0136_01.jpg  \n",
            "  inflating: val_data/985/0066_01.jpg  \n",
            "  inflating: val_data/985/0158_01.jpg  \n",
            "  inflating: val_data/986/0323_01.jpg  \n",
            "  inflating: val_data/986/0389_01.jpg  \n",
            "  inflating: val_data/987/0045_01.jpg  \n",
            "  inflating: val_data/987/0064_01.jpg  \n",
            "  inflating: val_data/988/0033_01.jpg  \n",
            "  inflating: val_data/988/0124_01.jpg  \n",
            "  inflating: val_data/989/0112_02.jpg  \n",
            "  inflating: val_data/989/0174_01.jpg  \n",
            "  inflating: val_data/99/0005_01.jpg  \n",
            "  inflating: val_data/99/0520_01.jpg  \n",
            "  inflating: val_data/990/0075_01.jpg  \n",
            "  inflating: val_data/990/0207_01.jpg  \n",
            "  inflating: val_data/991/0097_01.jpg  \n",
            "  inflating: val_data/991/0445_01.jpg  \n",
            "  inflating: val_data/992/0035_01.jpg  \n",
            "  inflating: val_data/992/0055_01.jpg  \n",
            "  inflating: val_data/993/0350_02.jpg  \n",
            "  inflating: val_data/993/0371_01.jpg  \n",
            "  inflating: val_data/994/0054_01.jpg  \n",
            "  inflating: val_data/994/0479_01.jpg  \n",
            "  inflating: val_data/995/0166_01.jpg  \n",
            "  inflating: val_data/995/0230_02.jpg  \n",
            "  inflating: val_data/996/0289_01.jpg  \n",
            "  inflating: val_data/996/0537_01.jpg  \n",
            "  inflating: val_data/997/0068_01.jpg  \n",
            "  inflating: val_data/997/0086_01.jpg  \n",
            "  inflating: val_data/998/0225_01.jpg  \n",
            "  inflating: val_data/998/0314_02.jpg  \n",
            "  inflating: val_data/999/0069_01.jpg  \n",
            "  inflating: val_data/999/0095_01.jpg  \n"
          ],
          "name": "stdout"
        }
      ]
    },
    {
      "cell_type": "code",
      "metadata": {
        "id": "Zo0bLQvmEzL1"
      },
      "source": [
        "transforms_train = torchvision.transforms.Compose([\n",
        "    torchvision.transforms.RandomCrop((50,50)),\n",
        "    torchvision.transforms.RandomHorizontalFlip(),\n",
        "    # torchvision.transforms.RandomAffine(degrees=(-45,45), scale=(.9, 1.1), shear=0),\n",
        "    torchvision.transforms.RandomRotation(degrees = (-30,30)),\n",
        "    torchvision.transforms.ToTensor(),\n",
        "    torchvision.transforms.Normalize([0.485, 0.456, 0.406], [0.229, 0.224, 0.225])\n",
        "])\n",
        "transforms_test = torchvision.transforms.Compose([\n",
        "    torchvision.transforms.ToTensor(),\n",
        "    torchvision.transforms.Normalize([0.485, 0.456, 0.406], [0.229, 0.224, 0.225])\n",
        "])"
      ],
      "execution_count": null,
      "outputs": []
    },
    {
      "cell_type": "code",
      "metadata": {
        "colab": {
          "base_uri": "https://localhost:8080/"
        },
        "id": "j97mubU91tXI",
        "outputId": "9fc6af1c-3f3a-47fa-9cd5-389437d0330f"
      },
      "source": [
        "train_dataset = torchvision.datasets.ImageFolder(root='/content/train_data', \n",
        "                                                 transform=transforms_train)\n",
        "print(train_dataset.__len__(), len(train_dataset.classes))\n",
        "dev_dataset = torchvision.datasets.ImageFolder(root='/content/val_data',\n",
        "                                               transform=transforms_test)\n",
        "print(dev_dataset.__len__(), len(dev_dataset.classes))\n",
        "\n",
        "train_dataloader = torch.utils.data.DataLoader(train_dataset, batch_size=128, \n",
        "                                               shuffle=True, num_workers=8)\n",
        "dev_dataloader = torch.utils.data.DataLoader(dev_dataset, batch_size=128, \n",
        "                                             shuffle=False, num_workers=8)"
      ],
      "execution_count": null,
      "outputs": [
        {
          "output_type": "stream",
          "text": [
            "380638 4000\n",
            "8000 4000\n"
          ],
          "name": "stdout"
        },
        {
          "output_type": "stream",
          "text": [
            "/usr/local/lib/python3.7/dist-packages/torch/utils/data/dataloader.py:477: UserWarning: This DataLoader will create 8 worker processes in total. Our suggested max number of worker in current system is 4, which is smaller than what this DataLoader is going to create. Please be aware that excessive worker creation might get DataLoader running slow or even freeze, lower the worker number to avoid potential slowness/freeze if necessary.\n",
            "  cpuset_checked))\n"
          ],
          "name": "stderr"
        }
      ]
    },
    {
      "cell_type": "code",
      "metadata": {
        "colab": {
          "base_uri": "https://localhost:8080/",
          "height": 37
        },
        "id": "uvRjPDs-tqrk",
        "outputId": "1e3b888d-82cf-423e-9f1d-0c1b4bf01af5"
      },
      "source": [
        "%pwd"
      ],
      "execution_count": null,
      "outputs": [
        {
          "output_type": "execute_result",
          "data": {
            "application/vnd.google.colaboratory.intrinsic+json": {
              "type": "string"
            },
            "text/plain": [
              "'/content'"
            ]
          },
          "metadata": {
            "tags": []
          },
          "execution_count": 8
        }
      ]
    },
    {
      "cell_type": "code",
      "metadata": {
        "id": "krYuGMd09ck7"
      },
      "source": [
        "class SimpleResidualBlock(nn.Module):\n",
        "    def __init__(self, in_channel,out_channel, stride=1):\n",
        "        super().__init__()\n",
        "        self.conv1 = nn.Conv2d(in_channel, out_channel, kernel_size=3, stride=stride, padding=1, bias=False)\n",
        "        self.bn1 = nn.BatchNorm2d(out_channel)\n",
        "        self.relu1 = nn.ReLU()\n",
        "        self.conv2 = nn.Conv2d(out_channel, out_channel, kernel_size=3, stride=1, padding=1, bias=False)\n",
        "        self.bn2 = nn.BatchNorm2d(out_channel)\n",
        "\n",
        "\n",
        "        if stride == 1:\n",
        "            self.shortcut = nn.Identity()\n",
        "        else:\n",
        "            self.shortcut = nn.Conv2d(in_channel, out_channel, kernel_size=1, stride=stride)\n",
        "        self.relu = nn.ReLU()\n",
        "\n",
        "    def forward(self, x):\n",
        "        # print(np.shape(x))\n",
        "        out = self.conv1(x)\n",
        "        out = self.bn1(out)\n",
        "        out = self.relu1(out)\n",
        "        out = self.conv2(out)\n",
        "        out = self.bn2(out)\n",
        "        shortcut = self.shortcut(x)\n",
        "        # print(np.shape(out),np.shape(shortcut))\n",
        "        out = self.relu(out + shortcut)\n",
        "\n",
        "        return out\n"
      ],
      "execution_count": null,
      "outputs": []
    },
    {
      "cell_type": "code",
      "metadata": {
        "id": "wkwcM1vmSgW4"
      },
      "source": [
        "# This has hard-coded hidden feature sizes.\n",
        "# You can extend this to take in a list of hidden sizes as argument if you want.\n",
        "class ClassificationNetwork(nn.Module):\n",
        "    def __init__(self, in_features, num_classes,feat_dim = 1000):\n",
        "        super().__init__()\n",
        "\n",
        "        self.layers = nn.Sequential(\n",
        "            nn.Conv2d(in_features, 64, kernel_size=3, stride=1, padding=3, bias=False), # kernal 3 stride 1 & maxpool\n",
        "            nn.BatchNorm2d(64),\n",
        "            nn.ReLU(),\n",
        "\n",
        "            SimpleResidualBlock(64,64), # *3\n",
        "            SimpleResidualBlock(64,64),\n",
        "            SimpleResidualBlock(64,64),\n",
        "\n",
        "            SimpleResidualBlock(64,128,stride=2), # *4\n",
        "            SimpleResidualBlock(128,128),\n",
        "            SimpleResidualBlock(128,128),\n",
        "            SimpleResidualBlock(128,128),\n",
        "\n",
        "            SimpleResidualBlock(128,256,stride=2),   # *6\n",
        "            SimpleResidualBlock(256,256),\n",
        "            SimpleResidualBlock(256,256),\n",
        "            SimpleResidualBlock(256,256),\n",
        "            SimpleResidualBlock(256,256),\n",
        "            SimpleResidualBlock(256,256),\n",
        "\n",
        "            SimpleResidualBlock(256,512,stride=2), # *3\n",
        "            SimpleResidualBlock(512,512),\n",
        "            SimpleResidualBlock(512,512),\n",
        "\n",
        "\n",
        "            nn.AdaptiveAvgPool2d((1, 1)), # For each channel, collapses (averages) the entire feature map (height & width) to 1x1\n",
        "            nn.Dropout2d(p=0.5,inplace=True),\n",
        "            nn.Flatten(), # the above ends up with batch_size x 64 x 1 x 1, flatten to batch_size x 64\n",
        "        )\n",
        "        self.linear = nn.Linear(512, feat_dim)\n",
        "        self.relu = nn.ReLU(inplace=True)\n",
        "        self.linear_output = nn.Linear(512,num_classes)\n",
        "    def forward(self, x, return_embedding=False):\n",
        "        embedding = self.layers(x)\n",
        "        embedding_out = self.relu(self.linear(embedding))\n",
        "        output = self.linear_output(embedding)\n",
        "        if return_embedding:\n",
        "            return embedding_out,output\n",
        "        else:\n",
        "            return output\n",
        "\n"
      ],
      "execution_count": null,
      "outputs": []
    },
    {
      "cell_type": "code",
      "metadata": {
        "id": "X3IqhcE69czS",
        "colab": {
          "base_uri": "https://localhost:8080/"
        },
        "outputId": "f5da66f4-ac4a-4282-9d41-279070602e0c"
      },
      "source": [
        "in_features = 3 # RGB channels\n",
        "num_classes = len(train_dataset.classes)\n",
        "\n",
        "device = torch.device('cuda' if torch.cuda.is_available() else 'cpu')\n",
        "\n",
        "network = ClassificationNetwork(in_features, num_classes)\n",
        "network = network.to(device)\n",
        "\n",
        "\n",
        "def reset_params(self):\n",
        "        for m in self.modules():\n",
        "            if isinstance(m, nn.Conv2d):\n",
        "                nn.init.kaiming_normal(m.weight, mode='fan_out', nonlinearity='relu')\n",
        "                if m.bias is not None:\n",
        "                    nn.init.constant(m.bias, 0)\n",
        "            elif isinstance(m, nn.BatchNorm2d):\n",
        "                nn.init.constant(m.weight, 1)\n",
        "                nn.init.constant(m.bias, 0)\n",
        "            elif isinstance(m, nn.Linear):\n",
        "                nn.init.normal(m.weight, std=0.001)\n",
        "                if m.bias is not None:\n",
        "                    nn.init.constant(m.bias, 0)\n",
        "\n",
        "\n",
        "network.apply(reset_params)"
      ],
      "execution_count": null,
      "outputs": [
        {
          "output_type": "stream",
          "text": [
            "/usr/local/lib/python3.7/dist-packages/ipykernel_launcher.py:13: UserWarning: nn.init.kaiming_normal is now deprecated in favor of nn.init.kaiming_normal_.\n",
            "  del sys.path[0]\n",
            "/usr/local/lib/python3.7/dist-packages/ipykernel_launcher.py:17: UserWarning: nn.init.constant is now deprecated in favor of nn.init.constant_.\n",
            "/usr/local/lib/python3.7/dist-packages/ipykernel_launcher.py:18: UserWarning: nn.init.constant is now deprecated in favor of nn.init.constant_.\n",
            "/usr/local/lib/python3.7/dist-packages/ipykernel_launcher.py:15: UserWarning: nn.init.constant is now deprecated in favor of nn.init.constant_.\n",
            "  from ipykernel import kernelapp as app\n",
            "/usr/local/lib/python3.7/dist-packages/ipykernel_launcher.py:20: UserWarning: nn.init.normal is now deprecated in favor of nn.init.normal_.\n",
            "/usr/local/lib/python3.7/dist-packages/ipykernel_launcher.py:22: UserWarning: nn.init.constant is now deprecated in favor of nn.init.constant_.\n"
          ],
          "name": "stderr"
        },
        {
          "output_type": "execute_result",
          "data": {
            "text/plain": [
              "ClassificationNetwork(\n",
              "  (layers): Sequential(\n",
              "    (0): Conv2d(3, 64, kernel_size=(3, 3), stride=(1, 1), padding=(3, 3), bias=False)\n",
              "    (1): BatchNorm2d(64, eps=1e-05, momentum=0.1, affine=True, track_running_stats=True)\n",
              "    (2): ReLU()\n",
              "    (3): SimpleResidualBlock(\n",
              "      (conv1): Conv2d(64, 64, kernel_size=(3, 3), stride=(1, 1), padding=(1, 1), bias=False)\n",
              "      (bn1): BatchNorm2d(64, eps=1e-05, momentum=0.1, affine=True, track_running_stats=True)\n",
              "      (relu1): ReLU()\n",
              "      (conv2): Conv2d(64, 64, kernel_size=(3, 3), stride=(1, 1), padding=(1, 1), bias=False)\n",
              "      (bn2): BatchNorm2d(64, eps=1e-05, momentum=0.1, affine=True, track_running_stats=True)\n",
              "      (shortcut): Identity()\n",
              "      (relu): ReLU()\n",
              "    )\n",
              "    (4): SimpleResidualBlock(\n",
              "      (conv1): Conv2d(64, 64, kernel_size=(3, 3), stride=(1, 1), padding=(1, 1), bias=False)\n",
              "      (bn1): BatchNorm2d(64, eps=1e-05, momentum=0.1, affine=True, track_running_stats=True)\n",
              "      (relu1): ReLU()\n",
              "      (conv2): Conv2d(64, 64, kernel_size=(3, 3), stride=(1, 1), padding=(1, 1), bias=False)\n",
              "      (bn2): BatchNorm2d(64, eps=1e-05, momentum=0.1, affine=True, track_running_stats=True)\n",
              "      (shortcut): Identity()\n",
              "      (relu): ReLU()\n",
              "    )\n",
              "    (5): SimpleResidualBlock(\n",
              "      (conv1): Conv2d(64, 64, kernel_size=(3, 3), stride=(1, 1), padding=(1, 1), bias=False)\n",
              "      (bn1): BatchNorm2d(64, eps=1e-05, momentum=0.1, affine=True, track_running_stats=True)\n",
              "      (relu1): ReLU()\n",
              "      (conv2): Conv2d(64, 64, kernel_size=(3, 3), stride=(1, 1), padding=(1, 1), bias=False)\n",
              "      (bn2): BatchNorm2d(64, eps=1e-05, momentum=0.1, affine=True, track_running_stats=True)\n",
              "      (shortcut): Identity()\n",
              "      (relu): ReLU()\n",
              "    )\n",
              "    (6): SimpleResidualBlock(\n",
              "      (conv1): Conv2d(64, 128, kernel_size=(3, 3), stride=(2, 2), padding=(1, 1), bias=False)\n",
              "      (bn1): BatchNorm2d(128, eps=1e-05, momentum=0.1, affine=True, track_running_stats=True)\n",
              "      (relu1): ReLU()\n",
              "      (conv2): Conv2d(128, 128, kernel_size=(3, 3), stride=(1, 1), padding=(1, 1), bias=False)\n",
              "      (bn2): BatchNorm2d(128, eps=1e-05, momentum=0.1, affine=True, track_running_stats=True)\n",
              "      (shortcut): Conv2d(64, 128, kernel_size=(1, 1), stride=(2, 2))\n",
              "      (relu): ReLU()\n",
              "    )\n",
              "    (7): SimpleResidualBlock(\n",
              "      (conv1): Conv2d(128, 128, kernel_size=(3, 3), stride=(1, 1), padding=(1, 1), bias=False)\n",
              "      (bn1): BatchNorm2d(128, eps=1e-05, momentum=0.1, affine=True, track_running_stats=True)\n",
              "      (relu1): ReLU()\n",
              "      (conv2): Conv2d(128, 128, kernel_size=(3, 3), stride=(1, 1), padding=(1, 1), bias=False)\n",
              "      (bn2): BatchNorm2d(128, eps=1e-05, momentum=0.1, affine=True, track_running_stats=True)\n",
              "      (shortcut): Identity()\n",
              "      (relu): ReLU()\n",
              "    )\n",
              "    (8): SimpleResidualBlock(\n",
              "      (conv1): Conv2d(128, 128, kernel_size=(3, 3), stride=(1, 1), padding=(1, 1), bias=False)\n",
              "      (bn1): BatchNorm2d(128, eps=1e-05, momentum=0.1, affine=True, track_running_stats=True)\n",
              "      (relu1): ReLU()\n",
              "      (conv2): Conv2d(128, 128, kernel_size=(3, 3), stride=(1, 1), padding=(1, 1), bias=False)\n",
              "      (bn2): BatchNorm2d(128, eps=1e-05, momentum=0.1, affine=True, track_running_stats=True)\n",
              "      (shortcut): Identity()\n",
              "      (relu): ReLU()\n",
              "    )\n",
              "    (9): SimpleResidualBlock(\n",
              "      (conv1): Conv2d(128, 128, kernel_size=(3, 3), stride=(1, 1), padding=(1, 1), bias=False)\n",
              "      (bn1): BatchNorm2d(128, eps=1e-05, momentum=0.1, affine=True, track_running_stats=True)\n",
              "      (relu1): ReLU()\n",
              "      (conv2): Conv2d(128, 128, kernel_size=(3, 3), stride=(1, 1), padding=(1, 1), bias=False)\n",
              "      (bn2): BatchNorm2d(128, eps=1e-05, momentum=0.1, affine=True, track_running_stats=True)\n",
              "      (shortcut): Identity()\n",
              "      (relu): ReLU()\n",
              "    )\n",
              "    (10): SimpleResidualBlock(\n",
              "      (conv1): Conv2d(128, 256, kernel_size=(3, 3), stride=(2, 2), padding=(1, 1), bias=False)\n",
              "      (bn1): BatchNorm2d(256, eps=1e-05, momentum=0.1, affine=True, track_running_stats=True)\n",
              "      (relu1): ReLU()\n",
              "      (conv2): Conv2d(256, 256, kernel_size=(3, 3), stride=(1, 1), padding=(1, 1), bias=False)\n",
              "      (bn2): BatchNorm2d(256, eps=1e-05, momentum=0.1, affine=True, track_running_stats=True)\n",
              "      (shortcut): Conv2d(128, 256, kernel_size=(1, 1), stride=(2, 2))\n",
              "      (relu): ReLU()\n",
              "    )\n",
              "    (11): SimpleResidualBlock(\n",
              "      (conv1): Conv2d(256, 256, kernel_size=(3, 3), stride=(1, 1), padding=(1, 1), bias=False)\n",
              "      (bn1): BatchNorm2d(256, eps=1e-05, momentum=0.1, affine=True, track_running_stats=True)\n",
              "      (relu1): ReLU()\n",
              "      (conv2): Conv2d(256, 256, kernel_size=(3, 3), stride=(1, 1), padding=(1, 1), bias=False)\n",
              "      (bn2): BatchNorm2d(256, eps=1e-05, momentum=0.1, affine=True, track_running_stats=True)\n",
              "      (shortcut): Identity()\n",
              "      (relu): ReLU()\n",
              "    )\n",
              "    (12): SimpleResidualBlock(\n",
              "      (conv1): Conv2d(256, 256, kernel_size=(3, 3), stride=(1, 1), padding=(1, 1), bias=False)\n",
              "      (bn1): BatchNorm2d(256, eps=1e-05, momentum=0.1, affine=True, track_running_stats=True)\n",
              "      (relu1): ReLU()\n",
              "      (conv2): Conv2d(256, 256, kernel_size=(3, 3), stride=(1, 1), padding=(1, 1), bias=False)\n",
              "      (bn2): BatchNorm2d(256, eps=1e-05, momentum=0.1, affine=True, track_running_stats=True)\n",
              "      (shortcut): Identity()\n",
              "      (relu): ReLU()\n",
              "    )\n",
              "    (13): SimpleResidualBlock(\n",
              "      (conv1): Conv2d(256, 256, kernel_size=(3, 3), stride=(1, 1), padding=(1, 1), bias=False)\n",
              "      (bn1): BatchNorm2d(256, eps=1e-05, momentum=0.1, affine=True, track_running_stats=True)\n",
              "      (relu1): ReLU()\n",
              "      (conv2): Conv2d(256, 256, kernel_size=(3, 3), stride=(1, 1), padding=(1, 1), bias=False)\n",
              "      (bn2): BatchNorm2d(256, eps=1e-05, momentum=0.1, affine=True, track_running_stats=True)\n",
              "      (shortcut): Identity()\n",
              "      (relu): ReLU()\n",
              "    )\n",
              "    (14): SimpleResidualBlock(\n",
              "      (conv1): Conv2d(256, 256, kernel_size=(3, 3), stride=(1, 1), padding=(1, 1), bias=False)\n",
              "      (bn1): BatchNorm2d(256, eps=1e-05, momentum=0.1, affine=True, track_running_stats=True)\n",
              "      (relu1): ReLU()\n",
              "      (conv2): Conv2d(256, 256, kernel_size=(3, 3), stride=(1, 1), padding=(1, 1), bias=False)\n",
              "      (bn2): BatchNorm2d(256, eps=1e-05, momentum=0.1, affine=True, track_running_stats=True)\n",
              "      (shortcut): Identity()\n",
              "      (relu): ReLU()\n",
              "    )\n",
              "    (15): SimpleResidualBlock(\n",
              "      (conv1): Conv2d(256, 256, kernel_size=(3, 3), stride=(1, 1), padding=(1, 1), bias=False)\n",
              "      (bn1): BatchNorm2d(256, eps=1e-05, momentum=0.1, affine=True, track_running_stats=True)\n",
              "      (relu1): ReLU()\n",
              "      (conv2): Conv2d(256, 256, kernel_size=(3, 3), stride=(1, 1), padding=(1, 1), bias=False)\n",
              "      (bn2): BatchNorm2d(256, eps=1e-05, momentum=0.1, affine=True, track_running_stats=True)\n",
              "      (shortcut): Identity()\n",
              "      (relu): ReLU()\n",
              "    )\n",
              "    (16): SimpleResidualBlock(\n",
              "      (conv1): Conv2d(256, 512, kernel_size=(3, 3), stride=(2, 2), padding=(1, 1), bias=False)\n",
              "      (bn1): BatchNorm2d(512, eps=1e-05, momentum=0.1, affine=True, track_running_stats=True)\n",
              "      (relu1): ReLU()\n",
              "      (conv2): Conv2d(512, 512, kernel_size=(3, 3), stride=(1, 1), padding=(1, 1), bias=False)\n",
              "      (bn2): BatchNorm2d(512, eps=1e-05, momentum=0.1, affine=True, track_running_stats=True)\n",
              "      (shortcut): Conv2d(256, 512, kernel_size=(1, 1), stride=(2, 2))\n",
              "      (relu): ReLU()\n",
              "    )\n",
              "    (17): SimpleResidualBlock(\n",
              "      (conv1): Conv2d(512, 512, kernel_size=(3, 3), stride=(1, 1), padding=(1, 1), bias=False)\n",
              "      (bn1): BatchNorm2d(512, eps=1e-05, momentum=0.1, affine=True, track_running_stats=True)\n",
              "      (relu1): ReLU()\n",
              "      (conv2): Conv2d(512, 512, kernel_size=(3, 3), stride=(1, 1), padding=(1, 1), bias=False)\n",
              "      (bn2): BatchNorm2d(512, eps=1e-05, momentum=0.1, affine=True, track_running_stats=True)\n",
              "      (shortcut): Identity()\n",
              "      (relu): ReLU()\n",
              "    )\n",
              "    (18): SimpleResidualBlock(\n",
              "      (conv1): Conv2d(512, 512, kernel_size=(3, 3), stride=(1, 1), padding=(1, 1), bias=False)\n",
              "      (bn1): BatchNorm2d(512, eps=1e-05, momentum=0.1, affine=True, track_running_stats=True)\n",
              "      (relu1): ReLU()\n",
              "      (conv2): Conv2d(512, 512, kernel_size=(3, 3), stride=(1, 1), padding=(1, 1), bias=False)\n",
              "      (bn2): BatchNorm2d(512, eps=1e-05, momentum=0.1, affine=True, track_running_stats=True)\n",
              "      (shortcut): Identity()\n",
              "      (relu): ReLU()\n",
              "    )\n",
              "    (19): AdaptiveAvgPool2d(output_size=(1, 1))\n",
              "    (20): Dropout2d(p=0.5, inplace=True)\n",
              "    (21): Flatten(start_dim=1, end_dim=-1)\n",
              "  )\n",
              "  (linear): Linear(in_features=512, out_features=1000, bias=True)\n",
              "  (relu): ReLU(inplace=True)\n",
              "  (linear_output): Linear(in_features=512, out_features=4000, bias=True)\n",
              ")"
            ]
          },
          "metadata": {
            "tags": []
          },
          "execution_count": 11
        }
      ]
    },
    {
      "cell_type": "code",
      "metadata": {
        "id": "TsjWmU4FDtVL"
      },
      "source": [
        "numEpochs = 40\n",
        "\n",
        "learningRate = 0.01\n",
        "weightDecay = 5e-5\n",
        "\n",
        "\n",
        "criterion = nn.CrossEntropyLoss()\n",
        "optimizer = torch.optim.SGD(network.parameters(), lr=learningRate, weight_decay=weightDecay, momentum=0.9)# Sheduler\n",
        "scheduler = torch.optim.lr_scheduler.ReduceLROnPlateau(optimizer, 'min',patience=5)\n"
      ],
      "execution_count": null,
      "outputs": []
    },
    {
      "cell_type": "code",
      "metadata": {
        "colab": {
          "base_uri": "https://localhost:8080/"
        },
        "id": "_gfivFPo9c-z",
        "outputId": "0f7eb030-80fd-4c92-a73c-6fe5eb3f85c7"
      },
      "source": [
        "%cd /content/gdrive/My Drive/competitions/HW2P2-classification\n",
        "\n",
        "# Train \n",
        "best_accuracy = -1\n",
        "accuracy_val = []\n",
        "# network = torch.load('./model_classification_34_kaiming.pt')\n",
        "\n",
        "\n",
        "# Validate\n",
        "network.eval()\n",
        "num_correct = 0\n",
        "avg_loss_val = 0\n",
        "with torch.no_grad():\n",
        "    for batch_num, (x, y) in tqdm(enumerate(dev_dataloader),position=0, leave=True):\n",
        "        x, y = x.to(device), y.to(device)\n",
        "        outputs = network(x)\n",
        "\n",
        "        loss = criterion(outputs, y.long())\n",
        "        avg_loss_val += loss.item()\n",
        "\n",
        "        num_correct += (torch.argmax(outputs, axis=1) == y).sum().item()\n",
        "    best_accuracy = num_correct / len(dev_dataset)\n",
        "    avg_loss_validation = avg_loss_val / len(dev_dataloader)\n",
        "    print('accuracy',best_accuracy,'loss',avg_loss_validation)\n",
        "\n",
        "\n",
        "for epoch in range(numEpochs):\n",
        "\n",
        "    # Train\n",
        "    network.train()\n",
        "    avg_loss = 0.0\n",
        "    train_accuracy = 0\n",
        "    num_size = 0\n",
        "    for batch_num, (x, y) in tqdm(enumerate(train_dataloader),position=0, leave=True):\n",
        "        optimizer.zero_grad()\n",
        "\n",
        "        x, y = x.to(device), y.to(device)\n",
        "\n",
        "        outputs = network(x)\n",
        "\n",
        "        loss = criterion(outputs, y.long())\n",
        "        loss.backward()\n",
        "        optimizer.step()\n",
        "\n",
        "        avg_loss += loss.item()\n",
        "\n",
        "        _,pred_labels = torch.max(F.softmax(outputs, dim=1), 1)\n",
        "        pred_labels = pred_labels.view(-1)\n",
        "        train_accuracy += torch.sum(torch.eq(pred_labels, y)).item()\n",
        "        num_size += len(y)\n",
        "\n",
        "        if batch_num % 100 == 99:\n",
        "            print('Epoch: {}\\tAvg-Loss: {:.4f}\\tAccuract: {:.4f}'.format(epoch+1, avg_loss/100,train_accuracy/num_size))\n",
        "            avg_loss = 0.0\n",
        "\n",
        "    # Validate\n",
        "    network.eval()\n",
        "    num_correct = 0\n",
        "    avg_loss_val = 0\n",
        "    with torch.no_grad():\n",
        "        for batch_num, (x, y) in tqdm(enumerate(dev_dataloader),position=0, leave=True):\n",
        "            x, y = x.to(device), y.to(device)\n",
        "            outputs = network(x)\n",
        "\n",
        "            loss = criterion(outputs, y.long())\n",
        "            avg_loss_val += loss.item()\n",
        "\n",
        "            num_correct += (torch.argmax(outputs, axis=1) == y).sum().item()\n",
        "        accuracy = num_correct / len(dev_dataset)\n",
        "        accuracy_val.append(accuracy)\n",
        "        avg_loss_validation = avg_loss_val / len(dev_dataloader)\n",
        "\n",
        "        print('Epoch: {}, Validation Accuracy: {:.2f}'.format(epoch, accuracy))\n",
        "        print('Epoch: {}, Validation loss: {:.2f}'.format(epoch, avg_loss_validation))\n",
        "        scheduler.step(avg_loss_validation)\n",
        "        print('Epoch {}, lr {}'.format(\n",
        "              epoch, optimizer.param_groups[0]['lr']))\n",
        "\n",
        "    if accuracy > best_accuracy:\n",
        "      best_accuracy = accuracy\n",
        "      print('val accuracy',accuracy_val)\n",
        "      torch.save(network, 'mode_1.pt')\n"
      ],
      "execution_count": null,
      "outputs": [
        {
          "output_type": "stream",
          "text": [
            "/content/gdrive/My Drive/competitions/HW2P2-classification\n"
          ],
          "name": "stdout"
        },
        {
          "output_type": "stream",
          "text": [
            "/usr/local/lib/python3.7/dist-packages/torch/utils/data/dataloader.py:477: UserWarning: This DataLoader will create 8 worker processes in total. Our suggested max number of worker in current system is 4, which is smaller than what this DataLoader is going to create. Please be aware that excessive worker creation might get DataLoader running slow or even freeze, lower the worker number to avoid potential slowness/freeze if necessary.\n",
            "  cpuset_checked))\n",
            "63it [00:12,  5.12it/s]\n"
          ],
          "name": "stderr"
        },
        {
          "output_type": "stream",
          "text": [
            "accuracy 0.798375 loss 1.0100465133076622\n"
          ],
          "name": "stdout"
        },
        {
          "output_type": "stream",
          "text": [
            "100it [00:28,  3.60it/s]"
          ],
          "name": "stderr"
        },
        {
          "output_type": "stream",
          "text": [
            "Epoch: 1\tAvg-Loss: 0.9037\tAccuract: 0.7832\n"
          ],
          "name": "stdout"
        },
        {
          "output_type": "stream",
          "text": [
            "200it [00:55,  3.61it/s]"
          ],
          "name": "stderr"
        },
        {
          "output_type": "stream",
          "text": [
            "Epoch: 1\tAvg-Loss: 0.9334\tAccuract: 0.7764\n"
          ],
          "name": "stdout"
        },
        {
          "output_type": "stream",
          "text": [
            "300it [01:23,  3.61it/s]"
          ],
          "name": "stderr"
        },
        {
          "output_type": "stream",
          "text": [
            "Epoch: 1\tAvg-Loss: 0.9298\tAccuract: 0.7762\n"
          ],
          "name": "stdout"
        },
        {
          "output_type": "stream",
          "text": [
            "400it [01:51,  3.60it/s]"
          ],
          "name": "stderr"
        },
        {
          "output_type": "stream",
          "text": [
            "Epoch: 1\tAvg-Loss: 0.9540\tAccuract: 0.7746\n"
          ],
          "name": "stdout"
        },
        {
          "output_type": "stream",
          "text": [
            "500it [02:19,  3.60it/s]"
          ],
          "name": "stderr"
        },
        {
          "output_type": "stream",
          "text": [
            "Epoch: 1\tAvg-Loss: 0.9466\tAccuract: 0.7739\n"
          ],
          "name": "stdout"
        },
        {
          "output_type": "stream",
          "text": [
            "600it [02:46,  3.61it/s]"
          ],
          "name": "stderr"
        },
        {
          "output_type": "stream",
          "text": [
            "Epoch: 1\tAvg-Loss: 0.9555\tAccuract: 0.7732\n"
          ],
          "name": "stdout"
        },
        {
          "output_type": "stream",
          "text": [
            "700it [03:14,  3.60it/s]"
          ],
          "name": "stderr"
        },
        {
          "output_type": "stream",
          "text": [
            "Epoch: 1\tAvg-Loss: 0.9581\tAccuract: 0.7733\n"
          ],
          "name": "stdout"
        },
        {
          "output_type": "stream",
          "text": [
            "800it [03:42,  3.60it/s]"
          ],
          "name": "stderr"
        },
        {
          "output_type": "stream",
          "text": [
            "Epoch: 1\tAvg-Loss: 0.9571\tAccuract: 0.7728\n"
          ],
          "name": "stdout"
        },
        {
          "output_type": "stream",
          "text": [
            "900it [04:10,  3.60it/s]"
          ],
          "name": "stderr"
        },
        {
          "output_type": "stream",
          "text": [
            "Epoch: 1\tAvg-Loss: 0.9522\tAccuract: 0.7726\n"
          ],
          "name": "stdout"
        },
        {
          "output_type": "stream",
          "text": [
            "1000it [04:37,  3.60it/s]"
          ],
          "name": "stderr"
        },
        {
          "output_type": "stream",
          "text": [
            "Epoch: 1\tAvg-Loss: 0.9401\tAccuract: 0.7724\n"
          ],
          "name": "stdout"
        },
        {
          "output_type": "stream",
          "text": [
            "1100it [05:05,  3.60it/s]"
          ],
          "name": "stderr"
        },
        {
          "output_type": "stream",
          "text": [
            "Epoch: 1\tAvg-Loss: 0.9642\tAccuract: 0.7723\n"
          ],
          "name": "stdout"
        },
        {
          "output_type": "stream",
          "text": [
            "1200it [05:33,  3.60it/s]"
          ],
          "name": "stderr"
        },
        {
          "output_type": "stream",
          "text": [
            "Epoch: 1\tAvg-Loss: 0.9502\tAccuract: 0.7723\n"
          ],
          "name": "stdout"
        },
        {
          "output_type": "stream",
          "text": [
            "1300it [06:01,  3.60it/s]"
          ],
          "name": "stderr"
        },
        {
          "output_type": "stream",
          "text": [
            "Epoch: 1\tAvg-Loss: 0.9316\tAccuract: 0.7720\n"
          ],
          "name": "stdout"
        },
        {
          "output_type": "stream",
          "text": [
            "1400it [06:28,  3.60it/s]"
          ],
          "name": "stderr"
        },
        {
          "output_type": "stream",
          "text": [
            "Epoch: 1\tAvg-Loss: 0.9475\tAccuract: 0.7718\n"
          ],
          "name": "stdout"
        },
        {
          "output_type": "stream",
          "text": [
            "1500it [06:56,  3.61it/s]"
          ],
          "name": "stderr"
        },
        {
          "output_type": "stream",
          "text": [
            "Epoch: 1\tAvg-Loss: 0.9390\tAccuract: 0.7721\n"
          ],
          "name": "stdout"
        },
        {
          "output_type": "stream",
          "text": [
            "1600it [07:24,  3.60it/s]"
          ],
          "name": "stderr"
        },
        {
          "output_type": "stream",
          "text": [
            "Epoch: 1\tAvg-Loss: 0.9435\tAccuract: 0.7724\n"
          ],
          "name": "stdout"
        },
        {
          "output_type": "stream",
          "text": [
            "1700it [07:52,  3.60it/s]"
          ],
          "name": "stderr"
        },
        {
          "output_type": "stream",
          "text": [
            "Epoch: 1\tAvg-Loss: 0.9704\tAccuract: 0.7721\n"
          ],
          "name": "stdout"
        },
        {
          "output_type": "stream",
          "text": [
            "1800it [08:19,  3.60it/s]"
          ],
          "name": "stderr"
        },
        {
          "output_type": "stream",
          "text": [
            "Epoch: 1\tAvg-Loss: 0.9689\tAccuract: 0.7719\n"
          ],
          "name": "stdout"
        },
        {
          "output_type": "stream",
          "text": [
            "1900it [08:47,  3.60it/s]"
          ],
          "name": "stderr"
        },
        {
          "output_type": "stream",
          "text": [
            "Epoch: 1\tAvg-Loss: 0.9623\tAccuract: 0.7720\n"
          ],
          "name": "stdout"
        },
        {
          "output_type": "stream",
          "text": [
            "2000it [09:15,  3.60it/s]"
          ],
          "name": "stderr"
        },
        {
          "output_type": "stream",
          "text": [
            "Epoch: 1\tAvg-Loss: 0.9698\tAccuract: 0.7717\n"
          ],
          "name": "stdout"
        },
        {
          "output_type": "stream",
          "text": [
            "2100it [09:43,  3.59it/s]"
          ],
          "name": "stderr"
        },
        {
          "output_type": "stream",
          "text": [
            "Epoch: 1\tAvg-Loss: 0.9650\tAccuract: 0.7717\n"
          ],
          "name": "stdout"
        },
        {
          "output_type": "stream",
          "text": [
            "2200it [10:11,  3.61it/s]"
          ],
          "name": "stderr"
        },
        {
          "output_type": "stream",
          "text": [
            "Epoch: 1\tAvg-Loss: 0.9469\tAccuract: 0.7717\n"
          ],
          "name": "stdout"
        },
        {
          "output_type": "stream",
          "text": [
            "2300it [10:38,  3.60it/s]"
          ],
          "name": "stderr"
        },
        {
          "output_type": "stream",
          "text": [
            "Epoch: 1\tAvg-Loss: 0.9446\tAccuract: 0.7716\n"
          ],
          "name": "stdout"
        },
        {
          "output_type": "stream",
          "text": [
            "2400it [11:06,  3.60it/s]"
          ],
          "name": "stderr"
        },
        {
          "output_type": "stream",
          "text": [
            "Epoch: 1\tAvg-Loss: 0.9494\tAccuract: 0.7715\n"
          ],
          "name": "stdout"
        },
        {
          "output_type": "stream",
          "text": [
            "2500it [11:34,  3.61it/s]"
          ],
          "name": "stderr"
        },
        {
          "output_type": "stream",
          "text": [
            "Epoch: 1\tAvg-Loss: 0.9678\tAccuract: 0.7714\n"
          ],
          "name": "stdout"
        },
        {
          "output_type": "stream",
          "text": [
            "2600it [12:02,  3.60it/s]"
          ],
          "name": "stderr"
        },
        {
          "output_type": "stream",
          "text": [
            "Epoch: 1\tAvg-Loss: 0.9609\tAccuract: 0.7712\n"
          ],
          "name": "stdout"
        },
        {
          "output_type": "stream",
          "text": [
            "2700it [12:29,  3.60it/s]"
          ],
          "name": "stderr"
        },
        {
          "output_type": "stream",
          "text": [
            "Epoch: 1\tAvg-Loss: 0.9493\tAccuract: 0.7713\n"
          ],
          "name": "stdout"
        },
        {
          "output_type": "stream",
          "text": [
            "2800it [12:57,  3.60it/s]"
          ],
          "name": "stderr"
        },
        {
          "output_type": "stream",
          "text": [
            "Epoch: 1\tAvg-Loss: 0.9423\tAccuract: 0.7714\n"
          ],
          "name": "stdout"
        },
        {
          "output_type": "stream",
          "text": [
            "2900it [13:25,  3.60it/s]"
          ],
          "name": "stderr"
        },
        {
          "output_type": "stream",
          "text": [
            "Epoch: 1\tAvg-Loss: 0.9515\tAccuract: 0.7715\n"
          ],
          "name": "stdout"
        },
        {
          "output_type": "stream",
          "text": [
            "2974it [13:46,  3.60it/s]\n",
            "63it [00:12,  5.20it/s]\n"
          ],
          "name": "stderr"
        },
        {
          "output_type": "stream",
          "text": [
            "Epoch: 0, Validation Accuracy: 0.78\n",
            "Epoch: 0, Validation loss: 1.12\n",
            "Epoch 0, lr 0.01\n"
          ],
          "name": "stdout"
        },
        {
          "output_type": "stream",
          "text": [
            "100it [00:28,  3.60it/s]"
          ],
          "name": "stderr"
        },
        {
          "output_type": "stream",
          "text": [
            "Epoch: 2\tAvg-Loss: 0.8833\tAccuract: 0.7854\n"
          ],
          "name": "stdout"
        },
        {
          "output_type": "stream",
          "text": [
            "200it [00:55,  3.60it/s]"
          ],
          "name": "stderr"
        },
        {
          "output_type": "stream",
          "text": [
            "Epoch: 2\tAvg-Loss: 0.8957\tAccuract: 0.7839\n"
          ],
          "name": "stdout"
        },
        {
          "output_type": "stream",
          "text": [
            "300it [01:23,  3.60it/s]"
          ],
          "name": "stderr"
        },
        {
          "output_type": "stream",
          "text": [
            "Epoch: 2\tAvg-Loss: 0.8858\tAccuract: 0.7856\n"
          ],
          "name": "stdout"
        },
        {
          "output_type": "stream",
          "text": [
            "400it [01:51,  3.60it/s]"
          ],
          "name": "stderr"
        },
        {
          "output_type": "stream",
          "text": [
            "Epoch: 2\tAvg-Loss: 0.9007\tAccuract: 0.7846\n"
          ],
          "name": "stdout"
        },
        {
          "output_type": "stream",
          "text": [
            "500it [02:19,  3.60it/s]"
          ],
          "name": "stderr"
        },
        {
          "output_type": "stream",
          "text": [
            "Epoch: 2\tAvg-Loss: 0.8649\tAccuract: 0.7856\n"
          ],
          "name": "stdout"
        },
        {
          "output_type": "stream",
          "text": [
            "600it [02:46,  3.60it/s]"
          ],
          "name": "stderr"
        },
        {
          "output_type": "stream",
          "text": [
            "Epoch: 2\tAvg-Loss: 0.9024\tAccuract: 0.7840\n"
          ],
          "name": "stdout"
        },
        {
          "output_type": "stream",
          "text": [
            "700it [03:14,  3.60it/s]"
          ],
          "name": "stderr"
        },
        {
          "output_type": "stream",
          "text": [
            "Epoch: 2\tAvg-Loss: 0.9005\tAccuract: 0.7840\n"
          ],
          "name": "stdout"
        },
        {
          "output_type": "stream",
          "text": [
            "800it [03:42,  3.60it/s]"
          ],
          "name": "stderr"
        },
        {
          "output_type": "stream",
          "text": [
            "Epoch: 2\tAvg-Loss: 0.9155\tAccuract: 0.7832\n"
          ],
          "name": "stdout"
        },
        {
          "output_type": "stream",
          "text": [
            "900it [04:10,  3.60it/s]"
          ],
          "name": "stderr"
        },
        {
          "output_type": "stream",
          "text": [
            "Epoch: 2\tAvg-Loss: 0.8971\tAccuract: 0.7830\n"
          ],
          "name": "stdout"
        },
        {
          "output_type": "stream",
          "text": [
            "1000it [04:38,  3.59it/s]"
          ],
          "name": "stderr"
        },
        {
          "output_type": "stream",
          "text": [
            "Epoch: 2\tAvg-Loss: 0.9280\tAccuract: 0.7820\n"
          ],
          "name": "stdout"
        },
        {
          "output_type": "stream",
          "text": [
            "1100it [05:05,  3.60it/s]"
          ],
          "name": "stderr"
        },
        {
          "output_type": "stream",
          "text": [
            "Epoch: 2\tAvg-Loss: 0.9129\tAccuract: 0.7818\n"
          ],
          "name": "stdout"
        },
        {
          "output_type": "stream",
          "text": [
            "1200it [05:33,  3.60it/s]"
          ],
          "name": "stderr"
        },
        {
          "output_type": "stream",
          "text": [
            "Epoch: 2\tAvg-Loss: 0.9228\tAccuract: 0.7817\n"
          ],
          "name": "stdout"
        },
        {
          "output_type": "stream",
          "text": [
            "1300it [06:01,  3.60it/s]"
          ],
          "name": "stderr"
        },
        {
          "output_type": "stream",
          "text": [
            "Epoch: 2\tAvg-Loss: 0.9245\tAccuract: 0.7813\n"
          ],
          "name": "stdout"
        },
        {
          "output_type": "stream",
          "text": [
            "1400it [06:29,  3.59it/s]"
          ],
          "name": "stderr"
        },
        {
          "output_type": "stream",
          "text": [
            "Epoch: 2\tAvg-Loss: 0.9207\tAccuract: 0.7811\n"
          ],
          "name": "stdout"
        },
        {
          "output_type": "stream",
          "text": [
            "1500it [06:57,  3.60it/s]"
          ],
          "name": "stderr"
        },
        {
          "output_type": "stream",
          "text": [
            "Epoch: 2\tAvg-Loss: 0.9220\tAccuract: 0.7808\n"
          ],
          "name": "stdout"
        },
        {
          "output_type": "stream",
          "text": [
            "1600it [07:24,  3.60it/s]"
          ],
          "name": "stderr"
        },
        {
          "output_type": "stream",
          "text": [
            "Epoch: 2\tAvg-Loss: 0.9253\tAccuract: 0.7807\n"
          ],
          "name": "stdout"
        },
        {
          "output_type": "stream",
          "text": [
            "1700it [07:52,  3.60it/s]"
          ],
          "name": "stderr"
        },
        {
          "output_type": "stream",
          "text": [
            "Epoch: 2\tAvg-Loss: 0.9154\tAccuract: 0.7807\n"
          ],
          "name": "stdout"
        },
        {
          "output_type": "stream",
          "text": [
            "1800it [08:20,  3.60it/s]"
          ],
          "name": "stderr"
        },
        {
          "output_type": "stream",
          "text": [
            "Epoch: 2\tAvg-Loss: 0.9274\tAccuract: 0.7806\n"
          ],
          "name": "stdout"
        },
        {
          "output_type": "stream",
          "text": [
            "1900it [08:48,  3.61it/s]"
          ],
          "name": "stderr"
        },
        {
          "output_type": "stream",
          "text": [
            "Epoch: 2\tAvg-Loss: 0.8982\tAccuract: 0.7807\n"
          ],
          "name": "stdout"
        },
        {
          "output_type": "stream",
          "text": [
            "2000it [09:15,  3.60it/s]"
          ],
          "name": "stderr"
        },
        {
          "output_type": "stream",
          "text": [
            "Epoch: 2\tAvg-Loss: 0.9372\tAccuract: 0.7805\n"
          ],
          "name": "stdout"
        },
        {
          "output_type": "stream",
          "text": [
            "2100it [09:43,  3.60it/s]"
          ],
          "name": "stderr"
        },
        {
          "output_type": "stream",
          "text": [
            "Epoch: 2\tAvg-Loss: 0.9141\tAccuract: 0.7807\n"
          ],
          "name": "stdout"
        },
        {
          "output_type": "stream",
          "text": [
            "2200it [10:11,  3.59it/s]"
          ],
          "name": "stderr"
        },
        {
          "output_type": "stream",
          "text": [
            "Epoch: 2\tAvg-Loss: 0.9374\tAccuract: 0.7803\n"
          ],
          "name": "stdout"
        },
        {
          "output_type": "stream",
          "text": [
            "2300it [10:39,  3.60it/s]"
          ],
          "name": "stderr"
        },
        {
          "output_type": "stream",
          "text": [
            "Epoch: 2\tAvg-Loss: 0.9232\tAccuract: 0.7802\n"
          ],
          "name": "stdout"
        },
        {
          "output_type": "stream",
          "text": [
            "2400it [11:07,  3.60it/s]"
          ],
          "name": "stderr"
        },
        {
          "output_type": "stream",
          "text": [
            "Epoch: 2\tAvg-Loss: 0.9650\tAccuract: 0.7796\n"
          ],
          "name": "stdout"
        },
        {
          "output_type": "stream",
          "text": [
            "2500it [11:34,  3.60it/s]"
          ],
          "name": "stderr"
        },
        {
          "output_type": "stream",
          "text": [
            "Epoch: 2\tAvg-Loss: 0.9285\tAccuract: 0.7795\n"
          ],
          "name": "stdout"
        },
        {
          "output_type": "stream",
          "text": [
            "2600it [12:02,  3.59it/s]"
          ],
          "name": "stderr"
        },
        {
          "output_type": "stream",
          "text": [
            "Epoch: 2\tAvg-Loss: 0.9198\tAccuract: 0.7795\n"
          ],
          "name": "stdout"
        },
        {
          "output_type": "stream",
          "text": [
            "2700it [12:30,  3.60it/s]"
          ],
          "name": "stderr"
        },
        {
          "output_type": "stream",
          "text": [
            "Epoch: 2\tAvg-Loss: 0.9403\tAccuract: 0.7793\n"
          ],
          "name": "stdout"
        },
        {
          "output_type": "stream",
          "text": [
            "2800it [12:58,  3.60it/s]"
          ],
          "name": "stderr"
        },
        {
          "output_type": "stream",
          "text": [
            "Epoch: 2\tAvg-Loss: 0.9417\tAccuract: 0.7791\n"
          ],
          "name": "stdout"
        },
        {
          "output_type": "stream",
          "text": [
            "2900it [13:26,  3.60it/s]"
          ],
          "name": "stderr"
        },
        {
          "output_type": "stream",
          "text": [
            "Epoch: 2\tAvg-Loss: 0.9358\tAccuract: 0.7791\n"
          ],
          "name": "stdout"
        },
        {
          "output_type": "stream",
          "text": [
            "2974it [13:46,  3.60it/s]\n",
            "63it [00:12,  5.10it/s]"
          ],
          "name": "stderr"
        },
        {
          "output_type": "stream",
          "text": [
            "Epoch: 1, Validation Accuracy: 0.79\n",
            "Epoch: 1, Validation loss: 1.10\n",
            "Epoch 1, lr 0.01\n"
          ],
          "name": "stdout"
        },
        {
          "output_type": "stream",
          "text": [
            "\n",
            "100it [00:28,  3.59it/s]"
          ],
          "name": "stderr"
        },
        {
          "output_type": "stream",
          "text": [
            "Epoch: 3\tAvg-Loss: 0.8478\tAccuract: 0.7963\n"
          ],
          "name": "stdout"
        },
        {
          "output_type": "stream",
          "text": [
            "200it [00:55,  3.59it/s]"
          ],
          "name": "stderr"
        },
        {
          "output_type": "stream",
          "text": [
            "Epoch: 3\tAvg-Loss: 0.8961\tAccuract: 0.7917\n"
          ],
          "name": "stdout"
        },
        {
          "output_type": "stream",
          "text": [
            "300it [01:23,  3.59it/s]"
          ],
          "name": "stderr"
        },
        {
          "output_type": "stream",
          "text": [
            "Epoch: 3\tAvg-Loss: 0.8476\tAccuract: 0.7926\n"
          ],
          "name": "stdout"
        },
        {
          "output_type": "stream",
          "text": [
            "400it [01:51,  3.60it/s]"
          ],
          "name": "stderr"
        },
        {
          "output_type": "stream",
          "text": [
            "Epoch: 3\tAvg-Loss: 0.8861\tAccuract: 0.7905\n"
          ],
          "name": "stdout"
        },
        {
          "output_type": "stream",
          "text": [
            "500it [02:19,  3.60it/s]"
          ],
          "name": "stderr"
        },
        {
          "output_type": "stream",
          "text": [
            "Epoch: 3\tAvg-Loss: 0.8535\tAccuract: 0.7907\n"
          ],
          "name": "stdout"
        },
        {
          "output_type": "stream",
          "text": [
            "600it [02:47,  3.60it/s]"
          ],
          "name": "stderr"
        },
        {
          "output_type": "stream",
          "text": [
            "Epoch: 3\tAvg-Loss: 0.8851\tAccuract: 0.7901\n"
          ],
          "name": "stdout"
        },
        {
          "output_type": "stream",
          "text": [
            "700it [03:14,  3.60it/s]"
          ],
          "name": "stderr"
        },
        {
          "output_type": "stream",
          "text": [
            "Epoch: 3\tAvg-Loss: 0.8587\tAccuract: 0.7908\n"
          ],
          "name": "stdout"
        },
        {
          "output_type": "stream",
          "text": [
            "800it [03:42,  3.60it/s]"
          ],
          "name": "stderr"
        },
        {
          "output_type": "stream",
          "text": [
            "Epoch: 3\tAvg-Loss: 0.8898\tAccuract: 0.7899\n"
          ],
          "name": "stdout"
        },
        {
          "output_type": "stream",
          "text": [
            "900it [04:10,  3.60it/s]"
          ],
          "name": "stderr"
        },
        {
          "output_type": "stream",
          "text": [
            "Epoch: 3\tAvg-Loss: 0.8785\tAccuract: 0.7894\n"
          ],
          "name": "stdout"
        },
        {
          "output_type": "stream",
          "text": [
            "1000it [04:38,  3.60it/s]"
          ],
          "name": "stderr"
        },
        {
          "output_type": "stream",
          "text": [
            "Epoch: 3\tAvg-Loss: 0.8770\tAccuract: 0.7895\n"
          ],
          "name": "stdout"
        },
        {
          "output_type": "stream",
          "text": [
            "1100it [05:06,  3.59it/s]"
          ],
          "name": "stderr"
        },
        {
          "output_type": "stream",
          "text": [
            "Epoch: 3\tAvg-Loss: 0.8881\tAccuract: 0.7893\n"
          ],
          "name": "stdout"
        },
        {
          "output_type": "stream",
          "text": [
            "1200it [05:33,  3.59it/s]"
          ],
          "name": "stderr"
        },
        {
          "output_type": "stream",
          "text": [
            "Epoch: 3\tAvg-Loss: 0.8934\tAccuract: 0.7887\n"
          ],
          "name": "stdout"
        },
        {
          "output_type": "stream",
          "text": [
            "1300it [06:01,  3.60it/s]"
          ],
          "name": "stderr"
        },
        {
          "output_type": "stream",
          "text": [
            "Epoch: 3\tAvg-Loss: 0.8963\tAccuract: 0.7886\n"
          ],
          "name": "stdout"
        },
        {
          "output_type": "stream",
          "text": [
            "1400it [06:29,  3.60it/s]"
          ],
          "name": "stderr"
        },
        {
          "output_type": "stream",
          "text": [
            "Epoch: 3\tAvg-Loss: 0.8938\tAccuract: 0.7882\n"
          ],
          "name": "stdout"
        },
        {
          "output_type": "stream",
          "text": [
            "1500it [06:57,  3.59it/s]"
          ],
          "name": "stderr"
        },
        {
          "output_type": "stream",
          "text": [
            "Epoch: 3\tAvg-Loss: 0.9114\tAccuract: 0.7878\n"
          ],
          "name": "stdout"
        },
        {
          "output_type": "stream",
          "text": [
            "1600it [07:25,  3.60it/s]"
          ],
          "name": "stderr"
        },
        {
          "output_type": "stream",
          "text": [
            "Epoch: 3\tAvg-Loss: 0.8963\tAccuract: 0.7875\n"
          ],
          "name": "stdout"
        },
        {
          "output_type": "stream",
          "text": [
            "1700it [07:52,  3.61it/s]"
          ],
          "name": "stderr"
        },
        {
          "output_type": "stream",
          "text": [
            "Epoch: 3\tAvg-Loss: 0.9019\tAccuract: 0.7872\n"
          ],
          "name": "stdout"
        },
        {
          "output_type": "stream",
          "text": [
            "1800it [08:20,  3.60it/s]"
          ],
          "name": "stderr"
        },
        {
          "output_type": "stream",
          "text": [
            "Epoch: 3\tAvg-Loss: 0.9143\tAccuract: 0.7867\n"
          ],
          "name": "stdout"
        },
        {
          "output_type": "stream",
          "text": [
            "1900it [08:48,  3.59it/s]"
          ],
          "name": "stderr"
        },
        {
          "output_type": "stream",
          "text": [
            "Epoch: 3\tAvg-Loss: 0.9008\tAccuract: 0.7865\n"
          ],
          "name": "stdout"
        },
        {
          "output_type": "stream",
          "text": [
            "2000it [09:16,  3.60it/s]"
          ],
          "name": "stderr"
        },
        {
          "output_type": "stream",
          "text": [
            "Epoch: 3\tAvg-Loss: 0.9230\tAccuract: 0.7858\n"
          ],
          "name": "stdout"
        },
        {
          "output_type": "stream",
          "text": [
            "2100it [09:44,  3.60it/s]"
          ],
          "name": "stderr"
        },
        {
          "output_type": "stream",
          "text": [
            "Epoch: 3\tAvg-Loss: 0.9226\tAccuract: 0.7856\n"
          ],
          "name": "stdout"
        },
        {
          "output_type": "stream",
          "text": [
            "2200it [10:11,  3.60it/s]"
          ],
          "name": "stderr"
        },
        {
          "output_type": "stream",
          "text": [
            "Epoch: 3\tAvg-Loss: 0.9208\tAccuract: 0.7852\n"
          ],
          "name": "stdout"
        },
        {
          "output_type": "stream",
          "text": [
            "2300it [10:39,  3.60it/s]"
          ],
          "name": "stderr"
        },
        {
          "output_type": "stream",
          "text": [
            "Epoch: 3\tAvg-Loss: 0.8828\tAccuract: 0.7852\n"
          ],
          "name": "stdout"
        },
        {
          "output_type": "stream",
          "text": [
            "2400it [11:07,  3.61it/s]"
          ],
          "name": "stderr"
        },
        {
          "output_type": "stream",
          "text": [
            "Epoch: 3\tAvg-Loss: 0.9188\tAccuract: 0.7851\n"
          ],
          "name": "stdout"
        },
        {
          "output_type": "stream",
          "text": [
            "2500it [11:35,  3.60it/s]"
          ],
          "name": "stderr"
        },
        {
          "output_type": "stream",
          "text": [
            "Epoch: 3\tAvg-Loss: 0.8828\tAccuract: 0.7852\n"
          ],
          "name": "stdout"
        },
        {
          "output_type": "stream",
          "text": [
            "2600it [12:03,  3.59it/s]"
          ],
          "name": "stderr"
        },
        {
          "output_type": "stream",
          "text": [
            "Epoch: 3\tAvg-Loss: 0.8937\tAccuract: 0.7850\n"
          ],
          "name": "stdout"
        },
        {
          "output_type": "stream",
          "text": [
            "2700it [12:30,  3.59it/s]"
          ],
          "name": "stderr"
        },
        {
          "output_type": "stream",
          "text": [
            "Epoch: 3\tAvg-Loss: 0.9026\tAccuract: 0.7848\n"
          ],
          "name": "stdout"
        },
        {
          "output_type": "stream",
          "text": [
            "2800it [12:58,  3.60it/s]"
          ],
          "name": "stderr"
        },
        {
          "output_type": "stream",
          "text": [
            "Epoch: 3\tAvg-Loss: 0.8977\tAccuract: 0.7848\n"
          ],
          "name": "stdout"
        },
        {
          "output_type": "stream",
          "text": [
            "2900it [13:26,  3.60it/s]"
          ],
          "name": "stderr"
        },
        {
          "output_type": "stream",
          "text": [
            "Epoch: 3\tAvg-Loss: 0.9096\tAccuract: 0.7847\n"
          ],
          "name": "stdout"
        },
        {
          "output_type": "stream",
          "text": [
            "2974it [13:47,  3.60it/s]\n",
            "63it [00:12,  5.13it/s]"
          ],
          "name": "stderr"
        },
        {
          "output_type": "stream",
          "text": [
            "Epoch: 2, Validation Accuracy: 0.79\n",
            "Epoch: 2, Validation loss: 1.07\n",
            "Epoch 2, lr 0.01\n"
          ],
          "name": "stdout"
        },
        {
          "output_type": "stream",
          "text": [
            "\n",
            "100it [00:28,  3.60it/s]"
          ],
          "name": "stderr"
        },
        {
          "output_type": "stream",
          "text": [
            "Epoch: 4\tAvg-Loss: 0.8696\tAccuract: 0.7908\n"
          ],
          "name": "stdout"
        },
        {
          "output_type": "stream",
          "text": [
            "200it [00:55,  3.61it/s]"
          ],
          "name": "stderr"
        },
        {
          "output_type": "stream",
          "text": [
            "Epoch: 4\tAvg-Loss: 0.8237\tAccuract: 0.7959\n"
          ],
          "name": "stdout"
        },
        {
          "output_type": "stream",
          "text": [
            "300it [01:23,  3.60it/s]"
          ],
          "name": "stderr"
        },
        {
          "output_type": "stream",
          "text": [
            "Epoch: 4\tAvg-Loss: 0.8562\tAccuract: 0.7949\n"
          ],
          "name": "stdout"
        },
        {
          "output_type": "stream",
          "text": [
            "400it [01:51,  3.59it/s]"
          ],
          "name": "stderr"
        },
        {
          "output_type": "stream",
          "text": [
            "Epoch: 4\tAvg-Loss: 0.8622\tAccuract: 0.7938\n"
          ],
          "name": "stdout"
        },
        {
          "output_type": "stream",
          "text": [
            "500it [02:19,  3.59it/s]"
          ],
          "name": "stderr"
        },
        {
          "output_type": "stream",
          "text": [
            "Epoch: 4\tAvg-Loss: 0.8412\tAccuract: 0.7946\n"
          ],
          "name": "stdout"
        },
        {
          "output_type": "stream",
          "text": [
            "600it [02:47,  3.60it/s]"
          ],
          "name": "stderr"
        },
        {
          "output_type": "stream",
          "text": [
            "Epoch: 4\tAvg-Loss: 0.8476\tAccuract: 0.7945\n"
          ],
          "name": "stdout"
        },
        {
          "output_type": "stream",
          "text": [
            "700it [03:14,  3.59it/s]"
          ],
          "name": "stderr"
        },
        {
          "output_type": "stream",
          "text": [
            "Epoch: 4\tAvg-Loss: 0.8400\tAccuract: 0.7946\n"
          ],
          "name": "stdout"
        },
        {
          "output_type": "stream",
          "text": [
            "800it [03:42,  3.60it/s]"
          ],
          "name": "stderr"
        },
        {
          "output_type": "stream",
          "text": [
            "Epoch: 4\tAvg-Loss: 0.8463\tAccuract: 0.7950\n"
          ],
          "name": "stdout"
        },
        {
          "output_type": "stream",
          "text": [
            "900it [04:10,  3.60it/s]"
          ],
          "name": "stderr"
        },
        {
          "output_type": "stream",
          "text": [
            "Epoch: 4\tAvg-Loss: 0.8645\tAccuract: 0.7945\n"
          ],
          "name": "stdout"
        },
        {
          "output_type": "stream",
          "text": [
            "1000it [04:38,  3.60it/s]"
          ],
          "name": "stderr"
        },
        {
          "output_type": "stream",
          "text": [
            "Epoch: 4\tAvg-Loss: 0.8643\tAccuract: 0.7942\n"
          ],
          "name": "stdout"
        },
        {
          "output_type": "stream",
          "text": [
            "1100it [05:06,  3.59it/s]"
          ],
          "name": "stderr"
        },
        {
          "output_type": "stream",
          "text": [
            "Epoch: 4\tAvg-Loss: 0.8701\tAccuract: 0.7939\n"
          ],
          "name": "stdout"
        },
        {
          "output_type": "stream",
          "text": [
            "1200it [05:33,  3.59it/s]"
          ],
          "name": "stderr"
        },
        {
          "output_type": "stream",
          "text": [
            "Epoch: 4\tAvg-Loss: 0.8664\tAccuract: 0.7935\n"
          ],
          "name": "stdout"
        },
        {
          "output_type": "stream",
          "text": [
            "1300it [06:01,  3.59it/s]"
          ],
          "name": "stderr"
        },
        {
          "output_type": "stream",
          "text": [
            "Epoch: 4\tAvg-Loss: 0.8720\tAccuract: 0.7933\n"
          ],
          "name": "stdout"
        },
        {
          "output_type": "stream",
          "text": [
            "1400it [06:29,  3.60it/s]"
          ],
          "name": "stderr"
        },
        {
          "output_type": "stream",
          "text": [
            "Epoch: 4\tAvg-Loss: 0.8466\tAccuract: 0.7933\n"
          ],
          "name": "stdout"
        },
        {
          "output_type": "stream",
          "text": [
            "1500it [06:57,  3.60it/s]"
          ],
          "name": "stderr"
        },
        {
          "output_type": "stream",
          "text": [
            "Epoch: 4\tAvg-Loss: 0.8751\tAccuract: 0.7931\n"
          ],
          "name": "stdout"
        },
        {
          "output_type": "stream",
          "text": [
            "1600it [07:25,  3.60it/s]"
          ],
          "name": "stderr"
        },
        {
          "output_type": "stream",
          "text": [
            "Epoch: 4\tAvg-Loss: 0.8793\tAccuract: 0.7926\n"
          ],
          "name": "stdout"
        },
        {
          "output_type": "stream",
          "text": [
            "1700it [07:52,  3.59it/s]"
          ],
          "name": "stderr"
        },
        {
          "output_type": "stream",
          "text": [
            "Epoch: 4\tAvg-Loss: 0.8884\tAccuract: 0.7923\n"
          ],
          "name": "stdout"
        },
        {
          "output_type": "stream",
          "text": [
            "1800it [08:20,  3.60it/s]"
          ],
          "name": "stderr"
        },
        {
          "output_type": "stream",
          "text": [
            "Epoch: 4\tAvg-Loss: 0.8965\tAccuract: 0.7919\n"
          ],
          "name": "stdout"
        },
        {
          "output_type": "stream",
          "text": [
            "1900it [08:48,  3.60it/s]"
          ],
          "name": "stderr"
        },
        {
          "output_type": "stream",
          "text": [
            "Epoch: 4\tAvg-Loss: 0.8692\tAccuract: 0.7917\n"
          ],
          "name": "stdout"
        },
        {
          "output_type": "stream",
          "text": [
            "2000it [09:16,  3.60it/s]"
          ],
          "name": "stderr"
        },
        {
          "output_type": "stream",
          "text": [
            "Epoch: 4\tAvg-Loss: 0.8742\tAccuract: 0.7914\n"
          ],
          "name": "stdout"
        },
        {
          "output_type": "stream",
          "text": [
            "2100it [09:44,  3.60it/s]"
          ],
          "name": "stderr"
        },
        {
          "output_type": "stream",
          "text": [
            "Epoch: 4\tAvg-Loss: 0.8822\tAccuract: 0.7914\n"
          ],
          "name": "stdout"
        },
        {
          "output_type": "stream",
          "text": [
            "2200it [10:12,  3.60it/s]"
          ],
          "name": "stderr"
        },
        {
          "output_type": "stream",
          "text": [
            "Epoch: 4\tAvg-Loss: 0.8474\tAccuract: 0.7914\n"
          ],
          "name": "stdout"
        },
        {
          "output_type": "stream",
          "text": [
            "2300it [10:39,  3.60it/s]"
          ],
          "name": "stderr"
        },
        {
          "output_type": "stream",
          "text": [
            "Epoch: 4\tAvg-Loss: 0.8944\tAccuract: 0.7912\n"
          ],
          "name": "stdout"
        },
        {
          "output_type": "stream",
          "text": [
            "2400it [11:07,  3.60it/s]"
          ],
          "name": "stderr"
        },
        {
          "output_type": "stream",
          "text": [
            "Epoch: 4\tAvg-Loss: 0.8959\tAccuract: 0.7907\n"
          ],
          "name": "stdout"
        },
        {
          "output_type": "stream",
          "text": [
            "2500it [11:35,  3.60it/s]"
          ],
          "name": "stderr"
        },
        {
          "output_type": "stream",
          "text": [
            "Epoch: 4\tAvg-Loss: 0.9147\tAccuract: 0.7902\n"
          ],
          "name": "stdout"
        },
        {
          "output_type": "stream",
          "text": [
            "2600it [12:03,  3.60it/s]"
          ],
          "name": "stderr"
        },
        {
          "output_type": "stream",
          "text": [
            "Epoch: 4\tAvg-Loss: 0.9082\tAccuract: 0.7899\n"
          ],
          "name": "stdout"
        },
        {
          "output_type": "stream",
          "text": [
            "2700it [12:31,  3.60it/s]"
          ],
          "name": "stderr"
        },
        {
          "output_type": "stream",
          "text": [
            "Epoch: 4\tAvg-Loss: 0.8845\tAccuract: 0.7899\n"
          ],
          "name": "stdout"
        },
        {
          "output_type": "stream",
          "text": [
            "2800it [12:58,  3.59it/s]"
          ],
          "name": "stderr"
        },
        {
          "output_type": "stream",
          "text": [
            "Epoch: 4\tAvg-Loss: 0.8944\tAccuract: 0.7898\n"
          ],
          "name": "stdout"
        },
        {
          "output_type": "stream",
          "text": [
            "2900it [13:26,  3.60it/s]"
          ],
          "name": "stderr"
        },
        {
          "output_type": "stream",
          "text": [
            "Epoch: 4\tAvg-Loss: 0.8974\tAccuract: 0.7895\n"
          ],
          "name": "stdout"
        },
        {
          "output_type": "stream",
          "text": [
            "2974it [13:47,  3.59it/s]\n",
            "63it [00:12,  5.15it/s]\n"
          ],
          "name": "stderr"
        },
        {
          "output_type": "stream",
          "text": [
            "Epoch: 3, Validation Accuracy: 0.79\n",
            "Epoch: 3, Validation loss: 1.11\n",
            "Epoch 3, lr 0.01\n"
          ],
          "name": "stdout"
        },
        {
          "output_type": "stream",
          "text": [
            "100it [00:28,  3.59it/s]"
          ],
          "name": "stderr"
        },
        {
          "output_type": "stream",
          "text": [
            "Epoch: 5\tAvg-Loss: 0.8119\tAccuract: 0.8018\n"
          ],
          "name": "stdout"
        },
        {
          "output_type": "stream",
          "text": [
            "200it [00:56,  3.60it/s]"
          ],
          "name": "stderr"
        },
        {
          "output_type": "stream",
          "text": [
            "Epoch: 5\tAvg-Loss: 0.8269\tAccuract: 0.8019\n"
          ],
          "name": "stdout"
        },
        {
          "output_type": "stream",
          "text": [
            "300it [01:23,  3.60it/s]"
          ],
          "name": "stderr"
        },
        {
          "output_type": "stream",
          "text": [
            "Epoch: 5\tAvg-Loss: 0.8374\tAccuract: 0.8002\n"
          ],
          "name": "stdout"
        },
        {
          "output_type": "stream",
          "text": [
            "400it [01:51,  3.60it/s]"
          ],
          "name": "stderr"
        },
        {
          "output_type": "stream",
          "text": [
            "Epoch: 5\tAvg-Loss: 0.8352\tAccuract: 0.7993\n"
          ],
          "name": "stdout"
        },
        {
          "output_type": "stream",
          "text": [
            "500it [02:19,  3.59it/s]"
          ],
          "name": "stderr"
        },
        {
          "output_type": "stream",
          "text": [
            "Epoch: 5\tAvg-Loss: 0.8216\tAccuract: 0.7988\n"
          ],
          "name": "stdout"
        },
        {
          "output_type": "stream",
          "text": [
            "600it [02:47,  3.60it/s]"
          ],
          "name": "stderr"
        },
        {
          "output_type": "stream",
          "text": [
            "Epoch: 5\tAvg-Loss: 0.8447\tAccuract: 0.7982\n"
          ],
          "name": "stdout"
        },
        {
          "output_type": "stream",
          "text": [
            "700it [03:15,  3.60it/s]"
          ],
          "name": "stderr"
        },
        {
          "output_type": "stream",
          "text": [
            "Epoch: 5\tAvg-Loss: 0.8184\tAccuract: 0.7989\n"
          ],
          "name": "stdout"
        },
        {
          "output_type": "stream",
          "text": [
            "800it [03:42,  3.59it/s]"
          ],
          "name": "stderr"
        },
        {
          "output_type": "stream",
          "text": [
            "Epoch: 5\tAvg-Loss: 0.8338\tAccuract: 0.7985\n"
          ],
          "name": "stdout"
        },
        {
          "output_type": "stream",
          "text": [
            "900it [04:10,  3.60it/s]"
          ],
          "name": "stderr"
        },
        {
          "output_type": "stream",
          "text": [
            "Epoch: 5\tAvg-Loss: 0.8403\tAccuract: 0.7980\n"
          ],
          "name": "stdout"
        },
        {
          "output_type": "stream",
          "text": [
            "1000it [04:38,  3.59it/s]"
          ],
          "name": "stderr"
        },
        {
          "output_type": "stream",
          "text": [
            "Epoch: 5\tAvg-Loss: 0.8533\tAccuract: 0.7973\n"
          ],
          "name": "stdout"
        },
        {
          "output_type": "stream",
          "text": [
            "1100it [05:06,  3.59it/s]"
          ],
          "name": "stderr"
        },
        {
          "output_type": "stream",
          "text": [
            "Epoch: 5\tAvg-Loss: 0.8467\tAccuract: 0.7973\n"
          ],
          "name": "stdout"
        },
        {
          "output_type": "stream",
          "text": [
            "1200it [05:34,  3.60it/s]"
          ],
          "name": "stderr"
        },
        {
          "output_type": "stream",
          "text": [
            "Epoch: 5\tAvg-Loss: 0.8703\tAccuract: 0.7966\n"
          ],
          "name": "stdout"
        },
        {
          "output_type": "stream",
          "text": [
            "1300it [06:01,  3.59it/s]"
          ],
          "name": "stderr"
        },
        {
          "output_type": "stream",
          "text": [
            "Epoch: 5\tAvg-Loss: 0.8515\tAccuract: 0.7966\n"
          ],
          "name": "stdout"
        },
        {
          "output_type": "stream",
          "text": [
            "1400it [06:29,  3.60it/s]"
          ],
          "name": "stderr"
        },
        {
          "output_type": "stream",
          "text": [
            "Epoch: 5\tAvg-Loss: 0.8793\tAccuract: 0.7959\n"
          ],
          "name": "stdout"
        },
        {
          "output_type": "stream",
          "text": [
            "1500it [06:57,  3.60it/s]"
          ],
          "name": "stderr"
        },
        {
          "output_type": "stream",
          "text": [
            "Epoch: 5\tAvg-Loss: 0.8545\tAccuract: 0.7956\n"
          ],
          "name": "stdout"
        },
        {
          "output_type": "stream",
          "text": [
            "1600it [07:25,  3.60it/s]"
          ],
          "name": "stderr"
        },
        {
          "output_type": "stream",
          "text": [
            "Epoch: 5\tAvg-Loss: 0.8623\tAccuract: 0.7952\n"
          ],
          "name": "stdout"
        },
        {
          "output_type": "stream",
          "text": [
            "1700it [07:53,  3.59it/s]"
          ],
          "name": "stderr"
        },
        {
          "output_type": "stream",
          "text": [
            "Epoch: 5\tAvg-Loss: 0.8746\tAccuract: 0.7947\n"
          ],
          "name": "stdout"
        },
        {
          "output_type": "stream",
          "text": [
            "1800it [08:20,  3.59it/s]"
          ],
          "name": "stderr"
        },
        {
          "output_type": "stream",
          "text": [
            "Epoch: 5\tAvg-Loss: 0.8524\tAccuract: 0.7946\n"
          ],
          "name": "stdout"
        },
        {
          "output_type": "stream",
          "text": [
            "1900it [08:48,  3.59it/s]"
          ],
          "name": "stderr"
        },
        {
          "output_type": "stream",
          "text": [
            "Epoch: 5\tAvg-Loss: 0.8460\tAccuract: 0.7947\n"
          ],
          "name": "stdout"
        },
        {
          "output_type": "stream",
          "text": [
            "2000it [09:16,  3.60it/s]"
          ],
          "name": "stderr"
        },
        {
          "output_type": "stream",
          "text": [
            "Epoch: 5\tAvg-Loss: 0.8697\tAccuract: 0.7945\n"
          ],
          "name": "stdout"
        },
        {
          "output_type": "stream",
          "text": [
            "2100it [09:44,  3.60it/s]"
          ],
          "name": "stderr"
        },
        {
          "output_type": "stream",
          "text": [
            "Epoch: 5\tAvg-Loss: 0.8600\tAccuract: 0.7945\n"
          ],
          "name": "stdout"
        },
        {
          "output_type": "stream",
          "text": [
            "2200it [10:12,  3.60it/s]"
          ],
          "name": "stderr"
        },
        {
          "output_type": "stream",
          "text": [
            "Epoch: 5\tAvg-Loss: 0.8858\tAccuract: 0.7943\n"
          ],
          "name": "stdout"
        },
        {
          "output_type": "stream",
          "text": [
            "2300it [10:40,  3.59it/s]"
          ],
          "name": "stderr"
        },
        {
          "output_type": "stream",
          "text": [
            "Epoch: 5\tAvg-Loss: 0.8605\tAccuract: 0.7941\n"
          ],
          "name": "stdout"
        },
        {
          "output_type": "stream",
          "text": [
            "2400it [11:07,  3.60it/s]"
          ],
          "name": "stderr"
        },
        {
          "output_type": "stream",
          "text": [
            "Epoch: 5\tAvg-Loss: 0.8787\tAccuract: 0.7937\n"
          ],
          "name": "stdout"
        },
        {
          "output_type": "stream",
          "text": [
            "2500it [11:35,  3.59it/s]"
          ],
          "name": "stderr"
        },
        {
          "output_type": "stream",
          "text": [
            "Epoch: 5\tAvg-Loss: 0.8598\tAccuract: 0.7937\n"
          ],
          "name": "stdout"
        },
        {
          "output_type": "stream",
          "text": [
            "2600it [12:03,  3.60it/s]"
          ],
          "name": "stderr"
        },
        {
          "output_type": "stream",
          "text": [
            "Epoch: 5\tAvg-Loss: 0.8574\tAccuract: 0.7936\n"
          ],
          "name": "stdout"
        },
        {
          "output_type": "stream",
          "text": [
            "2700it [12:31,  3.60it/s]"
          ],
          "name": "stderr"
        },
        {
          "output_type": "stream",
          "text": [
            "Epoch: 5\tAvg-Loss: 0.8781\tAccuract: 0.7934\n"
          ],
          "name": "stdout"
        },
        {
          "output_type": "stream",
          "text": [
            "2800it [12:59,  3.59it/s]"
          ],
          "name": "stderr"
        },
        {
          "output_type": "stream",
          "text": [
            "Epoch: 5\tAvg-Loss: 0.8466\tAccuract: 0.7935\n"
          ],
          "name": "stdout"
        },
        {
          "output_type": "stream",
          "text": [
            "2900it [13:26,  3.60it/s]"
          ],
          "name": "stderr"
        },
        {
          "output_type": "stream",
          "text": [
            "Epoch: 5\tAvg-Loss: 0.8868\tAccuract: 0.7932\n"
          ],
          "name": "stdout"
        },
        {
          "output_type": "stream",
          "text": [
            "2974it [13:47,  3.59it/s]\n",
            "63it [00:12,  5.14it/s]\n"
          ],
          "name": "stderr"
        },
        {
          "output_type": "stream",
          "text": [
            "Epoch: 4, Validation Accuracy: 0.80\n",
            "Epoch: 4, Validation loss: 1.07\n",
            "Epoch 4, lr 0.01\n",
            "val accuracy [0.7805, 0.790875, 0.794125, 0.78925, 0.8]\n"
          ],
          "name": "stdout"
        },
        {
          "output_type": "stream",
          "text": [
            "100it [00:28,  3.59it/s]"
          ],
          "name": "stderr"
        },
        {
          "output_type": "stream",
          "text": [
            "Epoch: 6\tAvg-Loss: 0.7996\tAccuract: 0.8043\n"
          ],
          "name": "stdout"
        },
        {
          "output_type": "stream",
          "text": [
            "200it [00:55,  3.59it/s]"
          ],
          "name": "stderr"
        },
        {
          "output_type": "stream",
          "text": [
            "Epoch: 6\tAvg-Loss: 0.8100\tAccuract: 0.8038\n"
          ],
          "name": "stdout"
        },
        {
          "output_type": "stream",
          "text": [
            "300it [01:23,  3.60it/s]"
          ],
          "name": "stderr"
        },
        {
          "output_type": "stream",
          "text": [
            "Epoch: 6\tAvg-Loss: 0.8158\tAccuract: 0.8026\n"
          ],
          "name": "stdout"
        },
        {
          "output_type": "stream",
          "text": [
            "400it [01:51,  3.60it/s]"
          ],
          "name": "stderr"
        },
        {
          "output_type": "stream",
          "text": [
            "Epoch: 6\tAvg-Loss: 0.8142\tAccuract: 0.8024\n"
          ],
          "name": "stdout"
        },
        {
          "output_type": "stream",
          "text": [
            "500it [02:19,  3.59it/s]"
          ],
          "name": "stderr"
        },
        {
          "output_type": "stream",
          "text": [
            "Epoch: 6\tAvg-Loss: 0.7963\tAccuract: 0.8032\n"
          ],
          "name": "stdout"
        },
        {
          "output_type": "stream",
          "text": [
            "600it [02:47,  3.60it/s]"
          ],
          "name": "stderr"
        },
        {
          "output_type": "stream",
          "text": [
            "Epoch: 6\tAvg-Loss: 0.8422\tAccuract: 0.8022\n"
          ],
          "name": "stdout"
        },
        {
          "output_type": "stream",
          "text": [
            "700it [03:14,  3.60it/s]"
          ],
          "name": "stderr"
        },
        {
          "output_type": "stream",
          "text": [
            "Epoch: 6\tAvg-Loss: 0.8401\tAccuract: 0.8015\n"
          ],
          "name": "stdout"
        },
        {
          "output_type": "stream",
          "text": [
            "800it [03:42,  3.60it/s]"
          ],
          "name": "stderr"
        },
        {
          "output_type": "stream",
          "text": [
            "Epoch: 6\tAvg-Loss: 0.8202\tAccuract: 0.8017\n"
          ],
          "name": "stdout"
        },
        {
          "output_type": "stream",
          "text": [
            "900it [04:10,  3.59it/s]"
          ],
          "name": "stderr"
        },
        {
          "output_type": "stream",
          "text": [
            "Epoch: 6\tAvg-Loss: 0.8509\tAccuract: 0.8004\n"
          ],
          "name": "stdout"
        },
        {
          "output_type": "stream",
          "text": [
            "1000it [04:38,  3.60it/s]"
          ],
          "name": "stderr"
        },
        {
          "output_type": "stream",
          "text": [
            "Epoch: 6\tAvg-Loss: 0.8164\tAccuract: 0.8005\n"
          ],
          "name": "stdout"
        },
        {
          "output_type": "stream",
          "text": [
            "1100it [05:06,  3.60it/s]"
          ],
          "name": "stderr"
        },
        {
          "output_type": "stream",
          "text": [
            "Epoch: 6\tAvg-Loss: 0.8357\tAccuract: 0.7999\n"
          ],
          "name": "stdout"
        },
        {
          "output_type": "stream",
          "text": [
            "1200it [05:33,  3.60it/s]"
          ],
          "name": "stderr"
        },
        {
          "output_type": "stream",
          "text": [
            "Epoch: 6\tAvg-Loss: 0.8166\tAccuract: 0.8000\n"
          ],
          "name": "stdout"
        },
        {
          "output_type": "stream",
          "text": [
            "1300it [06:01,  3.59it/s]"
          ],
          "name": "stderr"
        },
        {
          "output_type": "stream",
          "text": [
            "Epoch: 6\tAvg-Loss: 0.8458\tAccuract: 0.7996\n"
          ],
          "name": "stdout"
        },
        {
          "output_type": "stream",
          "text": [
            "1400it [06:29,  3.59it/s]"
          ],
          "name": "stderr"
        },
        {
          "output_type": "stream",
          "text": [
            "Epoch: 6\tAvg-Loss: 0.8252\tAccuract: 0.7996\n"
          ],
          "name": "stdout"
        },
        {
          "output_type": "stream",
          "text": [
            "1500it [06:57,  3.59it/s]"
          ],
          "name": "stderr"
        },
        {
          "output_type": "stream",
          "text": [
            "Epoch: 6\tAvg-Loss: 0.8389\tAccuract: 0.7993\n"
          ],
          "name": "stdout"
        },
        {
          "output_type": "stream",
          "text": [
            "1600it [07:25,  3.59it/s]"
          ],
          "name": "stderr"
        },
        {
          "output_type": "stream",
          "text": [
            "Epoch: 6\tAvg-Loss: 0.8317\tAccuract: 0.7993\n"
          ],
          "name": "stdout"
        },
        {
          "output_type": "stream",
          "text": [
            "1700it [07:52,  3.60it/s]"
          ],
          "name": "stderr"
        },
        {
          "output_type": "stream",
          "text": [
            "Epoch: 6\tAvg-Loss: 0.8551\tAccuract: 0.7991\n"
          ],
          "name": "stdout"
        },
        {
          "output_type": "stream",
          "text": [
            "1800it [08:20,  3.60it/s]"
          ],
          "name": "stderr"
        },
        {
          "output_type": "stream",
          "text": [
            "Epoch: 6\tAvg-Loss: 0.8596\tAccuract: 0.7985\n"
          ],
          "name": "stdout"
        },
        {
          "output_type": "stream",
          "text": [
            "1900it [08:48,  3.59it/s]"
          ],
          "name": "stderr"
        },
        {
          "output_type": "stream",
          "text": [
            "Epoch: 6\tAvg-Loss: 0.8335\tAccuract: 0.7985\n"
          ],
          "name": "stdout"
        },
        {
          "output_type": "stream",
          "text": [
            "2000it [09:16,  3.60it/s]"
          ],
          "name": "stderr"
        },
        {
          "output_type": "stream",
          "text": [
            "Epoch: 6\tAvg-Loss: 0.8460\tAccuract: 0.7983\n"
          ],
          "name": "stdout"
        },
        {
          "output_type": "stream",
          "text": [
            "2100it [09:44,  3.60it/s]"
          ],
          "name": "stderr"
        },
        {
          "output_type": "stream",
          "text": [
            "Epoch: 6\tAvg-Loss: 0.8364\tAccuract: 0.7982\n"
          ],
          "name": "stdout"
        },
        {
          "output_type": "stream",
          "text": [
            "2200it [10:12,  3.60it/s]"
          ],
          "name": "stderr"
        },
        {
          "output_type": "stream",
          "text": [
            "Epoch: 6\tAvg-Loss: 0.8445\tAccuract: 0.7980\n"
          ],
          "name": "stdout"
        },
        {
          "output_type": "stream",
          "text": [
            "2300it [10:39,  3.59it/s]"
          ],
          "name": "stderr"
        },
        {
          "output_type": "stream",
          "text": [
            "Epoch: 6\tAvg-Loss: 0.8564\tAccuract: 0.7977\n"
          ],
          "name": "stdout"
        },
        {
          "output_type": "stream",
          "text": [
            "2400it [11:07,  3.60it/s]"
          ],
          "name": "stderr"
        },
        {
          "output_type": "stream",
          "text": [
            "Epoch: 6\tAvg-Loss: 0.8554\tAccuract: 0.7974\n"
          ],
          "name": "stdout"
        },
        {
          "output_type": "stream",
          "text": [
            "2500it [11:35,  3.60it/s]"
          ],
          "name": "stderr"
        },
        {
          "output_type": "stream",
          "text": [
            "Epoch: 6\tAvg-Loss: 0.8600\tAccuract: 0.7972\n"
          ],
          "name": "stdout"
        },
        {
          "output_type": "stream",
          "text": [
            "2600it [12:03,  3.59it/s]"
          ],
          "name": "stderr"
        },
        {
          "output_type": "stream",
          "text": [
            "Epoch: 6\tAvg-Loss: 0.8853\tAccuract: 0.7967\n"
          ],
          "name": "stdout"
        },
        {
          "output_type": "stream",
          "text": [
            "2700it [12:31,  3.59it/s]"
          ],
          "name": "stderr"
        },
        {
          "output_type": "stream",
          "text": [
            "Epoch: 6\tAvg-Loss: 0.8523\tAccuract: 0.7966\n"
          ],
          "name": "stdout"
        },
        {
          "output_type": "stream",
          "text": [
            "2800it [12:58,  3.59it/s]"
          ],
          "name": "stderr"
        },
        {
          "output_type": "stream",
          "text": [
            "Epoch: 6\tAvg-Loss: 0.8444\tAccuract: 0.7966\n"
          ],
          "name": "stdout"
        },
        {
          "output_type": "stream",
          "text": [
            "2900it [13:26,  3.60it/s]"
          ],
          "name": "stderr"
        },
        {
          "output_type": "stream",
          "text": [
            "Epoch: 6\tAvg-Loss: 0.8662\tAccuract: 0.7963\n"
          ],
          "name": "stdout"
        },
        {
          "output_type": "stream",
          "text": [
            "2974it [13:47,  3.59it/s]\n",
            "63it [00:12,  5.17it/s]"
          ],
          "name": "stderr"
        },
        {
          "output_type": "stream",
          "text": [
            "Epoch: 5, Validation Accuracy: 0.80\n",
            "Epoch: 5, Validation loss: 1.07\n",
            "Epoch 5, lr 0.01\n"
          ],
          "name": "stdout"
        },
        {
          "output_type": "stream",
          "text": [
            "\n",
            "100it [00:28,  3.60it/s]"
          ],
          "name": "stderr"
        },
        {
          "output_type": "stream",
          "text": [
            "Epoch: 7\tAvg-Loss: 0.7731\tAccuract: 0.8070\n"
          ],
          "name": "stdout"
        },
        {
          "output_type": "stream",
          "text": [
            "200it [00:55,  3.59it/s]"
          ],
          "name": "stderr"
        },
        {
          "output_type": "stream",
          "text": [
            "Epoch: 7\tAvg-Loss: 0.7663\tAccuract: 0.8093\n"
          ],
          "name": "stdout"
        },
        {
          "output_type": "stream",
          "text": [
            "300it [01:23,  3.59it/s]"
          ],
          "name": "stderr"
        },
        {
          "output_type": "stream",
          "text": [
            "Epoch: 7\tAvg-Loss: 0.8072\tAccuract: 0.8070\n"
          ],
          "name": "stdout"
        },
        {
          "output_type": "stream",
          "text": [
            "400it [01:51,  3.60it/s]"
          ],
          "name": "stderr"
        },
        {
          "output_type": "stream",
          "text": [
            "Epoch: 7\tAvg-Loss: 0.8062\tAccuract: 0.8071\n"
          ],
          "name": "stdout"
        },
        {
          "output_type": "stream",
          "text": [
            "500it [02:19,  3.60it/s]"
          ],
          "name": "stderr"
        },
        {
          "output_type": "stream",
          "text": [
            "Epoch: 7\tAvg-Loss: 0.7864\tAccuract: 0.8069\n"
          ],
          "name": "stdout"
        },
        {
          "output_type": "stream",
          "text": [
            "600it [02:47,  3.60it/s]"
          ],
          "name": "stderr"
        },
        {
          "output_type": "stream",
          "text": [
            "Epoch: 7\tAvg-Loss: 0.7976\tAccuract: 0.8069\n"
          ],
          "name": "stdout"
        },
        {
          "output_type": "stream",
          "text": [
            "700it [03:14,  3.59it/s]"
          ],
          "name": "stderr"
        },
        {
          "output_type": "stream",
          "text": [
            "Epoch: 7\tAvg-Loss: 0.8139\tAccuract: 0.8060\n"
          ],
          "name": "stdout"
        },
        {
          "output_type": "stream",
          "text": [
            "800it [03:42,  3.60it/s]"
          ],
          "name": "stderr"
        },
        {
          "output_type": "stream",
          "text": [
            "Epoch: 7\tAvg-Loss: 0.7856\tAccuract: 0.8059\n"
          ],
          "name": "stdout"
        },
        {
          "output_type": "stream",
          "text": [
            "900it [04:10,  3.60it/s]"
          ],
          "name": "stderr"
        },
        {
          "output_type": "stream",
          "text": [
            "Epoch: 7\tAvg-Loss: 0.8004\tAccuract: 0.8059\n"
          ],
          "name": "stdout"
        },
        {
          "output_type": "stream",
          "text": [
            "1000it [04:38,  3.60it/s]"
          ],
          "name": "stderr"
        },
        {
          "output_type": "stream",
          "text": [
            "Epoch: 7\tAvg-Loss: 0.7993\tAccuract: 0.8056\n"
          ],
          "name": "stdout"
        },
        {
          "output_type": "stream",
          "text": [
            "1100it [05:06,  3.60it/s]"
          ],
          "name": "stderr"
        },
        {
          "output_type": "stream",
          "text": [
            "Epoch: 7\tAvg-Loss: 0.8177\tAccuract: 0.8052\n"
          ],
          "name": "stdout"
        },
        {
          "output_type": "stream",
          "text": [
            "1200it [05:33,  3.60it/s]"
          ],
          "name": "stderr"
        },
        {
          "output_type": "stream",
          "text": [
            "Epoch: 7\tAvg-Loss: 0.8185\tAccuract: 0.8048\n"
          ],
          "name": "stdout"
        },
        {
          "output_type": "stream",
          "text": [
            "1300it [06:01,  3.60it/s]"
          ],
          "name": "stderr"
        },
        {
          "output_type": "stream",
          "text": [
            "Epoch: 7\tAvg-Loss: 0.8486\tAccuract: 0.8039\n"
          ],
          "name": "stdout"
        },
        {
          "output_type": "stream",
          "text": [
            "1400it [06:29,  3.60it/s]"
          ],
          "name": "stderr"
        },
        {
          "output_type": "stream",
          "text": [
            "Epoch: 7\tAvg-Loss: 0.8227\tAccuract: 0.8038\n"
          ],
          "name": "stdout"
        },
        {
          "output_type": "stream",
          "text": [
            "1500it [06:57,  3.60it/s]"
          ],
          "name": "stderr"
        },
        {
          "output_type": "stream",
          "text": [
            "Epoch: 7\tAvg-Loss: 0.8493\tAccuract: 0.8034\n"
          ],
          "name": "stdout"
        },
        {
          "output_type": "stream",
          "text": [
            "1600it [07:25,  3.60it/s]"
          ],
          "name": "stderr"
        },
        {
          "output_type": "stream",
          "text": [
            "Epoch: 7\tAvg-Loss: 0.8216\tAccuract: 0.8032\n"
          ],
          "name": "stdout"
        },
        {
          "output_type": "stream",
          "text": [
            "1700it [07:53,  3.60it/s]"
          ],
          "name": "stderr"
        },
        {
          "output_type": "stream",
          "text": [
            "Epoch: 7\tAvg-Loss: 0.8000\tAccuract: 0.8032\n"
          ],
          "name": "stdout"
        },
        {
          "output_type": "stream",
          "text": [
            "1800it [08:20,  3.59it/s]"
          ],
          "name": "stderr"
        },
        {
          "output_type": "stream",
          "text": [
            "Epoch: 7\tAvg-Loss: 0.8110\tAccuract: 0.8031\n"
          ],
          "name": "stdout"
        },
        {
          "output_type": "stream",
          "text": [
            "1900it [08:48,  3.60it/s]"
          ],
          "name": "stderr"
        },
        {
          "output_type": "stream",
          "text": [
            "Epoch: 7\tAvg-Loss: 0.8316\tAccuract: 0.8027\n"
          ],
          "name": "stdout"
        },
        {
          "output_type": "stream",
          "text": [
            "2000it [09:16,  3.60it/s]"
          ],
          "name": "stderr"
        },
        {
          "output_type": "stream",
          "text": [
            "Epoch: 7\tAvg-Loss: 0.8294\tAccuract: 0.8023\n"
          ],
          "name": "stdout"
        },
        {
          "output_type": "stream",
          "text": [
            "2100it [09:44,  3.60it/s]"
          ],
          "name": "stderr"
        },
        {
          "output_type": "stream",
          "text": [
            "Epoch: 7\tAvg-Loss: 0.8450\tAccuract: 0.8018\n"
          ],
          "name": "stdout"
        },
        {
          "output_type": "stream",
          "text": [
            "2200it [10:12,  3.60it/s]"
          ],
          "name": "stderr"
        },
        {
          "output_type": "stream",
          "text": [
            "Epoch: 7\tAvg-Loss: 0.8402\tAccuract: 0.8016\n"
          ],
          "name": "stdout"
        },
        {
          "output_type": "stream",
          "text": [
            "2300it [10:39,  3.60it/s]"
          ],
          "name": "stderr"
        },
        {
          "output_type": "stream",
          "text": [
            "Epoch: 7\tAvg-Loss: 0.8570\tAccuract: 0.8012\n"
          ],
          "name": "stdout"
        },
        {
          "output_type": "stream",
          "text": [
            "2400it [11:07,  3.59it/s]"
          ],
          "name": "stderr"
        },
        {
          "output_type": "stream",
          "text": [
            "Epoch: 7\tAvg-Loss: 0.8514\tAccuract: 0.8009\n"
          ],
          "name": "stdout"
        },
        {
          "output_type": "stream",
          "text": [
            "2500it [11:35,  3.59it/s]"
          ],
          "name": "stderr"
        },
        {
          "output_type": "stream",
          "text": [
            "Epoch: 7\tAvg-Loss: 0.8389\tAccuract: 0.8007\n"
          ],
          "name": "stdout"
        },
        {
          "output_type": "stream",
          "text": [
            "2600it [12:03,  3.60it/s]"
          ],
          "name": "stderr"
        },
        {
          "output_type": "stream",
          "text": [
            "Epoch: 7\tAvg-Loss: 0.8493\tAccuract: 0.8004\n"
          ],
          "name": "stdout"
        },
        {
          "output_type": "stream",
          "text": [
            "2700it [12:31,  3.59it/s]"
          ],
          "name": "stderr"
        },
        {
          "output_type": "stream",
          "text": [
            "Epoch: 7\tAvg-Loss: 0.8584\tAccuract: 0.8000\n"
          ],
          "name": "stdout"
        },
        {
          "output_type": "stream",
          "text": [
            "2800it [12:58,  3.60it/s]"
          ],
          "name": "stderr"
        },
        {
          "output_type": "stream",
          "text": [
            "Epoch: 7\tAvg-Loss: 0.8489\tAccuract: 0.7999\n"
          ],
          "name": "stdout"
        },
        {
          "output_type": "stream",
          "text": [
            "2900it [13:26,  3.59it/s]"
          ],
          "name": "stderr"
        },
        {
          "output_type": "stream",
          "text": [
            "Epoch: 7\tAvg-Loss: 0.8389\tAccuract: 0.7997\n"
          ],
          "name": "stdout"
        },
        {
          "output_type": "stream",
          "text": [
            "2974it [13:47,  3.59it/s]\n",
            "63it [00:12,  5.15it/s]\n"
          ],
          "name": "stderr"
        },
        {
          "output_type": "stream",
          "text": [
            "Epoch: 6, Validation Accuracy: 0.80\n",
            "Epoch: 6, Validation loss: 1.05\n",
            "Epoch 6, lr 0.01\n",
            "val accuracy [0.7805, 0.790875, 0.794125, 0.78925, 0.8, 0.797, 0.8015]\n"
          ],
          "name": "stdout"
        },
        {
          "output_type": "stream",
          "text": [
            "100it [00:28,  3.59it/s]"
          ],
          "name": "stderr"
        },
        {
          "output_type": "stream",
          "text": [
            "Epoch: 8\tAvg-Loss: 0.7717\tAccuract: 0.8097\n"
          ],
          "name": "stdout"
        },
        {
          "output_type": "stream",
          "text": [
            "200it [00:55,  3.59it/s]"
          ],
          "name": "stderr"
        },
        {
          "output_type": "stream",
          "text": [
            "Epoch: 8\tAvg-Loss: 0.7839\tAccuract: 0.8077\n"
          ],
          "name": "stdout"
        },
        {
          "output_type": "stream",
          "text": [
            "300it [01:23,  3.60it/s]"
          ],
          "name": "stderr"
        },
        {
          "output_type": "stream",
          "text": [
            "Epoch: 8\tAvg-Loss: 0.7689\tAccuract: 0.8077\n"
          ],
          "name": "stdout"
        },
        {
          "output_type": "stream",
          "text": [
            "400it [01:51,  3.60it/s]"
          ],
          "name": "stderr"
        },
        {
          "output_type": "stream",
          "text": [
            "Epoch: 8\tAvg-Loss: 0.7951\tAccuract: 0.8076\n"
          ],
          "name": "stdout"
        },
        {
          "output_type": "stream",
          "text": [
            "500it [02:19,  3.59it/s]"
          ],
          "name": "stderr"
        },
        {
          "output_type": "stream",
          "text": [
            "Epoch: 8\tAvg-Loss: 0.7842\tAccuract: 0.8084\n"
          ],
          "name": "stdout"
        },
        {
          "output_type": "stream",
          "text": [
            "600it [02:47,  3.60it/s]"
          ],
          "name": "stderr"
        },
        {
          "output_type": "stream",
          "text": [
            "Epoch: 8\tAvg-Loss: 0.7775\tAccuract: 0.8079\n"
          ],
          "name": "stdout"
        },
        {
          "output_type": "stream",
          "text": [
            "700it [03:14,  3.60it/s]"
          ],
          "name": "stderr"
        },
        {
          "output_type": "stream",
          "text": [
            "Epoch: 8\tAvg-Loss: 0.7935\tAccuract: 0.8070\n"
          ],
          "name": "stdout"
        },
        {
          "output_type": "stream",
          "text": [
            "800it [03:42,  3.59it/s]"
          ],
          "name": "stderr"
        },
        {
          "output_type": "stream",
          "text": [
            "Epoch: 8\tAvg-Loss: 0.8130\tAccuract: 0.8067\n"
          ],
          "name": "stdout"
        },
        {
          "output_type": "stream",
          "text": [
            "900it [04:10,  3.60it/s]"
          ],
          "name": "stderr"
        },
        {
          "output_type": "stream",
          "text": [
            "Epoch: 8\tAvg-Loss: 0.8096\tAccuract: 0.8062\n"
          ],
          "name": "stdout"
        },
        {
          "output_type": "stream",
          "text": [
            "1000it [04:38,  3.60it/s]"
          ],
          "name": "stderr"
        },
        {
          "output_type": "stream",
          "text": [
            "Epoch: 8\tAvg-Loss: 0.8232\tAccuract: 0.8055\n"
          ],
          "name": "stdout"
        },
        {
          "output_type": "stream",
          "text": [
            "1100it [05:06,  3.60it/s]"
          ],
          "name": "stderr"
        },
        {
          "output_type": "stream",
          "text": [
            "Epoch: 8\tAvg-Loss: 0.7961\tAccuract: 0.8055\n"
          ],
          "name": "stdout"
        },
        {
          "output_type": "stream",
          "text": [
            "1200it [05:34,  3.59it/s]"
          ],
          "name": "stderr"
        },
        {
          "output_type": "stream",
          "text": [
            "Epoch: 8\tAvg-Loss: 0.8032\tAccuract: 0.8054\n"
          ],
          "name": "stdout"
        },
        {
          "output_type": "stream",
          "text": [
            "1300it [06:01,  3.59it/s]"
          ],
          "name": "stderr"
        },
        {
          "output_type": "stream",
          "text": [
            "Epoch: 8\tAvg-Loss: 0.8034\tAccuract: 0.8050\n"
          ],
          "name": "stdout"
        },
        {
          "output_type": "stream",
          "text": [
            "1400it [06:29,  3.59it/s]"
          ],
          "name": "stderr"
        },
        {
          "output_type": "stream",
          "text": [
            "Epoch: 8\tAvg-Loss: 0.8321\tAccuract: 0.8044\n"
          ],
          "name": "stdout"
        },
        {
          "output_type": "stream",
          "text": [
            "1500it [06:57,  3.59it/s]"
          ],
          "name": "stderr"
        },
        {
          "output_type": "stream",
          "text": [
            "Epoch: 8\tAvg-Loss: 0.8166\tAccuract: 0.8040\n"
          ],
          "name": "stdout"
        },
        {
          "output_type": "stream",
          "text": [
            "1600it [07:25,  3.60it/s]"
          ],
          "name": "stderr"
        },
        {
          "output_type": "stream",
          "text": [
            "Epoch: 8\tAvg-Loss: 0.8164\tAccuract: 0.8037\n"
          ],
          "name": "stdout"
        },
        {
          "output_type": "stream",
          "text": [
            "1700it [07:53,  3.59it/s]"
          ],
          "name": "stderr"
        },
        {
          "output_type": "stream",
          "text": [
            "Epoch: 8\tAvg-Loss: 0.7981\tAccuract: 0.8038\n"
          ],
          "name": "stdout"
        },
        {
          "output_type": "stream",
          "text": [
            "1800it [08:20,  3.58it/s]"
          ],
          "name": "stderr"
        },
        {
          "output_type": "stream",
          "text": [
            "Epoch: 8\tAvg-Loss: 0.8372\tAccuract: 0.8035\n"
          ],
          "name": "stdout"
        },
        {
          "output_type": "stream",
          "text": [
            "1900it [08:48,  3.58it/s]"
          ],
          "name": "stderr"
        },
        {
          "output_type": "stream",
          "text": [
            "Epoch: 8\tAvg-Loss: 0.8144\tAccuract: 0.8033\n"
          ],
          "name": "stdout"
        },
        {
          "output_type": "stream",
          "text": [
            "2000it [09:16,  3.60it/s]"
          ],
          "name": "stderr"
        },
        {
          "output_type": "stream",
          "text": [
            "Epoch: 8\tAvg-Loss: 0.8215\tAccuract: 0.8031\n"
          ],
          "name": "stdout"
        },
        {
          "output_type": "stream",
          "text": [
            "2100it [09:44,  3.60it/s]"
          ],
          "name": "stderr"
        },
        {
          "output_type": "stream",
          "text": [
            "Epoch: 8\tAvg-Loss: 0.8160\tAccuract: 0.8031\n"
          ],
          "name": "stdout"
        },
        {
          "output_type": "stream",
          "text": [
            "2200it [10:12,  3.60it/s]"
          ],
          "name": "stderr"
        },
        {
          "output_type": "stream",
          "text": [
            "Epoch: 8\tAvg-Loss: 0.8282\tAccuract: 0.8030\n"
          ],
          "name": "stdout"
        },
        {
          "output_type": "stream",
          "text": [
            "2300it [10:40,  3.60it/s]"
          ],
          "name": "stderr"
        },
        {
          "output_type": "stream",
          "text": [
            "Epoch: 8\tAvg-Loss: 0.8273\tAccuract: 0.8028\n"
          ],
          "name": "stdout"
        },
        {
          "output_type": "stream",
          "text": [
            "2400it [11:07,  3.59it/s]"
          ],
          "name": "stderr"
        },
        {
          "output_type": "stream",
          "text": [
            "Epoch: 8\tAvg-Loss: 0.8256\tAccuract: 0.8026\n"
          ],
          "name": "stdout"
        },
        {
          "output_type": "stream",
          "text": [
            "2500it [11:35,  3.59it/s]"
          ],
          "name": "stderr"
        },
        {
          "output_type": "stream",
          "text": [
            "Epoch: 8\tAvg-Loss: 0.8250\tAccuract: 0.8025\n"
          ],
          "name": "stdout"
        },
        {
          "output_type": "stream",
          "text": [
            "2600it [12:03,  3.60it/s]"
          ],
          "name": "stderr"
        },
        {
          "output_type": "stream",
          "text": [
            "Epoch: 8\tAvg-Loss: 0.8368\tAccuract: 0.8023\n"
          ],
          "name": "stdout"
        },
        {
          "output_type": "stream",
          "text": [
            "2700it [12:31,  3.60it/s]"
          ],
          "name": "stderr"
        },
        {
          "output_type": "stream",
          "text": [
            "Epoch: 8\tAvg-Loss: 0.8130\tAccuract: 0.8023\n"
          ],
          "name": "stdout"
        },
        {
          "output_type": "stream",
          "text": [
            "2800it [12:59,  3.59it/s]"
          ],
          "name": "stderr"
        },
        {
          "output_type": "stream",
          "text": [
            "Epoch: 8\tAvg-Loss: 0.8254\tAccuract: 0.8022\n"
          ],
          "name": "stdout"
        },
        {
          "output_type": "stream",
          "text": [
            "2900it [13:26,  3.59it/s]"
          ],
          "name": "stderr"
        },
        {
          "output_type": "stream",
          "text": [
            "Epoch: 8\tAvg-Loss: 0.8539\tAccuract: 0.8020\n"
          ],
          "name": "stdout"
        },
        {
          "output_type": "stream",
          "text": [
            "2974it [13:47,  3.59it/s]\n",
            "63it [00:12,  5.12it/s]"
          ],
          "name": "stderr"
        },
        {
          "output_type": "stream",
          "text": [
            "Epoch: 7, Validation Accuracy: 0.80\n",
            "Epoch: 7, Validation loss: 1.07\n",
            "Epoch 7, lr 0.01\n"
          ],
          "name": "stdout"
        },
        {
          "output_type": "stream",
          "text": [
            "\n",
            "100it [00:28,  3.59it/s]"
          ],
          "name": "stderr"
        },
        {
          "output_type": "stream",
          "text": [
            "Epoch: 9\tAvg-Loss: 0.7621\tAccuract: 0.8096\n"
          ],
          "name": "stdout"
        },
        {
          "output_type": "stream",
          "text": [
            "200it [00:55,  3.60it/s]"
          ],
          "name": "stderr"
        },
        {
          "output_type": "stream",
          "text": [
            "Epoch: 9\tAvg-Loss: 0.7557\tAccuract: 0.8129\n"
          ],
          "name": "stdout"
        },
        {
          "output_type": "stream",
          "text": [
            "300it [01:23,  3.59it/s]"
          ],
          "name": "stderr"
        },
        {
          "output_type": "stream",
          "text": [
            "Epoch: 9\tAvg-Loss: 0.7703\tAccuract: 0.8122\n"
          ],
          "name": "stdout"
        },
        {
          "output_type": "stream",
          "text": [
            "400it [01:51,  3.58it/s]"
          ],
          "name": "stderr"
        },
        {
          "output_type": "stream",
          "text": [
            "Epoch: 9\tAvg-Loss: 0.7575\tAccuract: 0.8126\n"
          ],
          "name": "stdout"
        },
        {
          "output_type": "stream",
          "text": [
            "500it [02:19,  3.59it/s]"
          ],
          "name": "stderr"
        },
        {
          "output_type": "stream",
          "text": [
            "Epoch: 9\tAvg-Loss: 0.7994\tAccuract: 0.8112\n"
          ],
          "name": "stdout"
        },
        {
          "output_type": "stream",
          "text": [
            "600it [02:47,  3.60it/s]"
          ],
          "name": "stderr"
        },
        {
          "output_type": "stream",
          "text": [
            "Epoch: 9\tAvg-Loss: 0.7723\tAccuract: 0.8105\n"
          ],
          "name": "stdout"
        },
        {
          "output_type": "stream",
          "text": [
            "700it [03:15,  3.60it/s]"
          ],
          "name": "stderr"
        },
        {
          "output_type": "stream",
          "text": [
            "Epoch: 9\tAvg-Loss: 0.7679\tAccuract: 0.8104\n"
          ],
          "name": "stdout"
        },
        {
          "output_type": "stream",
          "text": [
            "800it [03:42,  3.59it/s]"
          ],
          "name": "stderr"
        },
        {
          "output_type": "stream",
          "text": [
            "Epoch: 9\tAvg-Loss: 0.7797\tAccuract: 0.8098\n"
          ],
          "name": "stdout"
        },
        {
          "output_type": "stream",
          "text": [
            "900it [04:10,  3.60it/s]"
          ],
          "name": "stderr"
        },
        {
          "output_type": "stream",
          "text": [
            "Epoch: 9\tAvg-Loss: 0.7732\tAccuract: 0.8102\n"
          ],
          "name": "stdout"
        },
        {
          "output_type": "stream",
          "text": [
            "1000it [04:38,  3.60it/s]"
          ],
          "name": "stderr"
        },
        {
          "output_type": "stream",
          "text": [
            "Epoch: 9\tAvg-Loss: 0.7725\tAccuract: 0.8100\n"
          ],
          "name": "stdout"
        },
        {
          "output_type": "stream",
          "text": [
            "1100it [05:06,  3.59it/s]"
          ],
          "name": "stderr"
        },
        {
          "output_type": "stream",
          "text": [
            "Epoch: 9\tAvg-Loss: 0.7990\tAccuract: 0.8097\n"
          ],
          "name": "stdout"
        },
        {
          "output_type": "stream",
          "text": [
            "1200it [05:34,  3.59it/s]"
          ],
          "name": "stderr"
        },
        {
          "output_type": "stream",
          "text": [
            "Epoch: 9\tAvg-Loss: 0.7938\tAccuract: 0.8094\n"
          ],
          "name": "stdout"
        },
        {
          "output_type": "stream",
          "text": [
            "1300it [06:01,  3.59it/s]"
          ],
          "name": "stderr"
        },
        {
          "output_type": "stream",
          "text": [
            "Epoch: 9\tAvg-Loss: 0.7745\tAccuract: 0.8093\n"
          ],
          "name": "stdout"
        },
        {
          "output_type": "stream",
          "text": [
            "1400it [06:29,  3.60it/s]"
          ],
          "name": "stderr"
        },
        {
          "output_type": "stream",
          "text": [
            "Epoch: 9\tAvg-Loss: 0.8067\tAccuract: 0.8090\n"
          ],
          "name": "stdout"
        },
        {
          "output_type": "stream",
          "text": [
            "1500it [06:57,  3.59it/s]"
          ],
          "name": "stderr"
        },
        {
          "output_type": "stream",
          "text": [
            "Epoch: 9\tAvg-Loss: 0.7806\tAccuract: 0.8091\n"
          ],
          "name": "stdout"
        },
        {
          "output_type": "stream",
          "text": [
            "1600it [07:25,  3.59it/s]"
          ],
          "name": "stderr"
        },
        {
          "output_type": "stream",
          "text": [
            "Epoch: 9\tAvg-Loss: 0.8070\tAccuract: 0.8087\n"
          ],
          "name": "stdout"
        },
        {
          "output_type": "stream",
          "text": [
            "1700it [07:53,  3.59it/s]"
          ],
          "name": "stderr"
        },
        {
          "output_type": "stream",
          "text": [
            "Epoch: 9\tAvg-Loss: 0.8004\tAccuract: 0.8084\n"
          ],
          "name": "stdout"
        },
        {
          "output_type": "stream",
          "text": [
            "1800it [08:21,  3.58it/s]"
          ],
          "name": "stderr"
        },
        {
          "output_type": "stream",
          "text": [
            "Epoch: 9\tAvg-Loss: 0.8017\tAccuract: 0.8081\n"
          ],
          "name": "stdout"
        },
        {
          "output_type": "stream",
          "text": [
            "1900it [08:49,  3.59it/s]"
          ],
          "name": "stderr"
        },
        {
          "output_type": "stream",
          "text": [
            "Epoch: 9\tAvg-Loss: 0.8107\tAccuract: 0.8076\n"
          ],
          "name": "stdout"
        },
        {
          "output_type": "stream",
          "text": [
            "2000it [09:16,  3.59it/s]"
          ],
          "name": "stderr"
        },
        {
          "output_type": "stream",
          "text": [
            "Epoch: 9\tAvg-Loss: 0.8017\tAccuract: 0.8074\n"
          ],
          "name": "stdout"
        },
        {
          "output_type": "stream",
          "text": [
            "2100it [09:44,  3.60it/s]"
          ],
          "name": "stderr"
        },
        {
          "output_type": "stream",
          "text": [
            "Epoch: 9\tAvg-Loss: 0.8161\tAccuract: 0.8070\n"
          ],
          "name": "stdout"
        },
        {
          "output_type": "stream",
          "text": [
            "2200it [10:12,  3.60it/s]"
          ],
          "name": "stderr"
        },
        {
          "output_type": "stream",
          "text": [
            "Epoch: 9\tAvg-Loss: 0.8182\tAccuract: 0.8068\n"
          ],
          "name": "stdout"
        },
        {
          "output_type": "stream",
          "text": [
            "2300it [10:40,  3.60it/s]"
          ],
          "name": "stderr"
        },
        {
          "output_type": "stream",
          "text": [
            "Epoch: 9\tAvg-Loss: 0.8203\tAccuract: 0.8066\n"
          ],
          "name": "stdout"
        },
        {
          "output_type": "stream",
          "text": [
            "2400it [11:08,  3.59it/s]"
          ],
          "name": "stderr"
        },
        {
          "output_type": "stream",
          "text": [
            "Epoch: 9\tAvg-Loss: 0.8017\tAccuract: 0.8064\n"
          ],
          "name": "stdout"
        },
        {
          "output_type": "stream",
          "text": [
            "2500it [11:36,  3.60it/s]"
          ],
          "name": "stderr"
        },
        {
          "output_type": "stream",
          "text": [
            "Epoch: 9\tAvg-Loss: 0.8130\tAccuract: 0.8061\n"
          ],
          "name": "stdout"
        },
        {
          "output_type": "stream",
          "text": [
            "2600it [12:04,  3.59it/s]"
          ],
          "name": "stderr"
        },
        {
          "output_type": "stream",
          "text": [
            "Epoch: 9\tAvg-Loss: 0.8282\tAccuract: 0.8059\n"
          ],
          "name": "stdout"
        },
        {
          "output_type": "stream",
          "text": [
            "2700it [12:31,  3.59it/s]"
          ],
          "name": "stderr"
        },
        {
          "output_type": "stream",
          "text": [
            "Epoch: 9\tAvg-Loss: 0.8223\tAccuract: 0.8055\n"
          ],
          "name": "stdout"
        },
        {
          "output_type": "stream",
          "text": [
            "2800it [12:59,  3.59it/s]"
          ],
          "name": "stderr"
        },
        {
          "output_type": "stream",
          "text": [
            "Epoch: 9\tAvg-Loss: 0.8025\tAccuract: 0.8055\n"
          ],
          "name": "stdout"
        },
        {
          "output_type": "stream",
          "text": [
            "2900it [13:27,  3.59it/s]"
          ],
          "name": "stderr"
        },
        {
          "output_type": "stream",
          "text": [
            "Epoch: 9\tAvg-Loss: 0.8283\tAccuract: 0.8053\n"
          ],
          "name": "stdout"
        },
        {
          "output_type": "stream",
          "text": [
            "2974it [13:48,  3.59it/s]\n",
            "63it [00:12,  5.18it/s]\n"
          ],
          "name": "stderr"
        },
        {
          "output_type": "stream",
          "text": [
            "Epoch: 8, Validation Accuracy: 0.80\n",
            "Epoch: 8, Validation loss: 1.05\n",
            "Epoch 8, lr 0.01\n",
            "val accuracy [0.7805, 0.790875, 0.794125, 0.78925, 0.8, 0.797, 0.8015, 0.79725, 0.804]\n"
          ],
          "name": "stdout"
        },
        {
          "output_type": "stream",
          "text": [
            "100it [00:28,  3.60it/s]"
          ],
          "name": "stderr"
        },
        {
          "output_type": "stream",
          "text": [
            "Epoch: 10\tAvg-Loss: 0.7356\tAccuract: 0.8210\n"
          ],
          "name": "stdout"
        },
        {
          "output_type": "stream",
          "text": [
            "200it [00:56,  3.59it/s]"
          ],
          "name": "stderr"
        },
        {
          "output_type": "stream",
          "text": [
            "Epoch: 10\tAvg-Loss: 0.7445\tAccuract: 0.8183\n"
          ],
          "name": "stdout"
        },
        {
          "output_type": "stream",
          "text": [
            "300it [01:23,  3.60it/s]"
          ],
          "name": "stderr"
        },
        {
          "output_type": "stream",
          "text": [
            "Epoch: 10\tAvg-Loss: 0.7622\tAccuract: 0.8161\n"
          ],
          "name": "stdout"
        },
        {
          "output_type": "stream",
          "text": [
            "400it [01:51,  3.60it/s]"
          ],
          "name": "stderr"
        },
        {
          "output_type": "stream",
          "text": [
            "Epoch: 10\tAvg-Loss: 0.7560\tAccuract: 0.8148\n"
          ],
          "name": "stdout"
        },
        {
          "output_type": "stream",
          "text": [
            "500it [02:19,  3.59it/s]"
          ],
          "name": "stderr"
        },
        {
          "output_type": "stream",
          "text": [
            "Epoch: 10\tAvg-Loss: 0.7692\tAccuract: 0.8137\n"
          ],
          "name": "stdout"
        },
        {
          "output_type": "stream",
          "text": [
            "600it [02:47,  3.59it/s]"
          ],
          "name": "stderr"
        },
        {
          "output_type": "stream",
          "text": [
            "Epoch: 10\tAvg-Loss: 0.7495\tAccuract: 0.8143\n"
          ],
          "name": "stdout"
        },
        {
          "output_type": "stream",
          "text": [
            "700it [03:15,  3.59it/s]"
          ],
          "name": "stderr"
        },
        {
          "output_type": "stream",
          "text": [
            "Epoch: 10\tAvg-Loss: 0.7334\tAccuract: 0.8149\n"
          ],
          "name": "stdout"
        },
        {
          "output_type": "stream",
          "text": [
            "800it [03:43,  3.59it/s]"
          ],
          "name": "stderr"
        },
        {
          "output_type": "stream",
          "text": [
            "Epoch: 10\tAvg-Loss: 0.7860\tAccuract: 0.8140\n"
          ],
          "name": "stdout"
        },
        {
          "output_type": "stream",
          "text": [
            "900it [04:10,  3.59it/s]"
          ],
          "name": "stderr"
        },
        {
          "output_type": "stream",
          "text": [
            "Epoch: 10\tAvg-Loss: 0.7887\tAccuract: 0.8130\n"
          ],
          "name": "stdout"
        },
        {
          "output_type": "stream",
          "text": [
            "1000it [04:38,  3.60it/s]"
          ],
          "name": "stderr"
        },
        {
          "output_type": "stream",
          "text": [
            "Epoch: 10\tAvg-Loss: 0.7718\tAccuract: 0.8127\n"
          ],
          "name": "stdout"
        },
        {
          "output_type": "stream",
          "text": [
            "1100it [05:06,  3.60it/s]"
          ],
          "name": "stderr"
        },
        {
          "output_type": "stream",
          "text": [
            "Epoch: 10\tAvg-Loss: 0.7598\tAccuract: 0.8128\n"
          ],
          "name": "stdout"
        },
        {
          "output_type": "stream",
          "text": [
            "1200it [05:34,  3.59it/s]"
          ],
          "name": "stderr"
        },
        {
          "output_type": "stream",
          "text": [
            "Epoch: 10\tAvg-Loss: 0.7996\tAccuract: 0.8118\n"
          ],
          "name": "stdout"
        },
        {
          "output_type": "stream",
          "text": [
            "1300it [06:02,  3.60it/s]"
          ],
          "name": "stderr"
        },
        {
          "output_type": "stream",
          "text": [
            "Epoch: 10\tAvg-Loss: 0.7703\tAccuract: 0.8117\n"
          ],
          "name": "stdout"
        },
        {
          "output_type": "stream",
          "text": [
            "1400it [06:30,  3.58it/s]"
          ],
          "name": "stderr"
        },
        {
          "output_type": "stream",
          "text": [
            "Epoch: 10\tAvg-Loss: 0.8074\tAccuract: 0.8110\n"
          ],
          "name": "stdout"
        },
        {
          "output_type": "stream",
          "text": [
            "1500it [06:58,  3.59it/s]"
          ],
          "name": "stderr"
        },
        {
          "output_type": "stream",
          "text": [
            "Epoch: 10\tAvg-Loss: 0.7864\tAccuract: 0.8108\n"
          ],
          "name": "stdout"
        },
        {
          "output_type": "stream",
          "text": [
            "1600it [07:25,  3.60it/s]"
          ],
          "name": "stderr"
        },
        {
          "output_type": "stream",
          "text": [
            "Epoch: 10\tAvg-Loss: 0.7959\tAccuract: 0.8103\n"
          ],
          "name": "stdout"
        },
        {
          "output_type": "stream",
          "text": [
            "1700it [07:53,  3.59it/s]"
          ],
          "name": "stderr"
        },
        {
          "output_type": "stream",
          "text": [
            "Epoch: 10\tAvg-Loss: 0.8131\tAccuract: 0.8097\n"
          ],
          "name": "stdout"
        },
        {
          "output_type": "stream",
          "text": [
            "1800it [08:21,  3.60it/s]"
          ],
          "name": "stderr"
        },
        {
          "output_type": "stream",
          "text": [
            "Epoch: 10\tAvg-Loss: 0.7778\tAccuract: 0.8096\n"
          ],
          "name": "stdout"
        },
        {
          "output_type": "stream",
          "text": [
            "1900it [08:49,  3.59it/s]"
          ],
          "name": "stderr"
        },
        {
          "output_type": "stream",
          "text": [
            "Epoch: 10\tAvg-Loss: 0.7903\tAccuract: 0.8094\n"
          ],
          "name": "stdout"
        },
        {
          "output_type": "stream",
          "text": [
            "2000it [09:17,  3.59it/s]"
          ],
          "name": "stderr"
        },
        {
          "output_type": "stream",
          "text": [
            "Epoch: 10\tAvg-Loss: 0.7820\tAccuract: 0.8094\n"
          ],
          "name": "stdout"
        },
        {
          "output_type": "stream",
          "text": [
            "2100it [09:45,  3.59it/s]"
          ],
          "name": "stderr"
        },
        {
          "output_type": "stream",
          "text": [
            "Epoch: 10\tAvg-Loss: 0.8044\tAccuract: 0.8090\n"
          ],
          "name": "stdout"
        },
        {
          "output_type": "stream",
          "text": [
            "2200it [10:12,  3.60it/s]"
          ],
          "name": "stderr"
        },
        {
          "output_type": "stream",
          "text": [
            "Epoch: 10\tAvg-Loss: 0.7925\tAccuract: 0.8089\n"
          ],
          "name": "stdout"
        },
        {
          "output_type": "stream",
          "text": [
            "2300it [10:40,  3.58it/s]"
          ],
          "name": "stderr"
        },
        {
          "output_type": "stream",
          "text": [
            "Epoch: 10\tAvg-Loss: 0.8066\tAccuract: 0.8085\n"
          ],
          "name": "stdout"
        },
        {
          "output_type": "stream",
          "text": [
            "2400it [11:08,  3.59it/s]"
          ],
          "name": "stderr"
        },
        {
          "output_type": "stream",
          "text": [
            "Epoch: 10\tAvg-Loss: 0.7999\tAccuract: 0.8082\n"
          ],
          "name": "stdout"
        },
        {
          "output_type": "stream",
          "text": [
            "2500it [11:36,  3.60it/s]"
          ],
          "name": "stderr"
        },
        {
          "output_type": "stream",
          "text": [
            "Epoch: 10\tAvg-Loss: 0.7963\tAccuract: 0.8081\n"
          ],
          "name": "stdout"
        },
        {
          "output_type": "stream",
          "text": [
            "2600it [12:04,  3.59it/s]"
          ],
          "name": "stderr"
        },
        {
          "output_type": "stream",
          "text": [
            "Epoch: 10\tAvg-Loss: 0.8304\tAccuract: 0.8076\n"
          ],
          "name": "stdout"
        },
        {
          "output_type": "stream",
          "text": [
            "2700it [12:32,  3.59it/s]"
          ],
          "name": "stderr"
        },
        {
          "output_type": "stream",
          "text": [
            "Epoch: 10\tAvg-Loss: 0.8066\tAccuract: 0.8074\n"
          ],
          "name": "stdout"
        },
        {
          "output_type": "stream",
          "text": [
            "2800it [12:59,  3.60it/s]"
          ],
          "name": "stderr"
        },
        {
          "output_type": "stream",
          "text": [
            "Epoch: 10\tAvg-Loss: 0.8099\tAccuract: 0.8072\n"
          ],
          "name": "stdout"
        },
        {
          "output_type": "stream",
          "text": [
            "2900it [13:27,  3.59it/s]"
          ],
          "name": "stderr"
        },
        {
          "output_type": "stream",
          "text": [
            "Epoch: 10\tAvg-Loss: 0.8335\tAccuract: 0.8069\n"
          ],
          "name": "stdout"
        },
        {
          "output_type": "stream",
          "text": [
            "2974it [13:48,  3.59it/s]\n",
            "63it [00:12,  5.14it/s]\n"
          ],
          "name": "stderr"
        },
        {
          "output_type": "stream",
          "text": [
            "Epoch: 9, Validation Accuracy: 0.81\n",
            "Epoch: 9, Validation loss: 1.03\n",
            "Epoch 9, lr 0.01\n",
            "val accuracy [0.7805, 0.790875, 0.794125, 0.78925, 0.8, 0.797, 0.8015, 0.79725, 0.804, 0.805375]\n"
          ],
          "name": "stdout"
        },
        {
          "output_type": "stream",
          "text": [
            "100it [00:28,  3.59it/s]"
          ],
          "name": "stderr"
        },
        {
          "output_type": "stream",
          "text": [
            "Epoch: 11\tAvg-Loss: 0.7264\tAccuract: 0.8218\n"
          ],
          "name": "stdout"
        },
        {
          "output_type": "stream",
          "text": [
            "200it [00:56,  3.58it/s]"
          ],
          "name": "stderr"
        },
        {
          "output_type": "stream",
          "text": [
            "Epoch: 11\tAvg-Loss: 0.7223\tAccuract: 0.8207\n"
          ],
          "name": "stdout"
        },
        {
          "output_type": "stream",
          "text": [
            "300it [01:23,  3.57it/s]"
          ],
          "name": "stderr"
        },
        {
          "output_type": "stream",
          "text": [
            "Epoch: 11\tAvg-Loss: 0.7649\tAccuract: 0.8187\n"
          ],
          "name": "stdout"
        },
        {
          "output_type": "stream",
          "text": [
            "400it [01:51,  3.60it/s]"
          ],
          "name": "stderr"
        },
        {
          "output_type": "stream",
          "text": [
            "Epoch: 11\tAvg-Loss: 0.7444\tAccuract: 0.8183\n"
          ],
          "name": "stdout"
        },
        {
          "output_type": "stream",
          "text": [
            "500it [02:19,  3.59it/s]"
          ],
          "name": "stderr"
        },
        {
          "output_type": "stream",
          "text": [
            "Epoch: 11\tAvg-Loss: 0.7471\tAccuract: 0.8174\n"
          ],
          "name": "stdout"
        },
        {
          "output_type": "stream",
          "text": [
            "600it [02:47,  3.60it/s]"
          ],
          "name": "stderr"
        },
        {
          "output_type": "stream",
          "text": [
            "Epoch: 11\tAvg-Loss: 0.7426\tAccuract: 0.8177\n"
          ],
          "name": "stdout"
        },
        {
          "output_type": "stream",
          "text": [
            "700it [03:15,  3.59it/s]"
          ],
          "name": "stderr"
        },
        {
          "output_type": "stream",
          "text": [
            "Epoch: 11\tAvg-Loss: 0.7509\tAccuract: 0.8170\n"
          ],
          "name": "stdout"
        },
        {
          "output_type": "stream",
          "text": [
            "800it [03:43,  3.59it/s]"
          ],
          "name": "stderr"
        },
        {
          "output_type": "stream",
          "text": [
            "Epoch: 11\tAvg-Loss: 0.7517\tAccuract: 0.8168\n"
          ],
          "name": "stdout"
        },
        {
          "output_type": "stream",
          "text": [
            "900it [04:11,  3.60it/s]"
          ],
          "name": "stderr"
        },
        {
          "output_type": "stream",
          "text": [
            "Epoch: 11\tAvg-Loss: 0.7489\tAccuract: 0.8166\n"
          ],
          "name": "stdout"
        },
        {
          "output_type": "stream",
          "text": [
            "1000it [04:38,  3.60it/s]"
          ],
          "name": "stderr"
        },
        {
          "output_type": "stream",
          "text": [
            "Epoch: 11\tAvg-Loss: 0.7648\tAccuract: 0.8162\n"
          ],
          "name": "stdout"
        },
        {
          "output_type": "stream",
          "text": [
            "1100it [05:06,  3.61it/s]"
          ],
          "name": "stderr"
        },
        {
          "output_type": "stream",
          "text": [
            "Epoch: 11\tAvg-Loss: 0.7594\tAccuract: 0.8159\n"
          ],
          "name": "stdout"
        },
        {
          "output_type": "stream",
          "text": [
            "1200it [05:34,  3.60it/s]"
          ],
          "name": "stderr"
        },
        {
          "output_type": "stream",
          "text": [
            "Epoch: 11\tAvg-Loss: 0.7860\tAccuract: 0.8151\n"
          ],
          "name": "stdout"
        },
        {
          "output_type": "stream",
          "text": [
            "1300it [06:02,  3.59it/s]"
          ],
          "name": "stderr"
        },
        {
          "output_type": "stream",
          "text": [
            "Epoch: 11\tAvg-Loss: 0.7674\tAccuract: 0.8147\n"
          ],
          "name": "stdout"
        },
        {
          "output_type": "stream",
          "text": [
            "1400it [06:30,  3.59it/s]"
          ],
          "name": "stderr"
        },
        {
          "output_type": "stream",
          "text": [
            "Epoch: 11\tAvg-Loss: 0.7803\tAccuract: 0.8142\n"
          ],
          "name": "stdout"
        },
        {
          "output_type": "stream",
          "text": [
            "1500it [06:58,  3.58it/s]"
          ],
          "name": "stderr"
        },
        {
          "output_type": "stream",
          "text": [
            "Epoch: 11\tAvg-Loss: 0.7649\tAccuract: 0.8140\n"
          ],
          "name": "stdout"
        },
        {
          "output_type": "stream",
          "text": [
            "1600it [07:25,  3.60it/s]"
          ],
          "name": "stderr"
        },
        {
          "output_type": "stream",
          "text": [
            "Epoch: 11\tAvg-Loss: 0.7693\tAccuract: 0.8137\n"
          ],
          "name": "stdout"
        },
        {
          "output_type": "stream",
          "text": [
            "1700it [07:53,  3.60it/s]"
          ],
          "name": "stderr"
        },
        {
          "output_type": "stream",
          "text": [
            "Epoch: 11\tAvg-Loss: 0.7708\tAccuract: 0.8135\n"
          ],
          "name": "stdout"
        },
        {
          "output_type": "stream",
          "text": [
            "1800it [08:21,  3.59it/s]"
          ],
          "name": "stderr"
        },
        {
          "output_type": "stream",
          "text": [
            "Epoch: 11\tAvg-Loss: 0.7881\tAccuract: 0.8129\n"
          ],
          "name": "stdout"
        },
        {
          "output_type": "stream",
          "text": [
            "1900it [08:49,  3.59it/s]"
          ],
          "name": "stderr"
        },
        {
          "output_type": "stream",
          "text": [
            "Epoch: 11\tAvg-Loss: 0.7990\tAccuract: 0.8126\n"
          ],
          "name": "stdout"
        },
        {
          "output_type": "stream",
          "text": [
            "2000it [09:17,  3.60it/s]"
          ],
          "name": "stderr"
        },
        {
          "output_type": "stream",
          "text": [
            "Epoch: 11\tAvg-Loss: 0.7892\tAccuract: 0.8124\n"
          ],
          "name": "stdout"
        },
        {
          "output_type": "stream",
          "text": [
            "2100it [09:45,  3.59it/s]"
          ],
          "name": "stderr"
        },
        {
          "output_type": "stream",
          "text": [
            "Epoch: 11\tAvg-Loss: 0.7859\tAccuract: 0.8121\n"
          ],
          "name": "stdout"
        },
        {
          "output_type": "stream",
          "text": [
            "2200it [10:12,  3.58it/s]"
          ],
          "name": "stderr"
        },
        {
          "output_type": "stream",
          "text": [
            "Epoch: 11\tAvg-Loss: 0.7833\tAccuract: 0.8119\n"
          ],
          "name": "stdout"
        },
        {
          "output_type": "stream",
          "text": [
            "2300it [10:40,  3.60it/s]"
          ],
          "name": "stderr"
        },
        {
          "output_type": "stream",
          "text": [
            "Epoch: 11\tAvg-Loss: 0.7861\tAccuract: 0.8118\n"
          ],
          "name": "stdout"
        },
        {
          "output_type": "stream",
          "text": [
            "2400it [11:08,  3.60it/s]"
          ],
          "name": "stderr"
        },
        {
          "output_type": "stream",
          "text": [
            "Epoch: 11\tAvg-Loss: 0.7711\tAccuract: 0.8118\n"
          ],
          "name": "stdout"
        },
        {
          "output_type": "stream",
          "text": [
            "2500it [11:36,  3.60it/s]"
          ],
          "name": "stderr"
        },
        {
          "output_type": "stream",
          "text": [
            "Epoch: 11\tAvg-Loss: 0.8159\tAccuract: 0.8113\n"
          ],
          "name": "stdout"
        },
        {
          "output_type": "stream",
          "text": [
            "2600it [12:04,  3.59it/s]"
          ],
          "name": "stderr"
        },
        {
          "output_type": "stream",
          "text": [
            "Epoch: 11\tAvg-Loss: 0.8002\tAccuract: 0.8111\n"
          ],
          "name": "stdout"
        },
        {
          "output_type": "stream",
          "text": [
            "2700it [12:32,  3.59it/s]"
          ],
          "name": "stderr"
        },
        {
          "output_type": "stream",
          "text": [
            "Epoch: 11\tAvg-Loss: 0.7976\tAccuract: 0.8108\n"
          ],
          "name": "stdout"
        },
        {
          "output_type": "stream",
          "text": [
            "2800it [13:00,  3.59it/s]"
          ],
          "name": "stderr"
        },
        {
          "output_type": "stream",
          "text": [
            "Epoch: 11\tAvg-Loss: 0.7820\tAccuract: 0.8106\n"
          ],
          "name": "stdout"
        },
        {
          "output_type": "stream",
          "text": [
            "2900it [13:27,  3.59it/s]"
          ],
          "name": "stderr"
        },
        {
          "output_type": "stream",
          "text": [
            "Epoch: 11\tAvg-Loss: 0.8090\tAccuract: 0.8102\n"
          ],
          "name": "stdout"
        },
        {
          "output_type": "stream",
          "text": [
            "2974it [13:48,  3.59it/s]\n",
            "63it [00:12,  5.14it/s]"
          ],
          "name": "stderr"
        },
        {
          "output_type": "stream",
          "text": [
            "Epoch: 10, Validation Accuracy: 0.80\n",
            "Epoch: 10, Validation loss: 1.04\n",
            "Epoch 10, lr 0.01\n"
          ],
          "name": "stdout"
        },
        {
          "output_type": "stream",
          "text": [
            "\n",
            "100it [00:28,  3.58it/s]"
          ],
          "name": "stderr"
        },
        {
          "output_type": "stream",
          "text": [
            "Epoch: 12\tAvg-Loss: 0.7247\tAccuract: 0.8204\n"
          ],
          "name": "stdout"
        },
        {
          "output_type": "stream",
          "text": [
            "200it [00:56,  3.60it/s]"
          ],
          "name": "stderr"
        },
        {
          "output_type": "stream",
          "text": [
            "Epoch: 12\tAvg-Loss: 0.7392\tAccuract: 0.8182\n"
          ],
          "name": "stdout"
        },
        {
          "output_type": "stream",
          "text": [
            "300it [01:23,  3.59it/s]"
          ],
          "name": "stderr"
        },
        {
          "output_type": "stream",
          "text": [
            "Epoch: 12\tAvg-Loss: 0.7269\tAccuract: 0.8189\n"
          ],
          "name": "stdout"
        },
        {
          "output_type": "stream",
          "text": [
            "400it [01:51,  3.58it/s]"
          ],
          "name": "stderr"
        },
        {
          "output_type": "stream",
          "text": [
            "Epoch: 12\tAvg-Loss: 0.7125\tAccuract: 0.8203\n"
          ],
          "name": "stdout"
        },
        {
          "output_type": "stream",
          "text": [
            "500it [02:19,  3.57it/s]"
          ],
          "name": "stderr"
        },
        {
          "output_type": "stream",
          "text": [
            "Epoch: 12\tAvg-Loss: 0.7341\tAccuract: 0.8198\n"
          ],
          "name": "stdout"
        },
        {
          "output_type": "stream",
          "text": [
            "600it [02:47,  3.58it/s]"
          ],
          "name": "stderr"
        },
        {
          "output_type": "stream",
          "text": [
            "Epoch: 12\tAvg-Loss: 0.7375\tAccuract: 0.8188\n"
          ],
          "name": "stdout"
        },
        {
          "output_type": "stream",
          "text": [
            "700it [03:15,  3.60it/s]"
          ],
          "name": "stderr"
        },
        {
          "output_type": "stream",
          "text": [
            "Epoch: 12\tAvg-Loss: 0.7395\tAccuract: 0.8187\n"
          ],
          "name": "stdout"
        },
        {
          "output_type": "stream",
          "text": [
            "800it [03:43,  3.58it/s]"
          ],
          "name": "stderr"
        },
        {
          "output_type": "stream",
          "text": [
            "Epoch: 12\tAvg-Loss: 0.7759\tAccuract: 0.8174\n"
          ],
          "name": "stdout"
        },
        {
          "output_type": "stream",
          "text": [
            "900it [04:10,  3.59it/s]"
          ],
          "name": "stderr"
        },
        {
          "output_type": "stream",
          "text": [
            "Epoch: 12\tAvg-Loss: 0.7489\tAccuract: 0.8171\n"
          ],
          "name": "stdout"
        },
        {
          "output_type": "stream",
          "text": [
            "1000it [04:38,  3.59it/s]"
          ],
          "name": "stderr"
        },
        {
          "output_type": "stream",
          "text": [
            "Epoch: 12\tAvg-Loss: 0.7140\tAccuract: 0.8174\n"
          ],
          "name": "stdout"
        },
        {
          "output_type": "stream",
          "text": [
            "1052it [04:53,  3.59it/s]"
          ],
          "name": "stderr"
        }
      ]
    },
    {
      "cell_type": "code",
      "metadata": {
        "id": "3ktFHXtebRa9"
      },
      "source": [
        ""
      ],
      "execution_count": null,
      "outputs": []
    },
    {
      "cell_type": "code",
      "metadata": {
        "id": "hzth4xlQ9diJ"
      },
      "source": [
        ""
      ],
      "execution_count": null,
      "outputs": []
    },
    {
      "cell_type": "code",
      "metadata": {
        "id": "6NaeHBbO9dud"
      },
      "source": [
        ""
      ],
      "execution_count": null,
      "outputs": []
    },
    {
      "cell_type": "code",
      "metadata": {
        "id": "JoNbMxP19d5o"
      },
      "source": [
        ""
      ],
      "execution_count": null,
      "outputs": []
    }
  ]
}